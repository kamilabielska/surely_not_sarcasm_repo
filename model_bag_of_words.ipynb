{
  "cells": [
    {
      "cell_type": "code",
      "source": [
        "!pip install contractions"
      ],
      "metadata": {
        "id": "H66JJkD4ED8W"
      },
      "id": "H66JJkD4ED8W",
      "execution_count": null,
      "outputs": []
    },
    {
      "cell_type": "code",
      "execution_count": 21,
      "id": "c02ce4eb",
      "metadata": {
        "id": "c02ce4eb"
      },
      "outputs": [],
      "source": [
        "import pandas as pd\n",
        "import matplotlib.pyplot as plt\n",
        "import seaborn as sns\n",
        "import numpy as np\n",
        "import tensorflow as tf\n",
        "import nltk\n",
        "import pickle\n",
        "import keras\n",
        "import string\n",
        "\n",
        "from nltk.corpus import stopwords\n",
        "\n",
        "from sklearn.feature_extraction.text import CountVectorizer, TfidfVectorizer, ENGLISH_STOP_WORDS as sklear_stopwords\n",
        "from sklearn.feature_selection import SelectKBest, mutual_info_classif, chi2, f_classif\n",
        "from sklearn.model_selection import train_test_split\n",
        "from sklearn.metrics import accuracy_score, precision_score, recall_score, f1_score\n",
        "from sklearn.utils import class_weight\n",
        "from sklearn.naive_bayes import MultinomialNB\n",
        "\n",
        "from tensorflow.keras import Sequential\n",
        "from tensorflow.keras.layers import Dense, Dropout, GaussianNoise, InputLayer, BatchNormalization\n",
        "from tensorflow.keras.callbacks import EarlyStopping\n",
        "\n",
        "from utilities import *\n",
        "\n",
        "sns.set_style('whitegrid');\n",
        "sns.set_context('notebook', font_scale=1.1);"
      ]
    },
    {
      "cell_type": "code",
      "execution_count": 3,
      "id": "oHoknhm9wP-C",
      "metadata": {
        "colab": {
          "base_uri": "https://localhost:8080/"
        },
        "id": "oHoknhm9wP-C",
        "outputId": "5e4e261c-c782-44b4-8fc1-7fa0773d5d5e"
      },
      "outputs": [
        {
          "output_type": "stream",
          "name": "stdout",
          "text": [
            "[nltk_data] Downloading package stopwords to /root/nltk_data...\n",
            "[nltk_data]   Unzipping corpora/stopwords.zip.\n"
          ]
        },
        {
          "output_type": "execute_result",
          "data": {
            "text/plain": [
              "True"
            ]
          },
          "metadata": {},
          "execution_count": 3
        }
      ],
      "source": [
        "nltk.download('stopwords')"
      ]
    },
    {
      "cell_type": "code",
      "execution_count": 4,
      "id": "7UTTpEWPvb0K",
      "metadata": {
        "colab": {
          "base_uri": "https://localhost:8080/"
        },
        "id": "7UTTpEWPvb0K",
        "outputId": "44d0197b-fab8-424a-d1e8-777a4ec70443"
      },
      "outputs": [
        {
          "output_type": "stream",
          "name": "stdout",
          "text": [
            "Mounted at /content/drive\n"
          ]
        }
      ],
      "source": [
        "from google.colab import drive\n",
        "drive.mount('/content/drive')"
      ]
    },
    {
      "cell_type": "code",
      "execution_count": 5,
      "id": "U--BsB3sv0k8",
      "metadata": {
        "id": "U--BsB3sv0k8"
      },
      "outputs": [],
      "source": [
        "root = '/content/drive/My Drive/surely_not_sarcasm_data/'"
      ]
    },
    {
      "cell_type": "code",
      "execution_count": 6,
      "id": "6ef6caff",
      "metadata": {
        "colab": {
          "base_uri": "https://localhost:8080/",
          "height": 206
        },
        "id": "6ef6caff",
        "outputId": "f088218f-54b1-4e7f-e007-13eaef39e027"
      },
      "outputs": [
        {
          "output_type": "execute_result",
          "data": {
            "text/plain": [
              "   label                                            comment\n",
              "0      0                                         NC and NH.\n",
              "1      0  You do know west teams play against west teams...\n",
              "2      0  They were underdogs earlier today, but since G...\n",
              "3      0  This meme isn't funny none of the \"new york ni...\n",
              "4      0                    I could use one of those tools."
            ],
            "text/html": [
              "\n",
              "  <div id=\"df-bc752bf3-4d68-4012-8a60-5b21a01f6ff7\">\n",
              "    <div class=\"colab-df-container\">\n",
              "      <div>\n",
              "<style scoped>\n",
              "    .dataframe tbody tr th:only-of-type {\n",
              "        vertical-align: middle;\n",
              "    }\n",
              "\n",
              "    .dataframe tbody tr th {\n",
              "        vertical-align: top;\n",
              "    }\n",
              "\n",
              "    .dataframe thead th {\n",
              "        text-align: right;\n",
              "    }\n",
              "</style>\n",
              "<table border=\"1\" class=\"dataframe\">\n",
              "  <thead>\n",
              "    <tr style=\"text-align: right;\">\n",
              "      <th></th>\n",
              "      <th>label</th>\n",
              "      <th>comment</th>\n",
              "    </tr>\n",
              "  </thead>\n",
              "  <tbody>\n",
              "    <tr>\n",
              "      <th>0</th>\n",
              "      <td>0</td>\n",
              "      <td>NC and NH.</td>\n",
              "    </tr>\n",
              "    <tr>\n",
              "      <th>1</th>\n",
              "      <td>0</td>\n",
              "      <td>You do know west teams play against west teams...</td>\n",
              "    </tr>\n",
              "    <tr>\n",
              "      <th>2</th>\n",
              "      <td>0</td>\n",
              "      <td>They were underdogs earlier today, but since G...</td>\n",
              "    </tr>\n",
              "    <tr>\n",
              "      <th>3</th>\n",
              "      <td>0</td>\n",
              "      <td>This meme isn't funny none of the \"new york ni...</td>\n",
              "    </tr>\n",
              "    <tr>\n",
              "      <th>4</th>\n",
              "      <td>0</td>\n",
              "      <td>I could use one of those tools.</td>\n",
              "    </tr>\n",
              "  </tbody>\n",
              "</table>\n",
              "</div>\n",
              "      <button class=\"colab-df-convert\" onclick=\"convertToInteractive('df-bc752bf3-4d68-4012-8a60-5b21a01f6ff7')\"\n",
              "              title=\"Convert this dataframe to an interactive table.\"\n",
              "              style=\"display:none;\">\n",
              "        \n",
              "  <svg xmlns=\"http://www.w3.org/2000/svg\" height=\"24px\"viewBox=\"0 0 24 24\"\n",
              "       width=\"24px\">\n",
              "    <path d=\"M0 0h24v24H0V0z\" fill=\"none\"/>\n",
              "    <path d=\"M18.56 5.44l.94 2.06.94-2.06 2.06-.94-2.06-.94-.94-2.06-.94 2.06-2.06.94zm-11 1L8.5 8.5l.94-2.06 2.06-.94-2.06-.94L8.5 2.5l-.94 2.06-2.06.94zm10 10l.94 2.06.94-2.06 2.06-.94-2.06-.94-.94-2.06-.94 2.06-2.06.94z\"/><path d=\"M17.41 7.96l-1.37-1.37c-.4-.4-.92-.59-1.43-.59-.52 0-1.04.2-1.43.59L10.3 9.45l-7.72 7.72c-.78.78-.78 2.05 0 2.83L4 21.41c.39.39.9.59 1.41.59.51 0 1.02-.2 1.41-.59l7.78-7.78 2.81-2.81c.8-.78.8-2.07 0-2.86zM5.41 20L4 18.59l7.72-7.72 1.47 1.35L5.41 20z\"/>\n",
              "  </svg>\n",
              "      </button>\n",
              "      \n",
              "  <style>\n",
              "    .colab-df-container {\n",
              "      display:flex;\n",
              "      flex-wrap:wrap;\n",
              "      gap: 12px;\n",
              "    }\n",
              "\n",
              "    .colab-df-convert {\n",
              "      background-color: #E8F0FE;\n",
              "      border: none;\n",
              "      border-radius: 50%;\n",
              "      cursor: pointer;\n",
              "      display: none;\n",
              "      fill: #1967D2;\n",
              "      height: 32px;\n",
              "      padding: 0 0 0 0;\n",
              "      width: 32px;\n",
              "    }\n",
              "\n",
              "    .colab-df-convert:hover {\n",
              "      background-color: #E2EBFA;\n",
              "      box-shadow: 0px 1px 2px rgba(60, 64, 67, 0.3), 0px 1px 3px 1px rgba(60, 64, 67, 0.15);\n",
              "      fill: #174EA6;\n",
              "    }\n",
              "\n",
              "    [theme=dark] .colab-df-convert {\n",
              "      background-color: #3B4455;\n",
              "      fill: #D2E3FC;\n",
              "    }\n",
              "\n",
              "    [theme=dark] .colab-df-convert:hover {\n",
              "      background-color: #434B5C;\n",
              "      box-shadow: 0px 1px 3px 1px rgba(0, 0, 0, 0.15);\n",
              "      filter: drop-shadow(0px 1px 2px rgba(0, 0, 0, 0.3));\n",
              "      fill: #FFFFFF;\n",
              "    }\n",
              "  </style>\n",
              "\n",
              "      <script>\n",
              "        const buttonEl =\n",
              "          document.querySelector('#df-bc752bf3-4d68-4012-8a60-5b21a01f6ff7 button.colab-df-convert');\n",
              "        buttonEl.style.display =\n",
              "          google.colab.kernel.accessAllowed ? 'block' : 'none';\n",
              "\n",
              "        async function convertToInteractive(key) {\n",
              "          const element = document.querySelector('#df-bc752bf3-4d68-4012-8a60-5b21a01f6ff7');\n",
              "          const dataTable =\n",
              "            await google.colab.kernel.invokeFunction('convertToInteractive',\n",
              "                                                     [key], {});\n",
              "          if (!dataTable) return;\n",
              "\n",
              "          const docLinkHtml = 'Like what you see? Visit the ' +\n",
              "            '<a target=\"_blank\" href=https://colab.research.google.com/notebooks/data_table.ipynb>data table notebook</a>'\n",
              "            + ' to learn more about interactive tables.';\n",
              "          element.innerHTML = '';\n",
              "          dataTable['output_type'] = 'display_data';\n",
              "          await google.colab.output.renderOutput(dataTable, element);\n",
              "          const docLink = document.createElement('div');\n",
              "          docLink.innerHTML = docLinkHtml;\n",
              "          element.appendChild(docLink);\n",
              "        }\n",
              "      </script>\n",
              "    </div>\n",
              "  </div>\n",
              "  "
            ]
          },
          "metadata": {},
          "execution_count": 6
        }
      ],
      "source": [
        "df = pd.read_csv(root+'data/train_balanced_smaller.csv', usecols=['label', 'comment'])\n",
        "df.head()"
      ]
    },
    {
      "cell_type": "code",
      "source": [
        "df['comment'] = (df['comment']\n",
        "     .str.replace(r'http\\S+', 'XXURLXX', regex=True)\n",
        "     .str.replace(r'\\bu/\\S+', 'XXUSERMENTIONXX', regex=True)\n",
        "     .str.replace(r'\\br/\\S+', 'XXSUBREDDITMENTIONXX', regex=True)\n",
        "     .str.replace(r'#[a-z0-9_]+', ' XXHASHTAGXX ', regex=True)\n",
        "     .str.replace(r'\\b\\d+\\b', 'XXNUMBERXX', regex=True)\n",
        "     .str.replace(r'\\:\\)+(?!\\S)', ' XXSMILINGFACEXX ', regex=True)\n",
        "     .str.replace(r'\\:D+(?!\\S)', ' XXSMILINGFACEXX ', regex=True)\n",
        "     .str.replace(r'\\;\\)+(?!\\S)', ' XXWINKFACEXX ', regex=True)\n",
        "     .str.replace(r'\\;D+(?!\\S)', ' XXWINKFACEXX ', regex=True)\n",
        "     .str.replace(r'\\:\\(+(?!\\S)', ' XXSADFACEXX ', regex=True)\n",
        "     .str.replace(r'\\;\\(+(?!\\S)', ' XXSADFACEXX ', regex=True)\n",
        "     .str.replace(r'<3', ' XXHEARTXX ', regex=False)\n",
        ")"
      ],
      "metadata": {
        "id": "UGXHIYIMxWfH"
      },
      "id": "UGXHIYIMxWfH",
      "execution_count": 7,
      "outputs": []
    },
    {
      "cell_type": "code",
      "execution_count": 8,
      "metadata": {
        "id": "OXMbnodfD_u1"
      },
      "outputs": [],
      "source": [
        "X = df['comment']\n",
        "y = df['label'].values"
      ],
      "id": "OXMbnodfD_u1"
    },
    {
      "cell_type": "code",
      "source": [
        "X_train, X_val, y_train, y_val = train_test_split(X, y, stratify=y, test_size=0.2, random_state=42)\n",
        "X_train, X_test, y_train, y_test = train_test_split(X_train, y_train, stratify=y_train, test_size=0.05, random_state=42)"
      ],
      "metadata": {
        "id": "s7Qelh3mg7Ez"
      },
      "execution_count": 9,
      "outputs": [],
      "id": "s7Qelh3mg7Ez"
    },
    {
      "cell_type": "code",
      "source": [
        "X_train.shape, X_val.shape, X_test.shape"
      ],
      "metadata": {
        "colab": {
          "base_uri": "https://localhost:8080/"
        },
        "id": "8MW07v51hWDy",
        "outputId": "ceb9afb2-67bc-40d9-814f-5e9bbb59ac0b"
      },
      "execution_count": 10,
      "outputs": [
        {
          "output_type": "execute_result",
          "data": {
            "text/plain": [
              "((768187,), (202155,), (40431,))"
            ]
          },
          "metadata": {},
          "execution_count": 10
        }
      ],
      "id": "8MW07v51hWDy"
    },
    {
      "cell_type": "markdown",
      "id": "C3tpuJCn7oDa",
      "metadata": {
        "id": "C3tpuJCn7oDa"
      },
      "source": [
        "# bag of words"
      ]
    },
    {
      "cell_type": "code",
      "source": [
        "100/X_train.shape[0]"
      ],
      "metadata": {
        "colab": {
          "base_uri": "https://localhost:8080/"
        },
        "id": "Eshjs5htX4OP",
        "outputId": "cf59d84c-9cc0-4870-cd26-53c5c7219a36"
      },
      "id": "Eshjs5htX4OP",
      "execution_count": null,
      "outputs": [
        {
          "output_type": "execute_result",
          "data": {
            "text/plain": [
              "0.0001301766366783088"
            ]
          },
          "metadata": {},
          "execution_count": 27
        }
      ]
    },
    {
      "cell_type": "code",
      "execution_count": 11,
      "id": "55b55979",
      "metadata": {
        "id": "55b55979"
      },
      "outputs": [],
      "source": [
        "all_sw = list(sklear_stopwords) + stopwords.words('english')\n",
        "count_vectorizer = CountVectorizer(stop_words=all_sw, token_pattern=r'(?u)\\b\\w\\w+\\b|\\!|\\?|\\.\\.\\.',\n",
        "                                   ngram_range=(1,3), min_df=50)\n",
        "X_train_vec = count_vectorizer.fit_transform(X_train)"
      ]
    },
    {
      "cell_type": "code",
      "execution_count": 12,
      "id": "6e7d58e0",
      "metadata": {
        "colab": {
          "base_uri": "https://localhost:8080/"
        },
        "id": "6e7d58e0",
        "outputId": "3779df49-8733-4a4b-aa3c-a1af8a134b71"
      },
      "outputs": [
        {
          "output_type": "execute_result",
          "data": {
            "text/plain": [
              "10741"
            ]
          },
          "metadata": {},
          "execution_count": 12
        }
      ],
      "source": [
        "len(count_vectorizer.get_feature_names_out())"
      ]
    },
    {
      "cell_type": "code",
      "source": [
        "X_val_vec = count_vectorizer.transform(X_val)\n",
        "X_test_vec = count_vectorizer.transform(X_test)"
      ],
      "metadata": {
        "id": "8gOXK2yMWKpm"
      },
      "id": "8gOXK2yMWKpm",
      "execution_count": 13,
      "outputs": []
    },
    {
      "cell_type": "code",
      "execution_count": 14,
      "id": "8cf7f181",
      "metadata": {
        "id": "8cf7f181"
      },
      "outputs": [],
      "source": [
        "mnb = MultinomialNB()\n",
        "mnb.fit(X_train_vec, y_train);"
      ]
    },
    {
      "cell_type": "code",
      "source": [
        "evaluate(mnb, X_val_vec, y_val)"
      ],
      "metadata": {
        "colab": {
          "base_uri": "https://localhost:8080/",
          "height": 342
        },
        "id": "-ZgnjHxSZrb4",
        "outputId": "a82b452e-17cc-4f25-bbcf-8532f50ce4f6"
      },
      "id": "-ZgnjHxSZrb4",
      "execution_count": 15,
      "outputs": [
        {
          "output_type": "display_data",
          "data": {
            "text/plain": [
              "<Figure size 360x360 with 1 Axes>"
            ],
            "image/png": "[encoded data removed]"
          },
          "metadata": {}
        }
      ]
    },
    {
      "cell_type": "code",
      "execution_count": 16,
      "id": "0POEjM1m0YYl",
      "metadata": {
        "id": "0POEjM1m0YYl"
      },
      "outputs": [],
      "source": [
        "def sparse_tensor(X):\n",
        "    coo = X.tocoo()\n",
        "    indices = np.mat([coo.row, coo.col]).transpose()\n",
        "    return tf.sparse.reorder(tf.SparseTensor(indices, coo.data, coo.shape))"
      ]
    },
    {
      "cell_type": "code",
      "execution_count": 17,
      "id": "1u2Yx738xX-a",
      "metadata": {
        "id": "1u2Yx738xX-a"
      },
      "outputs": [],
      "source": [
        "train_dataset = tf.data.Dataset.from_tensor_slices((sparse_tensor(X_train_vec), y_train)).shuffle(100).batch(128)\n",
        "val_dataset = tf.data.Dataset.from_tensor_slices((sparse_tensor(X_val_vec), y_val)).batch(128)"
      ]
    },
    {
      "cell_type": "code",
      "execution_count": 19,
      "id": "03ff6f33",
      "metadata": {
        "id": "03ff6f33"
      },
      "outputs": [],
      "source": [
        "es = EarlyStopping(monitor='val_loss', min_delta=0.001, patience=3, restore_best_weights=True)"
      ]
    },
    {
      "cell_type": "code",
      "execution_count": 20,
      "id": "-9uWkAFL3mhi",
      "metadata": {
        "colab": {
          "base_uri": "https://localhost:8080/"
        },
        "id": "-9uWkAFL3mhi",
        "outputId": "9d303498-fd71-4734-d51f-11fdfff2e8e3"
      },
      "outputs": [
        {
          "output_type": "stream",
          "name": "stdout",
          "text": [
            "Epoch 1/50\n"
          ]
        },
        {
          "output_type": "stream",
          "name": "stderr",
          "text": [
            "/usr/local/lib/python3.7/dist-packages/tensorflow/python/framework/indexed_slices.py:446: UserWarning: Converting sparse IndexedSlices(IndexedSlices(indices=Tensor(\"gradient_tape/sequential/dense/embedding_lookup_sparse/Reshape_1:0\", shape=(None,), dtype=int32), values=Tensor(\"gradient_tape/sequential/dense/embedding_lookup_sparse/Reshape:0\", shape=(None, 100), dtype=float32), dense_shape=Tensor(\"gradient_tape/sequential/dense/embedding_lookup_sparse/Cast:0\", shape=(2,), dtype=int32))) to a dense Tensor of unknown shape. This may consume a large amount of memory.\n",
            "  \"shape. This may consume a large amount of memory.\" % value)\n"
          ]
        },
        {
          "output_type": "stream",
          "name": "stdout",
          "text": [
            "6002/6002 [==============================] - 79s 12ms/step - loss: 0.6089 - accuracy: 0.6678 - val_loss: 0.5892 - val_accuracy: 0.6829\n",
            "Epoch 2/50\n",
            "6002/6002 [==============================] - 92s 15ms/step - loss: 0.5847 - accuracy: 0.6874 - val_loss: 0.5859 - val_accuracy: 0.6869\n",
            "Epoch 3/50\n",
            "6002/6002 [==============================] - 75s 13ms/step - loss: 0.5671 - accuracy: 0.7020 - val_loss: 0.5930 - val_accuracy: 0.6803\n",
            "Epoch 4/50\n",
            "6002/6002 [==============================] - 71s 12ms/step - loss: 0.5473 - accuracy: 0.7181 - val_loss: 0.6060 - val_accuracy: 0.6727\n",
            "Epoch 5/50\n",
            "6002/6002 [==============================] - 71s 12ms/step - loss: 0.5335 - accuracy: 0.7286 - val_loss: 0.6145 - val_accuracy: 0.6690\n"
          ]
        }
      ],
      "source": [
        "model = Sequential([\n",
        "    InputLayer(input_shape=(X_train_vec.shape[1],)),\n",
        "    Dense(100, activation='elu', kernel_initializer='he_normal'),\n",
        "    BatchNormalization(),\n",
        "    Dense(100, activation='elu', kernel_initializer='he_normal'),\n",
        "    BatchNormalization(),\n",
        "    Dropout(0.5),\n",
        "    Dense(1, activation='sigmoid')\n",
        "])\n",
        "\n",
        "adam = tf.keras.optimizers.Adam(learning_rate=0.0001)\n",
        "model.compile(loss='binary_crossentropy', optimizer='adam', metrics=['accuracy'])\n",
        "fit = model.fit(train_dataset, validation_data=val_dataset, epochs=50, callbacks=[es])"
      ]
    },
    {
      "cell_type": "code",
      "source": [
        "plot_history(fit)"
      ],
      "metadata": {
        "colab": {
          "base_uri": "https://localhost:8080/",
          "height": 288
        },
        "id": "wY6Vm6bILr9c",
        "outputId": "e72e0e57-8695-43c0-d22a-da0d92cfaee2"
      },
      "execution_count": 22,
      "outputs": [
        {
          "output_type": "display_data",
          "data": {
            "text/plain": [
              "<Figure size 1008x288 with 2 Axes>"
            ],
            "image/png": "[encoded data removed]"
          },
          "metadata": {}
        }
      ],
      "id": "wY6Vm6bILr9c"
    },
    {
      "cell_type": "code",
      "source": [
        "evaluate(model, sparse_tensor(X_val_vec), y_val)"
      ],
      "metadata": {
        "colab": {
          "base_uri": "https://localhost:8080/",
          "height": 342
        },
        "outputId": "6a046824-89ec-4658-df27-2d719154c508",
        "id": "xtWZRKnwL5a8"
      },
      "execution_count": 24,
      "outputs": [
        {
          "output_type": "display_data",
          "data": {
            "text/plain": [
              "<Figure size 360x360 with 1 Axes>"
            ],
            "image/png": "[encoded data removed]"
          },
          "metadata": {}
        }
      ],
      "id": "xtWZRKnwL5a8"
    },
    {
      "cell_type": "code",
      "source": [
        "show_errors(model, X_val, sparse_tensor(X_val_vec), y_val, n=5)"
      ],
      "metadata": {
        "colab": {
          "base_uri": "https://localhost:8080/"
        },
        "id": "YH-qkNxsdrgD",
        "outputId": "95927119-45c5-4048-a42c-af84c8a4a85f"
      },
      "id": "YH-qkNxsdrgD",
      "execution_count": 25,
      "outputs": [
        {
          "output_type": "stream",
          "name": "stdout",
          "text": [
            "False negatives:\n",
            "---------------------------\n",
            "She'll never win the presidency now...\n",
            "B-b-but thehists r dmbr\n",
            "This hotdog legs craze has to stop\n",
            "Heighten the contradictions, comrade.\n",
            "But it is her time and I'm with her...\n",
            "\n",
            "False positives:\n",
            "---------------------------\n",
            "...every QB will be available at XXNUMBERXX.\n",
            "Or he found some images of the champion while Riot was working on it and posted it as his\n",
            "I doubt the mainstream media will give him airtime, as it would negate the \"old white racist\" NRA stereotype that they've been pushing for decades.\n",
            "I mean, if I do some bicep curls with anything over five pounds, I'll turn into Arnold, right?\n",
            "Stats which are provided by the same police who are overtly racist.\n"
          ]
        }
      ]
    },
    {
      "cell_type": "code",
      "source": [
        "model.save(root+'bag_of_words')"
      ],
      "metadata": {
        "colab": {
          "base_uri": "https://localhost:8080/"
        },
        "outputId": "c47ef45d-f1da-4432-f4ce-a1548ff283c9",
        "id": "FKnT2SdJL5a-"
      },
      "execution_count": 26,
      "outputs": [
        {
          "output_type": "stream",
          "name": "stdout",
          "text": [
            "INFO:tensorflow:Assets written to: /content/drive/My Drive/surely_not_sarcasm_data/bag_of_words/assets\n"
          ]
        }
      ],
      "id": "FKnT2SdJL5a-"
    },
    {
      "cell_type": "markdown",
      "source": [
        "# univariate feature selection"
      ],
      "metadata": {
        "id": "6GIJiS4uO7YZ"
      },
      "id": "6GIJiS4uO7YZ"
    },
    {
      "cell_type": "code",
      "source": [
        "def univariate_fs(scorer, data_filename, scores_filename, k=4000):\n",
        "    kbest = SelectKBest(scorer, k=4000)\n",
        "\n",
        "    X_train = kbest.fit_transform(X_train_vec, y_train)\n",
        "    X_val = kbest.transform(X_val_vec)\n",
        "    X_test = kbest.transform(X_test_vec)\n",
        "\n",
        "    data = {'X_train': X_train, 'X_val': X_test, 'X_test': X_test}\n",
        "\n",
        "    with open(root+'univariate_fs/'+data_filename, 'wb') as file:\n",
        "        pickle.dump(data, file)\n",
        "\n",
        "    df_scores = pd.DataFrame({\n",
        "        'feature': count_vectorizer.get_feature_names_out(),\n",
        "        'score': kbest.scores_\n",
        "    })\n",
        "    \n",
        "    df_scores = df_scores.sort_values('score', ascending=False, ignore_index=True)\n",
        "    df_scores.to_csv(root+fr'univariate_fs/{scores_filename}.csv', index=False)\n",
        "\n",
        "    return df_scores"
      ],
      "metadata": {
        "id": "oiU84vdOd-jW"
      },
      "id": "oiU84vdOd-jW",
      "execution_count": 35,
      "outputs": []
    },
    {
      "cell_type": "markdown",
      "source": [
        "## mutual info"
      ],
      "metadata": {
        "id": "bE02B9kscU3W"
      },
      "id": "bE02B9kscU3W"
    },
    {
      "cell_type": "code",
      "execution_count": 37,
      "id": "tctT0eTwvOuy",
      "metadata": {
        "id": "tctT0eTwvOuy"
      },
      "outputs": [],
      "source": [
        "mi_scores = univariate_fs(mutual_info_classif, 'mi_data', 'mi_scores')"
      ]
    },
    {
      "cell_type": "code",
      "source": [
        "mi_scores.head(20)"
      ],
      "metadata": {
        "colab": {
          "base_uri": "https://localhost:8080/",
          "height": 677
        },
        "id": "C2aYt_hMgsB_",
        "outputId": "a95f55f5-1a26-43d2-9305-7b3ea0ee17c8"
      },
      "id": "C2aYt_hMgsB_",
      "execution_count": 38,
      "outputs": [
        {
          "output_type": "execute_result",
          "data": {
            "text/plain": [
              "            feature     score\n",
              "0                 !  0.009905\n",
              "1              yeah  0.007367\n",
              "2         obviously  0.003707\n",
              "3            forgot  0.003323\n",
              "4           totally  0.002889\n",
              "5           clearly  0.002324\n",
              "6            racist  0.001420\n",
              "7   xxsmilingfacexx  0.001268\n",
              "8               yes  0.001172\n",
              "9               wow  0.001130\n",
              "10            right  0.001111\n",
              "11            women  0.001051\n",
              "12          right ?  0.001041\n",
              "13              duh  0.000950\n",
              "14               oh  0.000924\n",
              "15            white  0.000920\n",
              "16          dropped  0.000898\n",
              "17              nah  0.000779\n",
              "18             dare  0.000753\n",
              "19             sure  0.000753"
            ],
            "text/html": [
              "\n",
              "  <div id=\"df-e79df7c3-50d0-4c71-9d6d-1b8f82ea98e9\">\n",
              "    <div class=\"colab-df-container\">\n",
              "      <div>\n",
              "<style scoped>\n",
              "    .dataframe tbody tr th:only-of-type {\n",
              "        vertical-align: middle;\n",
              "    }\n",
              "\n",
              "    .dataframe tbody tr th {\n",
              "        vertical-align: top;\n",
              "    }\n",
              "\n",
              "    .dataframe thead th {\n",
              "        text-align: right;\n",
              "    }\n",
              "</style>\n",
              "<table border=\"1\" class=\"dataframe\">\n",
              "  <thead>\n",
              "    <tr style=\"text-align: right;\">\n",
              "      <th></th>\n",
              "      <th>feature</th>\n",
              "      <th>score</th>\n",
              "    </tr>\n",
              "  </thead>\n",
              "  <tbody>\n",
              "    <tr>\n",
              "      <th>0</th>\n",
              "      <td>!</td>\n",
              "      <td>0.009905</td>\n",
              "    </tr>\n",
              "    <tr>\n",
              "      <th>1</th>\n",
              "      <td>yeah</td>\n",
              "      <td>0.007367</td>\n",
              "    </tr>\n",
              "    <tr>\n",
              "      <th>2</th>\n",
              "      <td>obviously</td>\n",
              "      <td>0.003707</td>\n",
              "    </tr>\n",
              "    <tr>\n",
              "      <th>3</th>\n",
              "      <td>forgot</td>\n",
              "      <td>0.003323</td>\n",
              "    </tr>\n",
              "    <tr>\n",
              "      <th>4</th>\n",
              "      <td>totally</td>\n",
              "      <td>0.002889</td>\n",
              "    </tr>\n",
              "    <tr>\n",
              "      <th>5</th>\n",
              "      <td>clearly</td>\n",
              "      <td>0.002324</td>\n",
              "    </tr>\n",
              "    <tr>\n",
              "      <th>6</th>\n",
              "      <td>racist</td>\n",
              "      <td>0.001420</td>\n",
              "    </tr>\n",
              "    <tr>\n",
              "      <th>7</th>\n",
              "      <td>xxsmilingfacexx</td>\n",
              "      <td>0.001268</td>\n",
              "    </tr>\n",
              "    <tr>\n",
              "      <th>8</th>\n",
              "      <td>yes</td>\n",
              "      <td>0.001172</td>\n",
              "    </tr>\n",
              "    <tr>\n",
              "      <th>9</th>\n",
              "      <td>wow</td>\n",
              "      <td>0.001130</td>\n",
              "    </tr>\n",
              "    <tr>\n",
              "      <th>10</th>\n",
              "      <td>right</td>\n",
              "      <td>0.001111</td>\n",
              "    </tr>\n",
              "    <tr>\n",
              "      <th>11</th>\n",
              "      <td>women</td>\n",
              "      <td>0.001051</td>\n",
              "    </tr>\n",
              "    <tr>\n",
              "      <th>12</th>\n",
              "      <td>right ?</td>\n",
              "      <td>0.001041</td>\n",
              "    </tr>\n",
              "    <tr>\n",
              "      <th>13</th>\n",
              "      <td>duh</td>\n",
              "      <td>0.000950</td>\n",
              "    </tr>\n",
              "    <tr>\n",
              "      <th>14</th>\n",
              "      <td>oh</td>\n",
              "      <td>0.000924</td>\n",
              "    </tr>\n",
              "    <tr>\n",
              "      <th>15</th>\n",
              "      <td>white</td>\n",
              "      <td>0.000920</td>\n",
              "    </tr>\n",
              "    <tr>\n",
              "      <th>16</th>\n",
              "      <td>dropped</td>\n",
              "      <td>0.000898</td>\n",
              "    </tr>\n",
              "    <tr>\n",
              "      <th>17</th>\n",
              "      <td>nah</td>\n",
              "      <td>0.000779</td>\n",
              "    </tr>\n",
              "    <tr>\n",
              "      <th>18</th>\n",
              "      <td>dare</td>\n",
              "      <td>0.000753</td>\n",
              "    </tr>\n",
              "    <tr>\n",
              "      <th>19</th>\n",
              "      <td>sure</td>\n",
              "      <td>0.000753</td>\n",
              "    </tr>\n",
              "  </tbody>\n",
              "</table>\n",
              "</div>\n",
              "      <button class=\"colab-df-convert\" onclick=\"convertToInteractive('df-e79df7c3-50d0-4c71-9d6d-1b8f82ea98e9')\"\n",
              "              title=\"Convert this dataframe to an interactive table.\"\n",
              "              style=\"display:none;\">\n",
              "        \n",
              "  <svg xmlns=\"http://www.w3.org/2000/svg\" height=\"24px\"viewBox=\"0 0 24 24\"\n",
              "       width=\"24px\">\n",
              "    <path d=\"M0 0h24v24H0V0z\" fill=\"none\"/>\n",
              "    <path d=\"M18.56 5.44l.94 2.06.94-2.06 2.06-.94-2.06-.94-.94-2.06-.94 2.06-2.06.94zm-11 1L8.5 8.5l.94-2.06 2.06-.94-2.06-.94L8.5 2.5l-.94 2.06-2.06.94zm10 10l.94 2.06.94-2.06 2.06-.94-2.06-.94-.94-2.06-.94 2.06-2.06.94z\"/><path d=\"M17.41 7.96l-1.37-1.37c-.4-.4-.92-.59-1.43-.59-.52 0-1.04.2-1.43.59L10.3 9.45l-7.72 7.72c-.78.78-.78 2.05 0 2.83L4 21.41c.39.39.9.59 1.41.59.51 0 1.02-.2 1.41-.59l7.78-7.78 2.81-2.81c.8-.78.8-2.07 0-2.86zM5.41 20L4 18.59l7.72-7.72 1.47 1.35L5.41 20z\"/>\n",
              "  </svg>\n",
              "      </button>\n",
              "      \n",
              "  <style>\n",
              "    .colab-df-container {\n",
              "      display:flex;\n",
              "      flex-wrap:wrap;\n",
              "      gap: 12px;\n",
              "    }\n",
              "\n",
              "    .colab-df-convert {\n",
              "      background-color: #E8F0FE;\n",
              "      border: none;\n",
              "      border-radius: 50%;\n",
              "      cursor: pointer;\n",
              "      display: none;\n",
              "      fill: #1967D2;\n",
              "      height: 32px;\n",
              "      padding: 0 0 0 0;\n",
              "      width: 32px;\n",
              "    }\n",
              "\n",
              "    .colab-df-convert:hover {\n",
              "      background-color: #E2EBFA;\n",
              "      box-shadow: 0px 1px 2px rgba(60, 64, 67, 0.3), 0px 1px 3px 1px rgba(60, 64, 67, 0.15);\n",
              "      fill: #174EA6;\n",
              "    }\n",
              "\n",
              "    [theme=dark] .colab-df-convert {\n",
              "      background-color: #3B4455;\n",
              "      fill: #D2E3FC;\n",
              "    }\n",
              "\n",
              "    [theme=dark] .colab-df-convert:hover {\n",
              "      background-color: #434B5C;\n",
              "      box-shadow: 0px 1px 3px 1px rgba(0, 0, 0, 0.15);\n",
              "      filter: drop-shadow(0px 1px 2px rgba(0, 0, 0, 0.3));\n",
              "      fill: #FFFFFF;\n",
              "    }\n",
              "  </style>\n",
              "\n",
              "      <script>\n",
              "        const buttonEl =\n",
              "          document.querySelector('#df-e79df7c3-50d0-4c71-9d6d-1b8f82ea98e9 button.colab-df-convert');\n",
              "        buttonEl.style.display =\n",
              "          google.colab.kernel.accessAllowed ? 'block' : 'none';\n",
              "\n",
              "        async function convertToInteractive(key) {\n",
              "          const element = document.querySelector('#df-e79df7c3-50d0-4c71-9d6d-1b8f82ea98e9');\n",
              "          const dataTable =\n",
              "            await google.colab.kernel.invokeFunction('convertToInteractive',\n",
              "                                                     [key], {});\n",
              "          if (!dataTable) return;\n",
              "\n",
              "          const docLinkHtml = 'Like what you see? Visit the ' +\n",
              "            '<a target=\"_blank\" href=https://colab.research.google.com/notebooks/data_table.ipynb>data table notebook</a>'\n",
              "            + ' to learn more about interactive tables.';\n",
              "          element.innerHTML = '';\n",
              "          dataTable['output_type'] = 'display_data';\n",
              "          await google.colab.output.renderOutput(dataTable, element);\n",
              "          const docLink = document.createElement('div');\n",
              "          docLink.innerHTML = docLinkHtml;\n",
              "          element.appendChild(docLink);\n",
              "        }\n",
              "      </script>\n",
              "    </div>\n",
              "  </div>\n",
              "  "
            ]
          },
          "metadata": {},
          "execution_count": 38
        }
      ]
    },
    {
      "cell_type": "code",
      "execution_count": null,
      "id": "ENkIEs1U0Dny",
      "metadata": {
        "id": "ENkIEs1U0Dny"
      },
      "outputs": [],
      "source": [
        "# data_mutual_info = pickle.load(open(root+'data_mutual_info','rb'))"
      ]
    },
    {
      "cell_type": "markdown",
      "source": [
        "## chi2"
      ],
      "metadata": {
        "id": "vZrIbQmMceai"
      },
      "id": "vZrIbQmMceai"
    },
    {
      "cell_type": "code",
      "source": [
        "chi2_scores = univariate_fs(chi2, 'chi2_data', 'chi2_scores')"
      ],
      "metadata": {
        "id": "_iL6sWWccswC"
      },
      "execution_count": 39,
      "outputs": [],
      "id": "_iL6sWWccswC"
    },
    {
      "cell_type": "code",
      "source": [
        "chi2_scores.head(20)"
      ],
      "metadata": {
        "colab": {
          "base_uri": "https://localhost:8080/",
          "height": 677
        },
        "id": "4eOhKLbyg3z6",
        "outputId": "261e9808-be26-4ccd-e22e-53af69568678"
      },
      "id": "4eOhKLbyg3z6",
      "execution_count": 40,
      "outputs": [
        {
          "output_type": "execute_result",
          "data": {
            "text/plain": [
              "                  feature         score\n",
              "0                       !  13343.933346\n",
              "1                    yeah  10211.042996\n",
              "2               obviously   4936.548142\n",
              "3                  forgot   4382.854804\n",
              "4                 totally   3945.953809\n",
              "5                 clearly   3160.668544\n",
              "6              xxnumberxx   2197.115963\n",
              "7                  racist   1977.263443\n",
              "8         xxsmilingfacexx   1754.470000\n",
              "9                   right   1671.863524\n",
              "10                    yes   1655.559574\n",
              "11                    wow   1602.541211\n",
              "12                  women   1528.874951\n",
              "13                right ?   1497.811057\n",
              "14                  white   1385.361850\n",
              "15                     oh   1328.268220\n",
              "16                  jerry   1262.665947\n",
              "17                    duh   1213.371743\n",
              "18                dropped   1208.411663\n",
              "19  xxnumberxx xxnumberxx   1203.032557"
            ],
            "text/html": [
              "\n",
              "  <div id=\"df-3ade8be9-24c5-4da3-a89b-1fc074558e0f\">\n",
              "    <div class=\"colab-df-container\">\n",
              "      <div>\n",
              "<style scoped>\n",
              "    .dataframe tbody tr th:only-of-type {\n",
              "        vertical-align: middle;\n",
              "    }\n",
              "\n",
              "    .dataframe tbody tr th {\n",
              "        vertical-align: top;\n",
              "    }\n",
              "\n",
              "    .dataframe thead th {\n",
              "        text-align: right;\n",
              "    }\n",
              "</style>\n",
              "<table border=\"1\" class=\"dataframe\">\n",
              "  <thead>\n",
              "    <tr style=\"text-align: right;\">\n",
              "      <th></th>\n",
              "      <th>feature</th>\n",
              "      <th>score</th>\n",
              "    </tr>\n",
              "  </thead>\n",
              "  <tbody>\n",
              "    <tr>\n",
              "      <th>0</th>\n",
              "      <td>!</td>\n",
              "      <td>13343.933346</td>\n",
              "    </tr>\n",
              "    <tr>\n",
              "      <th>1</th>\n",
              "      <td>yeah</td>\n",
              "      <td>10211.042996</td>\n",
              "    </tr>\n",
              "    <tr>\n",
              "      <th>2</th>\n",
              "      <td>obviously</td>\n",
              "      <td>4936.548142</td>\n",
              "    </tr>\n",
              "    <tr>\n",
              "      <th>3</th>\n",
              "      <td>forgot</td>\n",
              "      <td>4382.854804</td>\n",
              "    </tr>\n",
              "    <tr>\n",
              "      <th>4</th>\n",
              "      <td>totally</td>\n",
              "      <td>3945.953809</td>\n",
              "    </tr>\n",
              "    <tr>\n",
              "      <th>5</th>\n",
              "      <td>clearly</td>\n",
              "      <td>3160.668544</td>\n",
              "    </tr>\n",
              "    <tr>\n",
              "      <th>6</th>\n",
              "      <td>xxnumberxx</td>\n",
              "      <td>2197.115963</td>\n",
              "    </tr>\n",
              "    <tr>\n",
              "      <th>7</th>\n",
              "      <td>racist</td>\n",
              "      <td>1977.263443</td>\n",
              "    </tr>\n",
              "    <tr>\n",
              "      <th>8</th>\n",
              "      <td>xxsmilingfacexx</td>\n",
              "      <td>1754.470000</td>\n",
              "    </tr>\n",
              "    <tr>\n",
              "      <th>9</th>\n",
              "      <td>right</td>\n",
              "      <td>1671.863524</td>\n",
              "    </tr>\n",
              "    <tr>\n",
              "      <th>10</th>\n",
              "      <td>yes</td>\n",
              "      <td>1655.559574</td>\n",
              "    </tr>\n",
              "    <tr>\n",
              "      <th>11</th>\n",
              "      <td>wow</td>\n",
              "      <td>1602.541211</td>\n",
              "    </tr>\n",
              "    <tr>\n",
              "      <th>12</th>\n",
              "      <td>women</td>\n",
              "      <td>1528.874951</td>\n",
              "    </tr>\n",
              "    <tr>\n",
              "      <th>13</th>\n",
              "      <td>right ?</td>\n",
              "      <td>1497.811057</td>\n",
              "    </tr>\n",
              "    <tr>\n",
              "      <th>14</th>\n",
              "      <td>white</td>\n",
              "      <td>1385.361850</td>\n",
              "    </tr>\n",
              "    <tr>\n",
              "      <th>15</th>\n",
              "      <td>oh</td>\n",
              "      <td>1328.268220</td>\n",
              "    </tr>\n",
              "    <tr>\n",
              "      <th>16</th>\n",
              "      <td>jerry</td>\n",
              "      <td>1262.665947</td>\n",
              "    </tr>\n",
              "    <tr>\n",
              "      <th>17</th>\n",
              "      <td>duh</td>\n",
              "      <td>1213.371743</td>\n",
              "    </tr>\n",
              "    <tr>\n",
              "      <th>18</th>\n",
              "      <td>dropped</td>\n",
              "      <td>1208.411663</td>\n",
              "    </tr>\n",
              "    <tr>\n",
              "      <th>19</th>\n",
              "      <td>xxnumberxx xxnumberxx</td>\n",
              "      <td>1203.032557</td>\n",
              "    </tr>\n",
              "  </tbody>\n",
              "</table>\n",
              "</div>\n",
              "      <button class=\"colab-df-convert\" onclick=\"convertToInteractive('df-3ade8be9-24c5-4da3-a89b-1fc074558e0f')\"\n",
              "              title=\"Convert this dataframe to an interactive table.\"\n",
              "              style=\"display:none;\">\n",
              "        \n",
              "  <svg xmlns=\"http://www.w3.org/2000/svg\" height=\"24px\"viewBox=\"0 0 24 24\"\n",
              "       width=\"24px\">\n",
              "    <path d=\"M0 0h24v24H0V0z\" fill=\"none\"/>\n",
              "    <path d=\"M18.56 5.44l.94 2.06.94-2.06 2.06-.94-2.06-.94-.94-2.06-.94 2.06-2.06.94zm-11 1L8.5 8.5l.94-2.06 2.06-.94-2.06-.94L8.5 2.5l-.94 2.06-2.06.94zm10 10l.94 2.06.94-2.06 2.06-.94-2.06-.94-.94-2.06-.94 2.06-2.06.94z\"/><path d=\"M17.41 7.96l-1.37-1.37c-.4-.4-.92-.59-1.43-.59-.52 0-1.04.2-1.43.59L10.3 9.45l-7.72 7.72c-.78.78-.78 2.05 0 2.83L4 21.41c.39.39.9.59 1.41.59.51 0 1.02-.2 1.41-.59l7.78-7.78 2.81-2.81c.8-.78.8-2.07 0-2.86zM5.41 20L4 18.59l7.72-7.72 1.47 1.35L5.41 20z\"/>\n",
              "  </svg>\n",
              "      </button>\n",
              "      \n",
              "  <style>\n",
              "    .colab-df-container {\n",
              "      display:flex;\n",
              "      flex-wrap:wrap;\n",
              "      gap: 12px;\n",
              "    }\n",
              "\n",
              "    .colab-df-convert {\n",
              "      background-color: #E8F0FE;\n",
              "      border: none;\n",
              "      border-radius: 50%;\n",
              "      cursor: pointer;\n",
              "      display: none;\n",
              "      fill: #1967D2;\n",
              "      height: 32px;\n",
              "      padding: 0 0 0 0;\n",
              "      width: 32px;\n",
              "    }\n",
              "\n",
              "    .colab-df-convert:hover {\n",
              "      background-color: #E2EBFA;\n",
              "      box-shadow: 0px 1px 2px rgba(60, 64, 67, 0.3), 0px 1px 3px 1px rgba(60, 64, 67, 0.15);\n",
              "      fill: #174EA6;\n",
              "    }\n",
              "\n",
              "    [theme=dark] .colab-df-convert {\n",
              "      background-color: #3B4455;\n",
              "      fill: #D2E3FC;\n",
              "    }\n",
              "\n",
              "    [theme=dark] .colab-df-convert:hover {\n",
              "      background-color: #434B5C;\n",
              "      box-shadow: 0px 1px 3px 1px rgba(0, 0, 0, 0.15);\n",
              "      filter: drop-shadow(0px 1px 2px rgba(0, 0, 0, 0.3));\n",
              "      fill: #FFFFFF;\n",
              "    }\n",
              "  </style>\n",
              "\n",
              "      <script>\n",
              "        const buttonEl =\n",
              "          document.querySelector('#df-3ade8be9-24c5-4da3-a89b-1fc074558e0f button.colab-df-convert');\n",
              "        buttonEl.style.display =\n",
              "          google.colab.kernel.accessAllowed ? 'block' : 'none';\n",
              "\n",
              "        async function convertToInteractive(key) {\n",
              "          const element = document.querySelector('#df-3ade8be9-24c5-4da3-a89b-1fc074558e0f');\n",
              "          const dataTable =\n",
              "            await google.colab.kernel.invokeFunction('convertToInteractive',\n",
              "                                                     [key], {});\n",
              "          if (!dataTable) return;\n",
              "\n",
              "          const docLinkHtml = 'Like what you see? Visit the ' +\n",
              "            '<a target=\"_blank\" href=https://colab.research.google.com/notebooks/data_table.ipynb>data table notebook</a>'\n",
              "            + ' to learn more about interactive tables.';\n",
              "          element.innerHTML = '';\n",
              "          dataTable['output_type'] = 'display_data';\n",
              "          await google.colab.output.renderOutput(dataTable, element);\n",
              "          const docLink = document.createElement('div');\n",
              "          docLink.innerHTML = docLinkHtml;\n",
              "          element.appendChild(docLink);\n",
              "        }\n",
              "      </script>\n",
              "    </div>\n",
              "  </div>\n",
              "  "
            ]
          },
          "metadata": {},
          "execution_count": 40
        }
      ]
    },
    {
      "cell_type": "markdown",
      "source": [
        "## anova f-value"
      ],
      "metadata": {
        "id": "hAgoNbSRcgL1"
      },
      "id": "hAgoNbSRcgL1"
    },
    {
      "cell_type": "code",
      "source": [
        "f_scores = univariate_fs(f_classif, 'f_data', 'f_scores')"
      ],
      "metadata": {
        "id": "dYV6ILnXgw46"
      },
      "id": "dYV6ILnXgw46",
      "execution_count": 41,
      "outputs": []
    },
    {
      "cell_type": "code",
      "source": [
        "f_scores.head(20)"
      ],
      "metadata": {
        "colab": {
          "base_uri": "https://localhost:8080/",
          "height": 677
        },
        "id": "qa50-JMxg63T",
        "outputId": "3fd439d7-865d-4599-c73e-815fd070bc8d"
      },
      "id": "qa50-JMxg63T",
      "execution_count": 42,
      "outputs": [
        {
          "output_type": "execute_result",
          "data": {
            "text/plain": [
              "            feature         score\n",
              "0                 !  14124.608421\n",
              "1              yeah  10697.012750\n",
              "2         obviously   4986.986626\n",
              "3            forgot   4442.318787\n",
              "4           totally   3914.063272\n",
              "5           clearly   3163.763582\n",
              "6            racist   1876.004439\n",
              "7   xxsmilingfacexx   1691.795996\n",
              "8             right   1646.488584\n",
              "9               yes   1612.675354\n",
              "10              wow   1585.726403\n",
              "11          right ?   1507.707077\n",
              "12            women   1392.078338\n",
              "13               oh   1325.568368\n",
              "14            white   1252.376225\n",
              "15          dropped   1212.374694\n",
              "16              duh   1195.703294\n",
              "17             sure   1129.208721\n",
              "18              nah   1124.407431\n",
              "19              yea   1025.405883"
            ],
            "text/html": [
              "\n",
              "  <div id=\"df-92117d7e-6b8c-418a-9cb0-c4b0b03fb287\">\n",
              "    <div class=\"colab-df-container\">\n",
              "      <div>\n",
              "<style scoped>\n",
              "    .dataframe tbody tr th:only-of-type {\n",
              "        vertical-align: middle;\n",
              "    }\n",
              "\n",
              "    .dataframe tbody tr th {\n",
              "        vertical-align: top;\n",
              "    }\n",
              "\n",
              "    .dataframe thead th {\n",
              "        text-align: right;\n",
              "    }\n",
              "</style>\n",
              "<table border=\"1\" class=\"dataframe\">\n",
              "  <thead>\n",
              "    <tr style=\"text-align: right;\">\n",
              "      <th></th>\n",
              "      <th>feature</th>\n",
              "      <th>score</th>\n",
              "    </tr>\n",
              "  </thead>\n",
              "  <tbody>\n",
              "    <tr>\n",
              "      <th>0</th>\n",
              "      <td>!</td>\n",
              "      <td>14124.608421</td>\n",
              "    </tr>\n",
              "    <tr>\n",
              "      <th>1</th>\n",
              "      <td>yeah</td>\n",
              "      <td>10697.012750</td>\n",
              "    </tr>\n",
              "    <tr>\n",
              "      <th>2</th>\n",
              "      <td>obviously</td>\n",
              "      <td>4986.986626</td>\n",
              "    </tr>\n",
              "    <tr>\n",
              "      <th>3</th>\n",
              "      <td>forgot</td>\n",
              "      <td>4442.318787</td>\n",
              "    </tr>\n",
              "    <tr>\n",
              "      <th>4</th>\n",
              "      <td>totally</td>\n",
              "      <td>3914.063272</td>\n",
              "    </tr>\n",
              "    <tr>\n",
              "      <th>5</th>\n",
              "      <td>clearly</td>\n",
              "      <td>3163.763582</td>\n",
              "    </tr>\n",
              "    <tr>\n",
              "      <th>6</th>\n",
              "      <td>racist</td>\n",
              "      <td>1876.004439</td>\n",
              "    </tr>\n",
              "    <tr>\n",
              "      <th>7</th>\n",
              "      <td>xxsmilingfacexx</td>\n",
              "      <td>1691.795996</td>\n",
              "    </tr>\n",
              "    <tr>\n",
              "      <th>8</th>\n",
              "      <td>right</td>\n",
              "      <td>1646.488584</td>\n",
              "    </tr>\n",
              "    <tr>\n",
              "      <th>9</th>\n",
              "      <td>yes</td>\n",
              "      <td>1612.675354</td>\n",
              "    </tr>\n",
              "    <tr>\n",
              "      <th>10</th>\n",
              "      <td>wow</td>\n",
              "      <td>1585.726403</td>\n",
              "    </tr>\n",
              "    <tr>\n",
              "      <th>11</th>\n",
              "      <td>right ?</td>\n",
              "      <td>1507.707077</td>\n",
              "    </tr>\n",
              "    <tr>\n",
              "      <th>12</th>\n",
              "      <td>women</td>\n",
              "      <td>1392.078338</td>\n",
              "    </tr>\n",
              "    <tr>\n",
              "      <th>13</th>\n",
              "      <td>oh</td>\n",
              "      <td>1325.568368</td>\n",
              "    </tr>\n",
              "    <tr>\n",
              "      <th>14</th>\n",
              "      <td>white</td>\n",
              "      <td>1252.376225</td>\n",
              "    </tr>\n",
              "    <tr>\n",
              "      <th>15</th>\n",
              "      <td>dropped</td>\n",
              "      <td>1212.374694</td>\n",
              "    </tr>\n",
              "    <tr>\n",
              "      <th>16</th>\n",
              "      <td>duh</td>\n",
              "      <td>1195.703294</td>\n",
              "    </tr>\n",
              "    <tr>\n",
              "      <th>17</th>\n",
              "      <td>sure</td>\n",
              "      <td>1129.208721</td>\n",
              "    </tr>\n",
              "    <tr>\n",
              "      <th>18</th>\n",
              "      <td>nah</td>\n",
              "      <td>1124.407431</td>\n",
              "    </tr>\n",
              "    <tr>\n",
              "      <th>19</th>\n",
              "      <td>yea</td>\n",
              "      <td>1025.405883</td>\n",
              "    </tr>\n",
              "  </tbody>\n",
              "</table>\n",
              "</div>\n",
              "      <button class=\"colab-df-convert\" onclick=\"convertToInteractive('df-92117d7e-6b8c-418a-9cb0-c4b0b03fb287')\"\n",
              "              title=\"Convert this dataframe to an interactive table.\"\n",
              "              style=\"display:none;\">\n",
              "        \n",
              "  <svg xmlns=\"http://www.w3.org/2000/svg\" height=\"24px\"viewBox=\"0 0 24 24\"\n",
              "       width=\"24px\">\n",
              "    <path d=\"M0 0h24v24H0V0z\" fill=\"none\"/>\n",
              "    <path d=\"M18.56 5.44l.94 2.06.94-2.06 2.06-.94-2.06-.94-.94-2.06-.94 2.06-2.06.94zm-11 1L8.5 8.5l.94-2.06 2.06-.94-2.06-.94L8.5 2.5l-.94 2.06-2.06.94zm10 10l.94 2.06.94-2.06 2.06-.94-2.06-.94-.94-2.06-.94 2.06-2.06.94z\"/><path d=\"M17.41 7.96l-1.37-1.37c-.4-.4-.92-.59-1.43-.59-.52 0-1.04.2-1.43.59L10.3 9.45l-7.72 7.72c-.78.78-.78 2.05 0 2.83L4 21.41c.39.39.9.59 1.41.59.51 0 1.02-.2 1.41-.59l7.78-7.78 2.81-2.81c.8-.78.8-2.07 0-2.86zM5.41 20L4 18.59l7.72-7.72 1.47 1.35L5.41 20z\"/>\n",
              "  </svg>\n",
              "      </button>\n",
              "      \n",
              "  <style>\n",
              "    .colab-df-container {\n",
              "      display:flex;\n",
              "      flex-wrap:wrap;\n",
              "      gap: 12px;\n",
              "    }\n",
              "\n",
              "    .colab-df-convert {\n",
              "      background-color: #E8F0FE;\n",
              "      border: none;\n",
              "      border-radius: 50%;\n",
              "      cursor: pointer;\n",
              "      display: none;\n",
              "      fill: #1967D2;\n",
              "      height: 32px;\n",
              "      padding: 0 0 0 0;\n",
              "      width: 32px;\n",
              "    }\n",
              "\n",
              "    .colab-df-convert:hover {\n",
              "      background-color: #E2EBFA;\n",
              "      box-shadow: 0px 1px 2px rgba(60, 64, 67, 0.3), 0px 1px 3px 1px rgba(60, 64, 67, 0.15);\n",
              "      fill: #174EA6;\n",
              "    }\n",
              "\n",
              "    [theme=dark] .colab-df-convert {\n",
              "      background-color: #3B4455;\n",
              "      fill: #D2E3FC;\n",
              "    }\n",
              "\n",
              "    [theme=dark] .colab-df-convert:hover {\n",
              "      background-color: #434B5C;\n",
              "      box-shadow: 0px 1px 3px 1px rgba(0, 0, 0, 0.15);\n",
              "      filter: drop-shadow(0px 1px 2px rgba(0, 0, 0, 0.3));\n",
              "      fill: #FFFFFF;\n",
              "    }\n",
              "  </style>\n",
              "\n",
              "      <script>\n",
              "        const buttonEl =\n",
              "          document.querySelector('#df-92117d7e-6b8c-418a-9cb0-c4b0b03fb287 button.colab-df-convert');\n",
              "        buttonEl.style.display =\n",
              "          google.colab.kernel.accessAllowed ? 'block' : 'none';\n",
              "\n",
              "        async function convertToInteractive(key) {\n",
              "          const element = document.querySelector('#df-92117d7e-6b8c-418a-9cb0-c4b0b03fb287');\n",
              "          const dataTable =\n",
              "            await google.colab.kernel.invokeFunction('convertToInteractive',\n",
              "                                                     [key], {});\n",
              "          if (!dataTable) return;\n",
              "\n",
              "          const docLinkHtml = 'Like what you see? Visit the ' +\n",
              "            '<a target=\"_blank\" href=https://colab.research.google.com/notebooks/data_table.ipynb>data table notebook</a>'\n",
              "            + ' to learn more about interactive tables.';\n",
              "          element.innerHTML = '';\n",
              "          dataTable['output_type'] = 'display_data';\n",
              "          await google.colab.output.renderOutput(dataTable, element);\n",
              "          const docLink = document.createElement('div');\n",
              "          docLink.innerHTML = docLinkHtml;\n",
              "          element.appendChild(docLink);\n",
              "        }\n",
              "      </script>\n",
              "    </div>\n",
              "  </div>\n",
              "  "
            ]
          },
          "metadata": {},
          "execution_count": 42
        }
      ]
    },
    {
      "cell_type": "code",
      "source": [
        ""
      ],
      "metadata": {
        "id": "DDZaoZXwhmKX"
      },
      "id": "DDZaoZXwhmKX",
      "execution_count": null,
      "outputs": []
    }
  ],
  "metadata": {
    "colab": {
      "collapsed_sections": [],
      "name": "model_bag_of_words.ipynb",
      "provenance": []
    },
    "kernelspec": {
      "display_name": "Python 3",
      "language": "python",
      "name": "python3"
    },
    "language_info": {
      "codemirror_mode": {
        "name": "ipython",
        "version": 3
      },
      "file_extension": ".py",
      "mimetype": "text/x-python",
      "name": "python",
      "nbconvert_exporter": "python",
      "pygments_lexer": "ipython3",
      "version": "3.6.7"
    },
    "varInspector": {
      "cols": {
        "lenName": 16,
        "lenType": 16,
        "lenVar": 40
      },
      "kernels_config": {
        "python": {
          "delete_cmd_postfix": "",
          "delete_cmd_prefix": "del ",
          "library": "var_list.py",
          "varRefreshCmd": "print(var_dic_list())"
        },
        "r": {
          "delete_cmd_postfix": ") ",
          "delete_cmd_prefix": "rm(",
          "library": "var_list.r",
          "varRefreshCmd": "cat(var_dic_list()) "
        }
      },
      "types_to_exclude": [
        "module",
        "function",
        "builtin_function_or_method",
        "instance",
        "_Feature"
      ],
      "window_display": false
    },
    "accelerator": "GPU"
  },
  "nbformat": 4,
  "nbformat_minor": 5
}