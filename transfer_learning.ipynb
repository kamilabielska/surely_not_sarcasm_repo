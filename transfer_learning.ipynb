{
  "nbformat": 4,
  "nbformat_minor": 0,
  "metadata": {
    "colab": {
      "name": "transfer_learning.ipynb",
      "provenance": [],
      "collapsed_sections": [],
      "toc_visible": true
    },
    "kernelspec": {
      "name": "python3",
      "display_name": "Python 3"
    },
    "language_info": {
      "name": "python"
    },
    "accelerator": "GPU"
  },
  "cells": [
    {
      "cell_type": "code",
      "execution_count": null,
      "metadata": {
        "colab": {
          "base_uri": "https://localhost:8080/"
        },
        "id": "f8877fc0",
        "outputId": "9fbdbc12-b07e-4eb7-e06e-008fa5c1e4bf"
      },
      "outputs": [
        {
          "output_type": "stream",
          "name": "stdout",
          "text": [
            "Mounted at /content/drive\n"
          ]
        }
      ],
      "source": [
        "from google.colab import drive\n",
        "drive.mount('/content/drive')\n",
        "\n",
        "root = '/content/drive/My Drive/surely_not_sarcasm_data/'"
      ]
    },
    {
      "cell_type": "code",
      "source": [
        "!pip install transformers\n",
        "!cp -r '$root/utils' ."
      ],
      "metadata": {
        "id": "Tn9Posqcovnf"
      },
      "execution_count": null,
      "outputs": []
    },
    {
      "cell_type": "code",
      "execution_count": null,
      "metadata": {
        "id": "w5BHtzcAvfDq"
      },
      "outputs": [],
      "source": [
        "import pandas as pd\n",
        "import matplotlib.pyplot as plt\n",
        "import seaborn as sns\n",
        "import numpy as np\n",
        "import torch\n",
        "import transformers\n",
        "\n",
        "from sklearn.model_selection import train_test_split\n",
        "from sklearn.metrics import accuracy_score, precision_score, recall_score, f1_score\n",
        "\n",
        "from torch.utils.data import TensorDataset, DataLoader, RandomSampler\n",
        "\n",
        "from transformers import DistilBertTokenizer, DistilBertForSequenceClassification\n",
        "from transformers import get_linear_schedule_with_warmup\n",
        "\n",
        "from utils.pytorch import train_model, test_model\n",
        "\n",
        "transformers.logging.set_verbosity_error()\n",
        "\n",
        "sns.set_style('whitegrid');\n",
        "sns.set_context('notebook', font_scale=1.1);"
      ]
    },
    {
      "cell_type": "code",
      "source": [
        "device = torch.device('cuda' if torch.cuda.is_available() else 'cpu')"
      ],
      "metadata": {
        "id": "Q4g3ppPJ5nmJ"
      },
      "execution_count": null,
      "outputs": []
    },
    {
      "cell_type": "markdown",
      "source": [
        "# prepare data"
      ],
      "metadata": {
        "id": "y0ycSYb2gnxx"
      }
    },
    {
      "cell_type": "code",
      "execution_count": null,
      "metadata": {
        "colab": {
          "base_uri": "https://localhost:8080/",
          "height": 206
        },
        "id": "6ef6caff",
        "outputId": "348e5b42-ac5d-4155-9e1f-06a4a4790302"
      },
      "outputs": [
        {
          "output_type": "execute_result",
          "data": {
            "text/plain": [
              "   label                                            comment  \\\n",
              "0      0                                         NC and NH.   \n",
              "1      0  You do know west teams play against west teams...   \n",
              "2      0  They were underdogs earlier today, but since G...   \n",
              "3      0  This meme isn't funny none of the \"new york ni...   \n",
              "4      0                    I could use one of those tools.   \n",
              "\n",
              "                                      parent_comment  \n",
              "0  Yeah, I get that argument. At this point, I'd ...  \n",
              "1  The blazers and Mavericks (The wests 5 and 6 s...  \n",
              "2                            They're favored to win.  \n",
              "3                         deadass don't kill my buzz  \n",
              "4  Yep can confirm I saw the tool they use for th...  "
            ],
            "text/html": [
              "\n",
              "  <div id=\"df-c1e5ebf5-4731-4920-a319-f7d398de160a\">\n",
              "    <div class=\"colab-df-container\">\n",
              "      <div>\n",
              "<style scoped>\n",
              "    .dataframe tbody tr th:only-of-type {\n",
              "        vertical-align: middle;\n",
              "    }\n",
              "\n",
              "    .dataframe tbody tr th {\n",
              "        vertical-align: top;\n",
              "    }\n",
              "\n",
              "    .dataframe thead th {\n",
              "        text-align: right;\n",
              "    }\n",
              "</style>\n",
              "<table border=\"1\" class=\"dataframe\">\n",
              "  <thead>\n",
              "    <tr style=\"text-align: right;\">\n",
              "      <th></th>\n",
              "      <th>label</th>\n",
              "      <th>comment</th>\n",
              "      <th>parent_comment</th>\n",
              "    </tr>\n",
              "  </thead>\n",
              "  <tbody>\n",
              "    <tr>\n",
              "      <th>0</th>\n",
              "      <td>0</td>\n",
              "      <td>NC and NH.</td>\n",
              "      <td>Yeah, I get that argument. At this point, I'd ...</td>\n",
              "    </tr>\n",
              "    <tr>\n",
              "      <th>1</th>\n",
              "      <td>0</td>\n",
              "      <td>You do know west teams play against west teams...</td>\n",
              "      <td>The blazers and Mavericks (The wests 5 and 6 s...</td>\n",
              "    </tr>\n",
              "    <tr>\n",
              "      <th>2</th>\n",
              "      <td>0</td>\n",
              "      <td>They were underdogs earlier today, but since G...</td>\n",
              "      <td>They're favored to win.</td>\n",
              "    </tr>\n",
              "    <tr>\n",
              "      <th>3</th>\n",
              "      <td>0</td>\n",
              "      <td>This meme isn't funny none of the \"new york ni...</td>\n",
              "      <td>deadass don't kill my buzz</td>\n",
              "    </tr>\n",
              "    <tr>\n",
              "      <th>4</th>\n",
              "      <td>0</td>\n",
              "      <td>I could use one of those tools.</td>\n",
              "      <td>Yep can confirm I saw the tool they use for th...</td>\n",
              "    </tr>\n",
              "  </tbody>\n",
              "</table>\n",
              "</div>\n",
              "      <button class=\"colab-df-convert\" onclick=\"convertToInteractive('df-c1e5ebf5-4731-4920-a319-f7d398de160a')\"\n",
              "              title=\"Convert this dataframe to an interactive table.\"\n",
              "              style=\"display:none;\">\n",
              "        \n",
              "  <svg xmlns=\"http://www.w3.org/2000/svg\" height=\"24px\"viewBox=\"0 0 24 24\"\n",
              "       width=\"24px\">\n",
              "    <path d=\"M0 0h24v24H0V0z\" fill=\"none\"/>\n",
              "    <path d=\"M18.56 5.44l.94 2.06.94-2.06 2.06-.94-2.06-.94-.94-2.06-.94 2.06-2.06.94zm-11 1L8.5 8.5l.94-2.06 2.06-.94-2.06-.94L8.5 2.5l-.94 2.06-2.06.94zm10 10l.94 2.06.94-2.06 2.06-.94-2.06-.94-.94-2.06-.94 2.06-2.06.94z\"/><path d=\"M17.41 7.96l-1.37-1.37c-.4-.4-.92-.59-1.43-.59-.52 0-1.04.2-1.43.59L10.3 9.45l-7.72 7.72c-.78.78-.78 2.05 0 2.83L4 21.41c.39.39.9.59 1.41.59.51 0 1.02-.2 1.41-.59l7.78-7.78 2.81-2.81c.8-.78.8-2.07 0-2.86zM5.41 20L4 18.59l7.72-7.72 1.47 1.35L5.41 20z\"/>\n",
              "  </svg>\n",
              "      </button>\n",
              "      \n",
              "  <style>\n",
              "    .colab-df-container {\n",
              "      display:flex;\n",
              "      flex-wrap:wrap;\n",
              "      gap: 12px;\n",
              "    }\n",
              "\n",
              "    .colab-df-convert {\n",
              "      background-color: #E8F0FE;\n",
              "      border: none;\n",
              "      border-radius: 50%;\n",
              "      cursor: pointer;\n",
              "      display: none;\n",
              "      fill: #1967D2;\n",
              "      height: 32px;\n",
              "      padding: 0 0 0 0;\n",
              "      width: 32px;\n",
              "    }\n",
              "\n",
              "    .colab-df-convert:hover {\n",
              "      background-color: #E2EBFA;\n",
              "      box-shadow: 0px 1px 2px rgba(60, 64, 67, 0.3), 0px 1px 3px 1px rgba(60, 64, 67, 0.15);\n",
              "      fill: #174EA6;\n",
              "    }\n",
              "\n",
              "    [theme=dark] .colab-df-convert {\n",
              "      background-color: #3B4455;\n",
              "      fill: #D2E3FC;\n",
              "    }\n",
              "\n",
              "    [theme=dark] .colab-df-convert:hover {\n",
              "      background-color: #434B5C;\n",
              "      box-shadow: 0px 1px 3px 1px rgba(0, 0, 0, 0.15);\n",
              "      filter: drop-shadow(0px 1px 2px rgba(0, 0, 0, 0.3));\n",
              "      fill: #FFFFFF;\n",
              "    }\n",
              "  </style>\n",
              "\n",
              "      <script>\n",
              "        const buttonEl =\n",
              "          document.querySelector('#df-c1e5ebf5-4731-4920-a319-f7d398de160a button.colab-df-convert');\n",
              "        buttonEl.style.display =\n",
              "          google.colab.kernel.accessAllowed ? 'block' : 'none';\n",
              "\n",
              "        async function convertToInteractive(key) {\n",
              "          const element = document.querySelector('#df-c1e5ebf5-4731-4920-a319-f7d398de160a');\n",
              "          const dataTable =\n",
              "            await google.colab.kernel.invokeFunction('convertToInteractive',\n",
              "                                                     [key], {});\n",
              "          if (!dataTable) return;\n",
              "\n",
              "          const docLinkHtml = 'Like what you see? Visit the ' +\n",
              "            '<a target=\"_blank\" href=https://colab.research.google.com/notebooks/data_table.ipynb>data table notebook</a>'\n",
              "            + ' to learn more about interactive tables.';\n",
              "          element.innerHTML = '';\n",
              "          dataTable['output_type'] = 'display_data';\n",
              "          await google.colab.output.renderOutput(dataTable, element);\n",
              "          const docLink = document.createElement('div');\n",
              "          docLink.innerHTML = docLinkHtml;\n",
              "          element.appendChild(docLink);\n",
              "        }\n",
              "      </script>\n",
              "    </div>\n",
              "  </div>\n",
              "  "
            ]
          },
          "metadata": {},
          "execution_count": 5
        }
      ],
      "source": [
        "df = pd.read_csv(root+'data/all_balanced_partly_preprocessed.csv')\n",
        "df.head()"
      ]
    },
    {
      "cell_type": "code",
      "execution_count": null,
      "metadata": {
        "id": "OXMbnodfD_u1"
      },
      "outputs": [],
      "source": [
        "X = df[['comment', 'parent_comment']]\n",
        "y = df['label'].values"
      ]
    },
    {
      "cell_type": "code",
      "source": [
        "X_train, X_val, y_train, y_val = train_test_split(X, y, stratify=y, test_size=0.3, random_state=61) # 83, 91, 61\n",
        "X_val, X_test, y_val, y_test = train_test_split(X_val, y_val, stratify=y_val, test_size=0.5, random_state=61)"
      ],
      "metadata": {
        "id": "s7Qelh3mg7Ez"
      },
      "execution_count": null,
      "outputs": []
    },
    {
      "cell_type": "code",
      "source": [
        "X_train.shape, X_val.shape, X_test.shape"
      ],
      "metadata": {
        "colab": {
          "base_uri": "https://localhost:8080/"
        },
        "id": "8MW07v51hWDy",
        "outputId": "3b202638-4ddc-412f-9023-ce550108d99b"
      },
      "execution_count": null,
      "outputs": [
        {
          "output_type": "execute_result",
          "data": {
            "text/plain": [
              "((876854, 2), (187897, 2), (187898, 2))"
            ]
          },
          "metadata": {},
          "execution_count": 27
        }
      ]
    },
    {
      "cell_type": "code",
      "source": [
        "tokenizer = DistilBertTokenizer.from_pretrained('distilbert-base-uncased', do_lower_case=True)"
      ],
      "metadata": {
        "id": "IOx3OT5Fxfw8"
      },
      "execution_count": null,
      "outputs": []
    },
    {
      "cell_type": "markdown",
      "source": [
        "# content-based"
      ],
      "metadata": {
        "id": "pabAnalhly9S"
      }
    },
    {
      "cell_type": "code",
      "source": [
        "lengths = [len(tokenizer.encode(x, max_length=512, truncation=True)) for x in X_train['comment']]\n",
        "plt.hist(lengths);"
      ],
      "metadata": {
        "id": "fRLJ_oIJyCrC",
        "colab": {
          "base_uri": "https://localhost:8080/",
          "height": 271
        },
        "outputId": "dfea5296-bd4a-4201-dd65-9ab5a0ed6bb3"
      },
      "execution_count": null,
      "outputs": [
        {
          "output_type": "display_data",
          "data": {
            "text/plain": [
              "<Figure size 432x288 with 1 Axes>"
            ],
            "image/png": "[encoded data removed]"
          },
          "metadata": {}
        }
      ]
    },
    {
      "cell_type": "code",
      "source": [
        "np.quantile(lengths, 0.9)"
      ],
      "metadata": {
        "id": "TTKljHCOyOWf",
        "colab": {
          "base_uri": "https://localhost:8080/"
        },
        "outputId": "857c3b1c-48a7-438f-b4fb-7985fab68eb1"
      },
      "execution_count": null,
      "outputs": [
        {
          "output_type": "execute_result",
          "data": {
            "text/plain": [
              "28.0"
            ]
          },
          "metadata": {},
          "execution_count": 55
        }
      ]
    },
    {
      "cell_type": "code",
      "source": [
        "max_len = 28"
      ],
      "metadata": {
        "id": "63ztS_rVznay"
      },
      "execution_count": null,
      "outputs": []
    },
    {
      "cell_type": "code",
      "source": [
        "encoding_train = tokenizer(\n",
        "    X_train['comment'].tolist(),\n",
        "    add_special_tokens=True,\n",
        "    max_length=max_len,\n",
        "    return_token_type_ids=False,\n",
        "    padding='max_length',\n",
        "    truncation=True,\n",
        "    return_attention_mask=True,\n",
        "    return_tensors='pt'\n",
        ")\n",
        "\n",
        "encoding_val = tokenizer(\n",
        "    X_val['comment'].tolist(),\n",
        "    add_special_tokens=True,\n",
        "    max_length=max_len,\n",
        "    return_token_type_ids=False,\n",
        "    padding='max_length',\n",
        "    truncation=True,\n",
        "    return_attention_mask=True,\n",
        "    return_tensors='pt'\n",
        ")\n",
        "\n",
        "encoding_test = tokenizer(\n",
        "    X_test['comment'].tolist(),\n",
        "    add_special_tokens=True,\n",
        "    max_length=max_len,\n",
        "    return_token_type_ids=False,\n",
        "    padding='max_length',\n",
        "    truncation=True,\n",
        "    return_attention_mask=True,\n",
        "    return_tensors='pt'\n",
        ")"
      ],
      "metadata": {
        "id": "zFKE6GI9zpYi"
      },
      "execution_count": null,
      "outputs": []
    },
    {
      "cell_type": "code",
      "source": [
        "X_train, X_train_mask = encoding_train['input_ids'], encoding_train['attention_mask']\n",
        "X_val, X_val_mask = encoding_val['input_ids'], encoding_val['attention_mask']\n",
        "X_test, X_test_mask = encoding_test['input_ids'], encoding_test['attention_mask']"
      ],
      "metadata": {
        "id": "7j0SSvw22r2e"
      },
      "execution_count": null,
      "outputs": []
    },
    {
      "cell_type": "code",
      "source": [
        "y_train, y_val, y_test = torch.tensor(y_train), torch.tensor(y_val), torch.tensor(y_test)"
      ],
      "metadata": {
        "id": "G01hsYi7_gRs"
      },
      "execution_count": null,
      "outputs": []
    },
    {
      "cell_type": "code",
      "source": [
        "batch_size = 128\n",
        "\n",
        "train_data = TensorDataset(X_train, X_train_mask, y_train)\n",
        "train_sampler = RandomSampler(train_data)\n",
        "train_dataloader = DataLoader(train_data, sampler=train_sampler, batch_size=batch_size)\n",
        "\n",
        "val_data = TensorDataset(X_val, X_val_mask, y_val)\n",
        "val_sampler = RandomSampler(val_data)\n",
        "val_dataloader = DataLoader(val_data, sampler=val_sampler, batch_size=batch_size)\n",
        "\n",
        "test_data = TensorDataset(X_test, X_test_mask, y_test)\n",
        "test_sampler = RandomSampler(test_data)\n",
        "test_dataloader = DataLoader(test_data, sampler=test_sampler, batch_size=batch_size)"
      ],
      "metadata": {
        "id": "TvNJ6hPZ6aE4"
      },
      "execution_count": null,
      "outputs": []
    },
    {
      "cell_type": "code",
      "source": [
        "dataloaders = {'train': train_dataloader, 'val': val_dataloader, 'test': test_dataloader}\n",
        "data_size = {'train': len(train_data), 'val': len(val_data), 'test': len(test_data)}"
      ],
      "metadata": {
        "id": "gzBJ36Oj6f1A"
      },
      "execution_count": null,
      "outputs": []
    },
    {
      "cell_type": "code",
      "source": [
        "model = DistilBertForSequenceClassification.from_pretrained(\n",
        "    'distilbert-base-uncased',\n",
        "    num_labels=2,\n",
        "    output_attentions=False,\n",
        "    output_hidden_states=False\n",
        ").to(device);"
      ],
      "metadata": {
        "colab": {
          "base_uri": "https://localhost:8080/"
        },
        "id": "xp3QE6BC2Owj",
        "outputId": "a038e042-6e8a-4b07-eff6-d51227b311ae"
      },
      "execution_count": null,
      "outputs": [
        {
          "output_type": "stream",
          "name": "stderr",
          "text": [
            "Some weights of the model checkpoint at distilbert-base-uncased were not used when initializing DistilBertForSequenceClassification: ['vocab_projector.weight', 'vocab_transform.bias', 'vocab_projector.bias', 'vocab_layer_norm.bias', 'vocab_transform.weight', 'vocab_layer_norm.weight']\n",
            "- This IS expected if you are initializing DistilBertForSequenceClassification from the checkpoint of a model trained on another task or with another architecture (e.g. initializing a BertForSequenceClassification model from a BertForPreTraining model).\n",
            "- This IS NOT expected if you are initializing DistilBertForSequenceClassification from the checkpoint of a model that you expect to be exactly identical (initializing a BertForSequenceClassification model from a BertForSequenceClassification model).\n",
            "Some weights of DistilBertForSequenceClassification were not initialized from the model checkpoint at distilbert-base-uncased and are newly initialized: ['classifier.weight', 'pre_classifier.weight', 'classifier.bias', 'pre_classifier.bias']\n",
            "You should probably TRAIN this model on a down-stream task to be able to use it for predictions and inference.\n"
          ]
        }
      ]
    },
    {
      "cell_type": "code",
      "source": [
        "epochs = 3\n",
        "total_steps = len(train_dataloader) * epochs\n",
        "\n",
        "optimizer = torch.optim.AdamW(model.parameters(), lr=2e-5)\n",
        "scheduler = get_linear_schedule_with_warmup(optimizer, num_warmup_steps=0, num_training_steps=total_steps)\n",
        "criterion = torch.nn.CrossEntropyLoss()"
      ],
      "metadata": {
        "id": "KyF4K-fk6qzq"
      },
      "execution_count": null,
      "outputs": []
    },
    {
      "cell_type": "code",
      "source": [
        "# 83\n",
        "best_model, history = train_model(model, criterion, optimizer, scheduler, epochs, dataloaders, data_size, device, rep=1000)"
      ],
      "metadata": {
        "colab": {
          "base_uri": "https://localhost:8080/"
        },
        "id": "vtU8pNasH7oq",
        "outputId": "86b64eb8-e425-497e-bdd7-fcaec7f85587"
      },
      "execution_count": null,
      "outputs": [
        {
          "output_type": "stream",
          "name": "stdout",
          "text": [
            "\n",
            "======== Epoch 1 / 3 ========\n",
            "Training...\n",
            "Batch 1,000 of 6,851. Elapsed: 168.78 s.\n",
            "Batch 2,000 of 6,851. Elapsed: 337.52 s.\n",
            "Batch 3,000 of 6,851. Elapsed: 506.48 s.\n",
            "Batch 4,000 of 6,851. Elapsed: 675.66 s.\n",
            "Batch 5,000 of 6,851. Elapsed: 845.17 s.\n",
            "Batch 6,000 of 6,851. Elapsed: 1014.85 s.\n",
            "== train == loss: 0.5140 accuracy: 0.7440\n",
            "== val == loss: 0.4928 accuracy: 0.7605\n",
            "\n",
            "======== Epoch 2 / 3 ========\n",
            "Training...\n",
            "Batch 1,000 of 6,851. Elapsed: 170.15 s.\n",
            "Batch 2,000 of 6,851. Elapsed: 340.31 s.\n",
            "Batch 3,000 of 6,851. Elapsed: 510.55 s.\n",
            "Batch 4,000 of 6,851. Elapsed: 680.83 s.\n",
            "Batch 5,000 of 6,851. Elapsed: 851.31 s.\n",
            "Batch 6,000 of 6,851. Elapsed: 1021.88 s.\n",
            "== train == loss: 0.4598 accuracy: 0.7811\n",
            "== val == loss: 0.4820 accuracy: 0.7692\n",
            "\n",
            "======== Epoch 3 / 3 ========\n",
            "Training...\n",
            "Batch 1,000 of 6,851. Elapsed: 170.69 s.\n",
            "Batch 2,000 of 6,851. Elapsed: 341.42 s.\n",
            "Batch 3,000 of 6,851. Elapsed: 512.16 s.\n",
            "Batch 4,000 of 6,851. Elapsed: 682.93 s.\n",
            "Batch 5,000 of 6,851. Elapsed: 853.76 s.\n",
            "Batch 6,000 of 6,851. Elapsed: 1024.58 s.\n",
            "== train == loss: 0.4156 accuracy: 0.8086\n",
            "== val == loss: 0.5036 accuracy: 0.7670\n",
            "\n",
            "Training finished. Best validation accuracy: 0.7692.\n"
          ]
        }
      ]
    },
    {
      "cell_type": "code",
      "source": [
        "# 91\n",
        "best_model, history = train_model(model, criterion, optimizer, scheduler, epochs, dataloaders, data_size, device, rep=1000)"
      ],
      "metadata": {
        "colab": {
          "base_uri": "https://localhost:8080/"
        },
        "id": "6rPCTQKzce1n",
        "outputId": "8f564d49-7d3f-4049-d54d-d520243b4138"
      },
      "execution_count": null,
      "outputs": [
        {
          "output_type": "stream",
          "name": "stdout",
          "text": [
            "\n",
            "======== Epoch 1 / 3 ========\n",
            "Training...\n",
            "Batch 1,000 of 6,851. Elapsed: 171.01 s.\n",
            "Batch 2,000 of 6,851. Elapsed: 341.93 s.\n",
            "Batch 3,000 of 6,851. Elapsed: 512.91 s.\n",
            "Batch 4,000 of 6,851. Elapsed: 683.88 s.\n",
            "Batch 5,000 of 6,851. Elapsed: 854.88 s.\n",
            "Batch 6,000 of 6,851. Elapsed: 1025.77 s.\n",
            "== train == loss: 0.5147 accuracy: 0.7439\n",
            "== val == loss: 0.4842 accuracy: 0.7650\n",
            "\n",
            "======== Epoch 2 / 3 ========\n",
            "Training...\n",
            "Batch 1,000 of 6,851. Elapsed: 171.00 s.\n",
            "Batch 2,000 of 6,851. Elapsed: 341.94 s.\n",
            "Batch 3,000 of 6,851. Elapsed: 512.88 s.\n",
            "Batch 4,000 of 6,851. Elapsed: 683.82 s.\n",
            "Batch 5,000 of 6,851. Elapsed: 854.71 s.\n",
            "Batch 6,000 of 6,851. Elapsed: 1025.55 s.\n",
            "== train == loss: 0.4607 accuracy: 0.7809\n",
            "== val == loss: 0.4804 accuracy: 0.7707\n",
            "\n",
            "======== Epoch 3 / 3 ========\n",
            "Training...\n",
            "Batch 1,000 of 6,851. Elapsed: 170.86 s.\n",
            "Batch 2,000 of 6,851. Elapsed: 341.69 s.\n",
            "Batch 3,000 of 6,851. Elapsed: 512.55 s.\n",
            "Batch 4,000 of 6,851. Elapsed: 683.35 s.\n",
            "Batch 5,000 of 6,851. Elapsed: 854.20 s.\n",
            "Batch 6,000 of 6,851. Elapsed: 1025.07 s.\n",
            "== train == loss: 0.4162 accuracy: 0.8085\n",
            "== val == loss: 0.4858 accuracy: 0.7703\n",
            "\n",
            "Training finished. Best validation accuracy: 0.7707.\n"
          ]
        }
      ]
    },
    {
      "cell_type": "code",
      "source": [
        "# 61\n",
        "best_model, history = train_model(model, criterion, optimizer, scheduler, epochs, dataloaders, data_size, device, rep=1000)"
      ],
      "metadata": {
        "colab": {
          "base_uri": "https://localhost:8080/"
        },
        "id": "u375r-kCtv2T",
        "outputId": "0f68e2d4-d752-41a0-d723-247b9b98bd83"
      },
      "execution_count": null,
      "outputs": [
        {
          "output_type": "stream",
          "name": "stdout",
          "text": [
            "\n",
            "======== Epoch 1 / 3 ========\n",
            "Training...\n",
            "Batch 1,000 of 6,851. Elapsed: 170.60 s.\n",
            "Batch 2,000 of 6,851. Elapsed: 341.07 s.\n",
            "Batch 3,000 of 6,851. Elapsed: 511.60 s.\n",
            "Batch 4,000 of 6,851. Elapsed: 682.00 s.\n",
            "Batch 5,000 of 6,851. Elapsed: 852.18 s.\n",
            "Batch 6,000 of 6,851. Elapsed: 1022.40 s.\n",
            "== train == loss: 0.5135 accuracy: 0.7442\n",
            "== val == loss: 0.4947 accuracy: 0.7576\n",
            "\n",
            "======== Epoch 2 / 3 ========\n",
            "Training...\n",
            "Batch 1,000 of 6,851. Elapsed: 170.38 s.\n",
            "Batch 2,000 of 6,851. Elapsed: 340.62 s.\n",
            "Batch 3,000 of 6,851. Elapsed: 510.89 s.\n",
            "Batch 4,000 of 6,851. Elapsed: 681.09 s.\n",
            "Batch 5,000 of 6,851. Elapsed: 851.25 s.\n",
            "Batch 6,000 of 6,851. Elapsed: 1021.44 s.\n",
            "== train == loss: 0.4599 accuracy: 0.7811\n",
            "== val == loss: 0.4864 accuracy: 0.7673\n",
            "\n",
            "======== Epoch 3 / 3 ========\n",
            "Training...\n",
            "Batch 1,000 of 6,851. Elapsed: 170.27 s.\n",
            "Batch 2,000 of 6,851. Elapsed: 340.49 s.\n",
            "Batch 3,000 of 6,851. Elapsed: 510.71 s.\n",
            "Batch 4,000 of 6,851. Elapsed: 680.93 s.\n",
            "Batch 5,000 of 6,851. Elapsed: 851.15 s.\n",
            "Batch 6,000 of 6,851. Elapsed: 1021.34 s.\n",
            "== train == loss: 0.4153 accuracy: 0.8087\n",
            "== val == loss: 0.4976 accuracy: 0.7666\n",
            "\n",
            "Training finished. Best validation accuracy: 0.7673.\n"
          ]
        }
      ]
    },
    {
      "cell_type": "code",
      "source": [
        "y_pred, y_test = test_model(best_model, dataloaders['test'], data_size['test'], device)"
      ],
      "metadata": {
        "colab": {
          "base_uri": "https://localhost:8080/"
        },
        "id": "W8mB9d_HGEIP",
        "outputId": "c6c4cbae-825a-4f8f-9fe0-dcb4be8d8822"
      },
      "execution_count": null,
      "outputs": [
        {
          "output_type": "stream",
          "name": "stdout",
          "text": [
            "test accuracy: 0.7673\n"
          ]
        }
      ]
    },
    {
      "cell_type": "code",
      "source": [
        "torch.save(best_model.state_dict(), root+'models/distilbert.pth')"
      ],
      "metadata": {
        "id": "gEO0i1XLqEWg"
      },
      "execution_count": null,
      "outputs": []
    },
    {
      "cell_type": "code",
      "source": [
        "acc = accuracy_score(y_test, y_pred)\n",
        "prec = precision_score(y_test, y_pred)\n",
        "rec = recall_score(y_test, y_pred)\n",
        "f1 = f1_score(y_test, y_pred)"
      ],
      "metadata": {
        "id": "WsbtcP9cXcfc"
      },
      "execution_count": null,
      "outputs": []
    },
    {
      "cell_type": "code",
      "source": [
        "# all the parameters\n",
        "sum(p.numel() for p in best_model.parameters())"
      ],
      "metadata": {
        "colab": {
          "base_uri": "https://localhost:8080/"
        },
        "id": "Xbnxh661BM0X",
        "outputId": "bf510092-feaa-4201-de38-394c85db0f43"
      },
      "execution_count": null,
      "outputs": [
        {
          "output_type": "execute_result",
          "data": {
            "text/plain": [
              "66955010"
            ]
          },
          "metadata": {},
          "execution_count": 70
        }
      ]
    },
    {
      "cell_type": "code",
      "source": [
        "# trainable parameters\n",
        "sum(p.numel() for p in best_model.parameters() if p.requires_grad)"
      ],
      "metadata": {
        "colab": {
          "base_uri": "https://localhost:8080/"
        },
        "id": "xNqfIDfaBP6N",
        "outputId": "85cfee0f-7867-4ee6-ab9f-f0c59789f621"
      },
      "execution_count": null,
      "outputs": [
        {
          "output_type": "execute_result",
          "data": {
            "text/plain": [
              "66955010"
            ]
          },
          "metadata": {},
          "execution_count": 71
        }
      ]
    },
    {
      "cell_type": "code",
      "source": [
        "fig, axes = plt.subplots(1, 2, figsize=(14,4))\n",
        "\n",
        "for i, which in enumerate(['accuracy', 'loss']):\n",
        "    ax = axes[i]\n",
        "    ax.plot([float(tensor) for tensor in history['train_'+which]], label='train_'+which);\n",
        "    ax.plot([float(tensor) for tensor in history['val_'+which]], label='val_'+which);\n",
        "    ax.set_xlabel('epoch');\n",
        "    ax.set_ylabel(which);\n",
        "    ax.legend();"
      ],
      "metadata": {
        "id": "EBDA-GX97rPv",
        "colab": {
          "base_uri": "https://localhost:8080/",
          "height": 288
        },
        "outputId": "890f7362-f0a8-4425-e9f1-695e796e7759"
      },
      "execution_count": null,
      "outputs": [
        {
          "output_type": "display_data",
          "data": {
            "text/plain": [
              "<Figure size 1008x288 with 2 Axes>"
            ],
            "image/png": "[encoded data removed]"
          },
          "metadata": {}
        }
      ]
    },
    {
      "cell_type": "markdown",
      "source": [
        "# context-based"
      ],
      "metadata": {
        "id": "63nG6457WsMj"
      }
    },
    {
      "cell_type": "code",
      "source": [
        "comment_parent = zip(X_train['comment'].tolist(), X_train['parent_comment'].tolist())\n",
        "lengths = [len(tokenizer.encode(x, y, max_length=512, truncation=True)) for x, y in comment_parent]\n",
        "plt.hist(lengths);"
      ],
      "metadata": {
        "id": "cdR2-YO88u3y",
        "colab": {
          "base_uri": "https://localhost:8080/",
          "height": 271
        },
        "outputId": "4a1348dd-793d-4e99-bcf4-552594f05fc4"
      },
      "execution_count": null,
      "outputs": [
        {
          "output_type": "display_data",
          "data": {
            "text/plain": [
              "<Figure size 432x288 with 1 Axes>"
            ],
            "image/png": "[encoded data removed]"
          },
          "metadata": {}
        }
      ]
    },
    {
      "cell_type": "code",
      "source": [
        "int(np.quantile(lengths, 0.85))"
      ],
      "metadata": {
        "colab": {
          "base_uri": "https://localhost:8080/"
        },
        "id": "VzefpWsd8u32",
        "outputId": "a9576269-8b14-49d8-c022-4d1881320324"
      },
      "execution_count": null,
      "outputs": [
        {
          "output_type": "execute_result",
          "data": {
            "text/plain": [
              "72"
            ]
          },
          "metadata": {},
          "execution_count": 61
        }
      ]
    },
    {
      "cell_type": "code",
      "source": [
        "max_len = 72"
      ],
      "metadata": {
        "id": "nTsFY-iiWuHl"
      },
      "execution_count": null,
      "outputs": []
    },
    {
      "cell_type": "code",
      "source": [
        "encoding_train = tokenizer(\n",
        "    X_train['parent_comment'].tolist(),\n",
        "    X_train['comment'].tolist(),\n",
        "    add_special_tokens=True,\n",
        "    max_length=max_len,\n",
        "    return_token_type_ids=False,\n",
        "    padding='max_length',\n",
        "    truncation='longest_first',\n",
        "    return_attention_mask=True,\n",
        "    return_tensors='pt'\n",
        ")\n",
        "\n",
        "encoding_val = tokenizer(\n",
        "    X_val['parent_comment'].tolist(),\n",
        "    X_val['comment'].tolist(),\n",
        "    add_special_tokens=True,\n",
        "    max_length=max_len,\n",
        "    return_token_type_ids=False,\n",
        "    padding='max_length',\n",
        "    truncation='longest_first',\n",
        "    return_attention_mask=True,\n",
        "    return_tensors='pt'\n",
        ")\n",
        "\n",
        "encoding_test = tokenizer(\n",
        "    X_test['parent_comment'].tolist(),\n",
        "    X_test['comment'].tolist(),\n",
        "    add_special_tokens=True,\n",
        "    max_length=max_len,\n",
        "    return_token_type_ids=False,\n",
        "    padding='max_length',\n",
        "    truncation='longest_first',\n",
        "    return_attention_mask=True,\n",
        "    return_tensors='pt'\n",
        ")"
      ],
      "metadata": {
        "id": "9aJBuJiWWuHn"
      },
      "execution_count": null,
      "outputs": []
    },
    {
      "cell_type": "code",
      "source": [
        "X_train, X_train_mask = encoding_train['input_ids'], encoding_train['attention_mask']\n",
        "X_val, X_val_mask = encoding_val['input_ids'], encoding_val['attention_mask']\n",
        "X_test, X_test_mask = encoding_test['input_ids'], encoding_test['attention_mask']"
      ],
      "metadata": {
        "id": "-uFOF-5PWuHo"
      },
      "execution_count": null,
      "outputs": []
    },
    {
      "cell_type": "code",
      "source": [
        "y_train, y_val, y_test = torch.tensor(y_train), torch.tensor(y_val), torch.tensor(y_test)"
      ],
      "metadata": {
        "id": "aThX49_pWuHp"
      },
      "execution_count": null,
      "outputs": []
    },
    {
      "cell_type": "code",
      "source": [
        "batch_size = 128\n",
        "\n",
        "train_data = TensorDataset(X_train, X_train_mask, y_train)\n",
        "train_sampler = RandomSampler(train_data)\n",
        "train_dataloader = DataLoader(train_data, sampler=train_sampler, batch_size=batch_size)\n",
        "\n",
        "val_data = TensorDataset(X_val, X_val_mask, y_val)\n",
        "val_sampler = RandomSampler(val_data)\n",
        "val_dataloader = DataLoader(val_data, sampler=val_sampler, batch_size=batch_size)\n",
        "\n",
        "test_data = TensorDataset(X_test, X_test_mask, y_test)\n",
        "test_sampler = RandomSampler(test_data)\n",
        "test_dataloader = DataLoader(test_data, sampler=test_sampler, batch_size=batch_size)"
      ],
      "metadata": {
        "id": "-CaFmHK7WuHp"
      },
      "execution_count": null,
      "outputs": []
    },
    {
      "cell_type": "code",
      "source": [
        "dataloaders = {'train': train_dataloader, 'val': val_dataloader, 'test': test_dataloader}\n",
        "data_size = {'train': len(train_data), 'val': len(val_data), 'test': len(test_data)}"
      ],
      "metadata": {
        "id": "hX0Kboa4WuHq"
      },
      "execution_count": null,
      "outputs": []
    },
    {
      "cell_type": "code",
      "source": [
        "model = DistilBertForSequenceClassification.from_pretrained(\n",
        "    'distilbert-base-uncased',\n",
        "    num_labels=2,\n",
        "    output_attentions=False,\n",
        "    output_hidden_states=False\n",
        ").to(device);"
      ],
      "metadata": {
        "id": "t4f3aLQmWuHr"
      },
      "execution_count": null,
      "outputs": []
    },
    {
      "cell_type": "code",
      "source": [
        "epochs = 3\n",
        "total_steps = len(train_dataloader) * epochs\n",
        "\n",
        "optimizer = torch.optim.AdamW(model.parameters(), lr=2e-5)\n",
        "scheduler = get_linear_schedule_with_warmup(optimizer, num_warmup_steps=0, num_training_steps=total_steps)\n",
        "criterion = torch.nn.CrossEntropyLoss()"
      ],
      "metadata": {
        "id": "BWZQmnGtWuHr"
      },
      "execution_count": null,
      "outputs": []
    },
    {
      "cell_type": "code",
      "source": [
        "# 83\n",
        "best_model, history = train_model(model, criterion, optimizer, scheduler, epochs, dataloaders,\n",
        "                                  data_size, device, rep=1000)"
      ],
      "metadata": {
        "colab": {
          "base_uri": "https://localhost:8080/"
        },
        "outputId": "7e4cc514-e120-44ef-86bc-ad382ffaec28",
        "id": "srUBZf99WuHs"
      },
      "execution_count": null,
      "outputs": [
        {
          "output_type": "stream",
          "name": "stdout",
          "text": [
            "\n",
            "======== Epoch 1 / 3 ========\n",
            "Training...\n",
            "Batch 1,000 of 6,851. Elapsed: 380.73 s.\n",
            "Batch 2,000 of 6,851. Elapsed: 760.51 s.\n",
            "Batch 3,000 of 6,851. Elapsed: 1140.55 s.\n",
            "Batch 4,000 of 6,851. Elapsed: 1520.67 s.\n",
            "Batch 5,000 of 6,851. Elapsed: 1900.84 s.\n",
            "Batch 6,000 of 6,851. Elapsed: 2281.15 s.\n",
            "== train == loss: 0.5061 accuracy: 0.7489\n",
            "== val == loss: 0.4768 accuracy: 0.7700\n",
            "\n",
            "======== Epoch 2 / 3 ========\n",
            "Training...\n",
            "Batch 1,000 of 6,851. Elapsed: 380.72 s.\n",
            "Batch 2,000 of 6,851. Elapsed: 761.49 s.\n",
            "Batch 3,000 of 6,851. Elapsed: 1142.28 s.\n",
            "Batch 4,000 of 6,851. Elapsed: 1523.12 s.\n",
            "Batch 5,000 of 6,851. Elapsed: 1903.98 s.\n",
            "Batch 6,000 of 6,851. Elapsed: 2284.95 s.\n",
            "== train == loss: 0.4432 accuracy: 0.7908\n",
            "== val == loss: 0.4630 accuracy: 0.7774\n",
            "\n",
            "======== Epoch 3 / 3 ========\n",
            "Training...\n",
            "Batch 1,000 of 6,851. Elapsed: 380.99 s.\n",
            "Batch 2,000 of 6,851. Elapsed: 762.06 s.\n",
            "Batch 3,000 of 6,851. Elapsed: 1143.32 s.\n",
            "Batch 4,000 of 6,851. Elapsed: 1524.65 s.\n",
            "Batch 5,000 of 6,851. Elapsed: 1906.12 s.\n",
            "Batch 6,000 of 6,851. Elapsed: 2287.70 s.\n",
            "== train == loss: 0.3924 accuracy: 0.8214\n",
            "== val == loss: 0.4735 accuracy: 0.7792\n",
            "\n",
            "Training finished. Best validation accuracy: 0.7792.\n"
          ]
        }
      ]
    },
    {
      "cell_type": "code",
      "source": [
        "# 91\n",
        "best_model, history = train_model(model, criterion, optimizer, scheduler, epochs, dataloaders,\n",
        "                                  data_size, device, rep=1000)"
      ],
      "metadata": {
        "colab": {
          "base_uri": "https://localhost:8080/"
        },
        "outputId": "a4059775-58f4-40ef-c4ad-2a81990afb54",
        "id": "qWDhyjVsWuHt"
      },
      "execution_count": null,
      "outputs": [
        {
          "output_type": "stream",
          "name": "stdout",
          "text": [
            "\n",
            "======== Epoch 1 / 3 ========\n",
            "Training...\n",
            "Batch 1,000 of 6,851. Elapsed: 379.66 s.\n",
            "Batch 2,000 of 6,851. Elapsed: 759.10 s.\n",
            "Batch 3,000 of 6,851. Elapsed: 1138.56 s.\n",
            "Batch 4,000 of 6,851. Elapsed: 1518.05 s.\n",
            "Batch 5,000 of 6,851. Elapsed: 1897.58 s.\n",
            "Batch 6,000 of 6,851. Elapsed: 2277.17 s.\n",
            "== train == loss: 0.5071 accuracy: 0.7480\n",
            "== val == loss: 0.4710 accuracy: 0.7724\n",
            "\n",
            "======== Epoch 2 / 3 ========\n",
            "Training...\n",
            "Batch 1,000 of 6,851. Elapsed: 379.64 s.\n",
            "Batch 2,000 of 6,851. Elapsed: 759.38 s.\n",
            "Batch 3,000 of 6,851. Elapsed: 1139.15 s.\n",
            "Batch 4,000 of 6,851. Elapsed: 1519.15 s.\n",
            "Batch 5,000 of 6,851. Elapsed: 1899.01 s.\n",
            "Batch 6,000 of 6,851. Elapsed: 2278.98 s.\n",
            "== train == loss: 0.4440 accuracy: 0.7911\n",
            "== val == loss: 0.4649 accuracy: 0.7813\n",
            "\n",
            "======== Epoch 3 / 3 ========\n",
            "Training...\n",
            "Batch 1,000 of 6,851. Elapsed: 380.26 s.\n",
            "Batch 2,000 of 6,851. Elapsed: 760.46 s.\n",
            "Batch 3,000 of 6,851. Elapsed: 1140.78 s.\n",
            "Batch 4,000 of 6,851. Elapsed: 1521.30 s.\n",
            "Batch 5,000 of 6,851. Elapsed: 1901.99 s.\n",
            "Batch 6,000 of 6,851. Elapsed: 2282.79 s.\n",
            "== train == loss: 0.3927 accuracy: 0.8217\n",
            "== val == loss: 0.4732 accuracy: 0.7798\n",
            "\n",
            "Training finished. Best validation accuracy: 0.7813.\n"
          ]
        }
      ]
    },
    {
      "cell_type": "code",
      "source": [
        "# 61\n",
        "best_model, history = train_model(model, criterion, optimizer, scheduler, epochs, dataloaders,\n",
        "                                  data_size, device, rep=1000)"
      ],
      "metadata": {
        "id": "CkK_t2UHWuHt",
        "colab": {
          "base_uri": "https://localhost:8080/"
        },
        "outputId": "74b64b7b-f0b3-4bf8-cf17-ff4842438d91"
      },
      "execution_count": null,
      "outputs": [
        {
          "output_type": "stream",
          "name": "stdout",
          "text": [
            "\n",
            "======== Epoch 1 / 3 ========\n",
            "Training...\n",
            "Batch 1,000 of 6,851. Elapsed: 381.05 s.\n",
            "Batch 2,000 of 6,851. Elapsed: 762.02 s.\n",
            "Batch 3,000 of 6,851. Elapsed: 1142.84 s.\n",
            "Batch 4,000 of 6,851. Elapsed: 1523.69 s.\n",
            "Batch 5,000 of 6,851. Elapsed: 1904.44 s.\n",
            "Batch 6,000 of 6,851. Elapsed: 2285.19 s.\n",
            "== train == loss: 0.5063 accuracy: 0.7484\n",
            "== val == loss: 0.4718 accuracy: 0.7728\n",
            "\n",
            "======== Epoch 2 / 3 ========\n",
            "Training...\n",
            "Batch 1,000 of 6,851. Elapsed: 380.80 s.\n",
            "Batch 2,000 of 6,851. Elapsed: 761.40 s.\n",
            "Batch 3,000 of 6,851. Elapsed: 1141.91 s.\n",
            "Batch 4,000 of 6,851. Elapsed: 1522.39 s.\n",
            "Batch 5,000 of 6,851. Elapsed: 1902.99 s.\n",
            "Batch 6,000 of 6,851. Elapsed: 2283.43 s.\n",
            "== train == loss: 0.4437 accuracy: 0.7909\n",
            "== val == loss: 0.4679 accuracy: 0.7808\n",
            "\n",
            "======== Epoch 3 / 3 ========\n",
            "Training...\n",
            "Batch 1,000 of 6,851. Elapsed: 380.34 s.\n",
            "Batch 2,000 of 6,851. Elapsed: 760.49 s.\n",
            "Batch 3,000 of 6,851. Elapsed: 1140.65 s.\n",
            "Batch 4,000 of 6,851. Elapsed: 1520.81 s.\n",
            "Batch 5,000 of 6,851. Elapsed: 1900.95 s.\n",
            "Batch 6,000 of 6,851. Elapsed: 2281.06 s.\n",
            "== train == loss: 0.3935 accuracy: 0.8211\n",
            "== val == loss: 0.4821 accuracy: 0.7786\n",
            "\n",
            "Training finished. Best validation accuracy: 0.7808.\n"
          ]
        }
      ]
    },
    {
      "cell_type": "code",
      "source": [
        "y_pred, y_test = test_model(best_model, dataloaders['test'], data_size['test'], device)"
      ],
      "metadata": {
        "colab": {
          "base_uri": "https://localhost:8080/"
        },
        "outputId": "e2547e65-a535-4e8a-be94-94c51c83f406",
        "id": "4P7Ec3GtWuHu"
      },
      "execution_count": null,
      "outputs": [
        {
          "output_type": "stream",
          "name": "stdout",
          "text": [
            "test accuracy: 0.7806\n"
          ]
        }
      ]
    },
    {
      "cell_type": "code",
      "source": [
        "torch.save(best_model.state_dict(), root+'models/distilbert_context.pth')"
      ],
      "metadata": {
        "id": "i4v56VSTWuHu"
      },
      "execution_count": null,
      "outputs": []
    },
    {
      "cell_type": "code",
      "source": [
        "acc = accuracy_score(y_test, y_pred)\n",
        "prec = precision_score(y_test, y_pred)\n",
        "rec = recall_score(y_test, y_pred)\n",
        "f1 = f1_score(y_test, y_pred)"
      ],
      "metadata": {
        "id": "JifTSFvAWuHv"
      },
      "execution_count": null,
      "outputs": []
    },
    {
      "cell_type": "code",
      "source": [
        "# all the parameters\n",
        "sum(p.numel() for p in best_model.parameters())"
      ],
      "metadata": {
        "colab": {
          "base_uri": "https://localhost:8080/"
        },
        "outputId": "bec927a0-df0a-42b0-8ee2-1dacc35791e7",
        "id": "0wO4zg5kWuHv"
      },
      "execution_count": null,
      "outputs": [
        {
          "output_type": "execute_result",
          "data": {
            "text/plain": [
              "66955010"
            ]
          },
          "metadata": {},
          "execution_count": 44
        }
      ]
    },
    {
      "cell_type": "code",
      "source": [
        "# trainable parameters\n",
        "sum(p.numel() for p in best_model.parameters() if p.requires_grad)"
      ],
      "metadata": {
        "colab": {
          "base_uri": "https://localhost:8080/"
        },
        "outputId": "f292983b-3610-40dd-894d-5b98002bdd42",
        "id": "P9FTrVgTWuHw"
      },
      "execution_count": null,
      "outputs": [
        {
          "output_type": "execute_result",
          "data": {
            "text/plain": [
              "66955010"
            ]
          },
          "metadata": {},
          "execution_count": 45
        }
      ]
    }
  ]
}