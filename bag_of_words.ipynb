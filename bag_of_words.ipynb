{
  "cells": [
    {
      "cell_type": "code",
      "execution_count": 1,
      "metadata": {
        "colab": {
          "base_uri": "https://localhost:8080/"
        },
        "id": "f8877fc0",
        "outputId": "8852110b-a56d-4e0c-c292-cf02bbc2ced2"
      },
      "outputs": [
        {
          "output_type": "stream",
          "name": "stdout",
          "text": [
            "Mounted at /content/drive\n"
          ]
        }
      ],
      "source": [
        "from google.colab import drive\n",
        "drive.mount('/content/drive')"
      ],
      "id": "f8877fc0"
    },
    {
      "cell_type": "code",
      "execution_count": 2,
      "metadata": {
        "id": "e6c7134f"
      },
      "outputs": [],
      "source": [
        "root = '/content/drive/My Drive/surely_not_sarcasm_data/'"
      ],
      "id": "e6c7134f"
    },
    {
      "cell_type": "code",
      "source": [
        "!cp -r '$root/utils' ."
      ],
      "metadata": {
        "id": "Tn9Posqcovnf"
      },
      "execution_count": 3,
      "outputs": [],
      "id": "Tn9Posqcovnf"
    },
    {
      "cell_type": "code",
      "execution_count": 4,
      "id": "c02ce4eb",
      "metadata": {
        "id": "c02ce4eb"
      },
      "outputs": [],
      "source": [
        "import pandas as pd\n",
        "import matplotlib.pyplot as plt\n",
        "import seaborn as sns\n",
        "import numpy as np\n",
        "import tensorflow as tf\n",
        "import nltk\n",
        "import pickle\n",
        "import keras\n",
        "import string\n",
        "import re\n",
        "\n",
        "from nltk.corpus import stopwords\n",
        "\n",
        "from sklearn.feature_extraction.text import CountVectorizer, TfidfVectorizer, ENGLISH_STOP_WORDS as sklear_stopwords\n",
        "from sklearn.feature_selection import SelectKBest, mutual_info_classif, chi2, f_classif\n",
        "from sklearn.model_selection import train_test_split\n",
        "from sklearn.metrics import accuracy_score, precision_score, recall_score, f1_score\n",
        "from sklearn.utils import class_weight\n",
        "from sklearn.naive_bayes import MultinomialNB\n",
        "\n",
        "from tensorflow.keras import Sequential\n",
        "from tensorflow.keras.layers import Dense, Dropout, InputLayer, BatchNormalization\n",
        "from tensorflow.keras.callbacks import EarlyStopping\n",
        "from tensorflow.keras.regularizers import L1L2\n",
        "\n",
        "from scipy.sparse import hstack\n",
        "\n",
        "from utils.evaluation import plot_history, evaluate, show_errors\n",
        "\n",
        "sns.set_style('whitegrid');\n",
        "sns.set_context('notebook', font_scale=1.1);"
      ]
    },
    {
      "cell_type": "code",
      "execution_count": 5,
      "id": "oHoknhm9wP-C",
      "metadata": {
        "colab": {
          "base_uri": "https://localhost:8080/"
        },
        "id": "oHoknhm9wP-C",
        "outputId": "dcefac21-1b44-4b71-fbe9-d81b4e0000ae"
      },
      "outputs": [
        {
          "output_type": "stream",
          "name": "stdout",
          "text": [
            "[nltk_data] Downloading package stopwords to /root/nltk_data...\n",
            "[nltk_data]   Unzipping corpora/stopwords.zip.\n"
          ]
        },
        {
          "output_type": "execute_result",
          "data": {
            "text/plain": [
              "True"
            ]
          },
          "metadata": {},
          "execution_count": 5
        }
      ],
      "source": [
        "nltk.download('stopwords')"
      ]
    },
    {
      "cell_type": "markdown",
      "source": [
        "# prepare data"
      ],
      "metadata": {
        "id": "-aM5cru_LsPp"
      },
      "id": "-aM5cru_LsPp"
    },
    {
      "cell_type": "code",
      "execution_count": 6,
      "id": "6ef6caff",
      "metadata": {
        "colab": {
          "base_uri": "https://localhost:8080/",
          "height": 206
        },
        "id": "6ef6caff",
        "outputId": "ed9c48e1-1102-4b90-9e7a-96b7a003b066"
      },
      "outputs": [
        {
          "output_type": "execute_result",
          "data": {
            "text/plain": [
              "   label                                            comment  \\\n",
              "0      0                                         NC and NH.   \n",
              "1      0  You do know west teams play against west teams...   \n",
              "2      0  They were underdogs earlier today, but since G...   \n",
              "3      0  This meme isn't funny none of the \"new york ni...   \n",
              "4      0                    I could use one of those tools.   \n",
              "\n",
              "                                      parent_comment  \n",
              "0  Yeah, I get that argument. At this point, I'd ...  \n",
              "1  The blazers and Mavericks (The wests 5 and 6 s...  \n",
              "2                            They're favored to win.  \n",
              "3                         deadass don't kill my buzz  \n",
              "4  Yep can confirm I saw the tool they use for th...  "
            ],
            "text/html": [
              "\n",
              "  <div id=\"df-97d9a929-9f28-49e5-badd-6a541fd9d5cd\">\n",
              "    <div class=\"colab-df-container\">\n",
              "      <div>\n",
              "<style scoped>\n",
              "    .dataframe tbody tr th:only-of-type {\n",
              "        vertical-align: middle;\n",
              "    }\n",
              "\n",
              "    .dataframe tbody tr th {\n",
              "        vertical-align: top;\n",
              "    }\n",
              "\n",
              "    .dataframe thead th {\n",
              "        text-align: right;\n",
              "    }\n",
              "</style>\n",
              "<table border=\"1\" class=\"dataframe\">\n",
              "  <thead>\n",
              "    <tr style=\"text-align: right;\">\n",
              "      <th></th>\n",
              "      <th>label</th>\n",
              "      <th>comment</th>\n",
              "      <th>parent_comment</th>\n",
              "    </tr>\n",
              "  </thead>\n",
              "  <tbody>\n",
              "    <tr>\n",
              "      <th>0</th>\n",
              "      <td>0</td>\n",
              "      <td>NC and NH.</td>\n",
              "      <td>Yeah, I get that argument. At this point, I'd ...</td>\n",
              "    </tr>\n",
              "    <tr>\n",
              "      <th>1</th>\n",
              "      <td>0</td>\n",
              "      <td>You do know west teams play against west teams...</td>\n",
              "      <td>The blazers and Mavericks (The wests 5 and 6 s...</td>\n",
              "    </tr>\n",
              "    <tr>\n",
              "      <th>2</th>\n",
              "      <td>0</td>\n",
              "      <td>They were underdogs earlier today, but since G...</td>\n",
              "      <td>They're favored to win.</td>\n",
              "    </tr>\n",
              "    <tr>\n",
              "      <th>3</th>\n",
              "      <td>0</td>\n",
              "      <td>This meme isn't funny none of the \"new york ni...</td>\n",
              "      <td>deadass don't kill my buzz</td>\n",
              "    </tr>\n",
              "    <tr>\n",
              "      <th>4</th>\n",
              "      <td>0</td>\n",
              "      <td>I could use one of those tools.</td>\n",
              "      <td>Yep can confirm I saw the tool they use for th...</td>\n",
              "    </tr>\n",
              "  </tbody>\n",
              "</table>\n",
              "</div>\n",
              "      <button class=\"colab-df-convert\" onclick=\"convertToInteractive('df-97d9a929-9f28-49e5-badd-6a541fd9d5cd')\"\n",
              "              title=\"Convert this dataframe to an interactive table.\"\n",
              "              style=\"display:none;\">\n",
              "        \n",
              "  <svg xmlns=\"http://www.w3.org/2000/svg\" height=\"24px\"viewBox=\"0 0 24 24\"\n",
              "       width=\"24px\">\n",
              "    <path d=\"M0 0h24v24H0V0z\" fill=\"none\"/>\n",
              "    <path d=\"M18.56 5.44l.94 2.06.94-2.06 2.06-.94-2.06-.94-.94-2.06-.94 2.06-2.06.94zm-11 1L8.5 8.5l.94-2.06 2.06-.94-2.06-.94L8.5 2.5l-.94 2.06-2.06.94zm10 10l.94 2.06.94-2.06 2.06-.94-2.06-.94-.94-2.06-.94 2.06-2.06.94z\"/><path d=\"M17.41 7.96l-1.37-1.37c-.4-.4-.92-.59-1.43-.59-.52 0-1.04.2-1.43.59L10.3 9.45l-7.72 7.72c-.78.78-.78 2.05 0 2.83L4 21.41c.39.39.9.59 1.41.59.51 0 1.02-.2 1.41-.59l7.78-7.78 2.81-2.81c.8-.78.8-2.07 0-2.86zM5.41 20L4 18.59l7.72-7.72 1.47 1.35L5.41 20z\"/>\n",
              "  </svg>\n",
              "      </button>\n",
              "      \n",
              "  <style>\n",
              "    .colab-df-container {\n",
              "      display:flex;\n",
              "      flex-wrap:wrap;\n",
              "      gap: 12px;\n",
              "    }\n",
              "\n",
              "    .colab-df-convert {\n",
              "      background-color: #E8F0FE;\n",
              "      border: none;\n",
              "      border-radius: 50%;\n",
              "      cursor: pointer;\n",
              "      display: none;\n",
              "      fill: #1967D2;\n",
              "      height: 32px;\n",
              "      padding: 0 0 0 0;\n",
              "      width: 32px;\n",
              "    }\n",
              "\n",
              "    .colab-df-convert:hover {\n",
              "      background-color: #E2EBFA;\n",
              "      box-shadow: 0px 1px 2px rgba(60, 64, 67, 0.3), 0px 1px 3px 1px rgba(60, 64, 67, 0.15);\n",
              "      fill: #174EA6;\n",
              "    }\n",
              "\n",
              "    [theme=dark] .colab-df-convert {\n",
              "      background-color: #3B4455;\n",
              "      fill: #D2E3FC;\n",
              "    }\n",
              "\n",
              "    [theme=dark] .colab-df-convert:hover {\n",
              "      background-color: #434B5C;\n",
              "      box-shadow: 0px 1px 3px 1px rgba(0, 0, 0, 0.15);\n",
              "      filter: drop-shadow(0px 1px 2px rgba(0, 0, 0, 0.3));\n",
              "      fill: #FFFFFF;\n",
              "    }\n",
              "  </style>\n",
              "\n",
              "      <script>\n",
              "        const buttonEl =\n",
              "          document.querySelector('#df-97d9a929-9f28-49e5-badd-6a541fd9d5cd button.colab-df-convert');\n",
              "        buttonEl.style.display =\n",
              "          google.colab.kernel.accessAllowed ? 'block' : 'none';\n",
              "\n",
              "        async function convertToInteractive(key) {\n",
              "          const element = document.querySelector('#df-97d9a929-9f28-49e5-badd-6a541fd9d5cd');\n",
              "          const dataTable =\n",
              "            await google.colab.kernel.invokeFunction('convertToInteractive',\n",
              "                                                     [key], {});\n",
              "          if (!dataTable) return;\n",
              "\n",
              "          const docLinkHtml = 'Like what you see? Visit the ' +\n",
              "            '<a target=\"_blank\" href=https://colab.research.google.com/notebooks/data_table.ipynb>data table notebook</a>'\n",
              "            + ' to learn more about interactive tables.';\n",
              "          element.innerHTML = '';\n",
              "          dataTable['output_type'] = 'display_data';\n",
              "          await google.colab.output.renderOutput(dataTable, element);\n",
              "          const docLink = document.createElement('div');\n",
              "          docLink.innerHTML = docLinkHtml;\n",
              "          element.appendChild(docLink);\n",
              "        }\n",
              "      </script>\n",
              "    </div>\n",
              "  </div>\n",
              "  "
            ]
          },
          "metadata": {},
          "execution_count": 6
        }
      ],
      "source": [
        "df = pd.read_csv(root+'data/train_balanced_smaller.csv')\n",
        "df.head()"
      ]
    },
    {
      "cell_type": "code",
      "source": [
        "def map_special_strings(column):\n",
        "    token_encoding = {\n",
        "            ':)': 'xxsmilingfacexx',\n",
        "            ':]': 'xxsmilingfacexx',\n",
        "            ':-)': 'xxsmilingfacexx',\n",
        "            ';)': 'xxwinksmilingfacexx',\n",
        "            ':(': 'xxsadfacexx',\n",
        "            ':-(': 'xxsadfacexx',\n",
        "            ';(': 'xxcryingsadfacexx',\n",
        "            ':|': 'xxblankfacexx',\n",
        "            ':o': 'xxsurprisedfacexx',\n",
        "            ':/': 'xxwryfacexx',\n",
        "            ':D': 'xxgrinfacexx',\n",
        "            ';D': 'xxwinkgrinfacexx',\n",
        "            ':P': 'xxtonguefacexx',\n",
        "            ':p': 'xxtongueface2xx',\n",
        "            ';p': 'xxtongueface2xx',\n",
        "            '<3': 'xxheartxx'\n",
        "    }\n",
        "\n",
        "    column = (column\n",
        "        .str.replace(r'https?:\\/\\/\\S+\\b|www\\.(\\w+\\.)+\\S*', 'xxurlxx', regex=True)\n",
        "        .str.replace(r'\\bu/\\w+', 'xxuserxx', regex=True)\n",
        "        .str.replace(r'\\br/\\w+', 'xxsubredditmentionxx', regex=True)\n",
        "        .str.replace(r'#[a-z0-9_]+', ' xxhashtagxx ', regex=True)\n",
        "    )\n",
        "\n",
        "    for token, encoding in token_encoding.items():\n",
        "        pattern = re.compile(r'{}+(?!\\S)'.format(re.escape(token)))\n",
        "        column = column.str.replace(pattern, fr' {encoding} ', regex=True)\n",
        "\n",
        "    column = (column\n",
        "        .str.replace(r'[-+]?[.\\d]*[\\d]+[:,.\\d]*', 'xxnumberxx', regex=True)\n",
        "        .str.replace(r'\\b(\\S*?)(.)\\2{2,}\\b', r'\\1\\2 xxelongxx ', regex=True)\n",
        "        .str.replace(r\"(\\b[^a-z0-9\\W()<>'`\\-]{2,}\\b)\", r'\\1 xxallcapsxx ', regex=True)\n",
        "    )\n",
        "\n",
        "    return column"
      ],
      "metadata": {
        "id": "UGXHIYIMxWfH"
      },
      "id": "UGXHIYIMxWfH",
      "execution_count": 14,
      "outputs": []
    },
    {
      "cell_type": "code",
      "source": [
        "df['comment'] = map_special_strings(df['comment'])\n",
        "df['parent_comment'] = map_special_strings(df['parent_comment'])"
      ],
      "metadata": {
        "id": "UmDCvYKLM7rN"
      },
      "id": "UmDCvYKLM7rN",
      "execution_count": 15,
      "outputs": []
    },
    {
      "cell_type": "code",
      "execution_count": 16,
      "metadata": {
        "id": "OXMbnodfD_u1"
      },
      "outputs": [],
      "source": [
        "X = df[['comment', 'parent_comment']]\n",
        "y = df['label'].values"
      ],
      "id": "OXMbnodfD_u1"
    },
    {
      "cell_type": "code",
      "source": [
        "X_train, X_val, y_train, y_val = train_test_split(X, y, stratify=y, test_size=0.2, random_state=42)\n",
        "X_train, X_test, y_train, y_test = train_test_split(X_train, y_train, stratify=y_train, test_size=0.05, random_state=42)"
      ],
      "metadata": {
        "id": "s7Qelh3mg7Ez"
      },
      "execution_count": 17,
      "outputs": [],
      "id": "s7Qelh3mg7Ez"
    },
    {
      "cell_type": "code",
      "source": [
        "X_train.shape, X_val.shape, X_test.shape"
      ],
      "metadata": {
        "colab": {
          "base_uri": "https://localhost:8080/"
        },
        "id": "8MW07v51hWDy",
        "outputId": "3abe5042-bfe5-4fb0-ae5e-5339f858a0f7"
      },
      "execution_count": 18,
      "outputs": [
        {
          "output_type": "execute_result",
          "data": {
            "text/plain": [
              "((768187, 2), (202155, 2), (40431, 2))"
            ]
          },
          "metadata": {},
          "execution_count": 18
        }
      ],
      "id": "8MW07v51hWDy"
    },
    {
      "cell_type": "code",
      "execution_count": 19,
      "id": "0POEjM1m0YYl",
      "metadata": {
        "id": "0POEjM1m0YYl"
      },
      "outputs": [],
      "source": [
        "def sparse_tensor(X):\n",
        "    coo = X.tocoo()\n",
        "    indices = np.mat([coo.row, coo.col]).transpose()\n",
        "    return tf.sparse.reorder(tf.SparseTensor(indices, coo.data, coo.shape))"
      ]
    },
    {
      "cell_type": "code",
      "source": [
        "def vectorize_data(data, min_df=50):\n",
        "    all_sw = list(sklear_stopwords) + stopwords.words('english')\n",
        "    count_vectorizer = CountVectorizer(stop_words=all_sw, token_pattern=r'(?u)\\b\\w\\w+\\b|\\!|\\?|\\.\\.\\.',\n",
        "                                       ngram_range=(1,3), min_df=min_df)\n",
        "\n",
        "    vec_data = {}\n",
        "    vec_data['train'] = count_vectorizer.fit_transform(data[0])\n",
        "    vec_data['val'] = count_vectorizer.transform(data[1])\n",
        "    vec_data['test'] = count_vectorizer.transform(data[2])\n",
        "\n",
        "    print('number of features: ', len(count_vectorizer.get_feature_names_out()))\n",
        "\n",
        "    return count_vectorizer, vec_data"
      ],
      "metadata": {
        "id": "u1nT4NlvV-Xk"
      },
      "id": "u1nT4NlvV-Xk",
      "execution_count": 37,
      "outputs": []
    },
    {
      "cell_type": "markdown",
      "id": "C3tpuJCn7oDa",
      "metadata": {
        "id": "C3tpuJCn7oDa"
      },
      "source": [
        "# no context\n",
        "11.04.2022"
      ]
    },
    {
      "cell_type": "code",
      "source": [
        "count_vectorizer, vec_data = vectorize_data([X_train['comment'], X_val['comment'], X_test['comment']])"
      ],
      "metadata": {
        "colab": {
          "base_uri": "https://localhost:8080/"
        },
        "id": "3w0MRHR-V5ai",
        "outputId": "bb55eea0-1808-48e4-f0ae-7bcbd3b63114"
      },
      "id": "3w0MRHR-V5ai",
      "execution_count": 38,
      "outputs": [
        {
          "output_type": "stream",
          "name": "stdout",
          "text": [
            "number of features:  11463\n"
          ]
        }
      ]
    },
    {
      "cell_type": "code",
      "execution_count": 29,
      "id": "8cf7f181",
      "metadata": {
        "id": "8cf7f181"
      },
      "outputs": [],
      "source": [
        "mnb = MultinomialNB()\n",
        "mnb.fit(vec_data['train'], y_train);"
      ]
    },
    {
      "cell_type": "code",
      "source": [
        "evaluate(mnb, vec_data['val'], y_val)"
      ],
      "metadata": {
        "colab": {
          "base_uri": "https://localhost:8080/",
          "height": 342
        },
        "id": "-ZgnjHxSZrb4",
        "outputId": "e378d60b-0635-4a52-aa75-6fc6206a088c"
      },
      "id": "-ZgnjHxSZrb4",
      "execution_count": 30,
      "outputs": [
        {
          "output_type": "display_data",
          "data": {
            "text/plain": [
              "<Figure size 360x360 with 1 Axes>"
            ],
            "image/png": "[encoded data removed]"
          },
          "metadata": {}
        }
      ]
    },
    {
      "cell_type": "code",
      "execution_count": 31,
      "id": "1u2Yx738xX-a",
      "metadata": {
        "id": "1u2Yx738xX-a"
      },
      "outputs": [],
      "source": [
        "train_dataset = tf.data.Dataset.from_tensor_slices((sparse_tensor(vec_data['train']), y_train)).shuffle(100).batch(128)\n",
        "val_dataset = tf.data.Dataset.from_tensor_slices((sparse_tensor(vec_data['val']), y_val)).batch(128)"
      ]
    },
    {
      "cell_type": "code",
      "source": [
        "model = Sequential([\n",
        "    InputLayer(input_shape=(vec_data['train'].shape[1],)),\n",
        "    Dense(100, activation='elu', kernel_initializer='he_normal', kernel_regularizer=L1L2(l1=5e-6, l2=5e-6)),\n",
        "    BatchNormalization(),\n",
        "    Dense(100, activation='elu', kernel_initializer='he_normal', kernel_regularizer=L1L2(l1=5e-6, l2=5e-6)),\n",
        "    BatchNormalization(),\n",
        "    Dropout(0.5),\n",
        "    Dense(1, activation='sigmoid')\n",
        "])\n",
        "\n",
        "es = EarlyStopping(monitor='val_loss', min_delta=1e-5, patience=3, restore_best_weights=True)\n",
        "\n",
        "model.compile(loss='binary_crossentropy', optimizer='adam', metrics=['accuracy'])\n",
        "fit = model.fit(train_dataset, validation_data=val_dataset, epochs=50, callbacks=[es])"
      ],
      "metadata": {
        "colab": {
          "base_uri": "https://localhost:8080/"
        },
        "id": "7dVnll9gYPfU",
        "outputId": "be48649d-c422-4647-d5d4-0326bdbb3e57"
      },
      "id": "7dVnll9gYPfU",
      "execution_count": 32,
      "outputs": [
        {
          "output_type": "stream",
          "name": "stdout",
          "text": [
            "Epoch 1/50\n"
          ]
        },
        {
          "output_type": "stream",
          "name": "stderr",
          "text": [
            "/usr/local/lib/python3.7/dist-packages/tensorflow/python/framework/indexed_slices.py:446: UserWarning: Converting sparse IndexedSlices(IndexedSlices(indices=Tensor(\"gradient_tape/sequential/dense/embedding_lookup_sparse/Reshape_1:0\", shape=(None,), dtype=int32), values=Tensor(\"gradient_tape/sequential/dense/embedding_lookup_sparse/Reshape:0\", shape=(None, 100), dtype=float32), dense_shape=Tensor(\"gradient_tape/sequential/dense/embedding_lookup_sparse/Cast:0\", shape=(2,), dtype=int32))) to a dense Tensor of unknown shape. This may consume a large amount of memory.\n",
            "  \"shape. This may consume a large amount of memory.\" % value)\n"
          ]
        },
        {
          "output_type": "stream",
          "name": "stdout",
          "text": [
            "6002/6002 [==============================] - 92s 14ms/step - loss: 0.6730 - accuracy: 0.6666 - val_loss: 0.6485 - val_accuracy: 0.6800\n",
            "Epoch 2/50\n",
            "6002/6002 [==============================] - 91s 15ms/step - loss: 0.6369 - accuracy: 0.6819 - val_loss: 0.6205 - val_accuracy: 0.6871\n",
            "Epoch 3/50\n",
            "6002/6002 [==============================] - 66s 11ms/step - loss: 0.6129 - accuracy: 0.6886 - val_loss: 0.6040 - val_accuracy: 0.6886\n",
            "Epoch 4/50\n",
            "6002/6002 [==============================] - 67s 11ms/step - loss: 0.6007 - accuracy: 0.6928 - val_loss: 0.6001 - val_accuracy: 0.6893\n",
            "Epoch 5/50\n",
            "6002/6002 [==============================] - 67s 11ms/step - loss: 0.5962 - accuracy: 0.6943 - val_loss: 0.5984 - val_accuracy: 0.6903\n",
            "Epoch 6/50\n",
            "6002/6002 [==============================] - 66s 11ms/step - loss: 0.5943 - accuracy: 0.6954 - val_loss: 0.5983 - val_accuracy: 0.6909\n",
            "Epoch 7/50\n",
            "6002/6002 [==============================] - 65s 11ms/step - loss: 0.5936 - accuracy: 0.6959 - val_loss: 0.5988 - val_accuracy: 0.6908\n",
            "Epoch 8/50\n",
            "6002/6002 [==============================] - 65s 11ms/step - loss: 0.5930 - accuracy: 0.6967 - val_loss: 0.5986 - val_accuracy: 0.6911\n",
            "Epoch 9/50\n",
            "6002/6002 [==============================] - 67s 11ms/step - loss: 0.5931 - accuracy: 0.6973 - val_loss: 0.5985 - val_accuracy: 0.6919\n"
          ]
        }
      ]
    },
    {
      "cell_type": "code",
      "source": [
        "plot_history(fit)"
      ],
      "metadata": {
        "colab": {
          "base_uri": "https://localhost:8080/",
          "height": 288
        },
        "id": "wY6Vm6bILr9c",
        "outputId": "41674785-f378-4208-ea86-d4c7789d48be"
      },
      "execution_count": 33,
      "outputs": [
        {
          "output_type": "display_data",
          "data": {
            "text/plain": [
              "<Figure size 1008x288 with 2 Axes>"
            ],
            "image/png": "[encoded data removed]"
          },
          "metadata": {}
        }
      ],
      "id": "wY6Vm6bILr9c"
    },
    {
      "cell_type": "code",
      "source": [
        "evaluate(model, sparse_tensor(vec_data['val']), y_val)"
      ],
      "metadata": {
        "colab": {
          "base_uri": "https://localhost:8080/",
          "height": 342
        },
        "outputId": "aed41757-d6ff-450f-9eb1-71b521c7fe23",
        "id": "xtWZRKnwL5a8"
      },
      "execution_count": 34,
      "outputs": [
        {
          "output_type": "display_data",
          "data": {
            "text/plain": [
              "<Figure size 360x360 with 1 Axes>"
            ],
            "image/png": "[encoded data removed]"
          },
          "metadata": {}
        }
      ],
      "id": "xtWZRKnwL5a8"
    },
    {
      "cell_type": "code",
      "source": [
        "show_errors(model, X_val['comment'].values, sparse_tensor(vec_data['val']), y_val)"
      ],
      "metadata": {
        "colab": {
          "base_uri": "https://localhost:8080/"
        },
        "id": "YH-qkNxsdrgD",
        "outputId": "a755be32-260c-411d-e858-2cf189d2ab63"
      },
      "id": "YH-qkNxsdrgD",
      "execution_count": 35,
      "outputs": [
        {
          "output_type": "stream",
          "name": "stdout",
          "text": [
            "False negatives:\n",
            "---------------------------\n",
            "Use TOR xxallcapsxx  to update your Facebook page then?\n",
            "Fucking love magical emp attacks that have discretionary targetting.\n",
            "Is this just a repost of the article written at the end of every season of Downton Abbey?\n",
            "Yeah Turkey's been genociding a lot of people recently\n",
            "Because I've got mine.\n",
            "\n",
            "False positives:\n",
            "---------------------------\n",
            "expensive doesn't always mean bad.. if you have the isk why not haha\n",
            "Oh, childhood just got a bit ruined with this little factoid.\n",
            "You can prove this aren't factory cut because he sells them on facebook groups.\n",
            "He got in a fight with Steve Smith, He tweeted nasty things and a pic to tom brady after a win.\n",
            "Lucky, I've never gotten a slab drop.\n"
          ]
        }
      ]
    },
    {
      "cell_type": "code",
      "source": [
        "model.save(root+'models/bag_of_words')"
      ],
      "metadata": {
        "colab": {
          "base_uri": "https://localhost:8080/"
        },
        "outputId": "263f23da-c5dd-484c-ff59-cfe5096493d9",
        "id": "FKnT2SdJL5a-"
      },
      "execution_count": 36,
      "outputs": [
        {
          "output_type": "stream",
          "name": "stdout",
          "text": [
            "INFO:tensorflow:Assets written to: /content/drive/My Drive/surely_not_sarcasm_data/models/bag_of_words/assets\n"
          ]
        }
      ],
      "id": "FKnT2SdJL5a-"
    },
    {
      "cell_type": "markdown",
      "source": [
        "# univariate feature selection\n",
        "11.04.2022"
      ],
      "metadata": {
        "id": "6GIJiS4uO7YZ"
      },
      "id": "6GIJiS4uO7YZ"
    },
    {
      "cell_type": "code",
      "source": [
        "def univariate_fs(scorer, data_filename, scores_filename, k=4000):\n",
        "    kbest = SelectKBest(scorer, k=k)\n",
        "\n",
        "    X_train = kbest.fit_transform(vec_data['train'], y_train)\n",
        "    X_val = kbest.transform(vec_data['val'])\n",
        "    X_test = kbest.transform(vec_data['test'])\n",
        "\n",
        "    data = {'X_train': X_train, 'X_val': X_test, 'X_test': X_test}\n",
        "\n",
        "    with open(root+'univariate_fs/'+data_filename, 'wb') as file:\n",
        "        pickle.dump(data, file)\n",
        "\n",
        "    df_scores = pd.DataFrame({\n",
        "        'feature': count_vectorizer.get_feature_names_out(),\n",
        "        'score': kbest.scores_\n",
        "    })\n",
        "    \n",
        "    df_scores = df_scores.sort_values('score', ascending=False, ignore_index=True)\n",
        "    df_scores.to_csv(root+fr'univariate_fs/{scores_filename}.csv', index=False)\n",
        "\n",
        "    return df_scores"
      ],
      "metadata": {
        "id": "oiU84vdOd-jW"
      },
      "id": "oiU84vdOd-jW",
      "execution_count": 39,
      "outputs": []
    },
    {
      "cell_type": "markdown",
      "source": [
        "## chi2"
      ],
      "metadata": {
        "id": "vZrIbQmMceai"
      },
      "id": "vZrIbQmMceai"
    },
    {
      "cell_type": "code",
      "source": [
        "chi2_scores = univariate_fs(chi2, 'chi2_data', 'chi2_scores')"
      ],
      "metadata": {
        "id": "_iL6sWWccswC"
      },
      "execution_count": 40,
      "outputs": [],
      "id": "_iL6sWWccswC"
    },
    {
      "cell_type": "code",
      "source": [
        "chi2_scores.head(20)"
      ],
      "metadata": {
        "colab": {
          "base_uri": "https://localhost:8080/",
          "height": 677
        },
        "id": "4eOhKLbyg3z6",
        "outputId": "ccd48fa4-e967-4dee-bfe1-61a5ba71783e"
      },
      "id": "4eOhKLbyg3z6",
      "execution_count": 41,
      "outputs": [
        {
          "output_type": "execute_result",
          "data": {
            "text/plain": [
              "                          feature         score\n",
              "0                               !  13340.238409\n",
              "1                            yeah  10195.156949\n",
              "2                       obviously   4936.548142\n",
              "3                          forgot   4382.854804\n",
              "4                         totally   3946.895838\n",
              "5                         clearly   3160.668544\n",
              "6         xxallcapsxx xxallcapsxx   2696.465427\n",
              "7                          racist   1977.263443\n",
              "8                           right   1671.863524\n",
              "9                             yes   1618.525971\n",
              "10                            wow   1608.074458\n",
              "11  xxallcapsxx money xxallcapsxx   1596.352399\n",
              "12              money xxallcapsxx   1590.460099\n",
              "13                xxsmilingfacexx   1571.295993\n",
              "14                          women   1528.874951\n",
              "15                        right ?   1495.549160\n",
              "16              xxallcapsxx money   1434.488167\n",
              "17                     xxnumberxx   1404.664715\n",
              "18                          white   1385.361850\n",
              "19                             oh   1303.874686"
            ],
            "text/html": [
              "\n",
              "  <div id=\"df-c76072fa-4e01-4124-9a3e-db6dc6cafa6b\">\n",
              "    <div class=\"colab-df-container\">\n",
              "      <div>\n",
              "<style scoped>\n",
              "    .dataframe tbody tr th:only-of-type {\n",
              "        vertical-align: middle;\n",
              "    }\n",
              "\n",
              "    .dataframe tbody tr th {\n",
              "        vertical-align: top;\n",
              "    }\n",
              "\n",
              "    .dataframe thead th {\n",
              "        text-align: right;\n",
              "    }\n",
              "</style>\n",
              "<table border=\"1\" class=\"dataframe\">\n",
              "  <thead>\n",
              "    <tr style=\"text-align: right;\">\n",
              "      <th></th>\n",
              "      <th>feature</th>\n",
              "      <th>score</th>\n",
              "    </tr>\n",
              "  </thead>\n",
              "  <tbody>\n",
              "    <tr>\n",
              "      <th>0</th>\n",
              "      <td>!</td>\n",
              "      <td>13340.238409</td>\n",
              "    </tr>\n",
              "    <tr>\n",
              "      <th>1</th>\n",
              "      <td>yeah</td>\n",
              "      <td>10195.156949</td>\n",
              "    </tr>\n",
              "    <tr>\n",
              "      <th>2</th>\n",
              "      <td>obviously</td>\n",
              "      <td>4936.548142</td>\n",
              "    </tr>\n",
              "    <tr>\n",
              "      <th>3</th>\n",
              "      <td>forgot</td>\n",
              "      <td>4382.854804</td>\n",
              "    </tr>\n",
              "    <tr>\n",
              "      <th>4</th>\n",
              "      <td>totally</td>\n",
              "      <td>3946.895838</td>\n",
              "    </tr>\n",
              "    <tr>\n",
              "      <th>5</th>\n",
              "      <td>clearly</td>\n",
              "      <td>3160.668544</td>\n",
              "    </tr>\n",
              "    <tr>\n",
              "      <th>6</th>\n",
              "      <td>xxallcapsxx xxallcapsxx</td>\n",
              "      <td>2696.465427</td>\n",
              "    </tr>\n",
              "    <tr>\n",
              "      <th>7</th>\n",
              "      <td>racist</td>\n",
              "      <td>1977.263443</td>\n",
              "    </tr>\n",
              "    <tr>\n",
              "      <th>8</th>\n",
              "      <td>right</td>\n",
              "      <td>1671.863524</td>\n",
              "    </tr>\n",
              "    <tr>\n",
              "      <th>9</th>\n",
              "      <td>yes</td>\n",
              "      <td>1618.525971</td>\n",
              "    </tr>\n",
              "    <tr>\n",
              "      <th>10</th>\n",
              "      <td>wow</td>\n",
              "      <td>1608.074458</td>\n",
              "    </tr>\n",
              "    <tr>\n",
              "      <th>11</th>\n",
              "      <td>xxallcapsxx money xxallcapsxx</td>\n",
              "      <td>1596.352399</td>\n",
              "    </tr>\n",
              "    <tr>\n",
              "      <th>12</th>\n",
              "      <td>money xxallcapsxx</td>\n",
              "      <td>1590.460099</td>\n",
              "    </tr>\n",
              "    <tr>\n",
              "      <th>13</th>\n",
              "      <td>xxsmilingfacexx</td>\n",
              "      <td>1571.295993</td>\n",
              "    </tr>\n",
              "    <tr>\n",
              "      <th>14</th>\n",
              "      <td>women</td>\n",
              "      <td>1528.874951</td>\n",
              "    </tr>\n",
              "    <tr>\n",
              "      <th>15</th>\n",
              "      <td>right ?</td>\n",
              "      <td>1495.549160</td>\n",
              "    </tr>\n",
              "    <tr>\n",
              "      <th>16</th>\n",
              "      <td>xxallcapsxx money</td>\n",
              "      <td>1434.488167</td>\n",
              "    </tr>\n",
              "    <tr>\n",
              "      <th>17</th>\n",
              "      <td>xxnumberxx</td>\n",
              "      <td>1404.664715</td>\n",
              "    </tr>\n",
              "    <tr>\n",
              "      <th>18</th>\n",
              "      <td>white</td>\n",
              "      <td>1385.361850</td>\n",
              "    </tr>\n",
              "    <tr>\n",
              "      <th>19</th>\n",
              "      <td>oh</td>\n",
              "      <td>1303.874686</td>\n",
              "    </tr>\n",
              "  </tbody>\n",
              "</table>\n",
              "</div>\n",
              "      <button class=\"colab-df-convert\" onclick=\"convertToInteractive('df-c76072fa-4e01-4124-9a3e-db6dc6cafa6b')\"\n",
              "              title=\"Convert this dataframe to an interactive table.\"\n",
              "              style=\"display:none;\">\n",
              "        \n",
              "  <svg xmlns=\"http://www.w3.org/2000/svg\" height=\"24px\"viewBox=\"0 0 24 24\"\n",
              "       width=\"24px\">\n",
              "    <path d=\"M0 0h24v24H0V0z\" fill=\"none\"/>\n",
              "    <path d=\"M18.56 5.44l.94 2.06.94-2.06 2.06-.94-2.06-.94-.94-2.06-.94 2.06-2.06.94zm-11 1L8.5 8.5l.94-2.06 2.06-.94-2.06-.94L8.5 2.5l-.94 2.06-2.06.94zm10 10l.94 2.06.94-2.06 2.06-.94-2.06-.94-.94-2.06-.94 2.06-2.06.94z\"/><path d=\"M17.41 7.96l-1.37-1.37c-.4-.4-.92-.59-1.43-.59-.52 0-1.04.2-1.43.59L10.3 9.45l-7.72 7.72c-.78.78-.78 2.05 0 2.83L4 21.41c.39.39.9.59 1.41.59.51 0 1.02-.2 1.41-.59l7.78-7.78 2.81-2.81c.8-.78.8-2.07 0-2.86zM5.41 20L4 18.59l7.72-7.72 1.47 1.35L5.41 20z\"/>\n",
              "  </svg>\n",
              "      </button>\n",
              "      \n",
              "  <style>\n",
              "    .colab-df-container {\n",
              "      display:flex;\n",
              "      flex-wrap:wrap;\n",
              "      gap: 12px;\n",
              "    }\n",
              "\n",
              "    .colab-df-convert {\n",
              "      background-color: #E8F0FE;\n",
              "      border: none;\n",
              "      border-radius: 50%;\n",
              "      cursor: pointer;\n",
              "      display: none;\n",
              "      fill: #1967D2;\n",
              "      height: 32px;\n",
              "      padding: 0 0 0 0;\n",
              "      width: 32px;\n",
              "    }\n",
              "\n",
              "    .colab-df-convert:hover {\n",
              "      background-color: #E2EBFA;\n",
              "      box-shadow: 0px 1px 2px rgba(60, 64, 67, 0.3), 0px 1px 3px 1px rgba(60, 64, 67, 0.15);\n",
              "      fill: #174EA6;\n",
              "    }\n",
              "\n",
              "    [theme=dark] .colab-df-convert {\n",
              "      background-color: #3B4455;\n",
              "      fill: #D2E3FC;\n",
              "    }\n",
              "\n",
              "    [theme=dark] .colab-df-convert:hover {\n",
              "      background-color: #434B5C;\n",
              "      box-shadow: 0px 1px 3px 1px rgba(0, 0, 0, 0.15);\n",
              "      filter: drop-shadow(0px 1px 2px rgba(0, 0, 0, 0.3));\n",
              "      fill: #FFFFFF;\n",
              "    }\n",
              "  </style>\n",
              "\n",
              "      <script>\n",
              "        const buttonEl =\n",
              "          document.querySelector('#df-c76072fa-4e01-4124-9a3e-db6dc6cafa6b button.colab-df-convert');\n",
              "        buttonEl.style.display =\n",
              "          google.colab.kernel.accessAllowed ? 'block' : 'none';\n",
              "\n",
              "        async function convertToInteractive(key) {\n",
              "          const element = document.querySelector('#df-c76072fa-4e01-4124-9a3e-db6dc6cafa6b');\n",
              "          const dataTable =\n",
              "            await google.colab.kernel.invokeFunction('convertToInteractive',\n",
              "                                                     [key], {});\n",
              "          if (!dataTable) return;\n",
              "\n",
              "          const docLinkHtml = 'Like what you see? Visit the ' +\n",
              "            '<a target=\"_blank\" href=https://colab.research.google.com/notebooks/data_table.ipynb>data table notebook</a>'\n",
              "            + ' to learn more about interactive tables.';\n",
              "          element.innerHTML = '';\n",
              "          dataTable['output_type'] = 'display_data';\n",
              "          await google.colab.output.renderOutput(dataTable, element);\n",
              "          const docLink = document.createElement('div');\n",
              "          docLink.innerHTML = docLinkHtml;\n",
              "          element.appendChild(docLink);\n",
              "        }\n",
              "      </script>\n",
              "    </div>\n",
              "  </div>\n",
              "  "
            ]
          },
          "metadata": {},
          "execution_count": 41
        }
      ]
    },
    {
      "cell_type": "markdown",
      "source": [
        "## anova f-value"
      ],
      "metadata": {
        "id": "hAgoNbSRcgL1"
      },
      "id": "hAgoNbSRcgL1"
    },
    {
      "cell_type": "code",
      "source": [
        "f_scores = univariate_fs(f_classif, 'f_data', 'f_scores')"
      ],
      "metadata": {
        "id": "dYV6ILnXgw46"
      },
      "id": "dYV6ILnXgw46",
      "execution_count": 42,
      "outputs": []
    },
    {
      "cell_type": "code",
      "source": [
        "f_scores.head(20)"
      ],
      "metadata": {
        "colab": {
          "base_uri": "https://localhost:8080/",
          "height": 677
        },
        "id": "qa50-JMxg63T",
        "outputId": "4f6ded1b-f1ab-4adc-f2a4-ced0f98366bc"
      },
      "id": "qa50-JMxg63T",
      "execution_count": 43,
      "outputs": [
        {
          "output_type": "execute_result",
          "data": {
            "text/plain": [
              "            feature         score\n",
              "0                 !  14153.919237\n",
              "1              yeah  10677.091956\n",
              "2         obviously   4986.986626\n",
              "3            forgot   4442.318787\n",
              "4           totally   3915.020091\n",
              "5           clearly   3163.763582\n",
              "6            racist   1876.004439\n",
              "7             right   1646.488584\n",
              "8               wow   1591.267205\n",
              "9               yes   1575.596884\n",
              "10  xxsmilingfacexx   1511.071025\n",
              "11          right ?   1505.363352\n",
              "12            women   1392.078338\n",
              "13               oh   1300.667237\n",
              "14            white   1252.376225\n",
              "15              duh   1237.493973\n",
              "16          dropped   1212.374694\n",
              "17              nah   1131.313835\n",
              "18             sure   1131.138684\n",
              "19              yea   1030.402734"
            ],
            "text/html": [
              "\n",
              "  <div id=\"df-e193f3cf-d542-4385-94be-337dd25c3094\">\n",
              "    <div class=\"colab-df-container\">\n",
              "      <div>\n",
              "<style scoped>\n",
              "    .dataframe tbody tr th:only-of-type {\n",
              "        vertical-align: middle;\n",
              "    }\n",
              "\n",
              "    .dataframe tbody tr th {\n",
              "        vertical-align: top;\n",
              "    }\n",
              "\n",
              "    .dataframe thead th {\n",
              "        text-align: right;\n",
              "    }\n",
              "</style>\n",
              "<table border=\"1\" class=\"dataframe\">\n",
              "  <thead>\n",
              "    <tr style=\"text-align: right;\">\n",
              "      <th></th>\n",
              "      <th>feature</th>\n",
              "      <th>score</th>\n",
              "    </tr>\n",
              "  </thead>\n",
              "  <tbody>\n",
              "    <tr>\n",
              "      <th>0</th>\n",
              "      <td>!</td>\n",
              "      <td>14153.919237</td>\n",
              "    </tr>\n",
              "    <tr>\n",
              "      <th>1</th>\n",
              "      <td>yeah</td>\n",
              "      <td>10677.091956</td>\n",
              "    </tr>\n",
              "    <tr>\n",
              "      <th>2</th>\n",
              "      <td>obviously</td>\n",
              "      <td>4986.986626</td>\n",
              "    </tr>\n",
              "    <tr>\n",
              "      <th>3</th>\n",
              "      <td>forgot</td>\n",
              "      <td>4442.318787</td>\n",
              "    </tr>\n",
              "    <tr>\n",
              "      <th>4</th>\n",
              "      <td>totally</td>\n",
              "      <td>3915.020091</td>\n",
              "    </tr>\n",
              "    <tr>\n",
              "      <th>5</th>\n",
              "      <td>clearly</td>\n",
              "      <td>3163.763582</td>\n",
              "    </tr>\n",
              "    <tr>\n",
              "      <th>6</th>\n",
              "      <td>racist</td>\n",
              "      <td>1876.004439</td>\n",
              "    </tr>\n",
              "    <tr>\n",
              "      <th>7</th>\n",
              "      <td>right</td>\n",
              "      <td>1646.488584</td>\n",
              "    </tr>\n",
              "    <tr>\n",
              "      <th>8</th>\n",
              "      <td>wow</td>\n",
              "      <td>1591.267205</td>\n",
              "    </tr>\n",
              "    <tr>\n",
              "      <th>9</th>\n",
              "      <td>yes</td>\n",
              "      <td>1575.596884</td>\n",
              "    </tr>\n",
              "    <tr>\n",
              "      <th>10</th>\n",
              "      <td>xxsmilingfacexx</td>\n",
              "      <td>1511.071025</td>\n",
              "    </tr>\n",
              "    <tr>\n",
              "      <th>11</th>\n",
              "      <td>right ?</td>\n",
              "      <td>1505.363352</td>\n",
              "    </tr>\n",
              "    <tr>\n",
              "      <th>12</th>\n",
              "      <td>women</td>\n",
              "      <td>1392.078338</td>\n",
              "    </tr>\n",
              "    <tr>\n",
              "      <th>13</th>\n",
              "      <td>oh</td>\n",
              "      <td>1300.667237</td>\n",
              "    </tr>\n",
              "    <tr>\n",
              "      <th>14</th>\n",
              "      <td>white</td>\n",
              "      <td>1252.376225</td>\n",
              "    </tr>\n",
              "    <tr>\n",
              "      <th>15</th>\n",
              "      <td>duh</td>\n",
              "      <td>1237.493973</td>\n",
              "    </tr>\n",
              "    <tr>\n",
              "      <th>16</th>\n",
              "      <td>dropped</td>\n",
              "      <td>1212.374694</td>\n",
              "    </tr>\n",
              "    <tr>\n",
              "      <th>17</th>\n",
              "      <td>nah</td>\n",
              "      <td>1131.313835</td>\n",
              "    </tr>\n",
              "    <tr>\n",
              "      <th>18</th>\n",
              "      <td>sure</td>\n",
              "      <td>1131.138684</td>\n",
              "    </tr>\n",
              "    <tr>\n",
              "      <th>19</th>\n",
              "      <td>yea</td>\n",
              "      <td>1030.402734</td>\n",
              "    </tr>\n",
              "  </tbody>\n",
              "</table>\n",
              "</div>\n",
              "      <button class=\"colab-df-convert\" onclick=\"convertToInteractive('df-e193f3cf-d542-4385-94be-337dd25c3094')\"\n",
              "              title=\"Convert this dataframe to an interactive table.\"\n",
              "              style=\"display:none;\">\n",
              "        \n",
              "  <svg xmlns=\"http://www.w3.org/2000/svg\" height=\"24px\"viewBox=\"0 0 24 24\"\n",
              "       width=\"24px\">\n",
              "    <path d=\"M0 0h24v24H0V0z\" fill=\"none\"/>\n",
              "    <path d=\"M18.56 5.44l.94 2.06.94-2.06 2.06-.94-2.06-.94-.94-2.06-.94 2.06-2.06.94zm-11 1L8.5 8.5l.94-2.06 2.06-.94-2.06-.94L8.5 2.5l-.94 2.06-2.06.94zm10 10l.94 2.06.94-2.06 2.06-.94-2.06-.94-.94-2.06-.94 2.06-2.06.94z\"/><path d=\"M17.41 7.96l-1.37-1.37c-.4-.4-.92-.59-1.43-.59-.52 0-1.04.2-1.43.59L10.3 9.45l-7.72 7.72c-.78.78-.78 2.05 0 2.83L4 21.41c.39.39.9.59 1.41.59.51 0 1.02-.2 1.41-.59l7.78-7.78 2.81-2.81c.8-.78.8-2.07 0-2.86zM5.41 20L4 18.59l7.72-7.72 1.47 1.35L5.41 20z\"/>\n",
              "  </svg>\n",
              "      </button>\n",
              "      \n",
              "  <style>\n",
              "    .colab-df-container {\n",
              "      display:flex;\n",
              "      flex-wrap:wrap;\n",
              "      gap: 12px;\n",
              "    }\n",
              "\n",
              "    .colab-df-convert {\n",
              "      background-color: #E8F0FE;\n",
              "      border: none;\n",
              "      border-radius: 50%;\n",
              "      cursor: pointer;\n",
              "      display: none;\n",
              "      fill: #1967D2;\n",
              "      height: 32px;\n",
              "      padding: 0 0 0 0;\n",
              "      width: 32px;\n",
              "    }\n",
              "\n",
              "    .colab-df-convert:hover {\n",
              "      background-color: #E2EBFA;\n",
              "      box-shadow: 0px 1px 2px rgba(60, 64, 67, 0.3), 0px 1px 3px 1px rgba(60, 64, 67, 0.15);\n",
              "      fill: #174EA6;\n",
              "    }\n",
              "\n",
              "    [theme=dark] .colab-df-convert {\n",
              "      background-color: #3B4455;\n",
              "      fill: #D2E3FC;\n",
              "    }\n",
              "\n",
              "    [theme=dark] .colab-df-convert:hover {\n",
              "      background-color: #434B5C;\n",
              "      box-shadow: 0px 1px 3px 1px rgba(0, 0, 0, 0.15);\n",
              "      filter: drop-shadow(0px 1px 2px rgba(0, 0, 0, 0.3));\n",
              "      fill: #FFFFFF;\n",
              "    }\n",
              "  </style>\n",
              "\n",
              "      <script>\n",
              "        const buttonEl =\n",
              "          document.querySelector('#df-e193f3cf-d542-4385-94be-337dd25c3094 button.colab-df-convert');\n",
              "        buttonEl.style.display =\n",
              "          google.colab.kernel.accessAllowed ? 'block' : 'none';\n",
              "\n",
              "        async function convertToInteractive(key) {\n",
              "          const element = document.querySelector('#df-e193f3cf-d542-4385-94be-337dd25c3094');\n",
              "          const dataTable =\n",
              "            await google.colab.kernel.invokeFunction('convertToInteractive',\n",
              "                                                     [key], {});\n",
              "          if (!dataTable) return;\n",
              "\n",
              "          const docLinkHtml = 'Like what you see? Visit the ' +\n",
              "            '<a target=\"_blank\" href=https://colab.research.google.com/notebooks/data_table.ipynb>data table notebook</a>'\n",
              "            + ' to learn more about interactive tables.';\n",
              "          element.innerHTML = '';\n",
              "          dataTable['output_type'] = 'display_data';\n",
              "          await google.colab.output.renderOutput(dataTable, element);\n",
              "          const docLink = document.createElement('div');\n",
              "          docLink.innerHTML = docLinkHtml;\n",
              "          element.appendChild(docLink);\n",
              "        }\n",
              "      </script>\n",
              "    </div>\n",
              "  </div>\n",
              "  "
            ]
          },
          "metadata": {},
          "execution_count": 43
        }
      ]
    },
    {
      "cell_type": "markdown",
      "source": [
        "# context\n",
        "11.04.2022"
      ],
      "metadata": {
        "id": "6oJesUIqYWPA"
      },
      "id": "6oJesUIqYWPA"
    },
    {
      "cell_type": "code",
      "source": [
        "_, vec_data = vectorize_data([X_train['comment'], X_val['comment'], X_test['comment']])\n",
        "_, vec_data_par = vectorize_data([X_train['parent_comment'], X_val['parent_comment'], X_test['parent_comment']])"
      ],
      "metadata": {
        "id": "FN0j8qPfY3PV",
        "colab": {
          "base_uri": "https://localhost:8080/"
        },
        "outputId": "5bed65ea-4f5a-40bd-d12b-28ba1cea2fea"
      },
      "id": "FN0j8qPfY3PV",
      "execution_count": 44,
      "outputs": [
        {
          "output_type": "stream",
          "name": "stdout",
          "text": [
            "number of features:  11463\n",
            "number of features:  23435\n"
          ]
        }
      ]
    },
    {
      "cell_type": "code",
      "source": [
        "X_train_vec = hstack([vec_data['train'], vec_data_par['train']])\n",
        "X_val_vec = hstack([vec_data['val'], vec_data_par['val']])\n",
        "X_test_vec = hstack([vec_data['test'], vec_data_par['test']])"
      ],
      "metadata": {
        "id": "y0snum9qYowL"
      },
      "execution_count": 45,
      "outputs": [],
      "id": "y0snum9qYowL"
    },
    {
      "cell_type": "code",
      "execution_count": 50,
      "metadata": {
        "id": "gyZAkRSeYowP"
      },
      "outputs": [],
      "source": [
        "train_dataset = tf.data.Dataset.from_tensor_slices((sparse_tensor(X_train_vec), y_train)).shuffle(100).batch(128)\n",
        "val_dataset = tf.data.Dataset.from_tensor_slices((sparse_tensor(X_val_vec), y_val)).batch(128)"
      ],
      "id": "gyZAkRSeYowP"
    },
    {
      "cell_type": "code",
      "source": [
        "model = Sequential([\n",
        "    InputLayer(input_shape=(X_train_vec.shape[1],)),\n",
        "    Dense(100, activation='elu', kernel_initializer='he_normal', kernel_regularizer=L1L2(l1=5e-6, l2=5e-6)),\n",
        "    BatchNormalization(),\n",
        "    Dense(100, activation='elu', kernel_initializer='he_normal', kernel_regularizer=L1L2(l1=5e-6, l2=5e-6)),\n",
        "    BatchNormalization(),\n",
        "    Dropout(0.5),\n",
        "    Dense(1, activation='sigmoid')\n",
        "])\n",
        "\n",
        "es = EarlyStopping(monitor='val_loss', min_delta=1e-5, patience=3, restore_best_weights=True)\n",
        "\n",
        "model.compile(loss='binary_crossentropy', optimizer='adam', metrics=['accuracy'])\n",
        "fit = model.fit(train_dataset, validation_data=val_dataset, epochs=50, callbacks=[es])"
      ],
      "metadata": {
        "colab": {
          "base_uri": "https://localhost:8080/"
        },
        "outputId": "b77bdc9e-a00d-425b-83d2-acf53a670012",
        "id": "cNffZSjWYowQ"
      },
      "execution_count": 51,
      "outputs": [
        {
          "output_type": "stream",
          "name": "stdout",
          "text": [
            "Epoch 1/50\n"
          ]
        },
        {
          "output_type": "stream",
          "name": "stderr",
          "text": [
            "/usr/local/lib/python3.7/dist-packages/tensorflow/python/framework/indexed_slices.py:446: UserWarning: Converting sparse IndexedSlices(IndexedSlices(indices=Tensor(\"gradient_tape/sequential_2/dense_6/embedding_lookup_sparse/Reshape_1:0\", shape=(None,), dtype=int32), values=Tensor(\"gradient_tape/sequential_2/dense_6/embedding_lookup_sparse/Reshape:0\", shape=(None, 100), dtype=float32), dense_shape=Tensor(\"gradient_tape/sequential_2/dense_6/embedding_lookup_sparse/Cast:0\", shape=(2,), dtype=int32))) to a dense Tensor of unknown shape. This may consume a large amount of memory.\n",
            "  \"shape. This may consume a large amount of memory.\" % value)\n"
          ]
        },
        {
          "output_type": "stream",
          "name": "stdout",
          "text": [
            "6002/6002 [==============================] - 86s 14ms/step - loss: 0.7426 - accuracy: 0.6609 - val_loss: 0.7004 - val_accuracy: 0.6799\n",
            "Epoch 2/50\n",
            "6002/6002 [==============================] - 84s 14ms/step - loss: 0.6796 - accuracy: 0.6815 - val_loss: 0.6596 - val_accuracy: 0.6889\n",
            "Epoch 3/50\n",
            "6002/6002 [==============================] - 84s 14ms/step - loss: 0.6404 - accuracy: 0.6936 - val_loss: 0.6357 - val_accuracy: 0.6913\n",
            "Epoch 4/50\n",
            "6002/6002 [==============================] - 83s 14ms/step - loss: 0.6224 - accuracy: 0.6997 - val_loss: 0.6297 - val_accuracy: 0.6918\n",
            "Epoch 5/50\n",
            "6002/6002 [==============================] - 83s 14ms/step - loss: 0.6147 - accuracy: 0.7042 - val_loss: 0.6282 - val_accuracy: 0.6922\n",
            "Epoch 6/50\n",
            "6002/6002 [==============================] - 83s 14ms/step - loss: 0.6110 - accuracy: 0.7064 - val_loss: 0.6277 - val_accuracy: 0.6929\n",
            "Epoch 7/50\n",
            "6002/6002 [==============================] - 83s 14ms/step - loss: 0.6093 - accuracy: 0.7085 - val_loss: 0.6308 - val_accuracy: 0.6923\n",
            "Epoch 8/50\n",
            "6002/6002 [==============================] - 83s 14ms/step - loss: 0.6084 - accuracy: 0.7098 - val_loss: 0.6320 - val_accuracy: 0.6921\n",
            "Epoch 9/50\n",
            "6002/6002 [==============================] - 83s 14ms/step - loss: 0.6074 - accuracy: 0.7112 - val_loss: 0.6329 - val_accuracy: 0.6911\n"
          ]
        }
      ],
      "id": "cNffZSjWYowQ"
    },
    {
      "cell_type": "code",
      "source": [
        "plot_history(fit)"
      ],
      "metadata": {
        "colab": {
          "base_uri": "https://localhost:8080/",
          "height": 288
        },
        "outputId": "b7bc79a3-5f89-4e8a-c648-d7bd9a992791",
        "id": "R7FtrnMNYowR"
      },
      "execution_count": 52,
      "outputs": [
        {
          "output_type": "display_data",
          "data": {
            "text/plain": [
              "<Figure size 1008x288 with 2 Axes>"
            ],
            "image/png": "[encoded data removed]"
          },
          "metadata": {}
        }
      ],
      "id": "R7FtrnMNYowR"
    },
    {
      "cell_type": "code",
      "source": [
        "evaluate(model, sparse_tensor(X_val_vec), y_val)"
      ],
      "metadata": {
        "colab": {
          "base_uri": "https://localhost:8080/",
          "height": 342
        },
        "outputId": "371ed9e6-6009-4683-9225-310532b6231d",
        "id": "FSCdhYeaYowS"
      },
      "execution_count": 53,
      "outputs": [
        {
          "output_type": "display_data",
          "data": {
            "text/plain": [
              "<Figure size 360x360 with 1 Axes>"
            ],
            "image/png": "[encoded data removed]"
          },
          "metadata": {}
        }
      ],
      "id": "FSCdhYeaYowS"
    },
    {
      "cell_type": "code",
      "source": [
        "show_errors(model, X_val['comment'].values, sparse_tensor(X_val_vec), y_val,\n",
        "            X_parents=X_val['parent_comment'].values)"
      ],
      "metadata": {
        "colab": {
          "base_uri": "https://localhost:8080/"
        },
        "outputId": "29ab1461-900a-4315-d448-f77b3696e90d",
        "id": "oYa4A9tBYowT"
      },
      "execution_count": 54,
      "outputs": [
        {
          "output_type": "stream",
          "name": "stdout",
          "text": [
            "False negatives:\n",
            "---------------------------\n",
            "parent: A friend had a laser treatment on his wart today.\n",
            "comment: Just hit it again!\n",
            "\n",
            "parent: So I went to a japanese steakhouse for my dad's birthday and they made him wear this...\n",
            "comment: Simply horrifiying.\n",
            "\n",
            "parent: OMG xxallcapsxx ! That poor little..wait! Nice job there Dad....\n",
            "comment: Never too early for a bikini.\n",
            "\n",
            "parent: Possible issue with Hitreg, Needs Clarification\n",
            "comment: Source xxnumberxx is just around the corner which will fix the issue.\n",
            "\n",
            "parent: New account - only post - Instagram celeb. Smells like self promotion.\n",
            "comment: Let's lynch him.\n",
            "\n",
            "\n",
            "False positives:\n",
            "---------------------------\n",
            "parent: Bigger than nme, tdk, txxnumberxx dig, and possibly even tip or gv. Yeah I'd want that kind of viewership if I were Gamespot. But to be fair, I don't think any team will ever get anywhere close to TSM xxallcapsxx .\n",
            "comment: Yeah, even with RNG xxallcapsxx 's popularity, TSM xxallcapsxx  is the holy grail of NA xxallcapsxx  playerbase viewership.\n",
            "\n",
            "parent: Seems to me like going out to eat in the first place would be a huge risk if you've got that many allergies. Why even bother...\n",
            "comment: Because cooking every single meal for yourself gets old sometimes.\n",
            "\n",
            "parent: If you could remove one group of people from the Earth to make it a better place, which group would it be and why?\n",
            "comment: Religious people.\n",
            "\n",
            "parent: What have you always wanted to ask about a different sexual orientation than yours?\n",
            "comment: Do lesbians actually scissor?\n",
            "\n",
            "parent: Transfer a secret audio message by poking someone with your finger (Wired UK xxallcapsxx )\n",
            "comment: Time before the daily mail claims secret message signals cause or cure cancer... xxnumberxx xxnumberxx\n",
            "\n"
          ]
        }
      ],
      "id": "oYa4A9tBYowT"
    },
    {
      "cell_type": "code",
      "source": [
        "model.save(root+'models/context_bag_of_words')"
      ],
      "metadata": {
        "colab": {
          "base_uri": "https://localhost:8080/"
        },
        "id": "32a_FBIRtz2n",
        "outputId": "557aaa15-fcb6-4c73-c8a4-c0b85e83afc0"
      },
      "id": "32a_FBIRtz2n",
      "execution_count": 55,
      "outputs": [
        {
          "output_type": "stream",
          "name": "stdout",
          "text": [
            "INFO:tensorflow:Assets written to: /content/drive/My Drive/surely_not_sarcasm_data/models/context_bag_of_words/assets\n"
          ]
        }
      ]
    },
    {
      "cell_type": "code",
      "source": [
        ""
      ],
      "metadata": {
        "id": "ASwpMXLJwkUy"
      },
      "id": "ASwpMXLJwkUy",
      "execution_count": null,
      "outputs": []
    }
  ],
  "metadata": {
    "colab": {
      "collapsed_sections": [
        "6GIJiS4uO7YZ",
        "vZrIbQmMceai",
        "hAgoNbSRcgL1"
      ],
      "name": "bag_of_words.ipynb",
      "provenance": [],
      "toc_visible": true
    },
    "kernelspec": {
      "display_name": "Python 3",
      "language": "python",
      "name": "python3"
    },
    "language_info": {
      "codemirror_mode": {
        "name": "ipython",
        "version": 3
      },
      "file_extension": ".py",
      "mimetype": "text/x-python",
      "name": "python",
      "nbconvert_exporter": "python",
      "pygments_lexer": "ipython3",
      "version": "3.6.7"
    },
    "varInspector": {
      "cols": {
        "lenName": 16,
        "lenType": 16,
        "lenVar": 40
      },
      "kernels_config": {
        "python": {
          "delete_cmd_postfix": "",
          "delete_cmd_prefix": "del ",
          "library": "var_list.py",
          "varRefreshCmd": "print(var_dic_list())"
        },
        "r": {
          "delete_cmd_postfix": ") ",
          "delete_cmd_prefix": "rm(",
          "library": "var_list.r",
          "varRefreshCmd": "cat(var_dic_list()) "
        }
      },
      "types_to_exclude": [
        "module",
        "function",
        "builtin_function_or_method",
        "instance",
        "_Feature"
      ],
      "window_display": false
    },
    "accelerator": "GPU"
  },
  "nbformat": 4,
  "nbformat_minor": 5
}