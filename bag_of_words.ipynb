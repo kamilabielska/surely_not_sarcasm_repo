{
  "cells": [
    {
      "cell_type": "code",
      "execution_count": null,
      "metadata": {
        "colab": {
          "base_uri": "https://localhost:8080/"
        },
        "id": "f8877fc0",
        "outputId": "587b07f3-900f-4a8c-ac9b-9624925d1c42"
      },
      "outputs": [
        {
          "output_type": "stream",
          "name": "stdout",
          "text": [
            "Mounted at /content/drive\n"
          ]
        }
      ],
      "source": [
        "from google.colab import drive\n",
        "drive.mount('/content/drive')\n",
        "\n",
        "root = '/content/drive/My Drive/surely_not_sarcasm_data/'"
      ],
      "id": "f8877fc0"
    },
    {
      "cell_type": "code",
      "source": [
        "!cp -r '$root/utils' ."
      ],
      "metadata": {
        "id": "Tn9Posqcovnf"
      },
      "execution_count": null,
      "outputs": [],
      "id": "Tn9Posqcovnf"
    },
    {
      "cell_type": "code",
      "execution_count": null,
      "id": "c02ce4eb",
      "metadata": {
        "id": "c02ce4eb"
      },
      "outputs": [],
      "source": [
        "import pandas as pd\n",
        "import matplotlib.pyplot as plt\n",
        "import seaborn as sns\n",
        "import numpy as np\n",
        "import tensorflow as tf\n",
        "import nltk\n",
        "import pickle\n",
        "import keras\n",
        "import string\n",
        "import re\n",
        "import time\n",
        "\n",
        "from nltk.corpus import stopwords\n",
        "\n",
        "from sklearn.feature_extraction.text import CountVectorizer, ENGLISH_STOP_WORDS as sklear_stopwords\n",
        "from sklearn.feature_selection import SelectKBest, chi2, f_classif\n",
        "from sklearn.model_selection import train_test_split\n",
        "from sklearn.metrics import accuracy_score, precision_score, recall_score, f1_score\n",
        "\n",
        "from tensorflow.keras import Sequential, Input\n",
        "from tensorflow.keras.layers import Dense, Dropout, InputLayer, BatchNormalization, Concatenate\n",
        "from tensorflow.keras.callbacks import EarlyStopping\n",
        "from tensorflow.keras.regularizers import L1L2\n",
        "\n",
        "from utils.evaluation import plot_history, evaluate\n",
        "\n",
        "sns.set_style('whitegrid');\n",
        "sns.set_context('notebook', font_scale=1.1);"
      ]
    },
    {
      "cell_type": "code",
      "execution_count": null,
      "id": "oHoknhm9wP-C",
      "metadata": {
        "colab": {
          "base_uri": "https://localhost:8080/"
        },
        "id": "oHoknhm9wP-C",
        "outputId": "7c81451d-3a4f-486a-bf40-67901e77a810"
      },
      "outputs": [
        {
          "output_type": "stream",
          "name": "stdout",
          "text": [
            "[nltk_data] Downloading package stopwords to /root/nltk_data...\n",
            "[nltk_data]   Unzipping corpora/stopwords.zip.\n"
          ]
        },
        {
          "output_type": "execute_result",
          "data": {
            "text/plain": [
              "True"
            ]
          },
          "metadata": {},
          "execution_count": 4
        }
      ],
      "source": [
        "nltk.download('stopwords')"
      ]
    },
    {
      "cell_type": "code",
      "source": [
        "def map_special_strings(column):\n",
        "    token_encoding = {\n",
        "            ':)': ' xxsmilingfacexx ',\n",
        "            ':]': ' xxsmilingfacexx ',\n",
        "            ':-)': ' xxsmilingfacexx ',\n",
        "            ';)': ' xxwinksmilingfacexx ',\n",
        "            ':(': ' xxsadfacexx ',\n",
        "            ':-(': ' xxsadfacexx ',\n",
        "            ';(': ' xxcryingsadfacexx ',\n",
        "            ':|': ' xxblankfacexx ',\n",
        "            ':o': ' xxsurprisedfacexx ',\n",
        "            ':/': ' xxwryfacexx ',\n",
        "            ':D': ' xxgrinfacexx ',\n",
        "            ';D': ' xxwinkgrinfacexx ',\n",
        "            ':P': ' xxtonguefacexx ',\n",
        "            ':p': ' xxtongueface2xx ',\n",
        "            ';p': ' xxtongueface2xx ',\n",
        "            '<3': ' xxheartxx '\n",
        "    }\n",
        "\n",
        "    column = (column\n",
        "        .str.replace(r'https?:\\/\\/\\S+\\b|www\\.(\\w+\\.)+\\S*', 'xxurlxx', regex=True)\n",
        "        .str.replace(r'\\bu/\\w+', 'xxuserxx', regex=True)\n",
        "    )\n",
        "\n",
        "    for token, encoding in token_encoding.items():\n",
        "        pattern = re.compile(r'{}+(?!\\S)'.format(re.escape(token)))\n",
        "        column = column.str.replace(pattern, fr' {encoding} ', regex=True)\n",
        "\n",
        "    column = (column\n",
        "        .str.replace(r'[-+]?[.\\d]*[\\d]+[:,.\\d]*', ' xxnumberxx ', regex=True)\n",
        "        .str.replace(r'\\b([a-zA-Z]+?)(.)\\2{2,}\\b', r'\\1\\2 xxelongxx ', regex=True)\n",
        "        .str.replace(r\"(\\b[^a-z0-9\\W()<>'`\\-]{2,}\\b)\", r'\\1 xxallcapsxx ', regex=True)\n",
        "    )\n",
        "\n",
        "    return column"
      ],
      "metadata": {
        "id": "SbxQBmuK1bZG"
      },
      "id": "SbxQBmuK1bZG",
      "execution_count": null,
      "outputs": []
    },
    {
      "cell_type": "code",
      "execution_count": null,
      "metadata": {
        "id": "0POEjM1m0YYl"
      },
      "outputs": [],
      "source": [
        "def sparse_tensor(X):\n",
        "    coo = X.tocoo()\n",
        "    indices = np.mat([coo.row, coo.col]).transpose()\n",
        "    return tf.sparse.reorder(tf.SparseTensor(indices, coo.data, coo.shape))"
      ],
      "id": "0POEjM1m0YYl"
    },
    {
      "cell_type": "code",
      "source": [
        "def vectorize_data(data, max_features=10000):\n",
        "    all_sw = list(sklear_stopwords) + stopwords.words('english')\n",
        "    count_vectorizer = CountVectorizer(\n",
        "        stop_words=all_sw,\n",
        "        token_pattern=r'(?u)\\b\\w\\w+\\b|\\!|\\?|\\.\\.\\.|\\*|\\\"',\n",
        "        ngram_range=(1,3),\n",
        "        max_features=max_features\n",
        "    )\n",
        "\n",
        "    vec_data = {}\n",
        "    vec_data['train'] = count_vectorizer.fit_transform(data[0])\n",
        "    vec_data['val'] = count_vectorizer.transform(data[1])\n",
        "    vec_data['test'] = count_vectorizer.transform(data[2])\n",
        "\n",
        "    return count_vectorizer, vec_data"
      ],
      "metadata": {
        "id": "u1nT4NlvV-Xk"
      },
      "execution_count": null,
      "outputs": [],
      "id": "u1nT4NlvV-Xk"
    },
    {
      "cell_type": "markdown",
      "source": [
        "# prepare data"
      ],
      "metadata": {
        "id": "-aM5cru_LsPp"
      },
      "id": "-aM5cru_LsPp"
    },
    {
      "cell_type": "code",
      "execution_count": null,
      "id": "6ef6caff",
      "metadata": {
        "colab": {
          "base_uri": "https://localhost:8080/",
          "height": 206
        },
        "id": "6ef6caff",
        "outputId": "2ce6bcba-428e-4279-ef47-7ef69c45e807"
      },
      "outputs": [
        {
          "output_type": "execute_result",
          "data": {
            "text/plain": [
              "   label                                            comment  \\\n",
              "0      0                                         NC and NH.   \n",
              "1      0  You do know west teams play against west teams...   \n",
              "2      0  They were underdogs earlier today, but since G...   \n",
              "3      0  This meme isn't funny none of the \"new york ni...   \n",
              "4      0                    I could use one of those tools.   \n",
              "\n",
              "                                      parent_comment  \n",
              "0  Yeah, I get that argument. At this point, I'd ...  \n",
              "1  The blazers and Mavericks (The wests 5 and 6 s...  \n",
              "2                            They're favored to win.  \n",
              "3                         deadass don't kill my buzz  \n",
              "4  Yep can confirm I saw the tool they use for th...  "
            ],
            "text/html": [
              "\n",
              "  <div id=\"df-16039959-ea16-4b57-823a-4967877fb3e0\">\n",
              "    <div class=\"colab-df-container\">\n",
              "      <div>\n",
              "<style scoped>\n",
              "    .dataframe tbody tr th:only-of-type {\n",
              "        vertical-align: middle;\n",
              "    }\n",
              "\n",
              "    .dataframe tbody tr th {\n",
              "        vertical-align: top;\n",
              "    }\n",
              "\n",
              "    .dataframe thead th {\n",
              "        text-align: right;\n",
              "    }\n",
              "</style>\n",
              "<table border=\"1\" class=\"dataframe\">\n",
              "  <thead>\n",
              "    <tr style=\"text-align: right;\">\n",
              "      <th></th>\n",
              "      <th>label</th>\n",
              "      <th>comment</th>\n",
              "      <th>parent_comment</th>\n",
              "    </tr>\n",
              "  </thead>\n",
              "  <tbody>\n",
              "    <tr>\n",
              "      <th>0</th>\n",
              "      <td>0</td>\n",
              "      <td>NC and NH.</td>\n",
              "      <td>Yeah, I get that argument. At this point, I'd ...</td>\n",
              "    </tr>\n",
              "    <tr>\n",
              "      <th>1</th>\n",
              "      <td>0</td>\n",
              "      <td>You do know west teams play against west teams...</td>\n",
              "      <td>The blazers and Mavericks (The wests 5 and 6 s...</td>\n",
              "    </tr>\n",
              "    <tr>\n",
              "      <th>2</th>\n",
              "      <td>0</td>\n",
              "      <td>They were underdogs earlier today, but since G...</td>\n",
              "      <td>They're favored to win.</td>\n",
              "    </tr>\n",
              "    <tr>\n",
              "      <th>3</th>\n",
              "      <td>0</td>\n",
              "      <td>This meme isn't funny none of the \"new york ni...</td>\n",
              "      <td>deadass don't kill my buzz</td>\n",
              "    </tr>\n",
              "    <tr>\n",
              "      <th>4</th>\n",
              "      <td>0</td>\n",
              "      <td>I could use one of those tools.</td>\n",
              "      <td>Yep can confirm I saw the tool they use for th...</td>\n",
              "    </tr>\n",
              "  </tbody>\n",
              "</table>\n",
              "</div>\n",
              "      <button class=\"colab-df-convert\" onclick=\"convertToInteractive('df-16039959-ea16-4b57-823a-4967877fb3e0')\"\n",
              "              title=\"Convert this dataframe to an interactive table.\"\n",
              "              style=\"display:none;\">\n",
              "        \n",
              "  <svg xmlns=\"http://www.w3.org/2000/svg\" height=\"24px\"viewBox=\"0 0 24 24\"\n",
              "       width=\"24px\">\n",
              "    <path d=\"M0 0h24v24H0V0z\" fill=\"none\"/>\n",
              "    <path d=\"M18.56 5.44l.94 2.06.94-2.06 2.06-.94-2.06-.94-.94-2.06-.94 2.06-2.06.94zm-11 1L8.5 8.5l.94-2.06 2.06-.94-2.06-.94L8.5 2.5l-.94 2.06-2.06.94zm10 10l.94 2.06.94-2.06 2.06-.94-2.06-.94-.94-2.06-.94 2.06-2.06.94z\"/><path d=\"M17.41 7.96l-1.37-1.37c-.4-.4-.92-.59-1.43-.59-.52 0-1.04.2-1.43.59L10.3 9.45l-7.72 7.72c-.78.78-.78 2.05 0 2.83L4 21.41c.39.39.9.59 1.41.59.51 0 1.02-.2 1.41-.59l7.78-7.78 2.81-2.81c.8-.78.8-2.07 0-2.86zM5.41 20L4 18.59l7.72-7.72 1.47 1.35L5.41 20z\"/>\n",
              "  </svg>\n",
              "      </button>\n",
              "      \n",
              "  <style>\n",
              "    .colab-df-container {\n",
              "      display:flex;\n",
              "      flex-wrap:wrap;\n",
              "      gap: 12px;\n",
              "    }\n",
              "\n",
              "    .colab-df-convert {\n",
              "      background-color: #E8F0FE;\n",
              "      border: none;\n",
              "      border-radius: 50%;\n",
              "      cursor: pointer;\n",
              "      display: none;\n",
              "      fill: #1967D2;\n",
              "      height: 32px;\n",
              "      padding: 0 0 0 0;\n",
              "      width: 32px;\n",
              "    }\n",
              "\n",
              "    .colab-df-convert:hover {\n",
              "      background-color: #E2EBFA;\n",
              "      box-shadow: 0px 1px 2px rgba(60, 64, 67, 0.3), 0px 1px 3px 1px rgba(60, 64, 67, 0.15);\n",
              "      fill: #174EA6;\n",
              "    }\n",
              "\n",
              "    [theme=dark] .colab-df-convert {\n",
              "      background-color: #3B4455;\n",
              "      fill: #D2E3FC;\n",
              "    }\n",
              "\n",
              "    [theme=dark] .colab-df-convert:hover {\n",
              "      background-color: #434B5C;\n",
              "      box-shadow: 0px 1px 3px 1px rgba(0, 0, 0, 0.15);\n",
              "      filter: drop-shadow(0px 1px 2px rgba(0, 0, 0, 0.3));\n",
              "      fill: #FFFFFF;\n",
              "    }\n",
              "  </style>\n",
              "\n",
              "      <script>\n",
              "        const buttonEl =\n",
              "          document.querySelector('#df-16039959-ea16-4b57-823a-4967877fb3e0 button.colab-df-convert');\n",
              "        buttonEl.style.display =\n",
              "          google.colab.kernel.accessAllowed ? 'block' : 'none';\n",
              "\n",
              "        async function convertToInteractive(key) {\n",
              "          const element = document.querySelector('#df-16039959-ea16-4b57-823a-4967877fb3e0');\n",
              "          const dataTable =\n",
              "            await google.colab.kernel.invokeFunction('convertToInteractive',\n",
              "                                                     [key], {});\n",
              "          if (!dataTable) return;\n",
              "\n",
              "          const docLinkHtml = 'Like what you see? Visit the ' +\n",
              "            '<a target=\"_blank\" href=https://colab.research.google.com/notebooks/data_table.ipynb>data table notebook</a>'\n",
              "            + ' to learn more about interactive tables.';\n",
              "          element.innerHTML = '';\n",
              "          dataTable['output_type'] = 'display_data';\n",
              "          await google.colab.output.renderOutput(dataTable, element);\n",
              "          const docLink = document.createElement('div');\n",
              "          docLink.innerHTML = docLinkHtml;\n",
              "          element.appendChild(docLink);\n",
              "        }\n",
              "      </script>\n",
              "    </div>\n",
              "  </div>\n",
              "  "
            ]
          },
          "metadata": {},
          "execution_count": 5
        }
      ],
      "source": [
        "df = pd.read_csv(root+'data/train_balanced_partly_preprocessed.csv')\n",
        "df.head()"
      ]
    },
    {
      "cell_type": "code",
      "source": [
        "df['comment'] = map_special_strings(df['comment'])\n",
        "df['parent_comment'] = map_special_strings(df['parent_comment'])"
      ],
      "metadata": {
        "id": "UmDCvYKLM7rN"
      },
      "id": "UmDCvYKLM7rN",
      "execution_count": null,
      "outputs": []
    },
    {
      "cell_type": "code",
      "execution_count": null,
      "metadata": {
        "id": "OXMbnodfD_u1"
      },
      "outputs": [],
      "source": [
        "X = df[['comment', 'parent_comment']]\n",
        "y = df['label'].values"
      ],
      "id": "OXMbnodfD_u1"
    },
    {
      "cell_type": "code",
      "source": [
        "X_train, X_val, y_train, y_val = train_test_split(X, y, stratify=y, test_size=0.2, random_state=42)\n",
        "X_train, X_test, y_train, y_test = train_test_split(X_train, y_train, stratify=y_train, test_size=0.1, random_state=42)"
      ],
      "metadata": {
        "id": "s7Qelh3mg7Ez"
      },
      "execution_count": null,
      "outputs": [],
      "id": "s7Qelh3mg7Ez"
    },
    {
      "cell_type": "code",
      "source": [
        "X_train.shape, X_val.shape, X_test.shape"
      ],
      "metadata": {
        "colab": {
          "base_uri": "https://localhost:8080/"
        },
        "id": "8MW07v51hWDy",
        "outputId": "4b37484e-b1ab-48b2-8c86-cdc26f81fb93"
      },
      "execution_count": null,
      "outputs": [
        {
          "output_type": "execute_result",
          "data": {
            "text/plain": [
              "((722210, 2), (200615, 2), (80246, 2))"
            ]
          },
          "metadata": {},
          "execution_count": 10
        }
      ],
      "id": "8MW07v51hWDy"
    },
    {
      "cell_type": "markdown",
      "id": "C3tpuJCn7oDa",
      "metadata": {
        "id": "C3tpuJCn7oDa"
      },
      "source": [
        "# content-based"
      ]
    },
    {
      "cell_type": "code",
      "source": [
        "count_vectorizer, vec_data = vectorize_data([X_train['comment'], X_val['comment'], X_test['comment']])"
      ],
      "metadata": {
        "id": "3w0MRHR-V5ai"
      },
      "id": "3w0MRHR-V5ai",
      "execution_count": null,
      "outputs": []
    },
    {
      "cell_type": "code",
      "execution_count": null,
      "id": "1u2Yx738xX-a",
      "metadata": {
        "id": "1u2Yx738xX-a"
      },
      "outputs": [],
      "source": [
        "train_dataset = tf.data.Dataset.from_tensor_slices((sparse_tensor(vec_data['train']), y_train)).shuffle(100).batch(128)\n",
        "val_dataset = tf.data.Dataset.from_tensor_slices((sparse_tensor(vec_data['val']), y_val)).batch(128)"
      ]
    },
    {
      "cell_type": "code",
      "source": [
        "model = Sequential([\n",
        "    InputLayer(input_shape=(vec_data['train'].shape[1],)),\n",
        "    Dense(100, activation='relu', kernel_initializer='he_normal',\n",
        "          kernel_regularizer=L1L2(l1=2e-6, l2=2e-6)),\n",
        "    BatchNormalization(),\n",
        "    Dropout(0.5),\n",
        "    Dense(1, activation='sigmoid')\n",
        "])\n",
        "\n",
        "binary_crossentropy = tf.keras.losses.BinaryCrossentropy(name='bc')\n",
        "es = EarlyStopping(monitor='val_bc', min_delta=1e-5, patience=5, restore_best_weights=True)\n",
        "\n",
        "model.compile(loss='binary_crossentropy', optimizer='adam', metrics=[binary_crossentropy, 'accuracy'])\n",
        "fit = model.fit(train_dataset, validation_data=val_dataset, epochs=50, callbacks=[es])"
      ],
      "metadata": {
        "colab": {
          "base_uri": "https://localhost:8080/"
        },
        "id": "xJvHqoA_tfBU",
        "outputId": "07db76cf-79d2-4d61-eb53-f9ae7df6bdfa"
      },
      "id": "xJvHqoA_tfBU",
      "execution_count": null,
      "outputs": [
        {
          "output_type": "stream",
          "name": "stdout",
          "text": [
            "Epoch 1/50\n"
          ]
        },
        {
          "output_type": "stream",
          "name": "stderr",
          "text": [
            "/usr/local/lib/python3.7/dist-packages/tensorflow/python/framework/indexed_slices.py:446: UserWarning: Converting sparse IndexedSlices(IndexedSlices(indices=Tensor(\"gradient_tape/sequential_2/dense_7/embedding_lookup_sparse/Reshape_1:0\", shape=(None,), dtype=int32), values=Tensor(\"gradient_tape/sequential_2/dense_7/embedding_lookup_sparse/Reshape:0\", shape=(None, 100), dtype=float32), dense_shape=Tensor(\"gradient_tape/sequential_2/dense_7/embedding_lookup_sparse/Cast:0\", shape=(2,), dtype=int32))) to a dense Tensor of unknown shape. This may consume a large amount of memory.\n",
            "  \"shape. This may consume a large amount of memory.\" % value)\n"
          ]
        },
        {
          "output_type": "stream",
          "name": "stdout",
          "text": [
            "6851/6851 [==============================] - 83s 12ms/step - loss: 0.6452 - bc: 0.6054 - accuracy: 0.6704 - val_loss: 0.6447 - val_bc: 0.5945 - val_accuracy: 0.6808\n",
            "Epoch 2/50\n",
            "6851/6851 [==============================] - 75s 11ms/step - loss: 0.6447 - bc: 0.5924 - accuracy: 0.6817 - val_loss: 0.6423 - val_bc: 0.5898 - val_accuracy: 0.6847\n",
            "Epoch 3/50\n",
            "6851/6851 [==============================] - 75s 11ms/step - loss: 0.6427 - bc: 0.5894 - accuracy: 0.6839 - val_loss: 0.6420 - val_bc: 0.5890 - val_accuracy: 0.6862\n",
            "Epoch 4/50\n",
            "6851/6851 [==============================] - 75s 11ms/step - loss: 0.6409 - bc: 0.5872 - accuracy: 0.6866 - val_loss: 0.6405 - val_bc: 0.5875 - val_accuracy: 0.6875\n",
            "Epoch 5/50\n",
            "6851/6851 [==============================] - 74s 11ms/step - loss: 0.6388 - bc: 0.5854 - accuracy: 0.6883 - val_loss: 0.6405 - val_bc: 0.5869 - val_accuracy: 0.6884\n",
            "Epoch 6/50\n",
            "6851/6851 [==============================] - 75s 11ms/step - loss: 0.6378 - bc: 0.5846 - accuracy: 0.6891 - val_loss: 0.6394 - val_bc: 0.5863 - val_accuracy: 0.6883\n",
            "Epoch 7/50\n",
            "6851/6851 [==============================] - 74s 11ms/step - loss: 0.6361 - bc: 0.5830 - accuracy: 0.6902 - val_loss: 0.6386 - val_bc: 0.5857 - val_accuracy: 0.6894\n",
            "Epoch 8/50\n",
            "6851/6851 [==============================] - 74s 11ms/step - loss: 0.6364 - bc: 0.5831 - accuracy: 0.6906 - val_loss: 0.6388 - val_bc: 0.5858 - val_accuracy: 0.6886\n",
            "Epoch 9/50\n",
            "6851/6851 [==============================] - 80s 12ms/step - loss: 0.6354 - bc: 0.5822 - accuracy: 0.6913 - val_loss: 0.6391 - val_bc: 0.5860 - val_accuracy: 0.6889\n",
            "Epoch 10/50\n",
            "6851/6851 [==============================] - 80s 12ms/step - loss: 0.6346 - bc: 0.5816 - accuracy: 0.6920 - val_loss: 0.6388 - val_bc: 0.5858 - val_accuracy: 0.6889\n",
            "Epoch 11/50\n",
            "6851/6851 [==============================] - 74s 11ms/step - loss: 0.6340 - bc: 0.5808 - accuracy: 0.6922 - val_loss: 0.6385 - val_bc: 0.5854 - val_accuracy: 0.6898\n",
            "Epoch 12/50\n",
            "6851/6851 [==============================] - 77s 11ms/step - loss: 0.6336 - bc: 0.5802 - accuracy: 0.6927 - val_loss: 0.6391 - val_bc: 0.5857 - val_accuracy: 0.6895\n",
            "Epoch 13/50\n",
            "6851/6851 [==============================] - 76s 11ms/step - loss: 0.6334 - bc: 0.5800 - accuracy: 0.6928 - val_loss: 0.6393 - val_bc: 0.5858 - val_accuracy: 0.6896\n",
            "Epoch 14/50\n",
            "6851/6851 [==============================] - 76s 11ms/step - loss: 0.6334 - bc: 0.5798 - accuracy: 0.6929 - val_loss: 0.6390 - val_bc: 0.5855 - val_accuracy: 0.6888\n",
            "Epoch 15/50\n",
            "6851/6851 [==============================] - 75s 11ms/step - loss: 0.6327 - bc: 0.5795 - accuracy: 0.6932 - val_loss: 0.6393 - val_bc: 0.5861 - val_accuracy: 0.6893\n",
            "Epoch 16/50\n",
            "6851/6851 [==============================] - 76s 11ms/step - loss: 0.6328 - bc: 0.5795 - accuracy: 0.6936 - val_loss: 0.6386 - val_bc: 0.5855 - val_accuracy: 0.6896\n"
          ]
        }
      ]
    },
    {
      "cell_type": "code",
      "source": [
        "plot_history(fit)"
      ],
      "metadata": {
        "colab": {
          "base_uri": "https://localhost:8080/",
          "height": 288
        },
        "id": "F6U-yHEdvXoM",
        "outputId": "787dbc6a-5c5f-4eb4-a552-efadb568983e"
      },
      "id": "F6U-yHEdvXoM",
      "execution_count": null,
      "outputs": [
        {
          "output_type": "display_data",
          "data": {
            "text/plain": [
              "<Figure size 1008x288 with 2 Axes>"
            ],
            "image/png": "[encoded data removed]"
          },
          "metadata": {}
        }
      ]
    },
    {
      "cell_type": "markdown",
      "source": [
        "# context-based"
      ],
      "metadata": {
        "id": "6oJesUIqYWPA"
      },
      "id": "6oJesUIqYWPA"
    },
    {
      "cell_type": "code",
      "source": [
        "_, vec_data = vectorize_data([X_train['comment'], X_val['comment'], X_test['comment']])\n",
        "_, vec_data_par = vectorize_data([X_train['parent_comment'], X_val['parent_comment'], X_test['parent_comment']])"
      ],
      "metadata": {
        "id": "FN0j8qPfY3PV"
      },
      "id": "FN0j8qPfY3PV",
      "execution_count": null,
      "outputs": []
    },
    {
      "cell_type": "code",
      "source": [
        "train_data = {'comment': sparse_tensor(vec_data['train']), 'parent': sparse_tensor(vec_data_par['train'])}\n",
        "val_data = {'comment': sparse_tensor(vec_data['val']), 'parent': sparse_tensor(vec_data_par['val'])}\n",
        "test_data = {'comment': sparse_tensor(vec_data['test']), 'parent': sparse_tensor(vec_data_par['test'])}"
      ],
      "metadata": {
        "id": "0ygqgg-MxYQC"
      },
      "id": "0ygqgg-MxYQC",
      "execution_count": null,
      "outputs": []
    },
    {
      "cell_type": "code",
      "source": [
        "train_dataset = tf.data.Dataset.from_tensor_slices((train_data, y_train)).shuffle(100).batch(128)\n",
        "val_dataset = tf.data.Dataset.from_tensor_slices((val_data, y_val)).batch(128)"
      ],
      "metadata": {
        "id": "8ohF4P5UxNaC"
      },
      "id": "8ohF4P5UxNaC",
      "execution_count": null,
      "outputs": []
    },
    {
      "cell_type": "code",
      "source": [
        "comment_input =  Input(shape=(vec_data['train'].shape[1],), name='comment')\n",
        "parent_input = Input(shape=(vec_data_par['train'].shape[1],), name='parent')\n",
        "\n",
        "com = Dense(100, activation='relu', kernel_initializer='he_normal',\n",
        "            kernel_regularizer=L1L2(l1=2e-6, l2=2e-6))(comment_input)\n",
        "com = BatchNormalization()(com)\n",
        "\n",
        "par = Dense(100, activation='relu', kernel_initializer='he_normal',\n",
        "            kernel_regularizer=L1L2(l1=2e-6, l2=2e-6))(parent_input)\n",
        "par = BatchNormalization()(par)\n",
        "\n",
        "x = Concatenate()([com, par])\n",
        "x = Dropout(0.5)(x)\n",
        "output = Dense(1, activation='sigmoid')(x)\n",
        "\n",
        "binary_crossentropy = tf.keras.losses.BinaryCrossentropy(name='bc')\n",
        "es = EarlyStopping(monitor='val_bc', min_delta=1e-5, patience=5, restore_best_weights=True)\n",
        "\n",
        "model = keras.Model(inputs=[comment_input, parent_input], outputs=[output])\n",
        "model.compile(loss='binary_crossentropy', optimizer='adam', metrics=[binary_crossentropy, 'accuracy'])\n",
        "fit = model.fit(train_dataset, validation_data=val_dataset, epochs=50, callbacks=[es])"
      ],
      "metadata": {
        "colab": {
          "base_uri": "https://localhost:8080/"
        },
        "id": "u37XEprg0rZY",
        "outputId": "0dbf00b5-f217-4ad3-d667-c776a6792faa"
      },
      "id": "u37XEprg0rZY",
      "execution_count": null,
      "outputs": [
        {
          "output_type": "stream",
          "name": "stdout",
          "text": [
            "Epoch 1/50\n"
          ]
        },
        {
          "output_type": "stream",
          "name": "stderr",
          "text": [
            "/usr/local/lib/python3.7/dist-packages/tensorflow/python/framework/indexed_slices.py:446: UserWarning: Converting sparse IndexedSlices(IndexedSlices(indices=Tensor(\"gradient_tape/model_1/dense_9/embedding_lookup_sparse/Reshape_1:0\", shape=(None,), dtype=int32), values=Tensor(\"gradient_tape/model_1/dense_9/embedding_lookup_sparse/Reshape:0\", shape=(None, 100), dtype=float32), dense_shape=Tensor(\"gradient_tape/model_1/dense_9/embedding_lookup_sparse/Cast:0\", shape=(2,), dtype=int32))) to a dense Tensor of unknown shape. This may consume a large amount of memory.\n",
            "  \"shape. This may consume a large amount of memory.\" % value)\n",
            "/usr/local/lib/python3.7/dist-packages/tensorflow/python/framework/indexed_slices.py:446: UserWarning: Converting sparse IndexedSlices(IndexedSlices(indices=Tensor(\"gradient_tape/model_1/dense_10/embedding_lookup_sparse/Reshape_1:0\", shape=(None,), dtype=int32), values=Tensor(\"gradient_tape/model_1/dense_10/embedding_lookup_sparse/Reshape:0\", shape=(None, 100), dtype=float32), dense_shape=Tensor(\"gradient_tape/model_1/dense_10/embedding_lookup_sparse/Cast:0\", shape=(2,), dtype=int32))) to a dense Tensor of unknown shape. This may consume a large amount of memory.\n",
            "  \"shape. This may consume a large amount of memory.\" % value)\n"
          ]
        },
        {
          "output_type": "stream",
          "name": "stdout",
          "text": [
            "6851/6851 [==============================] - 118s 17ms/step - loss: 0.6712 - bc: 0.6027 - accuracy: 0.6734 - val_loss: 0.6700 - val_bc: 0.5901 - val_accuracy: 0.6861\n",
            "Epoch 2/50\n",
            "6851/6851 [==============================] - 115s 17ms/step - loss: 0.6690 - bc: 0.5878 - accuracy: 0.6860 - val_loss: 0.6646 - val_bc: 0.5849 - val_accuracy: 0.6906\n",
            "Epoch 3/50\n",
            "6851/6851 [==============================] - 115s 17ms/step - loss: 0.6620 - bc: 0.5832 - accuracy: 0.6901 - val_loss: 0.6615 - val_bc: 0.5843 - val_accuracy: 0.6911\n",
            "Epoch 4/50\n",
            "6851/6851 [==============================] - 117s 17ms/step - loss: 0.6555 - bc: 0.5804 - accuracy: 0.6929 - val_loss: 0.6566 - val_bc: 0.5829 - val_accuracy: 0.6921\n",
            "Epoch 5/50\n",
            "6851/6851 [==============================] - 114s 17ms/step - loss: 0.6515 - bc: 0.5786 - accuracy: 0.6939 - val_loss: 0.6542 - val_bc: 0.5827 - val_accuracy: 0.6931\n",
            "Epoch 6/50\n",
            "6851/6851 [==============================] - 107s 16ms/step - loss: 0.6480 - bc: 0.5771 - accuracy: 0.6952 - val_loss: 0.6511 - val_bc: 0.5814 - val_accuracy: 0.6944\n",
            "Epoch 7/50\n",
            "6851/6851 [==============================] - 109s 16ms/step - loss: 0.6462 - bc: 0.5760 - accuracy: 0.6968 - val_loss: 0.6515 - val_bc: 0.5817 - val_accuracy: 0.6935\n",
            "Epoch 8/50\n",
            "6851/6851 [==============================] - 108s 16ms/step - loss: 0.6447 - bc: 0.5751 - accuracy: 0.6971 - val_loss: 0.6499 - val_bc: 0.5805 - val_accuracy: 0.6937\n",
            "Epoch 9/50\n",
            "6851/6851 [==============================] - 108s 16ms/step - loss: 0.6436 - bc: 0.5745 - accuracy: 0.6975 - val_loss: 0.6496 - val_bc: 0.5805 - val_accuracy: 0.6935\n",
            "Epoch 10/50\n",
            "6851/6851 [==============================] - 107s 16ms/step - loss: 0.6422 - bc: 0.5735 - accuracy: 0.6987 - val_loss: 0.6487 - val_bc: 0.5802 - val_accuracy: 0.6938\n",
            "Epoch 11/50\n",
            "6851/6851 [==============================] - 106s 15ms/step - loss: 0.6417 - bc: 0.5729 - accuracy: 0.6993 - val_loss: 0.6488 - val_bc: 0.5799 - val_accuracy: 0.6951\n",
            "Epoch 12/50\n",
            "6851/6851 [==============================] - 112s 16ms/step - loss: 0.6412 - bc: 0.5725 - accuracy: 0.6994 - val_loss: 0.6492 - val_bc: 0.5803 - val_accuracy: 0.6948\n",
            "Epoch 13/50\n",
            "6851/6851 [==============================] - 138s 20ms/step - loss: 0.6405 - bc: 0.5719 - accuracy: 0.7000 - val_loss: 0.6497 - val_bc: 0.5816 - val_accuracy: 0.6951\n",
            "Epoch 14/50\n",
            "6851/6851 [==============================] - 119s 17ms/step - loss: 0.6396 - bc: 0.5711 - accuracy: 0.7007 - val_loss: 0.6489 - val_bc: 0.5808 - val_accuracy: 0.6942\n",
            "Epoch 15/50\n",
            "6851/6851 [==============================] - 113s 17ms/step - loss: 0.6390 - bc: 0.5707 - accuracy: 0.7012 - val_loss: 0.6486 - val_bc: 0.5806 - val_accuracy: 0.6944\n",
            "Epoch 16/50\n",
            "6851/6851 [==============================] - 111s 16ms/step - loss: 0.6387 - bc: 0.5706 - accuracy: 0.7012 - val_loss: 0.6486 - val_bc: 0.5804 - val_accuracy: 0.6945\n"
          ]
        }
      ]
    },
    {
      "cell_type": "code",
      "source": [
        "plot_history(fit)"
      ],
      "metadata": {
        "colab": {
          "base_uri": "https://localhost:8080/",
          "height": 288
        },
        "id": "7QyaImvR9A8q",
        "outputId": "a8544558-19cc-4eae-9cee-a4377d966de5"
      },
      "id": "7QyaImvR9A8q",
      "execution_count": null,
      "outputs": [
        {
          "output_type": "display_data",
          "data": {
            "text/plain": [
              "<Figure size 1008x288 with 2 Axes>"
            ],
            "image/png": "[encoded data removed]"
          },
          "metadata": {}
        }
      ]
    },
    {
      "cell_type": "code",
      "source": [
        "evaluate(model, test_data, y_test)"
      ],
      "metadata": {
        "colab": {
          "base_uri": "https://localhost:8080/",
          "height": 342
        },
        "id": "bMDKd-3O63FV",
        "outputId": "0abc0dae-0330-4aa8-aa99-f7f1fd4720a2"
      },
      "id": "bMDKd-3O63FV",
      "execution_count": null,
      "outputs": [
        {
          "output_type": "display_data",
          "data": {
            "text/plain": [
              "<Figure size 360x360 with 1 Axes>"
            ],
            "image/png": "[encoded data removed]"
          },
          "metadata": {}
        }
      ]
    },
    {
      "cell_type": "markdown",
      "source": [
        "# final runs"
      ],
      "metadata": {
        "id": "P5KoRg84nx0Q"
      },
      "id": "P5KoRg84nx0Q"
    },
    {
      "cell_type": "code",
      "source": [
        "df = pd.read_csv(root+'data/all_balanced_partly_preprocessed.csv')\n",
        "df.shape"
      ],
      "metadata": {
        "colab": {
          "base_uri": "https://localhost:8080/"
        },
        "id": "2-pDXMwyyNU4",
        "outputId": "13a733ed-b960-49d6-86d5-93e7384028c9"
      },
      "id": "2-pDXMwyyNU4",
      "execution_count": null,
      "outputs": [
        {
          "output_type": "execute_result",
          "data": {
            "text/plain": [
              "(1252649, 3)"
            ]
          },
          "metadata": {},
          "execution_count": 8
        }
      ]
    },
    {
      "cell_type": "code",
      "source": [
        "df['comment'] = map_special_strings(df['comment'])\n",
        "df['parent_comment'] = map_special_strings(df['parent_comment'])"
      ],
      "metadata": {
        "id": "v5DSO77XyUxY"
      },
      "id": "v5DSO77XyUxY",
      "execution_count": null,
      "outputs": []
    },
    {
      "cell_type": "code",
      "source": [
        "X = df[['comment', 'parent_comment']]\n",
        "y = df['label'].values"
      ],
      "metadata": {
        "id": "Z3c111Ndybtj"
      },
      "id": "Z3c111Ndybtj",
      "execution_count": null,
      "outputs": []
    },
    {
      "cell_type": "code",
      "source": [
        "# random_seeds = np.random.randint(0, 100, size=3)\n",
        "# random_seeds"
      ],
      "metadata": {
        "colab": {
          "base_uri": "https://localhost:8080/"
        },
        "id": "v1RQfkOimOLO",
        "outputId": "c9cf38b5-5d21-4488-9e63-e5405e5a5303"
      },
      "id": "v1RQfkOimOLO",
      "execution_count": null,
      "outputs": [
        {
          "output_type": "execute_result",
          "data": {
            "text/plain": [
              "array([83, 91, 61])"
            ]
          },
          "metadata": {},
          "execution_count": 11
        }
      ]
    },
    {
      "cell_type": "code",
      "source": [
        "random_seeds = [83, 91, 61]"
      ],
      "metadata": {
        "id": "sk1-Xegn14l_"
      },
      "id": "sk1-Xegn14l_",
      "execution_count": null,
      "outputs": []
    },
    {
      "cell_type": "code",
      "source": [
        "class TimeHistory(keras.callbacks.Callback):\n",
        "    def on_train_begin(self, logs={}):\n",
        "        self.times = []\n",
        "\n",
        "    def on_epoch_begin(self, batch, logs={}):\n",
        "        self.epoch_time_start = time.time()\n",
        "\n",
        "    def on_epoch_end(self, batch, logs={}):\n",
        "        self.times.append(time.time() - self.epoch_time_start)"
      ],
      "metadata": {
        "id": "BtIFBLxaulgZ"
      },
      "id": "BtIFBLxaulgZ",
      "execution_count": null,
      "outputs": []
    },
    {
      "cell_type": "code",
      "source": [
        "def pseudo_validation(define_model, X, y, random_seeds, name, context=False):\n",
        "    highest_acc = 0\n",
        "    results = []\n",
        "\n",
        "    for seed in random_seeds:\n",
        "        X_train, X_val, y_train, y_val = train_test_split(X, y, stratify=y, test_size=0.3, random_state=seed)\n",
        "        X_val, X_test, y_val, y_test = train_test_split(X_val, y_val, stratify=y_val, test_size=0.5, random_state=seed)\n",
        "        \n",
        "        if not context:\n",
        "            count_vectorizer, vec_data = vectorize_data([X_train['comment'], X_val['comment'], X_test['comment']])\n",
        "\n",
        "            train_data = sparse_tensor(vec_data['train'])\n",
        "            val_data = sparse_tensor(vec_data['val'])\n",
        "            test_data = sparse_tensor(vec_data['test'])\n",
        "\n",
        "            input_shape = vec_data['train'].shape[1]\n",
        "\n",
        "        else:\n",
        "            _, vec_data = vectorize_data([X_train['comment'], X_val['comment'], X_test['comment']])\n",
        "            _, vec_data_par = vectorize_data([X_train['parent_comment'], X_val['parent_comment'], X_test['parent_comment']])\n",
        "\n",
        "            train_data = {'comment': sparse_tensor(vec_data['train']), 'parent': sparse_tensor(vec_data_par['train'])}\n",
        "            val_data = {'comment': sparse_tensor(vec_data['val']), 'parent': sparse_tensor(vec_data_par['val'])}\n",
        "            test_data = {'comment': sparse_tensor(vec_data['test']), 'parent': sparse_tensor(vec_data_par['test'])}\n",
        "\n",
        "            input_shape = (vec_data['train'].shape[1], vec_data_par['train'].shape[1])\n",
        "        \n",
        "        train_dataset = tf.data.Dataset.from_tensor_slices((train_data, y_train)).shuffle(100).batch(128)\n",
        "        val_dataset = tf.data.Dataset.from_tensor_slices((val_data, y_val)).batch(128)\n",
        "\n",
        "        model = define_model(input_shape)\n",
        "\n",
        "        binary_crossentropy = tf.keras.losses.BinaryCrossentropy(name='bc')\n",
        "        es = EarlyStopping(monitor='val_bc', min_delta=1e-5, patience=5, restore_best_weights=True)\n",
        "        timeit = TimeHistory()\n",
        "\n",
        "        model.compile(loss='binary_crossentropy', optimizer='adam', metrics=[binary_crossentropy, 'accuracy'])\n",
        "        start_time = time.time()\n",
        "        fit = model.fit(train_dataset, validation_data=val_dataset, epochs=100, callbacks=[es, timeit], verbose=0)\n",
        "        end_time = time.time()\n",
        "\n",
        "        y_pred = model.predict(test_data).round().flatten()\n",
        "        acc = accuracy_score(y_test, y_pred)\n",
        "        prec = precision_score(y_test, y_pred)\n",
        "        rec = recall_score(y_test, y_pred)\n",
        "        f1 = f1_score(y_test, y_pred)\n",
        "\n",
        "        times = timeit.times\n",
        "        n_epochs = len(times)\n",
        "        avg_time_per_epoch = np.mean(times)\n",
        "        total_time = np.sum(times)\n",
        "        total_time_2 = end_time - start_time\n",
        "\n",
        "        results.append([seed, acc, prec, rec, f1, n_epochs, avg_time_per_epoch, total_time, total_time_2])\n",
        "        columns = ['seed', 'acc', 'prec', 'rec', 'f1', 'n_epochs', 'avg_time_per_epoch', 'total_time', 'total_time_2']\n",
        "\n",
        "        res_df = pd.DataFrame(results, columns=columns)\n",
        "        res_df.to_csv(root+fr'final_results/{name}.csv', index=False)\n",
        "\n",
        "        if acc > highest_acc:\n",
        "            highest_acc = acc\n",
        "            model.save(root+'models/'+name)\n",
        "\n",
        "        print(fr'run number {len(results)} done')"
      ],
      "metadata": {
        "id": "ta5i8Bb30rDT"
      },
      "id": "ta5i8Bb30rDT",
      "execution_count": null,
      "outputs": []
    },
    {
      "cell_type": "code",
      "source": [
        "def bow_content(input_shape):\n",
        "    model = Sequential([\n",
        "        InputLayer(input_shape=(input_shape,)),\n",
        "        Dense(100, activation='relu', kernel_initializer='he_normal',\n",
        "              kernel_regularizer=L1L2(l1=2e-6, l2=2e-6)),\n",
        "        BatchNormalization(),\n",
        "        Dropout(0.5),\n",
        "        Dense(1, activation='sigmoid')\n",
        "    ])\n",
        "    return model"
      ],
      "metadata": {
        "id": "9bb4Fs6XzHLK"
      },
      "id": "9bb4Fs6XzHLK",
      "execution_count": null,
      "outputs": []
    },
    {
      "cell_type": "code",
      "source": [
        "def bow_context(input_shape):\n",
        "    comment_input =  Input(shape=(input_shape[0],), name='comment')\n",
        "    parent_input = Input(shape=(input_shape[1],), name='parent')\n",
        "\n",
        "    com = Dense(100, activation='relu', kernel_initializer='he_normal',\n",
        "                kernel_regularizer=L1L2(l1=2e-6, l2=2e-6))(comment_input)\n",
        "    com = BatchNormalization()(com)\n",
        "\n",
        "    par = Dense(100, activation='relu', kernel_initializer='he_normal',\n",
        "                kernel_regularizer=L1L2(l1=2e-6, l2=2e-6))(parent_input)\n",
        "    par = BatchNormalization()(par)\n",
        "\n",
        "    x = Concatenate()([com, par])\n",
        "    x = Dropout(0.5)(x)\n",
        "    output = Dense(1, activation='sigmoid')(x)\n",
        "\n",
        "    model = keras.Model(inputs=[comment_input, parent_input], outputs=[output])\n",
        "    return model"
      ],
      "metadata": {
        "id": "WLdt8A0DzSi6"
      },
      "id": "WLdt8A0DzSi6",
      "execution_count": null,
      "outputs": []
    },
    {
      "cell_type": "code",
      "source": [
        "pseudo_validation(bow_content, X, y, random_seeds, name='bag_of_words')"
      ],
      "metadata": {
        "id": "33pT9RSsn0YU"
      },
      "execution_count": null,
      "outputs": [],
      "id": "33pT9RSsn0YU"
    },
    {
      "cell_type": "code",
      "execution_count": null,
      "metadata": {
        "colab": {
          "base_uri": "https://localhost:8080/",
          "height": 143
        },
        "id": "wLn4EoxGn0YV",
        "outputId": "4acdcf82-5a65-4f13-8306-c3880d13ec80"
      },
      "outputs": [
        {
          "output_type": "execute_result",
          "data": {
            "text/plain": [
              "   seed       acc      prec       rec        f1  n_epochs  avg_time_per_epoch  \\\n",
              "0    83  0.689262  0.726760  0.598803  0.656606        14           61.206024   \n",
              "1    91  0.688469  0.709676  0.629665  0.667281        22           60.818830   \n",
              "2    61  0.690726  0.720111  0.616074  0.664042        21           60.031352   \n",
              "\n",
              "    total_time  total_time_2  \n",
              "0   856.884336    962.223888  \n",
              "1  1338.014253   1570.513834  \n",
              "2  1260.658399   1414.546453  "
            ],
            "text/html": [
              "\n",
              "  <div id=\"df-5d7c5617-4b3e-4a82-bdcf-b1b41a8bcec0\">\n",
              "    <div class=\"colab-df-container\">\n",
              "      <div>\n",
              "<style scoped>\n",
              "    .dataframe tbody tr th:only-of-type {\n",
              "        vertical-align: middle;\n",
              "    }\n",
              "\n",
              "    .dataframe tbody tr th {\n",
              "        vertical-align: top;\n",
              "    }\n",
              "\n",
              "    .dataframe thead th {\n",
              "        text-align: right;\n",
              "    }\n",
              "</style>\n",
              "<table border=\"1\" class=\"dataframe\">\n",
              "  <thead>\n",
              "    <tr style=\"text-align: right;\">\n",
              "      <th></th>\n",
              "      <th>seed</th>\n",
              "      <th>acc</th>\n",
              "      <th>prec</th>\n",
              "      <th>rec</th>\n",
              "      <th>f1</th>\n",
              "      <th>n_epochs</th>\n",
              "      <th>avg_time_per_epoch</th>\n",
              "      <th>total_time</th>\n",
              "      <th>total_time_2</th>\n",
              "    </tr>\n",
              "  </thead>\n",
              "  <tbody>\n",
              "    <tr>\n",
              "      <th>0</th>\n",
              "      <td>83</td>\n",
              "      <td>0.689262</td>\n",
              "      <td>0.726760</td>\n",
              "      <td>0.598803</td>\n",
              "      <td>0.656606</td>\n",
              "      <td>14</td>\n",
              "      <td>61.206024</td>\n",
              "      <td>856.884336</td>\n",
              "      <td>962.223888</td>\n",
              "    </tr>\n",
              "    <tr>\n",
              "      <th>1</th>\n",
              "      <td>91</td>\n",
              "      <td>0.688469</td>\n",
              "      <td>0.709676</td>\n",
              "      <td>0.629665</td>\n",
              "      <td>0.667281</td>\n",
              "      <td>22</td>\n",
              "      <td>60.818830</td>\n",
              "      <td>1338.014253</td>\n",
              "      <td>1570.513834</td>\n",
              "    </tr>\n",
              "    <tr>\n",
              "      <th>2</th>\n",
              "      <td>61</td>\n",
              "      <td>0.690726</td>\n",
              "      <td>0.720111</td>\n",
              "      <td>0.616074</td>\n",
              "      <td>0.664042</td>\n",
              "      <td>21</td>\n",
              "      <td>60.031352</td>\n",
              "      <td>1260.658399</td>\n",
              "      <td>1414.546453</td>\n",
              "    </tr>\n",
              "  </tbody>\n",
              "</table>\n",
              "</div>\n",
              "      <button class=\"colab-df-convert\" onclick=\"convertToInteractive('df-5d7c5617-4b3e-4a82-bdcf-b1b41a8bcec0')\"\n",
              "              title=\"Convert this dataframe to an interactive table.\"\n",
              "              style=\"display:none;\">\n",
              "        \n",
              "  <svg xmlns=\"http://www.w3.org/2000/svg\" height=\"24px\"viewBox=\"0 0 24 24\"\n",
              "       width=\"24px\">\n",
              "    <path d=\"M0 0h24v24H0V0z\" fill=\"none\"/>\n",
              "    <path d=\"M18.56 5.44l.94 2.06.94-2.06 2.06-.94-2.06-.94-.94-2.06-.94 2.06-2.06.94zm-11 1L8.5 8.5l.94-2.06 2.06-.94-2.06-.94L8.5 2.5l-.94 2.06-2.06.94zm10 10l.94 2.06.94-2.06 2.06-.94-2.06-.94-.94-2.06-.94 2.06-2.06.94z\"/><path d=\"M17.41 7.96l-1.37-1.37c-.4-.4-.92-.59-1.43-.59-.52 0-1.04.2-1.43.59L10.3 9.45l-7.72 7.72c-.78.78-.78 2.05 0 2.83L4 21.41c.39.39.9.59 1.41.59.51 0 1.02-.2 1.41-.59l7.78-7.78 2.81-2.81c.8-.78.8-2.07 0-2.86zM5.41 20L4 18.59l7.72-7.72 1.47 1.35L5.41 20z\"/>\n",
              "  </svg>\n",
              "      </button>\n",
              "      \n",
              "  <style>\n",
              "    .colab-df-container {\n",
              "      display:flex;\n",
              "      flex-wrap:wrap;\n",
              "      gap: 12px;\n",
              "    }\n",
              "\n",
              "    .colab-df-convert {\n",
              "      background-color: #E8F0FE;\n",
              "      border: none;\n",
              "      border-radius: 50%;\n",
              "      cursor: pointer;\n",
              "      display: none;\n",
              "      fill: #1967D2;\n",
              "      height: 32px;\n",
              "      padding: 0 0 0 0;\n",
              "      width: 32px;\n",
              "    }\n",
              "\n",
              "    .colab-df-convert:hover {\n",
              "      background-color: #E2EBFA;\n",
              "      box-shadow: 0px 1px 2px rgba(60, 64, 67, 0.3), 0px 1px 3px 1px rgba(60, 64, 67, 0.15);\n",
              "      fill: #174EA6;\n",
              "    }\n",
              "\n",
              "    [theme=dark] .colab-df-convert {\n",
              "      background-color: #3B4455;\n",
              "      fill: #D2E3FC;\n",
              "    }\n",
              "\n",
              "    [theme=dark] .colab-df-convert:hover {\n",
              "      background-color: #434B5C;\n",
              "      box-shadow: 0px 1px 3px 1px rgba(0, 0, 0, 0.15);\n",
              "      filter: drop-shadow(0px 1px 2px rgba(0, 0, 0, 0.3));\n",
              "      fill: #FFFFFF;\n",
              "    }\n",
              "  </style>\n",
              "\n",
              "      <script>\n",
              "        const buttonEl =\n",
              "          document.querySelector('#df-5d7c5617-4b3e-4a82-bdcf-b1b41a8bcec0 button.colab-df-convert');\n",
              "        buttonEl.style.display =\n",
              "          google.colab.kernel.accessAllowed ? 'block' : 'none';\n",
              "\n",
              "        async function convertToInteractive(key) {\n",
              "          const element = document.querySelector('#df-5d7c5617-4b3e-4a82-bdcf-b1b41a8bcec0');\n",
              "          const dataTable =\n",
              "            await google.colab.kernel.invokeFunction('convertToInteractive',\n",
              "                                                     [key], {});\n",
              "          if (!dataTable) return;\n",
              "\n",
              "          const docLinkHtml = 'Like what you see? Visit the ' +\n",
              "            '<a target=\"_blank\" href=https://colab.research.google.com/notebooks/data_table.ipynb>data table notebook</a>'\n",
              "            + ' to learn more about interactive tables.';\n",
              "          element.innerHTML = '';\n",
              "          dataTable['output_type'] = 'display_data';\n",
              "          await google.colab.output.renderOutput(dataTable, element);\n",
              "          const docLink = document.createElement('div');\n",
              "          docLink.innerHTML = docLinkHtml;\n",
              "          element.appendChild(docLink);\n",
              "        }\n",
              "      </script>\n",
              "    </div>\n",
              "  </div>\n",
              "  "
            ]
          },
          "metadata": {},
          "execution_count": 42
        }
      ],
      "source": [
        "pd.read_csv(root+'final_results/bag_of_words.csv')"
      ],
      "id": "wLn4EoxGn0YV"
    },
    {
      "cell_type": "code",
      "source": [
        "pseudo_validation(bow_context, X, y, random_seeds, name='context_bag_of_words', context=True)"
      ],
      "metadata": {
        "id": "rQUdo8l001Yt"
      },
      "id": "rQUdo8l001Yt",
      "execution_count": null,
      "outputs": []
    },
    {
      "cell_type": "code",
      "source": [
        "pd.read_csv(root+'final_results/context_bag_of_words.csv')"
      ],
      "metadata": {
        "colab": {
          "base_uri": "https://localhost:8080/",
          "height": 143
        },
        "id": "SsLyZbfp06kQ",
        "outputId": "ea928142-5191-458e-8eb7-001fe9825424"
      },
      "id": "SsLyZbfp06kQ",
      "execution_count": null,
      "outputs": [
        {
          "output_type": "execute_result",
          "data": {
            "text/plain": [
              "   seed       acc      prec       rec        f1  n_epochs  avg_time_per_epoch  \\\n",
              "0    83  0.691396  0.724527  0.609841  0.662256        20           39.884813   \n",
              "1    91  0.693664  0.714730  0.636648  0.673433        13           39.756593   \n",
              "2    61  0.694286  0.717723  0.632594  0.672475        10           39.870687   \n",
              "\n",
              "   total_time  total_time_2  \n",
              "0  797.696252    800.002938  \n",
              "1  516.835706    517.781237  \n",
              "2  398.706867    399.723175  "
            ],
            "text/html": [
              "\n",
              "  <div id=\"df-a4787607-b2dc-4a54-b5d1-0eac3c3300cc\">\n",
              "    <div class=\"colab-df-container\">\n",
              "      <div>\n",
              "<style scoped>\n",
              "    .dataframe tbody tr th:only-of-type {\n",
              "        vertical-align: middle;\n",
              "    }\n",
              "\n",
              "    .dataframe tbody tr th {\n",
              "        vertical-align: top;\n",
              "    }\n",
              "\n",
              "    .dataframe thead th {\n",
              "        text-align: right;\n",
              "    }\n",
              "</style>\n",
              "<table border=\"1\" class=\"dataframe\">\n",
              "  <thead>\n",
              "    <tr style=\"text-align: right;\">\n",
              "      <th></th>\n",
              "      <th>seed</th>\n",
              "      <th>acc</th>\n",
              "      <th>prec</th>\n",
              "      <th>rec</th>\n",
              "      <th>f1</th>\n",
              "      <th>n_epochs</th>\n",
              "      <th>avg_time_per_epoch</th>\n",
              "      <th>total_time</th>\n",
              "      <th>total_time_2</th>\n",
              "    </tr>\n",
              "  </thead>\n",
              "  <tbody>\n",
              "    <tr>\n",
              "      <th>0</th>\n",
              "      <td>83</td>\n",
              "      <td>0.691396</td>\n",
              "      <td>0.724527</td>\n",
              "      <td>0.609841</td>\n",
              "      <td>0.662256</td>\n",
              "      <td>20</td>\n",
              "      <td>39.884813</td>\n",
              "      <td>797.696252</td>\n",
              "      <td>800.002938</td>\n",
              "    </tr>\n",
              "    <tr>\n",
              "      <th>1</th>\n",
              "      <td>91</td>\n",
              "      <td>0.693664</td>\n",
              "      <td>0.714730</td>\n",
              "      <td>0.636648</td>\n",
              "      <td>0.673433</td>\n",
              "      <td>13</td>\n",
              "      <td>39.756593</td>\n",
              "      <td>516.835706</td>\n",
              "      <td>517.781237</td>\n",
              "    </tr>\n",
              "    <tr>\n",
              "      <th>2</th>\n",
              "      <td>61</td>\n",
              "      <td>0.694286</td>\n",
              "      <td>0.717723</td>\n",
              "      <td>0.632594</td>\n",
              "      <td>0.672475</td>\n",
              "      <td>10</td>\n",
              "      <td>39.870687</td>\n",
              "      <td>398.706867</td>\n",
              "      <td>399.723175</td>\n",
              "    </tr>\n",
              "  </tbody>\n",
              "</table>\n",
              "</div>\n",
              "      <button class=\"colab-df-convert\" onclick=\"convertToInteractive('df-a4787607-b2dc-4a54-b5d1-0eac3c3300cc')\"\n",
              "              title=\"Convert this dataframe to an interactive table.\"\n",
              "              style=\"display:none;\">\n",
              "        \n",
              "  <svg xmlns=\"http://www.w3.org/2000/svg\" height=\"24px\"viewBox=\"0 0 24 24\"\n",
              "       width=\"24px\">\n",
              "    <path d=\"M0 0h24v24H0V0z\" fill=\"none\"/>\n",
              "    <path d=\"M18.56 5.44l.94 2.06.94-2.06 2.06-.94-2.06-.94-.94-2.06-.94 2.06-2.06.94zm-11 1L8.5 8.5l.94-2.06 2.06-.94-2.06-.94L8.5 2.5l-.94 2.06-2.06.94zm10 10l.94 2.06.94-2.06 2.06-.94-2.06-.94-.94-2.06-.94 2.06-2.06.94z\"/><path d=\"M17.41 7.96l-1.37-1.37c-.4-.4-.92-.59-1.43-.59-.52 0-1.04.2-1.43.59L10.3 9.45l-7.72 7.72c-.78.78-.78 2.05 0 2.83L4 21.41c.39.39.9.59 1.41.59.51 0 1.02-.2 1.41-.59l7.78-7.78 2.81-2.81c.8-.78.8-2.07 0-2.86zM5.41 20L4 18.59l7.72-7.72 1.47 1.35L5.41 20z\"/>\n",
              "  </svg>\n",
              "      </button>\n",
              "      \n",
              "  <style>\n",
              "    .colab-df-container {\n",
              "      display:flex;\n",
              "      flex-wrap:wrap;\n",
              "      gap: 12px;\n",
              "    }\n",
              "\n",
              "    .colab-df-convert {\n",
              "      background-color: #E8F0FE;\n",
              "      border: none;\n",
              "      border-radius: 50%;\n",
              "      cursor: pointer;\n",
              "      display: none;\n",
              "      fill: #1967D2;\n",
              "      height: 32px;\n",
              "      padding: 0 0 0 0;\n",
              "      width: 32px;\n",
              "    }\n",
              "\n",
              "    .colab-df-convert:hover {\n",
              "      background-color: #E2EBFA;\n",
              "      box-shadow: 0px 1px 2px rgba(60, 64, 67, 0.3), 0px 1px 3px 1px rgba(60, 64, 67, 0.15);\n",
              "      fill: #174EA6;\n",
              "    }\n",
              "\n",
              "    [theme=dark] .colab-df-convert {\n",
              "      background-color: #3B4455;\n",
              "      fill: #D2E3FC;\n",
              "    }\n",
              "\n",
              "    [theme=dark] .colab-df-convert:hover {\n",
              "      background-color: #434B5C;\n",
              "      box-shadow: 0px 1px 3px 1px rgba(0, 0, 0, 0.15);\n",
              "      filter: drop-shadow(0px 1px 2px rgba(0, 0, 0, 0.3));\n",
              "      fill: #FFFFFF;\n",
              "    }\n",
              "  </style>\n",
              "\n",
              "      <script>\n",
              "        const buttonEl =\n",
              "          document.querySelector('#df-a4787607-b2dc-4a54-b5d1-0eac3c3300cc button.colab-df-convert');\n",
              "        buttonEl.style.display =\n",
              "          google.colab.kernel.accessAllowed ? 'block' : 'none';\n",
              "\n",
              "        async function convertToInteractive(key) {\n",
              "          const element = document.querySelector('#df-a4787607-b2dc-4a54-b5d1-0eac3c3300cc');\n",
              "          const dataTable =\n",
              "            await google.colab.kernel.invokeFunction('convertToInteractive',\n",
              "                                                     [key], {});\n",
              "          if (!dataTable) return;\n",
              "\n",
              "          const docLinkHtml = 'Like what you see? Visit the ' +\n",
              "            '<a target=\"_blank\" href=https://colab.research.google.com/notebooks/data_table.ipynb>data table notebook</a>'\n",
              "            + ' to learn more about interactive tables.';\n",
              "          element.innerHTML = '';\n",
              "          dataTable['output_type'] = 'display_data';\n",
              "          await google.colab.output.renderOutput(dataTable, element);\n",
              "          const docLink = document.createElement('div');\n",
              "          docLink.innerHTML = docLinkHtml;\n",
              "          element.appendChild(docLink);\n",
              "        }\n",
              "      </script>\n",
              "    </div>\n",
              "  </div>\n",
              "  "
            ]
          },
          "metadata": {},
          "execution_count": 19
        }
      ]
    },
    {
      "cell_type": "code",
      "source": [
        "def univariate_fs(X, y, seed, scorer, scores_filename, k='all'):\n",
        "    X_train, X_val, y_train, y_val = train_test_split(X, y, stratify=y, test_size=0.2, random_state=seed)\n",
        "    X_train, X_test, y_train, y_test = train_test_split(X_train, y_train, stratify=y_train, test_size=0.1, random_state=seed)\n",
        "    count_vectorizer, vec_data = vectorize_data([X_train['comment'], X_val['comment'], X_test['comment']])\n",
        "\n",
        "    kbest = SelectKBest(scorer, k=k)\n",
        "\n",
        "    X_train = kbest.fit_transform(vec_data['train'], y_train)\n",
        "    X_val = kbest.transform(vec_data['val'])\n",
        "    X_test = kbest.transform(vec_data['test'])\n",
        "\n",
        "    df_scores = pd.DataFrame({\n",
        "        'feature': count_vectorizer.get_feature_names_out(),\n",
        "        'score': kbest.scores_\n",
        "    })\n",
        "    \n",
        "    df_scores = df_scores.sort_values('score', ascending=False, ignore_index=True)\n",
        "    df_scores.to_csv(root+fr'univariate_fs/{scores_filename}.csv', index=False)\n",
        "\n",
        "    return df_scores"
      ],
      "metadata": {
        "id": "dGmRPf-PNqaJ"
      },
      "id": "dGmRPf-PNqaJ",
      "execution_count": null,
      "outputs": []
    },
    {
      "cell_type": "code",
      "source": [
        "f_scores = univariate_fs(X, y, 91, f_classif, 'f_scores')\n",
        "f_scores.head(20)"
      ],
      "metadata": {
        "colab": {
          "base_uri": "https://localhost:8080/",
          "height": 677
        },
        "id": "pp06ZqcKOjYm",
        "outputId": "6ad4cf8b-5d5d-4855-e7b7-09b7d11a2dd4"
      },
      "id": "pp06ZqcKOjYm",
      "execution_count": null,
      "outputs": [
        {
          "output_type": "execute_result",
          "data": {
            "text/plain": [
              "                      feature         score\n",
              "0                           !  17364.741821\n",
              "1                        yeah  12942.642174\n",
              "2                   obviously   5959.767662\n",
              "3                     totally   4697.362999\n",
              "4                     clearly   3945.858166\n",
              "5                      racist   2366.425632\n",
              "6                         wow   2038.025058\n",
              "7                       right   1975.189062\n",
              "8                         yes   1971.529410\n",
              "9                     right ?   1939.459606\n",
              "10            xxsmilingfacexx   1734.885031\n",
              "11                      women   1650.957476\n",
              "12                         oh   1589.909248\n",
              "13  xxelongxx xxsmilingfacexx   1548.766368\n",
              "14                       sure   1507.410935\n",
              "15                      white   1472.742891\n",
              "16                        duh   1410.236321\n",
              "17                        nah   1392.004047\n",
              "18                      think   1347.533666\n",
              "19                        yea   1278.230849"
            ],
            "text/html": [
              "\n",
              "  <div id=\"df-75bb54f1-bd59-4048-95da-72303dbfb959\">\n",
              "    <div class=\"colab-df-container\">\n",
              "      <div>\n",
              "<style scoped>\n",
              "    .dataframe tbody tr th:only-of-type {\n",
              "        vertical-align: middle;\n",
              "    }\n",
              "\n",
              "    .dataframe tbody tr th {\n",
              "        vertical-align: top;\n",
              "    }\n",
              "\n",
              "    .dataframe thead th {\n",
              "        text-align: right;\n",
              "    }\n",
              "</style>\n",
              "<table border=\"1\" class=\"dataframe\">\n",
              "  <thead>\n",
              "    <tr style=\"text-align: right;\">\n",
              "      <th></th>\n",
              "      <th>feature</th>\n",
              "      <th>score</th>\n",
              "    </tr>\n",
              "  </thead>\n",
              "  <tbody>\n",
              "    <tr>\n",
              "      <th>0</th>\n",
              "      <td>!</td>\n",
              "      <td>17364.741821</td>\n",
              "    </tr>\n",
              "    <tr>\n",
              "      <th>1</th>\n",
              "      <td>yeah</td>\n",
              "      <td>12942.642174</td>\n",
              "    </tr>\n",
              "    <tr>\n",
              "      <th>2</th>\n",
              "      <td>obviously</td>\n",
              "      <td>5959.767662</td>\n",
              "    </tr>\n",
              "    <tr>\n",
              "      <th>3</th>\n",
              "      <td>totally</td>\n",
              "      <td>4697.362999</td>\n",
              "    </tr>\n",
              "    <tr>\n",
              "      <th>4</th>\n",
              "      <td>clearly</td>\n",
              "      <td>3945.858166</td>\n",
              "    </tr>\n",
              "    <tr>\n",
              "      <th>5</th>\n",
              "      <td>racist</td>\n",
              "      <td>2366.425632</td>\n",
              "    </tr>\n",
              "    <tr>\n",
              "      <th>6</th>\n",
              "      <td>wow</td>\n",
              "      <td>2038.025058</td>\n",
              "    </tr>\n",
              "    <tr>\n",
              "      <th>7</th>\n",
              "      <td>right</td>\n",
              "      <td>1975.189062</td>\n",
              "    </tr>\n",
              "    <tr>\n",
              "      <th>8</th>\n",
              "      <td>yes</td>\n",
              "      <td>1971.529410</td>\n",
              "    </tr>\n",
              "    <tr>\n",
              "      <th>9</th>\n",
              "      <td>right ?</td>\n",
              "      <td>1939.459606</td>\n",
              "    </tr>\n",
              "    <tr>\n",
              "      <th>10</th>\n",
              "      <td>xxsmilingfacexx</td>\n",
              "      <td>1734.885031</td>\n",
              "    </tr>\n",
              "    <tr>\n",
              "      <th>11</th>\n",
              "      <td>women</td>\n",
              "      <td>1650.957476</td>\n",
              "    </tr>\n",
              "    <tr>\n",
              "      <th>12</th>\n",
              "      <td>oh</td>\n",
              "      <td>1589.909248</td>\n",
              "    </tr>\n",
              "    <tr>\n",
              "      <th>13</th>\n",
              "      <td>xxelongxx xxsmilingfacexx</td>\n",
              "      <td>1548.766368</td>\n",
              "    </tr>\n",
              "    <tr>\n",
              "      <th>14</th>\n",
              "      <td>sure</td>\n",
              "      <td>1507.410935</td>\n",
              "    </tr>\n",
              "    <tr>\n",
              "      <th>15</th>\n",
              "      <td>white</td>\n",
              "      <td>1472.742891</td>\n",
              "    </tr>\n",
              "    <tr>\n",
              "      <th>16</th>\n",
              "      <td>duh</td>\n",
              "      <td>1410.236321</td>\n",
              "    </tr>\n",
              "    <tr>\n",
              "      <th>17</th>\n",
              "      <td>nah</td>\n",
              "      <td>1392.004047</td>\n",
              "    </tr>\n",
              "    <tr>\n",
              "      <th>18</th>\n",
              "      <td>think</td>\n",
              "      <td>1347.533666</td>\n",
              "    </tr>\n",
              "    <tr>\n",
              "      <th>19</th>\n",
              "      <td>yea</td>\n",
              "      <td>1278.230849</td>\n",
              "    </tr>\n",
              "  </tbody>\n",
              "</table>\n",
              "</div>\n",
              "      <button class=\"colab-df-convert\" onclick=\"convertToInteractive('df-75bb54f1-bd59-4048-95da-72303dbfb959')\"\n",
              "              title=\"Convert this dataframe to an interactive table.\"\n",
              "              style=\"display:none;\">\n",
              "        \n",
              "  <svg xmlns=\"http://www.w3.org/2000/svg\" height=\"24px\"viewBox=\"0 0 24 24\"\n",
              "       width=\"24px\">\n",
              "    <path d=\"M0 0h24v24H0V0z\" fill=\"none\"/>\n",
              "    <path d=\"M18.56 5.44l.94 2.06.94-2.06 2.06-.94-2.06-.94-.94-2.06-.94 2.06-2.06.94zm-11 1L8.5 8.5l.94-2.06 2.06-.94-2.06-.94L8.5 2.5l-.94 2.06-2.06.94zm10 10l.94 2.06.94-2.06 2.06-.94-2.06-.94-.94-2.06-.94 2.06-2.06.94z\"/><path d=\"M17.41 7.96l-1.37-1.37c-.4-.4-.92-.59-1.43-.59-.52 0-1.04.2-1.43.59L10.3 9.45l-7.72 7.72c-.78.78-.78 2.05 0 2.83L4 21.41c.39.39.9.59 1.41.59.51 0 1.02-.2 1.41-.59l7.78-7.78 2.81-2.81c.8-.78.8-2.07 0-2.86zM5.41 20L4 18.59l7.72-7.72 1.47 1.35L5.41 20z\"/>\n",
              "  </svg>\n",
              "      </button>\n",
              "      \n",
              "  <style>\n",
              "    .colab-df-container {\n",
              "      display:flex;\n",
              "      flex-wrap:wrap;\n",
              "      gap: 12px;\n",
              "    }\n",
              "\n",
              "    .colab-df-convert {\n",
              "      background-color: #E8F0FE;\n",
              "      border: none;\n",
              "      border-radius: 50%;\n",
              "      cursor: pointer;\n",
              "      display: none;\n",
              "      fill: #1967D2;\n",
              "      height: 32px;\n",
              "      padding: 0 0 0 0;\n",
              "      width: 32px;\n",
              "    }\n",
              "\n",
              "    .colab-df-convert:hover {\n",
              "      background-color: #E2EBFA;\n",
              "      box-shadow: 0px 1px 2px rgba(60, 64, 67, 0.3), 0px 1px 3px 1px rgba(60, 64, 67, 0.15);\n",
              "      fill: #174EA6;\n",
              "    }\n",
              "\n",
              "    [theme=dark] .colab-df-convert {\n",
              "      background-color: #3B4455;\n",
              "      fill: #D2E3FC;\n",
              "    }\n",
              "\n",
              "    [theme=dark] .colab-df-convert:hover {\n",
              "      background-color: #434B5C;\n",
              "      box-shadow: 0px 1px 3px 1px rgba(0, 0, 0, 0.15);\n",
              "      filter: drop-shadow(0px 1px 2px rgba(0, 0, 0, 0.3));\n",
              "      fill: #FFFFFF;\n",
              "    }\n",
              "  </style>\n",
              "\n",
              "      <script>\n",
              "        const buttonEl =\n",
              "          document.querySelector('#df-75bb54f1-bd59-4048-95da-72303dbfb959 button.colab-df-convert');\n",
              "        buttonEl.style.display =\n",
              "          google.colab.kernel.accessAllowed ? 'block' : 'none';\n",
              "\n",
              "        async function convertToInteractive(key) {\n",
              "          const element = document.querySelector('#df-75bb54f1-bd59-4048-95da-72303dbfb959');\n",
              "          const dataTable =\n",
              "            await google.colab.kernel.invokeFunction('convertToInteractive',\n",
              "                                                     [key], {});\n",
              "          if (!dataTable) return;\n",
              "\n",
              "          const docLinkHtml = 'Like what you see? Visit the ' +\n",
              "            '<a target=\"_blank\" href=https://colab.research.google.com/notebooks/data_table.ipynb>data table notebook</a>'\n",
              "            + ' to learn more about interactive tables.';\n",
              "          element.innerHTML = '';\n",
              "          dataTable['output_type'] = 'display_data';\n",
              "          await google.colab.output.renderOutput(dataTable, element);\n",
              "          const docLink = document.createElement('div');\n",
              "          docLink.innerHTML = docLinkHtml;\n",
              "          element.appendChild(docLink);\n",
              "        }\n",
              "      </script>\n",
              "    </div>\n",
              "  </div>\n",
              "  "
            ]
          },
          "metadata": {},
          "execution_count": 44
        }
      ]
    },
    {
      "cell_type": "markdown",
      "source": [
        "# permutation importance"
      ],
      "metadata": {
        "id": "gQGY8e78vTar"
      },
      "id": "gQGY8e78vTar"
    },
    {
      "cell_type": "code",
      "source": [
        "!pip install eli5\n",
        "!pip install scikeras[tensorflow]"
      ],
      "metadata": {
        "id": "iB19lHWCzah8"
      },
      "execution_count": null,
      "outputs": [],
      "id": "iB19lHWCzah8"
    },
    {
      "cell_type": "code",
      "source": [
        "import eli5\n",
        "from eli5.sklearn import PermutationImportance\n",
        "from scikeras.wrappers import KerasClassifier, KerasRegressor"
      ],
      "metadata": {
        "id": "Ntqx5P7lwBps"
      },
      "execution_count": null,
      "outputs": [],
      "id": "Ntqx5P7lwBps"
    },
    {
      "cell_type": "code",
      "source": [
        "X_train, X_val, y_train, y_val = train_test_split(X, y, stratify=y, test_size=0.3, random_state=61)\n",
        "X_val, X_test, y_val, y_test = train_test_split(X_val, y_val, stratify=y_val, test_size=0.5, random_state=61)\n",
        "\n",
        "count_vectorizer, vec_data = vectorize_data([X_train['comment'], X_val['comment'], X_test['comment']])\n",
        "input_shape = vec_data['train'].shape[1]"
      ],
      "metadata": {
        "id": "p3xMaR0UviUB"
      },
      "id": "p3xMaR0UviUB",
      "execution_count": null,
      "outputs": []
    },
    {
      "cell_type": "code",
      "source": [
        "model = bow_content()\n",
        "model.load_weights(root+'models/bag_of_words/variables/variables')"
      ],
      "metadata": {
        "colab": {
          "base_uri": "https://localhost:8080/"
        },
        "id": "xoJP5T7LvSwx",
        "outputId": "f64eefc2-e388-4302-c9b9-3ce635e24894"
      },
      "execution_count": null,
      "outputs": [
        {
          "output_type": "execute_result",
          "data": {
            "text/plain": [
              "<tensorflow.python.training.tracking.util.CheckpointLoadStatus at 0x7f5201d02a90>"
            ]
          },
          "metadata": {},
          "execution_count": 15
        }
      ],
      "id": "xoJP5T7LvSwx"
    },
    {
      "cell_type": "code",
      "source": [
        "model = KerasClassifier(model=model, loss='binary_crossentropy', optimizer='adam', verbose=0,\n",
        "                        batch_size=512, validation_split=0.15, epochs=15, metrics='accuracy')"
      ],
      "metadata": {
        "id": "n3UvbEXrw-TV"
      },
      "execution_count": null,
      "outputs": [],
      "id": "n3UvbEXrw-TV"
    },
    {
      "cell_type": "code",
      "source": [
        "model.initialize(vec_data['train'][:100].toarray(), y_train[:100]);"
      ],
      "metadata": {
        "id": "W08NeIBE6Fbw"
      },
      "execution_count": null,
      "outputs": [],
      "id": "W08NeIBE6Fbw"
    },
    {
      "cell_type": "code",
      "source": [
        "indices = np.random.choice(len(y_test), size=10000)"
      ],
      "metadata": {
        "id": "0QWohTDw72eR"
      },
      "execution_count": null,
      "outputs": [],
      "id": "0QWohTDw72eR"
    },
    {
      "cell_type": "code",
      "source": [
        "imp = PermutationImportance(model, scoring='accuracy', random_state=61)\n",
        "perm = imp.fit(vec_data['test'][indices].toarray(), y_test[indices])"
      ],
      "metadata": {
        "id": "j9zIlF7w71n7"
      },
      "execution_count": null,
      "outputs": [],
      "id": "j9zIlF7w71n7"
    },
    {
      "cell_type": "code",
      "source": [
        "df_imp = pd.DataFrame({\n",
        "    'feature': count_vectorizer.get_feature_names_out().tolist(),\n",
        "    'weight': perm.feature_importances_\n",
        "}).sort_values('weight', ascending=False)\n",
        "\n",
        "df_imp.to_csv(root+'df_imp_10000.csv', index=False)"
      ],
      "metadata": {
        "id": "5xR7BG4hFsKb"
      },
      "execution_count": null,
      "outputs": [],
      "id": "5xR7BG4hFsKb"
    },
    {
      "cell_type": "code",
      "source": [
        "plt.figure(figsize=(7,6))\n",
        "sns.barplot(data=df_imp.head(15), y='feature', x='weight',\n",
        "            palette=sns.light_palette('#944e6c', reverse=True, n_colors=20));\n",
        "sns.despine(top=True, right=True)\n",
        "plt.ylabel('')\n",
        "plt.savefig('feature_imp.pdf', bbox_inches='tight')"
      ],
      "metadata": {
        "colab": {
          "base_uri": "https://localhost:8080/",
          "height": 397
        },
        "outputId": "063e370c-54c3-48b3-83e4-6a6bdbd5a14a",
        "id": "AESlFHj-FsLU"
      },
      "execution_count": null,
      "outputs": [
        {
          "output_type": "display_data",
          "data": {
            "text/plain": [
              "<Figure size 504x432 with 1 Axes>"
            ],
            "image/png": "[encoded data removed]"
          },
          "metadata": {}
        }
      ],
      "id": "AESlFHj-FsLU"
    }
  ],
  "metadata": {
    "colab": {
      "collapsed_sections": [],
      "name": "bag_of_words.ipynb",
      "provenance": [],
      "toc_visible": true,
      "machine_shape": "hm"
    },
    "kernelspec": {
      "display_name": "Python 3",
      "language": "python",
      "name": "python3"
    },
    "language_info": {
      "codemirror_mode": {
        "name": "ipython",
        "version": 3
      },
      "file_extension": ".py",
      "mimetype": "text/x-python",
      "name": "python",
      "nbconvert_exporter": "python",
      "pygments_lexer": "ipython3",
      "version": "3.6.7"
    },
    "varInspector": {
      "cols": {
        "lenName": 16,
        "lenType": 16,
        "lenVar": 40
      },
      "kernels_config": {
        "python": {
          "delete_cmd_postfix": "",
          "delete_cmd_prefix": "del ",
          "library": "var_list.py",
          "varRefreshCmd": "print(var_dic_list())"
        },
        "r": {
          "delete_cmd_postfix": ") ",
          "delete_cmd_prefix": "rm(",
          "library": "var_list.r",
          "varRefreshCmd": "cat(var_dic_list()) "
        }
      },
      "types_to_exclude": [
        "module",
        "function",
        "builtin_function_or_method",
        "instance",
        "_Feature"
      ],
      "window_display": false
    }
  },
  "nbformat": 4,
  "nbformat_minor": 5
}