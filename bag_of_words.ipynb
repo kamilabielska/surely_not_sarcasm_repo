{
  "cells": [
    {
      "cell_type": "code",
      "execution_count": null,
      "metadata": {
        "colab": {
          "base_uri": "https://localhost:8080/"
        },
        "id": "f8877fc0",
        "outputId": "84963611-6f90-43d9-98b5-18b276789198"
      },
      "outputs": [
        {
          "output_type": "stream",
          "name": "stdout",
          "text": [
            "Mounted at /content/drive\n"
          ]
        }
      ],
      "source": [
        "from google.colab import drive\n",
        "drive.mount('/content/drive')\n",
        "\n",
        "root = '/content/drive/My Drive/surely_not_sarcasm_data/'"
      ],
      "id": "f8877fc0"
    },
    {
      "cell_type": "code",
      "source": [
        "!cp -r '$root/utils' ."
      ],
      "metadata": {
        "id": "Tn9Posqcovnf"
      },
      "execution_count": null,
      "outputs": [],
      "id": "Tn9Posqcovnf"
    },
    {
      "cell_type": "code",
      "execution_count": null,
      "id": "c02ce4eb",
      "metadata": {
        "id": "c02ce4eb"
      },
      "outputs": [],
      "source": [
        "import pandas as pd\n",
        "import matplotlib.pyplot as plt\n",
        "import seaborn as sns\n",
        "import numpy as np\n",
        "import tensorflow as tf\n",
        "import nltk\n",
        "import pickle\n",
        "import keras\n",
        "import string\n",
        "import re\n",
        "\n",
        "from nltk.corpus import stopwords\n",
        "\n",
        "from sklearn.feature_extraction.text import CountVectorizer, ENGLISH_STOP_WORDS as sklear_stopwords\n",
        "from sklearn.feature_selection import SelectKBest, chi2, f_classif\n",
        "from sklearn.model_selection import train_test_split\n",
        "from sklearn.metrics import accuracy_score, precision_score, recall_score, f1_score\n",
        "\n",
        "from tensorflow.keras import Sequential, Input\n",
        "from tensorflow.keras.layers import Dense, Dropout, InputLayer, BatchNormalization, Concatenate\n",
        "from tensorflow.keras.callbacks import EarlyStopping\n",
        "from tensorflow.keras.regularizers import L1L2\n",
        "\n",
        "from scipy.sparse import hstack\n",
        "\n",
        "from utils.evaluation import plot_history, evaluate, show_errors\n",
        "\n",
        "sns.set_style('whitegrid');\n",
        "sns.set_context('notebook', font_scale=1.1);"
      ]
    },
    {
      "cell_type": "code",
      "execution_count": null,
      "id": "oHoknhm9wP-C",
      "metadata": {
        "colab": {
          "base_uri": "https://localhost:8080/"
        },
        "id": "oHoknhm9wP-C",
        "outputId": "3c75d8f3-94dc-4f1c-d547-0f61a9b90ca5"
      },
      "outputs": [
        {
          "output_type": "stream",
          "name": "stdout",
          "text": [
            "[nltk_data] Downloading package stopwords to /root/nltk_data...\n",
            "[nltk_data]   Unzipping corpora/stopwords.zip.\n"
          ]
        },
        {
          "output_type": "execute_result",
          "data": {
            "text/plain": [
              "True"
            ]
          },
          "metadata": {},
          "execution_count": 4
        }
      ],
      "source": [
        "nltk.download('stopwords')"
      ]
    },
    {
      "cell_type": "markdown",
      "source": [
        "# prepare data"
      ],
      "metadata": {
        "id": "-aM5cru_LsPp"
      },
      "id": "-aM5cru_LsPp"
    },
    {
      "cell_type": "code",
      "execution_count": null,
      "id": "6ef6caff",
      "metadata": {
        "colab": {
          "base_uri": "https://localhost:8080/",
          "height": 206
        },
        "id": "6ef6caff",
        "outputId": "2ce6bcba-428e-4279-ef47-7ef69c45e807"
      },
      "outputs": [
        {
          "output_type": "execute_result",
          "data": {
            "text/plain": [
              "   label                                            comment  \\\n",
              "0      0                                         NC and NH.   \n",
              "1      0  You do know west teams play against west teams...   \n",
              "2      0  They were underdogs earlier today, but since G...   \n",
              "3      0  This meme isn't funny none of the \"new york ni...   \n",
              "4      0                    I could use one of those tools.   \n",
              "\n",
              "                                      parent_comment  \n",
              "0  Yeah, I get that argument. At this point, I'd ...  \n",
              "1  The blazers and Mavericks (The wests 5 and 6 s...  \n",
              "2                            They're favored to win.  \n",
              "3                         deadass don't kill my buzz  \n",
              "4  Yep can confirm I saw the tool they use for th...  "
            ],
            "text/html": [
              "\n",
              "  <div id=\"df-16039959-ea16-4b57-823a-4967877fb3e0\">\n",
              "    <div class=\"colab-df-container\">\n",
              "      <div>\n",
              "<style scoped>\n",
              "    .dataframe tbody tr th:only-of-type {\n",
              "        vertical-align: middle;\n",
              "    }\n",
              "\n",
              "    .dataframe tbody tr th {\n",
              "        vertical-align: top;\n",
              "    }\n",
              "\n",
              "    .dataframe thead th {\n",
              "        text-align: right;\n",
              "    }\n",
              "</style>\n",
              "<table border=\"1\" class=\"dataframe\">\n",
              "  <thead>\n",
              "    <tr style=\"text-align: right;\">\n",
              "      <th></th>\n",
              "      <th>label</th>\n",
              "      <th>comment</th>\n",
              "      <th>parent_comment</th>\n",
              "    </tr>\n",
              "  </thead>\n",
              "  <tbody>\n",
              "    <tr>\n",
              "      <th>0</th>\n",
              "      <td>0</td>\n",
              "      <td>NC and NH.</td>\n",
              "      <td>Yeah, I get that argument. At this point, I'd ...</td>\n",
              "    </tr>\n",
              "    <tr>\n",
              "      <th>1</th>\n",
              "      <td>0</td>\n",
              "      <td>You do know west teams play against west teams...</td>\n",
              "      <td>The blazers and Mavericks (The wests 5 and 6 s...</td>\n",
              "    </tr>\n",
              "    <tr>\n",
              "      <th>2</th>\n",
              "      <td>0</td>\n",
              "      <td>They were underdogs earlier today, but since G...</td>\n",
              "      <td>They're favored to win.</td>\n",
              "    </tr>\n",
              "    <tr>\n",
              "      <th>3</th>\n",
              "      <td>0</td>\n",
              "      <td>This meme isn't funny none of the \"new york ni...</td>\n",
              "      <td>deadass don't kill my buzz</td>\n",
              "    </tr>\n",
              "    <tr>\n",
              "      <th>4</th>\n",
              "      <td>0</td>\n",
              "      <td>I could use one of those tools.</td>\n",
              "      <td>Yep can confirm I saw the tool they use for th...</td>\n",
              "    </tr>\n",
              "  </tbody>\n",
              "</table>\n",
              "</div>\n",
              "      <button class=\"colab-df-convert\" onclick=\"convertToInteractive('df-16039959-ea16-4b57-823a-4967877fb3e0')\"\n",
              "              title=\"Convert this dataframe to an interactive table.\"\n",
              "              style=\"display:none;\">\n",
              "        \n",
              "  <svg xmlns=\"http://www.w3.org/2000/svg\" height=\"24px\"viewBox=\"0 0 24 24\"\n",
              "       width=\"24px\">\n",
              "    <path d=\"M0 0h24v24H0V0z\" fill=\"none\"/>\n",
              "    <path d=\"M18.56 5.44l.94 2.06.94-2.06 2.06-.94-2.06-.94-.94-2.06-.94 2.06-2.06.94zm-11 1L8.5 8.5l.94-2.06 2.06-.94-2.06-.94L8.5 2.5l-.94 2.06-2.06.94zm10 10l.94 2.06.94-2.06 2.06-.94-2.06-.94-.94-2.06-.94 2.06-2.06.94z\"/><path d=\"M17.41 7.96l-1.37-1.37c-.4-.4-.92-.59-1.43-.59-.52 0-1.04.2-1.43.59L10.3 9.45l-7.72 7.72c-.78.78-.78 2.05 0 2.83L4 21.41c.39.39.9.59 1.41.59.51 0 1.02-.2 1.41-.59l7.78-7.78 2.81-2.81c.8-.78.8-2.07 0-2.86zM5.41 20L4 18.59l7.72-7.72 1.47 1.35L5.41 20z\"/>\n",
              "  </svg>\n",
              "      </button>\n",
              "      \n",
              "  <style>\n",
              "    .colab-df-container {\n",
              "      display:flex;\n",
              "      flex-wrap:wrap;\n",
              "      gap: 12px;\n",
              "    }\n",
              "\n",
              "    .colab-df-convert {\n",
              "      background-color: #E8F0FE;\n",
              "      border: none;\n",
              "      border-radius: 50%;\n",
              "      cursor: pointer;\n",
              "      display: none;\n",
              "      fill: #1967D2;\n",
              "      height: 32px;\n",
              "      padding: 0 0 0 0;\n",
              "      width: 32px;\n",
              "    }\n",
              "\n",
              "    .colab-df-convert:hover {\n",
              "      background-color: #E2EBFA;\n",
              "      box-shadow: 0px 1px 2px rgba(60, 64, 67, 0.3), 0px 1px 3px 1px rgba(60, 64, 67, 0.15);\n",
              "      fill: #174EA6;\n",
              "    }\n",
              "\n",
              "    [theme=dark] .colab-df-convert {\n",
              "      background-color: #3B4455;\n",
              "      fill: #D2E3FC;\n",
              "    }\n",
              "\n",
              "    [theme=dark] .colab-df-convert:hover {\n",
              "      background-color: #434B5C;\n",
              "      box-shadow: 0px 1px 3px 1px rgba(0, 0, 0, 0.15);\n",
              "      filter: drop-shadow(0px 1px 2px rgba(0, 0, 0, 0.3));\n",
              "      fill: #FFFFFF;\n",
              "    }\n",
              "  </style>\n",
              "\n",
              "      <script>\n",
              "        const buttonEl =\n",
              "          document.querySelector('#df-16039959-ea16-4b57-823a-4967877fb3e0 button.colab-df-convert');\n",
              "        buttonEl.style.display =\n",
              "          google.colab.kernel.accessAllowed ? 'block' : 'none';\n",
              "\n",
              "        async function convertToInteractive(key) {\n",
              "          const element = document.querySelector('#df-16039959-ea16-4b57-823a-4967877fb3e0');\n",
              "          const dataTable =\n",
              "            await google.colab.kernel.invokeFunction('convertToInteractive',\n",
              "                                                     [key], {});\n",
              "          if (!dataTable) return;\n",
              "\n",
              "          const docLinkHtml = 'Like what you see? Visit the ' +\n",
              "            '<a target=\"_blank\" href=https://colab.research.google.com/notebooks/data_table.ipynb>data table notebook</a>'\n",
              "            + ' to learn more about interactive tables.';\n",
              "          element.innerHTML = '';\n",
              "          dataTable['output_type'] = 'display_data';\n",
              "          await google.colab.output.renderOutput(dataTable, element);\n",
              "          const docLink = document.createElement('div');\n",
              "          docLink.innerHTML = docLinkHtml;\n",
              "          element.appendChild(docLink);\n",
              "        }\n",
              "      </script>\n",
              "    </div>\n",
              "  </div>\n",
              "  "
            ]
          },
          "metadata": {},
          "execution_count": 5
        }
      ],
      "source": [
        "df = pd.read_csv(root+'data/train_balanced_partly_preprocessed.csv')\n",
        "df.head()"
      ]
    },
    {
      "cell_type": "code",
      "source": [
        "def map_special_strings(column):\n",
        "    token_encoding = {\n",
        "            ':)': ' xxsmilingfacexx ',\n",
        "            ':]': ' xxsmilingfacexx ',\n",
        "            ':-)': ' xxsmilingfacexx ',\n",
        "            ';)': ' xxwinksmilingfacexx ',\n",
        "            ':(': ' xxsadfacexx ',\n",
        "            ':-(': ' xxsadfacexx ',\n",
        "            ';(': ' xxcryingsadfacexx ',\n",
        "            ':|': ' xxblankfacexx ',\n",
        "            ':o': ' xxsurprisedfacexx ',\n",
        "            ':/': ' xxwryfacexx ',\n",
        "            ':D': ' xxgrinfacexx ',\n",
        "            ';D': ' xxwinkgrinfacexx ',\n",
        "            ':P': ' xxtonguefacexx ',\n",
        "            ':p': ' xxtongueface2xx ',\n",
        "            ';p': ' xxtongueface2xx ',\n",
        "            '<3': ' xxheartxx '\n",
        "    }\n",
        "\n",
        "    column = (column\n",
        "        .str.replace(r'https?:\\/\\/\\S+\\b|www\\.(\\w+\\.)+\\S*', 'xxurlxx', regex=True)\n",
        "        .str.replace(r'\\bu/\\w+', 'xxuserxx', regex=True)\n",
        "    )\n",
        "\n",
        "    for token, encoding in token_encoding.items():\n",
        "        pattern = re.compile(r'{}+(?!\\S)'.format(re.escape(token)))\n",
        "        column = column.str.replace(pattern, fr' {encoding} ', regex=True)\n",
        "\n",
        "    column = (column\n",
        "        .str.replace(r'[-+]?[.\\d]*[\\d]+[:,.\\d]*', ' xxnumberxx ', regex=True)\n",
        "        .str.replace(r'\\b([a-zA-Z]+?)(.)\\2{2,}\\b', r'\\1\\2 xxelongxx ', regex=True)\n",
        "        .str.replace(r\"(\\b[^a-z0-9\\W()<>'`\\-]{2,}\\b)\", r'\\1 xxallcapsxx ', regex=True)\n",
        "    )\n",
        "\n",
        "    return column"
      ],
      "metadata": {
        "id": "UGXHIYIMxWfH"
      },
      "id": "UGXHIYIMxWfH",
      "execution_count": null,
      "outputs": []
    },
    {
      "cell_type": "code",
      "source": [
        "df['comment'] = map_special_strings(df['comment'])\n",
        "df['parent_comment'] = map_special_strings(df['parent_comment'])"
      ],
      "metadata": {
        "id": "UmDCvYKLM7rN"
      },
      "id": "UmDCvYKLM7rN",
      "execution_count": null,
      "outputs": []
    },
    {
      "cell_type": "code",
      "execution_count": null,
      "metadata": {
        "id": "OXMbnodfD_u1"
      },
      "outputs": [],
      "source": [
        "X = df[['comment', 'parent_comment']]\n",
        "y = df['label'].values"
      ],
      "id": "OXMbnodfD_u1"
    },
    {
      "cell_type": "code",
      "source": [
        "X_train, X_val, y_train, y_val = train_test_split(X, y, stratify=y, test_size=0.2, random_state=42)\n",
        "X_train, X_test, y_train, y_test = train_test_split(X_train, y_train, stratify=y_train, test_size=0.1, random_state=42)"
      ],
      "metadata": {
        "id": "s7Qelh3mg7Ez"
      },
      "execution_count": null,
      "outputs": [],
      "id": "s7Qelh3mg7Ez"
    },
    {
      "cell_type": "code",
      "source": [
        "X_train.shape, X_val.shape, X_test.shape"
      ],
      "metadata": {
        "colab": {
          "base_uri": "https://localhost:8080/"
        },
        "id": "8MW07v51hWDy",
        "outputId": "4b37484e-b1ab-48b2-8c86-cdc26f81fb93"
      },
      "execution_count": null,
      "outputs": [
        {
          "output_type": "execute_result",
          "data": {
            "text/plain": [
              "((722210, 2), (200615, 2), (80246, 2))"
            ]
          },
          "metadata": {},
          "execution_count": 10
        }
      ],
      "id": "8MW07v51hWDy"
    },
    {
      "cell_type": "code",
      "execution_count": null,
      "id": "0POEjM1m0YYl",
      "metadata": {
        "id": "0POEjM1m0YYl"
      },
      "outputs": [],
      "source": [
        "def sparse_tensor(X):\n",
        "    coo = X.tocoo()\n",
        "    indices = np.mat([coo.row, coo.col]).transpose()\n",
        "    return tf.sparse.reorder(tf.SparseTensor(indices, coo.data, coo.shape))"
      ]
    },
    {
      "cell_type": "code",
      "source": [
        "def vectorize_data(data, max_features=10000):\n",
        "    all_sw = list(sklear_stopwords) + stopwords.words('english')\n",
        "    count_vectorizer = CountVectorizer(stop_words=all_sw, token_pattern=r'(?u)\\b\\w\\w+\\b|\\!|\\?|\\.\\.\\.|\\*|\\\"',\n",
        "                                       ngram_range=(1,3), max_features=max_features)\n",
        "\n",
        "    vec_data = {}\n",
        "    vec_data['train'] = count_vectorizer.fit_transform(data[0])\n",
        "    vec_data['val'] = count_vectorizer.transform(data[1])\n",
        "    vec_data['test'] = count_vectorizer.transform(data[2])\n",
        "\n",
        "    return count_vectorizer, vec_data"
      ],
      "metadata": {
        "id": "u1nT4NlvV-Xk"
      },
      "id": "u1nT4NlvV-Xk",
      "execution_count": null,
      "outputs": []
    },
    {
      "cell_type": "markdown",
      "id": "C3tpuJCn7oDa",
      "metadata": {
        "id": "C3tpuJCn7oDa"
      },
      "source": [
        "# no context"
      ]
    },
    {
      "cell_type": "code",
      "source": [
        "count_vectorizer, vec_data = vectorize_data([X_train['comment'], X_val['comment'], X_test['comment']])"
      ],
      "metadata": {
        "id": "3w0MRHR-V5ai"
      },
      "id": "3w0MRHR-V5ai",
      "execution_count": null,
      "outputs": []
    },
    {
      "cell_type": "code",
      "execution_count": null,
      "id": "1u2Yx738xX-a",
      "metadata": {
        "id": "1u2Yx738xX-a"
      },
      "outputs": [],
      "source": [
        "train_dataset = tf.data.Dataset.from_tensor_slices((sparse_tensor(vec_data['train']), y_train)).shuffle(100).batch(128)\n",
        "val_dataset = tf.data.Dataset.from_tensor_slices((sparse_tensor(vec_data['val']), y_val)).batch(128)"
      ]
    },
    {
      "cell_type": "code",
      "source": [
        "model = Sequential([\n",
        "    InputLayer(input_shape=(vec_data['train'].shape[1],)),\n",
        "    Dense(100, activation='relu', kernel_initializer='he_normal', kernel_regularizer=L1L2(l1=3e-6, l2=3e-6)),\n",
        "    BatchNormalization(),\n",
        "    Dropout(0.5),\n",
        "    Dense(1, activation='sigmoid')\n",
        "])\n",
        "\n",
        "binary_crossentropy = tf.keras.losses.BinaryCrossentropy(name='bc')\n",
        "es = EarlyStopping(monitor='val_bc', min_delta=1e-5, patience=5, restore_best_weights=True)\n",
        "\n",
        "model.compile(loss='binary_crossentropy', optimizer='adam', metrics=[binary_crossentropy, 'accuracy'])\n",
        "fit = model.fit(train_dataset, validation_data=val_dataset, epochs=50, callbacks=[es])"
      ],
      "metadata": {
        "colab": {
          "base_uri": "https://localhost:8080/"
        },
        "id": "Okl02FaDAy3A",
        "outputId": "48e907e7-3fc0-43bf-f325-a61ae738f502"
      },
      "id": "Okl02FaDAy3A",
      "execution_count": null,
      "outputs": [
        {
          "output_type": "stream",
          "name": "stdout",
          "text": [
            "Epoch 1/50\n"
          ]
        },
        {
          "output_type": "stream",
          "name": "stderr",
          "text": [
            "/usr/local/lib/python3.7/dist-packages/tensorflow/python/framework/indexed_slices.py:446: UserWarning: Converting sparse IndexedSlices(IndexedSlices(indices=Tensor(\"gradient_tape/sequential_13/dense_40/embedding_lookup_sparse/Reshape_1:0\", shape=(None,), dtype=int32), values=Tensor(\"gradient_tape/sequential_13/dense_40/embedding_lookup_sparse/Reshape:0\", shape=(None, 100), dtype=float32), dense_shape=Tensor(\"gradient_tape/sequential_13/dense_40/embedding_lookup_sparse/Cast:0\", shape=(2,), dtype=int32))) to a dense Tensor of unknown shape. This may consume a large amount of memory.\n",
            "  \"shape. This may consume a large amount of memory.\" % value)\n"
          ]
        },
        {
          "output_type": "stream",
          "name": "stdout",
          "text": [
            "5643/5643 [==============================] - 34s 6ms/step - loss: 0.6587 - bc: 0.6094 - accuracy: 0.6670 - val_loss: 0.6612 - val_bc: 0.6006 - val_accuracy: 0.6795\n",
            "Epoch 2/50\n",
            "5643/5643 [==============================] - 32s 6ms/step - loss: 0.6592 - bc: 0.5959 - accuracy: 0.6781 - val_loss: 0.6612 - val_bc: 0.5970 - val_accuracy: 0.6810\n",
            "Epoch 3/50\n",
            "5643/5643 [==============================] - 33s 6ms/step - loss: 0.6568 - bc: 0.5929 - accuracy: 0.6812 - val_loss: 0.6593 - val_bc: 0.5955 - val_accuracy: 0.6816\n",
            "Epoch 4/50\n",
            "5643/5643 [==============================] - 34s 6ms/step - loss: 0.6537 - bc: 0.5906 - accuracy: 0.6833 - val_loss: 0.6572 - val_bc: 0.5943 - val_accuracy: 0.6834\n",
            "Epoch 5/50\n",
            "5643/5643 [==============================] - 33s 6ms/step - loss: 0.6515 - bc: 0.5892 - accuracy: 0.6850 - val_loss: 0.6577 - val_bc: 0.5949 - val_accuracy: 0.6848\n",
            "Epoch 6/50\n",
            "5643/5643 [==============================] - 34s 6ms/step - loss: 0.6498 - bc: 0.5877 - accuracy: 0.6864 - val_loss: 0.6547 - val_bc: 0.5934 - val_accuracy: 0.6860\n",
            "Epoch 7/50\n",
            "5643/5643 [==============================] - 34s 6ms/step - loss: 0.6485 - bc: 0.5867 - accuracy: 0.6869 - val_loss: 0.6542 - val_bc: 0.5928 - val_accuracy: 0.6861\n",
            "Epoch 8/50\n",
            "5643/5643 [==============================] - 33s 6ms/step - loss: 0.6473 - bc: 0.5861 - accuracy: 0.6879 - val_loss: 0.6583 - val_bc: 0.5969 - val_accuracy: 0.6864\n",
            "Epoch 9/50\n",
            "5643/5643 [==============================] - 32s 6ms/step - loss: 0.6465 - bc: 0.5856 - accuracy: 0.6882 - val_loss: 0.6531 - val_bc: 0.5921 - val_accuracy: 0.6857\n",
            "Epoch 10/50\n",
            "5643/5643 [==============================] - 32s 6ms/step - loss: 0.6453 - bc: 0.5845 - accuracy: 0.6896 - val_loss: 0.6538 - val_bc: 0.5932 - val_accuracy: 0.6866\n",
            "Epoch 11/50\n",
            "5643/5643 [==============================] - 32s 6ms/step - loss: 0.6452 - bc: 0.5847 - accuracy: 0.6892 - val_loss: 0.6525 - val_bc: 0.5924 - val_accuracy: 0.6854\n",
            "Epoch 12/50\n",
            "5643/5643 [==============================] - 32s 6ms/step - loss: 0.6443 - bc: 0.5841 - accuracy: 0.6892 - val_loss: 0.6520 - val_bc: 0.5920 - val_accuracy: 0.6855\n",
            "Epoch 13/50\n",
            "5643/5643 [==============================] - 32s 6ms/step - loss: 0.6433 - bc: 0.5831 - accuracy: 0.6907 - val_loss: 0.6541 - val_bc: 0.5939 - val_accuracy: 0.6862\n",
            "Epoch 14/50\n",
            "5643/5643 [==============================] - 31s 6ms/step - loss: 0.6435 - bc: 0.5833 - accuracy: 0.6903 - val_loss: 0.6564 - val_bc: 0.5966 - val_accuracy: 0.6858\n",
            "Epoch 15/50\n",
            "5643/5643 [==============================] - 32s 6ms/step - loss: 0.6432 - bc: 0.5832 - accuracy: 0.6901 - val_loss: 0.6537 - val_bc: 0.5941 - val_accuracy: 0.6855\n",
            "Epoch 16/50\n",
            "5643/5643 [==============================] - 31s 6ms/step - loss: 0.6421 - bc: 0.5822 - accuracy: 0.6908 - val_loss: 0.6532 - val_bc: 0.5933 - val_accuracy: 0.6864\n",
            "Epoch 17/50\n",
            "5643/5643 [==============================] - 32s 6ms/step - loss: 0.6420 - bc: 0.5823 - accuracy: 0.6909 - val_loss: 0.6522 - val_bc: 0.5931 - val_accuracy: 0.6867\n"
          ]
        }
      ]
    },
    {
      "cell_type": "code",
      "source": [
        "plot_history(fit)"
      ],
      "metadata": {
        "colab": {
          "base_uri": "https://localhost:8080/",
          "height": 288
        },
        "id": "7lywGb5-EBEQ",
        "outputId": "658c8298-18e9-4f53-c537-4df9d58f0977"
      },
      "id": "7lywGb5-EBEQ",
      "execution_count": null,
      "outputs": [
        {
          "output_type": "display_data",
          "data": {
            "text/plain": [
              "<Figure size 1008x288 with 2 Axes>"
            ],
            "image/png": "[encoded data removed]"
          },
          "metadata": {}
        }
      ]
    },
    {
      "cell_type": "code",
      "source": [
        "evaluate(model, sparse_tensor(vec_data['test']), y_test)"
      ],
      "metadata": {
        "colab": {
          "base_uri": "https://localhost:8080/",
          "height": 342
        },
        "outputId": "1fd028a7-9dd3-4fa1-c7f4-be1411b4e96c",
        "id": "xtWZRKnwL5a8"
      },
      "execution_count": null,
      "outputs": [
        {
          "output_type": "display_data",
          "data": {
            "text/plain": [
              "<Figure size 360x360 with 1 Axes>"
            ],
            "image/png": "[encoded data removed]"
          },
          "metadata": {}
        }
      ],
      "id": "xtWZRKnwL5a8"
    },
    {
      "cell_type": "code",
      "source": [
        "show_errors(model, X_test['comment'].values, sparse_tensor(vec_data['test']), y_test)"
      ],
      "metadata": {
        "colab": {
          "base_uri": "https://localhost:8080/"
        },
        "id": "YH-qkNxsdrgD",
        "outputId": "1fc3b1cf-141c-420b-a3a3-84b0aad3e18f"
      },
      "id": "YH-qkNxsdrgD",
      "execution_count": null,
      "outputs": [
        {
          "output_type": "stream",
          "name": "stdout",
          "text": [
            "False negatives:\n",
            "---------------------------\n",
            "No xxelongxx .\n",
            "It's not lies, it's perception management\n",
            "Nah. xxelongxx the sun hurts too much when I leave my mom's basement.\n",
            "\"sacred\"\n",
            "pencitraan\n",
            "\n",
            "False positives:\n",
            "---------------------------\n",
            "yup and women in burkas are...?\n",
            "You need component cables and it'll look much, much better.\n",
            "FIX xxallcapsxx  THE xxallcapsxx  GODDAMN xxallcapsxx  SERVERS xxallcapsxx !\n",
            "Awesome, I happen to live off of Parmer!\n",
            "I would be checking for  xxnumberxx  right?\n"
          ]
        }
      ]
    },
    {
      "cell_type": "markdown",
      "source": [
        "# univariate feature selection"
      ],
      "metadata": {
        "id": "6GIJiS4uO7YZ"
      },
      "id": "6GIJiS4uO7YZ"
    },
    {
      "cell_type": "code",
      "source": [
        "def univariate_fs(scorer, data_filename, scores_filename, k=4000):\n",
        "    kbest = SelectKBest(scorer, k=k)\n",
        "\n",
        "    X_train = kbest.fit_transform(vec_data['train'], y_train)\n",
        "    X_val = kbest.transform(vec_data['val'])\n",
        "    X_test = kbest.transform(vec_data['test'])\n",
        "\n",
        "    data = {'X_train': X_train, 'X_val': X_test, 'X_test': X_test}\n",
        "\n",
        "    with open(root+'univariate_fs/'+data_filename, 'wb') as file:\n",
        "        pickle.dump(data, file)\n",
        "\n",
        "    df_scores = pd.DataFrame({\n",
        "        'feature': count_vectorizer.get_feature_names_out(),\n",
        "        'score': kbest.scores_\n",
        "    })\n",
        "    \n",
        "    df_scores = df_scores.sort_values('score', ascending=False, ignore_index=True)\n",
        "    df_scores.to_csv(root+fr'univariate_fs/{scores_filename}.csv', index=False)\n",
        "\n",
        "    return df_scores"
      ],
      "metadata": {
        "id": "oiU84vdOd-jW"
      },
      "id": "oiU84vdOd-jW",
      "execution_count": null,
      "outputs": []
    },
    {
      "cell_type": "markdown",
      "source": [
        "## chi2"
      ],
      "metadata": {
        "id": "vZrIbQmMceai"
      },
      "id": "vZrIbQmMceai"
    },
    {
      "cell_type": "code",
      "source": [
        "chi2_scores = univariate_fs(chi2, 'chi2_data', 'chi2_scores')"
      ],
      "metadata": {
        "id": "_iL6sWWccswC"
      },
      "execution_count": null,
      "outputs": [],
      "id": "_iL6sWWccswC"
    },
    {
      "cell_type": "code",
      "source": [
        "chi2_scores.head(20)"
      ],
      "metadata": {
        "colab": {
          "base_uri": "https://localhost:8080/",
          "height": 677
        },
        "id": "4eOhKLbyg3z6",
        "outputId": "29f163ee-ab77-4a70-a657-aea9b1ad9227"
      },
      "id": "4eOhKLbyg3z6",
      "execution_count": null,
      "outputs": [
        {
          "output_type": "execute_result",
          "data": {
            "text/plain": [
              "                          feature         score\n",
              "0                               !  13109.189087\n",
              "1                            yeah   9864.965553\n",
              "2                       obviously   4832.820834\n",
              "3                         totally   3825.902607\n",
              "4                         clearly   3066.856484\n",
              "5                     ... ... ...   3041.075818\n",
              "6         xxallcapsxx xxallcapsxx   2917.203841\n",
              "7                         ... ...   2646.440154\n",
              "8                      xxnumberxx   2303.145213\n",
              "9                         comcast   2279.049634\n",
              "10                              \"   2138.065032\n",
              "11                         racist   1904.373346\n",
              "12                            yes   1640.774733\n",
              "13                          right   1623.130905\n",
              "14  xxallcapsxx money xxallcapsxx   1571.332764\n",
              "15              money xxallcapsxx   1569.035794\n",
              "16                            wow   1559.563440\n",
              "17                        right ?   1476.354526\n",
              "18                          women   1431.312276\n",
              "19                      xxelongxx   1428.911386"
            ],
            "text/html": [
              "\n",
              "  <div id=\"df-217e959d-24a5-4490-9bf1-43bf2b4b7fbb\">\n",
              "    <div class=\"colab-df-container\">\n",
              "      <div>\n",
              "<style scoped>\n",
              "    .dataframe tbody tr th:only-of-type {\n",
              "        vertical-align: middle;\n",
              "    }\n",
              "\n",
              "    .dataframe tbody tr th {\n",
              "        vertical-align: top;\n",
              "    }\n",
              "\n",
              "    .dataframe thead th {\n",
              "        text-align: right;\n",
              "    }\n",
              "</style>\n",
              "<table border=\"1\" class=\"dataframe\">\n",
              "  <thead>\n",
              "    <tr style=\"text-align: right;\">\n",
              "      <th></th>\n",
              "      <th>feature</th>\n",
              "      <th>score</th>\n",
              "    </tr>\n",
              "  </thead>\n",
              "  <tbody>\n",
              "    <tr>\n",
              "      <th>0</th>\n",
              "      <td>!</td>\n",
              "      <td>13109.189087</td>\n",
              "    </tr>\n",
              "    <tr>\n",
              "      <th>1</th>\n",
              "      <td>yeah</td>\n",
              "      <td>9864.965553</td>\n",
              "    </tr>\n",
              "    <tr>\n",
              "      <th>2</th>\n",
              "      <td>obviously</td>\n",
              "      <td>4832.820834</td>\n",
              "    </tr>\n",
              "    <tr>\n",
              "      <th>3</th>\n",
              "      <td>totally</td>\n",
              "      <td>3825.902607</td>\n",
              "    </tr>\n",
              "    <tr>\n",
              "      <th>4</th>\n",
              "      <td>clearly</td>\n",
              "      <td>3066.856484</td>\n",
              "    </tr>\n",
              "    <tr>\n",
              "      <th>5</th>\n",
              "      <td>... ... ...</td>\n",
              "      <td>3041.075818</td>\n",
              "    </tr>\n",
              "    <tr>\n",
              "      <th>6</th>\n",
              "      <td>xxallcapsxx xxallcapsxx</td>\n",
              "      <td>2917.203841</td>\n",
              "    </tr>\n",
              "    <tr>\n",
              "      <th>7</th>\n",
              "      <td>... ...</td>\n",
              "      <td>2646.440154</td>\n",
              "    </tr>\n",
              "    <tr>\n",
              "      <th>8</th>\n",
              "      <td>xxnumberxx</td>\n",
              "      <td>2303.145213</td>\n",
              "    </tr>\n",
              "    <tr>\n",
              "      <th>9</th>\n",
              "      <td>comcast</td>\n",
              "      <td>2279.049634</td>\n",
              "    </tr>\n",
              "    <tr>\n",
              "      <th>10</th>\n",
              "      <td>\"</td>\n",
              "      <td>2138.065032</td>\n",
              "    </tr>\n",
              "    <tr>\n",
              "      <th>11</th>\n",
              "      <td>racist</td>\n",
              "      <td>1904.373346</td>\n",
              "    </tr>\n",
              "    <tr>\n",
              "      <th>12</th>\n",
              "      <td>yes</td>\n",
              "      <td>1640.774733</td>\n",
              "    </tr>\n",
              "    <tr>\n",
              "      <th>13</th>\n",
              "      <td>right</td>\n",
              "      <td>1623.130905</td>\n",
              "    </tr>\n",
              "    <tr>\n",
              "      <th>14</th>\n",
              "      <td>xxallcapsxx money xxallcapsxx</td>\n",
              "      <td>1571.332764</td>\n",
              "    </tr>\n",
              "    <tr>\n",
              "      <th>15</th>\n",
              "      <td>money xxallcapsxx</td>\n",
              "      <td>1569.035794</td>\n",
              "    </tr>\n",
              "    <tr>\n",
              "      <th>16</th>\n",
              "      <td>wow</td>\n",
              "      <td>1559.563440</td>\n",
              "    </tr>\n",
              "    <tr>\n",
              "      <th>17</th>\n",
              "      <td>right ?</td>\n",
              "      <td>1476.354526</td>\n",
              "    </tr>\n",
              "    <tr>\n",
              "      <th>18</th>\n",
              "      <td>women</td>\n",
              "      <td>1431.312276</td>\n",
              "    </tr>\n",
              "    <tr>\n",
              "      <th>19</th>\n",
              "      <td>xxelongxx</td>\n",
              "      <td>1428.911386</td>\n",
              "    </tr>\n",
              "  </tbody>\n",
              "</table>\n",
              "</div>\n",
              "      <button class=\"colab-df-convert\" onclick=\"convertToInteractive('df-217e959d-24a5-4490-9bf1-43bf2b4b7fbb')\"\n",
              "              title=\"Convert this dataframe to an interactive table.\"\n",
              "              style=\"display:none;\">\n",
              "        \n",
              "  <svg xmlns=\"http://www.w3.org/2000/svg\" height=\"24px\"viewBox=\"0 0 24 24\"\n",
              "       width=\"24px\">\n",
              "    <path d=\"M0 0h24v24H0V0z\" fill=\"none\"/>\n",
              "    <path d=\"M18.56 5.44l.94 2.06.94-2.06 2.06-.94-2.06-.94-.94-2.06-.94 2.06-2.06.94zm-11 1L8.5 8.5l.94-2.06 2.06-.94-2.06-.94L8.5 2.5l-.94 2.06-2.06.94zm10 10l.94 2.06.94-2.06 2.06-.94-2.06-.94-.94-2.06-.94 2.06-2.06.94z\"/><path d=\"M17.41 7.96l-1.37-1.37c-.4-.4-.92-.59-1.43-.59-.52 0-1.04.2-1.43.59L10.3 9.45l-7.72 7.72c-.78.78-.78 2.05 0 2.83L4 21.41c.39.39.9.59 1.41.59.51 0 1.02-.2 1.41-.59l7.78-7.78 2.81-2.81c.8-.78.8-2.07 0-2.86zM5.41 20L4 18.59l7.72-7.72 1.47 1.35L5.41 20z\"/>\n",
              "  </svg>\n",
              "      </button>\n",
              "      \n",
              "  <style>\n",
              "    .colab-df-container {\n",
              "      display:flex;\n",
              "      flex-wrap:wrap;\n",
              "      gap: 12px;\n",
              "    }\n",
              "\n",
              "    .colab-df-convert {\n",
              "      background-color: #E8F0FE;\n",
              "      border: none;\n",
              "      border-radius: 50%;\n",
              "      cursor: pointer;\n",
              "      display: none;\n",
              "      fill: #1967D2;\n",
              "      height: 32px;\n",
              "      padding: 0 0 0 0;\n",
              "      width: 32px;\n",
              "    }\n",
              "\n",
              "    .colab-df-convert:hover {\n",
              "      background-color: #E2EBFA;\n",
              "      box-shadow: 0px 1px 2px rgba(60, 64, 67, 0.3), 0px 1px 3px 1px rgba(60, 64, 67, 0.15);\n",
              "      fill: #174EA6;\n",
              "    }\n",
              "\n",
              "    [theme=dark] .colab-df-convert {\n",
              "      background-color: #3B4455;\n",
              "      fill: #D2E3FC;\n",
              "    }\n",
              "\n",
              "    [theme=dark] .colab-df-convert:hover {\n",
              "      background-color: #434B5C;\n",
              "      box-shadow: 0px 1px 3px 1px rgba(0, 0, 0, 0.15);\n",
              "      filter: drop-shadow(0px 1px 2px rgba(0, 0, 0, 0.3));\n",
              "      fill: #FFFFFF;\n",
              "    }\n",
              "  </style>\n",
              "\n",
              "      <script>\n",
              "        const buttonEl =\n",
              "          document.querySelector('#df-217e959d-24a5-4490-9bf1-43bf2b4b7fbb button.colab-df-convert');\n",
              "        buttonEl.style.display =\n",
              "          google.colab.kernel.accessAllowed ? 'block' : 'none';\n",
              "\n",
              "        async function convertToInteractive(key) {\n",
              "          const element = document.querySelector('#df-217e959d-24a5-4490-9bf1-43bf2b4b7fbb');\n",
              "          const dataTable =\n",
              "            await google.colab.kernel.invokeFunction('convertToInteractive',\n",
              "                                                     [key], {});\n",
              "          if (!dataTable) return;\n",
              "\n",
              "          const docLinkHtml = 'Like what you see? Visit the ' +\n",
              "            '<a target=\"_blank\" href=https://colab.research.google.com/notebooks/data_table.ipynb>data table notebook</a>'\n",
              "            + ' to learn more about interactive tables.';\n",
              "          element.innerHTML = '';\n",
              "          dataTable['output_type'] = 'display_data';\n",
              "          await google.colab.output.renderOutput(dataTable, element);\n",
              "          const docLink = document.createElement('div');\n",
              "          docLink.innerHTML = docLinkHtml;\n",
              "          element.appendChild(docLink);\n",
              "        }\n",
              "      </script>\n",
              "    </div>\n",
              "  </div>\n",
              "  "
            ]
          },
          "metadata": {},
          "execution_count": 28
        }
      ]
    },
    {
      "cell_type": "markdown",
      "source": [
        "## anova f-value"
      ],
      "metadata": {
        "id": "hAgoNbSRcgL1"
      },
      "id": "hAgoNbSRcgL1"
    },
    {
      "cell_type": "code",
      "source": [
        "f_scores = univariate_fs(f_classif, 'f_data', 'f_scores')"
      ],
      "metadata": {
        "id": "dYV6ILnXgw46"
      },
      "id": "dYV6ILnXgw46",
      "execution_count": null,
      "outputs": []
    },
    {
      "cell_type": "code",
      "source": [
        "f_scores.head(20)"
      ],
      "metadata": {
        "colab": {
          "base_uri": "https://localhost:8080/",
          "height": 677
        },
        "id": "qa50-JMxg63T",
        "outputId": "200e1874-6427-4d85-fb34-8469d1b35a1b"
      },
      "id": "qa50-JMxg63T",
      "execution_count": null,
      "outputs": [
        {
          "output_type": "execute_result",
          "data": {
            "text/plain": [
              "                      feature         score\n",
              "0                           !  14233.905102\n",
              "1                        yeah  10358.177405\n",
              "2                   obviously   4877.437219\n",
              "3                     totally   3796.895773\n",
              "4                     clearly   3068.594229\n",
              "5                      racist   1802.248379\n",
              "6                       right   1595.074095\n",
              "7                         yes   1592.042132\n",
              "8                         wow   1545.976858\n",
              "9                     right ?   1486.236132\n",
              "10            xxsmilingfacexx   1355.622047\n",
              "11                      women   1294.852006\n",
              "12                         oh   1244.986471\n",
              "13                       sure   1230.790472\n",
              "14                      think   1225.739120\n",
              "15  xxelongxx xxsmilingfacexx   1212.463998\n",
              "16                      white   1173.943186\n",
              "17                        duh   1119.987748\n",
              "18                        nah   1082.093423\n",
              "19                        yea    989.287739"
            ],
            "text/html": [
              "\n",
              "  <div id=\"df-7cef1290-f394-4eb0-92f3-3d99e889ac6e\">\n",
              "    <div class=\"colab-df-container\">\n",
              "      <div>\n",
              "<style scoped>\n",
              "    .dataframe tbody tr th:only-of-type {\n",
              "        vertical-align: middle;\n",
              "    }\n",
              "\n",
              "    .dataframe tbody tr th {\n",
              "        vertical-align: top;\n",
              "    }\n",
              "\n",
              "    .dataframe thead th {\n",
              "        text-align: right;\n",
              "    }\n",
              "</style>\n",
              "<table border=\"1\" class=\"dataframe\">\n",
              "  <thead>\n",
              "    <tr style=\"text-align: right;\">\n",
              "      <th></th>\n",
              "      <th>feature</th>\n",
              "      <th>score</th>\n",
              "    </tr>\n",
              "  </thead>\n",
              "  <tbody>\n",
              "    <tr>\n",
              "      <th>0</th>\n",
              "      <td>!</td>\n",
              "      <td>14233.905102</td>\n",
              "    </tr>\n",
              "    <tr>\n",
              "      <th>1</th>\n",
              "      <td>yeah</td>\n",
              "      <td>10358.177405</td>\n",
              "    </tr>\n",
              "    <tr>\n",
              "      <th>2</th>\n",
              "      <td>obviously</td>\n",
              "      <td>4877.437219</td>\n",
              "    </tr>\n",
              "    <tr>\n",
              "      <th>3</th>\n",
              "      <td>totally</td>\n",
              "      <td>3796.895773</td>\n",
              "    </tr>\n",
              "    <tr>\n",
              "      <th>4</th>\n",
              "      <td>clearly</td>\n",
              "      <td>3068.594229</td>\n",
              "    </tr>\n",
              "    <tr>\n",
              "      <th>5</th>\n",
              "      <td>racist</td>\n",
              "      <td>1802.248379</td>\n",
              "    </tr>\n",
              "    <tr>\n",
              "      <th>6</th>\n",
              "      <td>right</td>\n",
              "      <td>1595.074095</td>\n",
              "    </tr>\n",
              "    <tr>\n",
              "      <th>7</th>\n",
              "      <td>yes</td>\n",
              "      <td>1592.042132</td>\n",
              "    </tr>\n",
              "    <tr>\n",
              "      <th>8</th>\n",
              "      <td>wow</td>\n",
              "      <td>1545.976858</td>\n",
              "    </tr>\n",
              "    <tr>\n",
              "      <th>9</th>\n",
              "      <td>right ?</td>\n",
              "      <td>1486.236132</td>\n",
              "    </tr>\n",
              "    <tr>\n",
              "      <th>10</th>\n",
              "      <td>xxsmilingfacexx</td>\n",
              "      <td>1355.622047</td>\n",
              "    </tr>\n",
              "    <tr>\n",
              "      <th>11</th>\n",
              "      <td>women</td>\n",
              "      <td>1294.852006</td>\n",
              "    </tr>\n",
              "    <tr>\n",
              "      <th>12</th>\n",
              "      <td>oh</td>\n",
              "      <td>1244.986471</td>\n",
              "    </tr>\n",
              "    <tr>\n",
              "      <th>13</th>\n",
              "      <td>sure</td>\n",
              "      <td>1230.790472</td>\n",
              "    </tr>\n",
              "    <tr>\n",
              "      <th>14</th>\n",
              "      <td>think</td>\n",
              "      <td>1225.739120</td>\n",
              "    </tr>\n",
              "    <tr>\n",
              "      <th>15</th>\n",
              "      <td>xxelongxx xxsmilingfacexx</td>\n",
              "      <td>1212.463998</td>\n",
              "    </tr>\n",
              "    <tr>\n",
              "      <th>16</th>\n",
              "      <td>white</td>\n",
              "      <td>1173.943186</td>\n",
              "    </tr>\n",
              "    <tr>\n",
              "      <th>17</th>\n",
              "      <td>duh</td>\n",
              "      <td>1119.987748</td>\n",
              "    </tr>\n",
              "    <tr>\n",
              "      <th>18</th>\n",
              "      <td>nah</td>\n",
              "      <td>1082.093423</td>\n",
              "    </tr>\n",
              "    <tr>\n",
              "      <th>19</th>\n",
              "      <td>yea</td>\n",
              "      <td>989.287739</td>\n",
              "    </tr>\n",
              "  </tbody>\n",
              "</table>\n",
              "</div>\n",
              "      <button class=\"colab-df-convert\" onclick=\"convertToInteractive('df-7cef1290-f394-4eb0-92f3-3d99e889ac6e')\"\n",
              "              title=\"Convert this dataframe to an interactive table.\"\n",
              "              style=\"display:none;\">\n",
              "        \n",
              "  <svg xmlns=\"http://www.w3.org/2000/svg\" height=\"24px\"viewBox=\"0 0 24 24\"\n",
              "       width=\"24px\">\n",
              "    <path d=\"M0 0h24v24H0V0z\" fill=\"none\"/>\n",
              "    <path d=\"M18.56 5.44l.94 2.06.94-2.06 2.06-.94-2.06-.94-.94-2.06-.94 2.06-2.06.94zm-11 1L8.5 8.5l.94-2.06 2.06-.94-2.06-.94L8.5 2.5l-.94 2.06-2.06.94zm10 10l.94 2.06.94-2.06 2.06-.94-2.06-.94-.94-2.06-.94 2.06-2.06.94z\"/><path d=\"M17.41 7.96l-1.37-1.37c-.4-.4-.92-.59-1.43-.59-.52 0-1.04.2-1.43.59L10.3 9.45l-7.72 7.72c-.78.78-.78 2.05 0 2.83L4 21.41c.39.39.9.59 1.41.59.51 0 1.02-.2 1.41-.59l7.78-7.78 2.81-2.81c.8-.78.8-2.07 0-2.86zM5.41 20L4 18.59l7.72-7.72 1.47 1.35L5.41 20z\"/>\n",
              "  </svg>\n",
              "      </button>\n",
              "      \n",
              "  <style>\n",
              "    .colab-df-container {\n",
              "      display:flex;\n",
              "      flex-wrap:wrap;\n",
              "      gap: 12px;\n",
              "    }\n",
              "\n",
              "    .colab-df-convert {\n",
              "      background-color: #E8F0FE;\n",
              "      border: none;\n",
              "      border-radius: 50%;\n",
              "      cursor: pointer;\n",
              "      display: none;\n",
              "      fill: #1967D2;\n",
              "      height: 32px;\n",
              "      padding: 0 0 0 0;\n",
              "      width: 32px;\n",
              "    }\n",
              "\n",
              "    .colab-df-convert:hover {\n",
              "      background-color: #E2EBFA;\n",
              "      box-shadow: 0px 1px 2px rgba(60, 64, 67, 0.3), 0px 1px 3px 1px rgba(60, 64, 67, 0.15);\n",
              "      fill: #174EA6;\n",
              "    }\n",
              "\n",
              "    [theme=dark] .colab-df-convert {\n",
              "      background-color: #3B4455;\n",
              "      fill: #D2E3FC;\n",
              "    }\n",
              "\n",
              "    [theme=dark] .colab-df-convert:hover {\n",
              "      background-color: #434B5C;\n",
              "      box-shadow: 0px 1px 3px 1px rgba(0, 0, 0, 0.15);\n",
              "      filter: drop-shadow(0px 1px 2px rgba(0, 0, 0, 0.3));\n",
              "      fill: #FFFFFF;\n",
              "    }\n",
              "  </style>\n",
              "\n",
              "      <script>\n",
              "        const buttonEl =\n",
              "          document.querySelector('#df-7cef1290-f394-4eb0-92f3-3d99e889ac6e button.colab-df-convert');\n",
              "        buttonEl.style.display =\n",
              "          google.colab.kernel.accessAllowed ? 'block' : 'none';\n",
              "\n",
              "        async function convertToInteractive(key) {\n",
              "          const element = document.querySelector('#df-7cef1290-f394-4eb0-92f3-3d99e889ac6e');\n",
              "          const dataTable =\n",
              "            await google.colab.kernel.invokeFunction('convertToInteractive',\n",
              "                                                     [key], {});\n",
              "          if (!dataTable) return;\n",
              "\n",
              "          const docLinkHtml = 'Like what you see? Visit the ' +\n",
              "            '<a target=\"_blank\" href=https://colab.research.google.com/notebooks/data_table.ipynb>data table notebook</a>'\n",
              "            + ' to learn more about interactive tables.';\n",
              "          element.innerHTML = '';\n",
              "          dataTable['output_type'] = 'display_data';\n",
              "          await google.colab.output.renderOutput(dataTable, element);\n",
              "          const docLink = document.createElement('div');\n",
              "          docLink.innerHTML = docLinkHtml;\n",
              "          element.appendChild(docLink);\n",
              "        }\n",
              "      </script>\n",
              "    </div>\n",
              "  </div>\n",
              "  "
            ]
          },
          "metadata": {},
          "execution_count": 30
        }
      ]
    },
    {
      "cell_type": "markdown",
      "source": [
        "# context"
      ],
      "metadata": {
        "id": "6oJesUIqYWPA"
      },
      "id": "6oJesUIqYWPA"
    },
    {
      "cell_type": "code",
      "source": [
        "_, vec_data = vectorize_data([X_train['comment'], X_val['comment'], X_test['comment']])\n",
        "_, vec_data_par = vectorize_data([X_train['parent_comment'], X_val['parent_comment'], X_test['parent_comment']])"
      ],
      "metadata": {
        "id": "FN0j8qPfY3PV"
      },
      "id": "FN0j8qPfY3PV",
      "execution_count": null,
      "outputs": []
    },
    {
      "cell_type": "code",
      "source": [
        "X_train_vec = hstack([vec_data['train'], vec_data_par['train']])\n",
        "X_val_vec = hstack([vec_data['val'], vec_data_par['val']])\n",
        "X_test_vec = hstack([vec_data['test'], vec_data_par['test']])"
      ],
      "metadata": {
        "id": "y0snum9qYowL"
      },
      "execution_count": null,
      "outputs": [],
      "id": "y0snum9qYowL"
    },
    {
      "cell_type": "code",
      "execution_count": null,
      "metadata": {
        "id": "gyZAkRSeYowP"
      },
      "outputs": [],
      "source": [
        "train_dataset = tf.data.Dataset.from_tensor_slices((sparse_tensor(X_train_vec), y_train)).shuffle(100).batch(128)\n",
        "val_dataset = tf.data.Dataset.from_tensor_slices((sparse_tensor(X_val_vec), y_val)).batch(128)"
      ],
      "id": "gyZAkRSeYowP"
    },
    {
      "cell_type": "code",
      "source": [
        "model = Sequential([\n",
        "    InputLayer(input_shape=(X_train_vec.shape[1],)),\n",
        "    Dense(100, activation='relu', kernel_initializer='he_normal', kernel_regularizer=L1L2(l1=5e-6, l2=5e-6)),\n",
        "    BatchNormalization(),\n",
        "    Dropout(0.5),\n",
        "    Dense(1, activation='sigmoid')\n",
        "])\n",
        "\n",
        "binary_crossentropy = tf.keras.losses.BinaryCrossentropy(name='bc')\n",
        "es = EarlyStopping(monitor='val_bc', min_delta=1e-5, patience=5, restore_best_weights=True)\n",
        "\n",
        "model.compile(loss='binary_crossentropy', optimizer='adam', metrics=[binary_crossentropy, 'accuracy'])\n",
        "fit = model.fit(train_dataset, validation_data=val_dataset, epochs=50, callbacks=[es])"
      ],
      "metadata": {
        "colab": {
          "base_uri": "https://localhost:8080/"
        },
        "outputId": "a2ade95c-5c57-4934-af34-7998a649ca9d",
        "id": "cNffZSjWYowQ"
      },
      "execution_count": null,
      "outputs": [
        {
          "output_type": "stream",
          "name": "stdout",
          "text": [
            "Epoch 1/50\n"
          ]
        },
        {
          "output_type": "stream",
          "name": "stderr",
          "text": [
            "/usr/local/lib/python3.7/dist-packages/tensorflow/python/framework/indexed_slices.py:446: UserWarning: Converting sparse IndexedSlices(IndexedSlices(indices=Tensor(\"gradient_tape/sequential_14/dense_42/embedding_lookup_sparse/Reshape_1:0\", shape=(None,), dtype=int32), values=Tensor(\"gradient_tape/sequential_14/dense_42/embedding_lookup_sparse/Reshape:0\", shape=(None, 100), dtype=float32), dense_shape=Tensor(\"gradient_tape/sequential_14/dense_42/embedding_lookup_sparse/Cast:0\", shape=(2,), dtype=int32))) to a dense Tensor of unknown shape. This may consume a large amount of memory.\n",
            "  \"shape. This may consume a large amount of memory.\" % value)\n"
          ]
        },
        {
          "output_type": "stream",
          "name": "stdout",
          "text": [
            "5643/5643 [==============================] - 35s 6ms/step - loss: 0.7291 - bc: 0.6172 - accuracy: 0.6602 - val_loss: 0.7272 - val_bc: 0.6072 - val_accuracy: 0.6739\n",
            "Epoch 2/50\n",
            "5643/5643 [==============================] - 34s 6ms/step - loss: 0.7202 - bc: 0.6020 - accuracy: 0.6718 - val_loss: 0.7159 - val_bc: 0.6023 - val_accuracy: 0.6777\n",
            "Epoch 3/50\n",
            "5643/5643 [==============================] - 34s 6ms/step - loss: 0.7107 - bc: 0.5987 - accuracy: 0.6750 - val_loss: 0.7034 - val_bc: 0.5973 - val_accuracy: 0.6803\n",
            "Epoch 4/50\n",
            "5643/5643 [==============================] - 34s 6ms/step - loss: 0.7029 - bc: 0.5968 - accuracy: 0.6774 - val_loss: 0.7023 - val_bc: 0.5993 - val_accuracy: 0.6804\n",
            "Epoch 5/50\n",
            "5643/5643 [==============================] - 34s 6ms/step - loss: 0.6974 - bc: 0.5948 - accuracy: 0.6792 - val_loss: 0.7031 - val_bc: 0.6019 - val_accuracy: 0.6819\n",
            "Epoch 6/50\n",
            "5643/5643 [==============================] - 34s 6ms/step - loss: 0.6945 - bc: 0.5940 - accuracy: 0.6803 - val_loss: 0.7010 - val_bc: 0.6009 - val_accuracy: 0.6819\n",
            "Epoch 7/50\n",
            "5643/5643 [==============================] - 34s 6ms/step - loss: 0.6924 - bc: 0.5934 - accuracy: 0.6802 - val_loss: 0.6946 - val_bc: 0.5983 - val_accuracy: 0.6829\n",
            "Epoch 8/50\n",
            "5643/5643 [==============================] - 34s 6ms/step - loss: 0.6903 - bc: 0.5928 - accuracy: 0.6811 - val_loss: 0.6931 - val_bc: 0.5966 - val_accuracy: 0.6839\n",
            "Epoch 9/50\n",
            "5643/5643 [==============================] - 34s 6ms/step - loss: 0.6878 - bc: 0.5922 - accuracy: 0.6821 - val_loss: 0.6890 - val_bc: 0.5952 - val_accuracy: 0.6839\n",
            "Epoch 10/50\n",
            "5643/5643 [==============================] - 34s 6ms/step - loss: 0.6867 - bc: 0.5917 - accuracy: 0.6822 - val_loss: 0.6880 - val_bc: 0.5946 - val_accuracy: 0.6848\n",
            "Epoch 11/50\n",
            "5643/5643 [==============================] - 34s 6ms/step - loss: 0.6856 - bc: 0.5918 - accuracy: 0.6826 - val_loss: 0.6871 - val_bc: 0.5953 - val_accuracy: 0.6847\n",
            "Epoch 12/50\n",
            "5643/5643 [==============================] - 34s 6ms/step - loss: 0.6845 - bc: 0.5914 - accuracy: 0.6826 - val_loss: 0.6898 - val_bc: 0.5979 - val_accuracy: 0.6830\n",
            "Epoch 13/50\n",
            "5643/5643 [==============================] - 34s 6ms/step - loss: 0.6833 - bc: 0.5914 - accuracy: 0.6827 - val_loss: 0.6869 - val_bc: 0.5965 - val_accuracy: 0.6839\n",
            "Epoch 14/50\n",
            "5643/5643 [==============================] - 34s 6ms/step - loss: 0.6828 - bc: 0.5914 - accuracy: 0.6824 - val_loss: 0.6861 - val_bc: 0.5961 - val_accuracy: 0.6838\n",
            "Epoch 15/50\n",
            "5643/5643 [==============================] - 34s 6ms/step - loss: 0.6822 - bc: 0.5913 - accuracy: 0.6826 - val_loss: 0.6911 - val_bc: 0.5996 - val_accuracy: 0.6836\n"
          ]
        }
      ],
      "id": "cNffZSjWYowQ"
    },
    {
      "cell_type": "code",
      "source": [
        "plot_history(fit)"
      ],
      "metadata": {
        "colab": {
          "base_uri": "https://localhost:8080/",
          "height": 288
        },
        "outputId": "31f59ac8-7be5-4c17-c31c-7db87c3a3bd0",
        "id": "R7FtrnMNYowR"
      },
      "execution_count": null,
      "outputs": [
        {
          "output_type": "display_data",
          "data": {
            "text/plain": [
              "<Figure size 1008x288 with 2 Axes>"
            ],
            "image/png": "[encoded data removed]"
          },
          "metadata": {}
        }
      ],
      "id": "R7FtrnMNYowR"
    },
    {
      "cell_type": "code",
      "source": [
        "evaluate(model, sparse_tensor(X_test_vec), y_test)"
      ],
      "metadata": {
        "colab": {
          "base_uri": "https://localhost:8080/",
          "height": 342
        },
        "outputId": "5fd0dcdc-eaa4-49fd-eeb7-cc186de0f5b7",
        "id": "FSCdhYeaYowS"
      },
      "execution_count": null,
      "outputs": [
        {
          "output_type": "display_data",
          "data": {
            "text/plain": [
              "<Figure size 360x360 with 1 Axes>"
            ],
            "image/png": "[encoded data removed]"
          },
          "metadata": {}
        }
      ],
      "id": "FSCdhYeaYowS"
    },
    {
      "cell_type": "code",
      "source": [
        "show_errors(model, X_test['comment'].values, sparse_tensor(X_test_vec), y_test,\n",
        "            X_parents=X_test['parent_comment'].values)"
      ],
      "metadata": {
        "colab": {
          "base_uri": "https://localhost:8080/"
        },
        "outputId": "3ee66058-b691-4d89-b39c-fb41220be351",
        "id": "oYa4A9tBYowT"
      },
      "execution_count": null,
      "outputs": [
        {
          "output_type": "stream",
          "name": "stdout",
          "text": [
            "False negatives:\n",
            "---------------------------\n",
            "parent: One day, possibly. Sadly, not in our lifetime.\n",
            "comment: just kill everyone and thus no more hate\n",
            "\n",
            "parent: I dont know i think cam might get sentenced to LWOP xxallcapsxx \n",
            "comment: ^\n",
            "\n",
            "parent: He gets sick on Lucy and not on a random dragon? What happened to I don't get sick on family and everyone in Fairy Tail is family?\n",
            "comment: well Lucy is a Tool\n",
            "\n",
            "parent: Hooooly cow. I see the reporters still couldn't describe it as anything other than 'gunned down.'\n",
            "comment: Why couldn't they have asked the murderer nicely to please put the weapon down and act nice?\n",
            "\n",
            "parent: Play on SG xxallcapsxx  servers  xxelongxx xxgrinfacexx  \n",
            "comment: too bad i cant find any SG xxallcapsxx  xxnumberxx  only servers\n",
            "\n",
            "\n",
            "False positives:\n",
            "---------------------------\n",
            "parent: Hearing about all these battles and politics in EVE xxallcapsxx  makes me think of Ready Player One for some reason. xxelongxx anyone else?\n",
            "comment: I loved that book!\n",
            "\n",
            "parent: I'm with you, I think the game is fucking awesome. NCSOFT xxallcapsxx  just failed terribly at marketing this game.\n",
            "comment: Or you don't appeal to the \"hardcore\" market by making  xxnumberxx  man raids and that's it.\n",
            "\n",
            "parent: Go to any places with harsh winters like that and get ready to see the same fucking thing.\n",
            "comment: You clearly don't know what you're talking about.\n",
            "\n",
            "parent: Other than the possibly made-up (unintentionally, of course) memories of the victims and stuff; is there any reason to believe those crimes actually took place? Or rather, any *valid* reason to believe?\n",
            "comment: I don't know.\n",
            "\n",
            "parent: you wouldn't shoot a policeman and then steal his hat\n",
            "comment: and then take a dump in the hat and then return the hat to the policeman's widow\n",
            "\n"
          ]
        }
      ],
      "id": "oYa4A9tBYowT"
    },
    {
      "cell_type": "code",
      "source": [
        "train_data = {'comment': sparse_tensor(vec_data['train']), 'parent': sparse_tensor(vec_data_par['train'])}\n",
        "val_data = {'comment': sparse_tensor(vec_data['val']), 'parent': sparse_tensor(vec_data_par['val'])}\n",
        "test_data = {'comment': sparse_tensor(vec_data['test']), 'parent': sparse_tensor(vec_data_par['test'])}"
      ],
      "metadata": {
        "id": "0ygqgg-MxYQC"
      },
      "id": "0ygqgg-MxYQC",
      "execution_count": null,
      "outputs": []
    },
    {
      "cell_type": "code",
      "source": [
        "train_dataset = tf.data.Dataset.from_tensor_slices((train_data, y_train)).shuffle(100).batch(128)\n",
        "val_dataset = tf.data.Dataset.from_tensor_slices((val_data, y_val)).batch(128)"
      ],
      "metadata": {
        "id": "8ohF4P5UxNaC"
      },
      "id": "8ohF4P5UxNaC",
      "execution_count": null,
      "outputs": []
    },
    {
      "cell_type": "code",
      "source": [
        "comment_input =  Input(shape=(vec_data['train'].shape[1],), name='comment')\n",
        "parent_input = Input(shape=(vec_data_par['train'].shape[1],), name='parent')\n",
        "\n",
        "com = Dense(100, activation='relu', kernel_initializer='he_normal',\n",
        "            kernel_regularizer=L1L2(l1=5e-6, l2=5e-6))(comment_input)\n",
        "com = BatchNormalization()(com)\n",
        "\n",
        "par = Dense(100, activation='relu', kernel_initializer='he_normal',\n",
        "            kernel_regularizer=L1L2(l1=5e-6, l2=5e-6))(parent_input)\n",
        "par = BatchNormalization()(par)\n",
        "\n",
        "x = Concatenate()([com, par])\n",
        "x = Dropout(0.5)(x)\n",
        "output = Dense(1, activation='sigmoid')(x)\n",
        "\n",
        "binary_crossentropy = tf.keras.losses.BinaryCrossentropy(name='bc')\n",
        "es = EarlyStopping(monitor='val_bc', min_delta=1e-5, patience=5, restore_best_weights=True)\n",
        "\n",
        "model = keras.Model(inputs=[comment_input, parent_input], outputs=[output])\n",
        "model.compile(loss='binary_crossentropy', optimizer='adam', metrics=[binary_crossentropy, 'accuracy'])\n",
        "fit = model.fit(train_dataset, validation_data=val_dataset, epochs=50, callbacks=[es])"
      ],
      "metadata": {
        "id": "ASwpMXLJwkUy",
        "colab": {
          "base_uri": "https://localhost:8080/"
        },
        "outputId": "4405ec1c-200d-44cb-eacc-6aec931cdcc3"
      },
      "id": "ASwpMXLJwkUy",
      "execution_count": null,
      "outputs": [
        {
          "output_type": "stream",
          "name": "stdout",
          "text": [
            "Epoch 1/50\n"
          ]
        },
        {
          "output_type": "stream",
          "name": "stderr",
          "text": [
            "/usr/local/lib/python3.7/dist-packages/tensorflow/python/framework/indexed_slices.py:446: UserWarning: Converting sparse IndexedSlices(IndexedSlices(indices=Tensor(\"gradient_tape/model_1/dense_44/embedding_lookup_sparse/Reshape_1:0\", shape=(None,), dtype=int32), values=Tensor(\"gradient_tape/model_1/dense_44/embedding_lookup_sparse/Reshape:0\", shape=(None, 100), dtype=float32), dense_shape=Tensor(\"gradient_tape/model_1/dense_44/embedding_lookup_sparse/Cast:0\", shape=(2,), dtype=int32))) to a dense Tensor of unknown shape. This may consume a large amount of memory.\n",
            "  \"shape. This may consume a large amount of memory.\" % value)\n",
            "/usr/local/lib/python3.7/dist-packages/tensorflow/python/framework/indexed_slices.py:446: UserWarning: Converting sparse IndexedSlices(IndexedSlices(indices=Tensor(\"gradient_tape/model_1/dense_45/embedding_lookup_sparse/Reshape_1:0\", shape=(None,), dtype=int32), values=Tensor(\"gradient_tape/model_1/dense_45/embedding_lookup_sparse/Reshape:0\", shape=(None, 100), dtype=float32), dense_shape=Tensor(\"gradient_tape/model_1/dense_45/embedding_lookup_sparse/Cast:0\", shape=(2,), dtype=int32))) to a dense Tensor of unknown shape. This may consume a large amount of memory.\n",
            "  \"shape. This may consume a large amount of memory.\" % value)\n"
          ]
        },
        {
          "output_type": "stream",
          "name": "stdout",
          "text": [
            "5643/5643 [==============================] - 47s 8ms/step - loss: 0.7173 - bc: 0.6080 - accuracy: 0.6689 - val_loss: 0.7120 - val_bc: 0.5974 - val_accuracy: 0.6817\n",
            "Epoch 2/50\n",
            "5643/5643 [==============================] - 46s 8ms/step - loss: 0.7075 - bc: 0.5945 - accuracy: 0.6794 - val_loss: 0.7017 - val_bc: 0.5943 - val_accuracy: 0.6854\n",
            "Epoch 3/50\n",
            "5643/5643 [==============================] - 45s 8ms/step - loss: 0.6951 - bc: 0.5916 - accuracy: 0.6818 - val_loss: 0.6937 - val_bc: 0.5922 - val_accuracy: 0.6860\n",
            "Epoch 4/50\n",
            "5643/5643 [==============================] - 46s 8ms/step - loss: 0.6881 - bc: 0.5897 - accuracy: 0.6837 - val_loss: 0.6874 - val_bc: 0.5920 - val_accuracy: 0.6864\n",
            "Epoch 5/50\n",
            "5643/5643 [==============================] - 46s 8ms/step - loss: 0.6827 - bc: 0.5885 - accuracy: 0.6850 - val_loss: 0.6820 - val_bc: 0.5892 - val_accuracy: 0.6883\n",
            "Epoch 6/50\n",
            "5643/5643 [==============================] - 45s 8ms/step - loss: 0.6778 - bc: 0.5874 - accuracy: 0.6867 - val_loss: 0.6799 - val_bc: 0.5919 - val_accuracy: 0.6875\n",
            "Epoch 7/50\n",
            "5643/5643 [==============================] - 50s 9ms/step - loss: 0.6736 - bc: 0.5865 - accuracy: 0.6873 - val_loss: 0.6748 - val_bc: 0.5884 - val_accuracy: 0.6884\n",
            "Epoch 8/50\n",
            "5643/5643 [==============================] - 45s 8ms/step - loss: 0.6712 - bc: 0.5865 - accuracy: 0.6867 - val_loss: 0.6710 - val_bc: 0.5869 - val_accuracy: 0.6887\n",
            "Epoch 9/50\n",
            "5643/5643 [==============================] - 45s 8ms/step - loss: 0.6686 - bc: 0.5864 - accuracy: 0.6871 - val_loss: 0.6713 - val_bc: 0.5898 - val_accuracy: 0.6887\n",
            "Epoch 10/50\n",
            "5643/5643 [==============================] - 46s 8ms/step - loss: 0.6675 - bc: 0.5859 - accuracy: 0.6873 - val_loss: 0.6695 - val_bc: 0.5880 - val_accuracy: 0.6904\n",
            "Epoch 11/50\n",
            "5643/5643 [==============================] - 45s 8ms/step - loss: 0.6659 - bc: 0.5859 - accuracy: 0.6876 - val_loss: 0.6689 - val_bc: 0.5886 - val_accuracy: 0.6891\n",
            "Epoch 12/50\n",
            "5643/5643 [==============================] - 45s 8ms/step - loss: 0.6656 - bc: 0.5857 - accuracy: 0.6879 - val_loss: 0.6686 - val_bc: 0.5892 - val_accuracy: 0.6890\n",
            "Epoch 13/50\n",
            "5643/5643 [==============================] - 45s 8ms/step - loss: 0.6644 - bc: 0.5853 - accuracy: 0.6886 - val_loss: 0.6655 - val_bc: 0.5870 - val_accuracy: 0.6901\n"
          ]
        }
      ]
    },
    {
      "cell_type": "code",
      "source": [
        "plot_history(fit)"
      ],
      "metadata": {
        "colab": {
          "base_uri": "https://localhost:8080/",
          "height": 288
        },
        "outputId": "7ea38358-38d0-4302-f19e-cb15152f9c62",
        "id": "8byuu1972Gn-"
      },
      "execution_count": null,
      "outputs": [
        {
          "output_type": "display_data",
          "data": {
            "text/plain": [
              "<Figure size 1008x288 with 2 Axes>"
            ],
            "image/png": "[encoded data removed]"
          },
          "metadata": {}
        }
      ],
      "id": "8byuu1972Gn-"
    },
    {
      "cell_type": "code",
      "source": [
        "evaluate(model, test_data, y_test)"
      ],
      "metadata": {
        "colab": {
          "base_uri": "https://localhost:8080/",
          "height": 342
        },
        "outputId": "375aab5e-8571-436f-d504-bc5caf031fb6",
        "id": "Tws8GWfC2GoA"
      },
      "execution_count": null,
      "outputs": [
        {
          "output_type": "display_data",
          "data": {
            "text/plain": [
              "<Figure size 360x360 with 1 Axes>"
            ],
            "image/png": "[encoded data removed]"
          },
          "metadata": {}
        }
      ],
      "id": "Tws8GWfC2GoA"
    },
    {
      "cell_type": "code",
      "source": [
        ""
      ],
      "metadata": {
        "id": "ta5i8Bb30rDT"
      },
      "id": "ta5i8Bb30rDT",
      "execution_count": null,
      "outputs": []
    }
  ],
  "metadata": {
    "colab": {
      "collapsed_sections": [],
      "name": "bag_of_words.ipynb",
      "provenance": [],
      "toc_visible": true
    },
    "kernelspec": {
      "display_name": "Python 3",
      "language": "python",
      "name": "python3"
    },
    "language_info": {
      "codemirror_mode": {
        "name": "ipython",
        "version": 3
      },
      "file_extension": ".py",
      "mimetype": "text/x-python",
      "name": "python",
      "nbconvert_exporter": "python",
      "pygments_lexer": "ipython3",
      "version": "3.6.7"
    },
    "varInspector": {
      "cols": {
        "lenName": 16,
        "lenType": 16,
        "lenVar": 40
      },
      "kernels_config": {
        "python": {
          "delete_cmd_postfix": "",
          "delete_cmd_prefix": "del ",
          "library": "var_list.py",
          "varRefreshCmd": "print(var_dic_list())"
        },
        "r": {
          "delete_cmd_postfix": ") ",
          "delete_cmd_prefix": "rm(",
          "library": "var_list.r",
          "varRefreshCmd": "cat(var_dic_list()) "
        }
      },
      "types_to_exclude": [
        "module",
        "function",
        "builtin_function_or_method",
        "instance",
        "_Feature"
      ],
      "window_display": false
    },
    "accelerator": "GPU"
  },
  "nbformat": 4,
  "nbformat_minor": 5
}