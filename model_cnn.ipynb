{
  "nbformat": 4,
  "nbformat_minor": 0,
  "metadata": {
    "colab": {
      "name": "model_cnn.ipynb",
      "provenance": [],
      "collapsed_sections": [
        "9a1d389c",
        "b0c486c1",
        "DXj5ZtoF2Jxh",
        "GBmi_MF72pPB",
        "083DsHYpfRTx",
        "oAW_qouaBEgs"
      ]
    },
    "kernelspec": {
      "name": "python3",
      "display_name": "Python 3"
    },
    "language_info": {
      "name": "python"
    },
    "accelerator": "GPU"
  },
  "cells": [
    {
      "cell_type": "code",
      "source": [
        "!pip install contractions\n",
        "!pip install twython"
      ],
      "metadata": {
        "id": "NH9MdYow0nkW"
      },
      "execution_count": null,
      "outputs": []
    },
    {
      "cell_type": "code",
      "execution_count": 2,
      "metadata": {
        "id": "27a2de95"
      },
      "outputs": [],
      "source": [
        "import pandas as pd\n",
        "import matplotlib.pyplot as plt\n",
        "import seaborn as sns\n",
        "import numpy as np\n",
        "import tensorflow as tf\n",
        "import keras\n",
        "import pickle\n",
        "import re\n",
        "import nltk\n",
        "import tensorflow_hub as hub\n",
        "\n",
        "from nltk.sentiment import SentimentIntensityAnalyzer\n",
        "\n",
        "from sklearn.model_selection import train_test_split\n",
        "from sklearn.metrics import accuracy_score, precision_score, recall_score, confusion_matrix, ConfusionMatrixDisplay\n",
        "\n",
        "from keras.preprocessing.text import Tokenizer\n",
        "from keras.preprocessing.sequence import pad_sequences\n",
        "\n",
        "from tensorflow.keras import Sequential\n",
        "from tensorflow.keras.layers import Dense, InputLayer, Embedding, Conv1D, MaxPooling1D, Bidirectional, LSTM, GRU\n",
        "from tensorflow.keras.layers import GlobalMaxPool1D, Dropout, Flatten, BatchNormalization\n",
        "from tensorflow.keras.callbacks import EarlyStopping\n",
        "\n",
        "from utilities import *\n",
        "\n",
        "sns.set_style('whitegrid');\n",
        "sns.set_context('notebook', font_scale=1.2);"
      ]
    },
    {
      "cell_type": "code",
      "source": [
        "nltk.download('vader_lexicon')"
      ],
      "metadata": {
        "colab": {
          "base_uri": "https://localhost:8080/"
        },
        "id": "5X8ChjsONeaH",
        "outputId": "a700e914-0124-49b1-f136-b191d490bce3"
      },
      "execution_count": 3,
      "outputs": [
        {
          "output_type": "stream",
          "name": "stdout",
          "text": [
            "[nltk_data] Downloading package vader_lexicon to /root/nltk_data...\n"
          ]
        },
        {
          "output_type": "execute_result",
          "data": {
            "text/plain": [
              "True"
            ]
          },
          "metadata": {},
          "execution_count": 3
        }
      ]
    },
    {
      "cell_type": "code",
      "execution_count": 4,
      "metadata": {
        "colab": {
          "base_uri": "https://localhost:8080/"
        },
        "id": "f8877fc0",
        "outputId": "cc840f8e-3f0f-459d-c716-0d5ac171af52"
      },
      "outputs": [
        {
          "output_type": "stream",
          "name": "stdout",
          "text": [
            "Mounted at /content/drive\n"
          ]
        }
      ],
      "source": [
        "from google.colab import drive\n",
        "drive.mount('/content/drive')"
      ]
    },
    {
      "cell_type": "code",
      "execution_count": 5,
      "metadata": {
        "id": "e6c7134f"
      },
      "outputs": [],
      "source": [
        "root = '/content/drive/My Drive/surely_not_sarcasm_data/'"
      ]
    },
    {
      "cell_type": "markdown",
      "metadata": {
        "id": "dbcbe8dc"
      },
      "source": [
        "# get data"
      ]
    },
    {
      "cell_type": "code",
      "execution_count": 6,
      "metadata": {
        "colab": {
          "base_uri": "https://localhost:8080/",
          "height": 206
        },
        "id": "2df8f867",
        "outputId": "4a782b4a-28ba-4e10-93e4-0e610bb88ef6"
      },
      "outputs": [
        {
          "output_type": "execute_result",
          "data": {
            "text/plain": [
              "   label                                            comment\n",
              "0      0                                         NC and NH.\n",
              "1      0  You do know west teams play against west teams...\n",
              "2      0  They were underdogs earlier today, but since G...\n",
              "3      0  This meme isn't funny none of the \"new york ni...\n",
              "4      0                    I could use one of those tools."
            ],
            "text/html": [
              "\n",
              "  <div id=\"df-4f09992d-c4a4-43ed-bf26-2597d143a79e\">\n",
              "    <div class=\"colab-df-container\">\n",
              "      <div>\n",
              "<style scoped>\n",
              "    .dataframe tbody tr th:only-of-type {\n",
              "        vertical-align: middle;\n",
              "    }\n",
              "\n",
              "    .dataframe tbody tr th {\n",
              "        vertical-align: top;\n",
              "    }\n",
              "\n",
              "    .dataframe thead th {\n",
              "        text-align: right;\n",
              "    }\n",
              "</style>\n",
              "<table border=\"1\" class=\"dataframe\">\n",
              "  <thead>\n",
              "    <tr style=\"text-align: right;\">\n",
              "      <th></th>\n",
              "      <th>label</th>\n",
              "      <th>comment</th>\n",
              "    </tr>\n",
              "  </thead>\n",
              "  <tbody>\n",
              "    <tr>\n",
              "      <th>0</th>\n",
              "      <td>0</td>\n",
              "      <td>NC and NH.</td>\n",
              "    </tr>\n",
              "    <tr>\n",
              "      <th>1</th>\n",
              "      <td>0</td>\n",
              "      <td>You do know west teams play against west teams...</td>\n",
              "    </tr>\n",
              "    <tr>\n",
              "      <th>2</th>\n",
              "      <td>0</td>\n",
              "      <td>They were underdogs earlier today, but since G...</td>\n",
              "    </tr>\n",
              "    <tr>\n",
              "      <th>3</th>\n",
              "      <td>0</td>\n",
              "      <td>This meme isn't funny none of the \"new york ni...</td>\n",
              "    </tr>\n",
              "    <tr>\n",
              "      <th>4</th>\n",
              "      <td>0</td>\n",
              "      <td>I could use one of those tools.</td>\n",
              "    </tr>\n",
              "  </tbody>\n",
              "</table>\n",
              "</div>\n",
              "      <button class=\"colab-df-convert\" onclick=\"convertToInteractive('df-4f09992d-c4a4-43ed-bf26-2597d143a79e')\"\n",
              "              title=\"Convert this dataframe to an interactive table.\"\n",
              "              style=\"display:none;\">\n",
              "        \n",
              "  <svg xmlns=\"http://www.w3.org/2000/svg\" height=\"24px\"viewBox=\"0 0 24 24\"\n",
              "       width=\"24px\">\n",
              "    <path d=\"M0 0h24v24H0V0z\" fill=\"none\"/>\n",
              "    <path d=\"M18.56 5.44l.94 2.06.94-2.06 2.06-.94-2.06-.94-.94-2.06-.94 2.06-2.06.94zm-11 1L8.5 8.5l.94-2.06 2.06-.94-2.06-.94L8.5 2.5l-.94 2.06-2.06.94zm10 10l.94 2.06.94-2.06 2.06-.94-2.06-.94-.94-2.06-.94 2.06-2.06.94z\"/><path d=\"M17.41 7.96l-1.37-1.37c-.4-.4-.92-.59-1.43-.59-.52 0-1.04.2-1.43.59L10.3 9.45l-7.72 7.72c-.78.78-.78 2.05 0 2.83L4 21.41c.39.39.9.59 1.41.59.51 0 1.02-.2 1.41-.59l7.78-7.78 2.81-2.81c.8-.78.8-2.07 0-2.86zM5.41 20L4 18.59l7.72-7.72 1.47 1.35L5.41 20z\"/>\n",
              "  </svg>\n",
              "      </button>\n",
              "      \n",
              "  <style>\n",
              "    .colab-df-container {\n",
              "      display:flex;\n",
              "      flex-wrap:wrap;\n",
              "      gap: 12px;\n",
              "    }\n",
              "\n",
              "    .colab-df-convert {\n",
              "      background-color: #E8F0FE;\n",
              "      border: none;\n",
              "      border-radius: 50%;\n",
              "      cursor: pointer;\n",
              "      display: none;\n",
              "      fill: #1967D2;\n",
              "      height: 32px;\n",
              "      padding: 0 0 0 0;\n",
              "      width: 32px;\n",
              "    }\n",
              "\n",
              "    .colab-df-convert:hover {\n",
              "      background-color: #E2EBFA;\n",
              "      box-shadow: 0px 1px 2px rgba(60, 64, 67, 0.3), 0px 1px 3px 1px rgba(60, 64, 67, 0.15);\n",
              "      fill: #174EA6;\n",
              "    }\n",
              "\n",
              "    [theme=dark] .colab-df-convert {\n",
              "      background-color: #3B4455;\n",
              "      fill: #D2E3FC;\n",
              "    }\n",
              "\n",
              "    [theme=dark] .colab-df-convert:hover {\n",
              "      background-color: #434B5C;\n",
              "      box-shadow: 0px 1px 3px 1px rgba(0, 0, 0, 0.15);\n",
              "      filter: drop-shadow(0px 1px 2px rgba(0, 0, 0, 0.3));\n",
              "      fill: #FFFFFF;\n",
              "    }\n",
              "  </style>\n",
              "\n",
              "      <script>\n",
              "        const buttonEl =\n",
              "          document.querySelector('#df-4f09992d-c4a4-43ed-bf26-2597d143a79e button.colab-df-convert');\n",
              "        buttonEl.style.display =\n",
              "          google.colab.kernel.accessAllowed ? 'block' : 'none';\n",
              "\n",
              "        async function convertToInteractive(key) {\n",
              "          const element = document.querySelector('#df-4f09992d-c4a4-43ed-bf26-2597d143a79e');\n",
              "          const dataTable =\n",
              "            await google.colab.kernel.invokeFunction('convertToInteractive',\n",
              "                                                     [key], {});\n",
              "          if (!dataTable) return;\n",
              "\n",
              "          const docLinkHtml = 'Like what you see? Visit the ' +\n",
              "            '<a target=\"_blank\" href=https://colab.research.google.com/notebooks/data_table.ipynb>data table notebook</a>'\n",
              "            + ' to learn more about interactive tables.';\n",
              "          element.innerHTML = '';\n",
              "          dataTable['output_type'] = 'display_data';\n",
              "          await google.colab.output.renderOutput(dataTable, element);\n",
              "          const docLink = document.createElement('div');\n",
              "          docLink.innerHTML = docLinkHtml;\n",
              "          element.appendChild(docLink);\n",
              "        }\n",
              "      </script>\n",
              "    </div>\n",
              "  </div>\n",
              "  "
            ]
          },
          "metadata": {},
          "execution_count": 6
        }
      ],
      "source": [
        "df = pd.read_csv(root+'data/train_balanced_smaller.csv', usecols=['comment', 'label'])\n",
        "df.head()"
      ]
    },
    {
      "cell_type": "code",
      "execution_count": 7,
      "metadata": {
        "id": "OXMbnodfD_u1"
      },
      "outputs": [],
      "source": [
        "X = df['comment'].values\n",
        "y = df['label'].values"
      ]
    },
    {
      "cell_type": "code",
      "source": [
        "X_train, X_val, y_train, y_val = train_test_split(X, y, stratify=y, test_size=0.2, random_state=42)\n",
        "X_train, X_test, y_train, y_test = train_test_split(X_train, y_train, stratify=y_train, test_size=0.05, random_state=42)"
      ],
      "metadata": {
        "id": "s7Qelh3mg7Ez"
      },
      "execution_count": 8,
      "outputs": []
    },
    {
      "cell_type": "code",
      "source": [
        "X_train.shape, X_val.shape, X_test.shape"
      ],
      "metadata": {
        "colab": {
          "base_uri": "https://localhost:8080/"
        },
        "id": "8MW07v51hWDy",
        "outputId": "53874c9a-bb95-4a5a-bee9-641917de083b"
      },
      "execution_count": 9,
      "outputs": [
        {
          "output_type": "execute_result",
          "data": {
            "text/plain": [
              "((768187,), (202155,), (40431,))"
            ]
          },
          "metadata": {},
          "execution_count": 9
        }
      ]
    },
    {
      "cell_type": "code",
      "source": [
        "data = pickle.load(open(root+'preprocessed_data_1503', 'rb'))"
      ],
      "metadata": {
        "id": "butpbKNLxNTn"
      },
      "execution_count": 10,
      "outputs": []
    },
    {
      "cell_type": "markdown",
      "metadata": {
        "id": "22059c0e"
      },
      "source": [
        "# tokenize"
      ]
    },
    {
      "cell_type": "code",
      "execution_count": 11,
      "metadata": {
        "id": "1063f74a"
      },
      "outputs": [],
      "source": [
        "input_dim = 10000\n",
        "tokenizer = Tokenizer(num_words=input_dim, filters='')\n",
        "tokenizer.fit_on_texts(data['X_train'])"
      ]
    },
    {
      "cell_type": "code",
      "execution_count": 12,
      "metadata": {
        "id": "67f1f107"
      },
      "outputs": [],
      "source": [
        "X_train_tok = tokenizer.texts_to_sequences(data['X_train'])\n",
        "X_val_tok = tokenizer.texts_to_sequences(data['X_val'])\n",
        "X_test_tok = tokenizer.texts_to_sequences(data['X_test'])"
      ]
    },
    {
      "cell_type": "code",
      "execution_count": 13,
      "metadata": {
        "colab": {
          "base_uri": "https://localhost:8080/"
        },
        "id": "f6967214",
        "outputId": "cf4e72b1-f613-4bba-b9d5-e28d03706d29"
      },
      "outputs": [
        {
          "output_type": "execute_result",
          "data": {
            "text/plain": [
              "22.0"
            ]
          },
          "metadata": {},
          "execution_count": 13
        }
      ],
      "source": [
        "np.quantile([len(i) for i in X_train_tok], 0.9)"
      ]
    },
    {
      "cell_type": "code",
      "source": [
        "maxlen = 20"
      ],
      "metadata": {
        "id": "kK2g5ul_xjcK"
      },
      "execution_count": 14,
      "outputs": []
    },
    {
      "cell_type": "code",
      "execution_count": 15,
      "metadata": {
        "id": "93dbfff1"
      },
      "outputs": [],
      "source": [
        "X_train_tok = pad_sequences(X_train_tok, padding='post', maxlen=maxlen)\n",
        "X_val_tok = pad_sequences(X_val_tok, padding='post', maxlen=maxlen)\n",
        "X_test_tok = pad_sequences(X_test_tok, padding='post', maxlen=maxlen)"
      ]
    },
    {
      "cell_type": "markdown",
      "source": [
        "# some random shit"
      ],
      "metadata": {
        "id": "BWTsalwB7-g2"
      }
    },
    {
      "cell_type": "code",
      "source": [
        "model = keras.Sequential([\n",
        "    hub.KerasLayer('https://tfhub.dev/google/tf2-preview/nnlm-en-dim50/1',\n",
        "                   dtype=tf.string, input_shape=[], output_shape=[50], trainable=True),\n",
        "    # tf.keras.layers.GRU(50),\n",
        "    Dense(50, activation='relu', kernel_initializer='he_normal'),\n",
        "    Dropout(0.4),\n",
        "    Dense(1, activation='sigmoid')\n",
        "])\n",
        "\n",
        "es = EarlyStopping(monitor='val_loss', min_delta=0.001, patience=3, restore_best_weights=True)\n",
        "model.compile(loss='binary_crossentropy', optimizer='adam', metrics=['accuracy'])\n",
        "fit = model.fit(X_train, y_train, validation_data=(X_val,y_val), batch_size=128, epochs=50, callbacks=[es])"
      ],
      "metadata": {
        "colab": {
          "base_uri": "https://localhost:8080/"
        },
        "id": "dVp2MteS7-GO",
        "outputId": "8ccd88fe-039d-4917-a0ff-a681b3cf5642"
      },
      "execution_count": 21,
      "outputs": [
        {
          "output_type": "stream",
          "name": "stdout",
          "text": [
            "Epoch 1/50\n",
            "6002/6002 [==============================] - 194s 32ms/step - loss: 0.5870 - accuracy: 0.6843 - val_loss: 0.5657 - val_accuracy: 0.7033\n",
            "Epoch 2/50\n",
            "6002/6002 [==============================] - 192s 32ms/step - loss: 0.5462 - accuracy: 0.7209 - val_loss: 0.5636 - val_accuracy: 0.7056\n",
            "Epoch 3/50\n",
            "6002/6002 [==============================] - 196s 33ms/step - loss: 0.5218 - accuracy: 0.7392 - val_loss: 0.5690 - val_accuracy: 0.7056\n",
            "Epoch 4/50\n",
            "6002/6002 [==============================] - 196s 33ms/step - loss: 0.4994 - accuracy: 0.7545 - val_loss: 0.5757 - val_accuracy: 0.7040\n",
            "Epoch 5/50\n",
            "6002/6002 [==============================] - 197s 33ms/step - loss: 0.4789 - accuracy: 0.7680 - val_loss: 0.5896 - val_accuracy: 0.7028\n"
          ]
        }
      ]
    },
    {
      "cell_type": "markdown",
      "metadata": {
        "id": "9a1d389c"
      },
      "source": [
        "# embedding matrix"
      ]
    },
    {
      "cell_type": "code",
      "source": [
        "vec_len = 100"
      ],
      "metadata": {
        "id": "wtJfl6EKmSql"
      },
      "execution_count": null,
      "outputs": []
    },
    {
      "cell_type": "code",
      "execution_count": null,
      "metadata": {
        "id": "26hN4pfyFzfc",
        "colab": {
          "base_uri": "https://localhost:8080/"
        },
        "outputId": "d645f3c2-f1f2-4f08-ad03-8ea14c7047ce"
      },
      "outputs": [
        {
          "output_type": "stream",
          "name": "stdout",
          "text": [
            "coverage: 0.9815\n"
          ]
        }
      ],
      "source": [
        "wordemb = WordEmbeddings()\n",
        "embedding_matrix = wordemb.get_glove_embeddings(input_dim, vec_len, tokenizer, root=root)"
      ]
    },
    {
      "cell_type": "markdown",
      "source": [
        "# CNN"
      ],
      "metadata": {
        "id": "hp5srf63gD-P"
      }
    },
    {
      "cell_type": "code",
      "source": [
        "model = Sequential([\n",
        "    Embedding(input_dim=input_dim, output_dim=vec_len, input_length=maxlen,\n",
        "              mask_zero=True, weights=[embedding_matrix], trainable=True),\n",
        "\n",
        "    Conv1D(32, 2, activation='relu', kernel_initializer='he_normal', padding='same'),\n",
        "    BatchNormalization(),\n",
        "    Conv1D(32, 2, activation='relu', kernel_initializer='he_normal', padding='same'),\n",
        "    BatchNormalization(),\n",
        "    MaxPooling1D(2, padding='same'),\n",
        "    Dropout(0.3),\n",
        "\n",
        "    Conv1D(64, 3, activation='relu', kernel_initializer='he_normal', padding='same'),\n",
        "    BatchNormalization(),\n",
        "    Conv1D(64, 3, activation='relu', kernel_initializer='he_normal', padding='same'),\n",
        "    BatchNormalization(),\n",
        "    MaxPooling1D(3, padding='same'),\n",
        "    Dropout(0.3),\n",
        "\n",
        "    Flatten(),\n",
        "    Dense(100, activation='elu', kernel_initializer='he_normal'),\n",
        "    BatchNormalization(),\n",
        "    Dropout(0.5),\n",
        "    Dense(1, activation='sigmoid')\n",
        "])\n",
        "\n",
        "es = EarlyStopping(monitor='val_loss', min_delta=0.001, patience=3, restore_best_weights=True)\n",
        "model.compile(loss='binary_crossentropy', optimizer='adam', metrics=['accuracy'])\n",
        "fit = model.fit(X_train_tok, y_train, validation_data=(X_val_tok,y_val), batch_size=128, epochs=50, callbacks=[es])"
      ],
      "metadata": {
        "colab": {
          "base_uri": "https://localhost:8080/"
        },
        "id": "WTeozGeikDcw",
        "outputId": "ace3ec38-a8cc-461e-ce96-77994360297a"
      },
      "execution_count": null,
      "outputs": [
        {
          "output_type": "stream",
          "name": "stdout",
          "text": [
            "Epoch 1/50\n",
            "6002/6002 [==============================] - 100s 16ms/step - loss: 0.5966 - accuracy: 0.6790 - val_loss: 0.5527 - val_accuracy: 0.7170\n",
            "Epoch 2/50\n",
            "6002/6002 [==============================] - 96s 16ms/step - loss: 0.5459 - accuracy: 0.7244 - val_loss: 0.5394 - val_accuracy: 0.7271\n",
            "Epoch 3/50\n",
            "6002/6002 [==============================] - 100s 17ms/step - loss: 0.5301 - accuracy: 0.7362 - val_loss: 0.5340 - val_accuracy: 0.7298\n",
            "Epoch 4/50\n",
            "6002/6002 [==============================] - 96s 16ms/step - loss: 0.5172 - accuracy: 0.7461 - val_loss: 0.5327 - val_accuracy: 0.7318\n",
            "Epoch 5/50\n",
            "6002/6002 [==============================] - 96s 16ms/step - loss: 0.5058 - accuracy: 0.7544 - val_loss: 0.5383 - val_accuracy: 0.7249\n",
            "Epoch 6/50\n",
            "6002/6002 [==============================] - 100s 17ms/step - loss: 0.4946 - accuracy: 0.7625 - val_loss: 0.5375 - val_accuracy: 0.7283\n",
            "Epoch 7/50\n",
            "6002/6002 [==============================] - 100s 17ms/step - loss: 0.4843 - accuracy: 0.7698 - val_loss: 0.5397 - val_accuracy: 0.7289\n"
          ]
        }
      ]
    },
    {
      "cell_type": "code",
      "source": [
        "plot_history(fit)"
      ],
      "metadata": {
        "colab": {
          "base_uri": "https://localhost:8080/",
          "height": 290
        },
        "id": "acEvRH1QnupP",
        "outputId": "28a20e18-a668-47d3-8667-61c06dc9d8f4"
      },
      "execution_count": null,
      "outputs": [
        {
          "output_type": "display_data",
          "data": {
            "text/plain": [
              "<Figure size 1008x288 with 2 Axes>"
            ],
            "image/png": "[encoded data removed]"
          },
          "metadata": {}
        }
      ]
    },
    {
      "cell_type": "code",
      "execution_count": null,
      "metadata": {
        "colab": {
          "base_uri": "https://localhost:8080/",
          "height": 343
        },
        "outputId": "dc1eaca9-9088-4386-ced5-ffc21494c6bd",
        "id": "O-fxoHNQnvFy"
      },
      "outputs": [
        {
          "output_type": "display_data",
          "data": {
            "text/plain": [
              "<Figure size 360x360 with 1 Axes>"
            ],
            "image/png": "[encoded data removed]"
          },
          "metadata": {}
        }
      ],
      "source": [
        "evaluate(model, X_val_tok, y_val)"
      ]
    },
    {
      "cell_type": "code",
      "source": [
        "show_errors(model, pd.Series(X_val), X_val_tok, y_val, n=5)"
      ],
      "metadata": {
        "colab": {
          "base_uri": "https://localhost:8080/"
        },
        "outputId": "bf8533dc-c09b-4b5b-cd5e-b8ec5fd0868f",
        "id": "lwvkgZnbnvFz"
      },
      "execution_count": null,
      "outputs": [
        {
          "output_type": "stream",
          "name": "stdout",
          "text": [
            "False negatives:\n",
            "---------------------------\n",
            "How about instead of making posters finish the Tool album.\n",
            "Mario 64 came out about the same time, I still don't get why they didn't make Crash a 3D game\n",
            "Redskins would still be all white if it was allowed.\n",
            "Jesus\n",
            "I think that's a bit too smart for Nintendo.\n",
            "\n",
            "False positives:\n",
            "---------------------------\n",
            "Should have just turned, hit fenrir and flipped the ymir ult at the start...Wouldve taken sooo much less damage...\n",
            "Can we modify the petition to have him replace Joe Buck forever?\n",
            "It's almost like people who flag their ships in 3rd world shitholes do so because they care more about money than health and safety...\n",
            "Gamestop is going to be the next Blockbuster.\n",
            "Nah, guys like Curry/Kyrie/Westbrook/Rose/Hill aren't really traditional PGs\n"
          ]
        }
      ]
    },
    {
      "cell_type": "code",
      "source": [
        "model.save(root+'cnn')"
      ],
      "metadata": {
        "colab": {
          "base_uri": "https://localhost:8080/"
        },
        "id": "1iETaS5Pp1Fh",
        "outputId": "998910c9-ff45-46d6-b6c4-67895876a1e3"
      },
      "execution_count": null,
      "outputs": [
        {
          "output_type": "stream",
          "name": "stdout",
          "text": [
            "INFO:tensorflow:Assets written to: /content/drive/My Drive/surely_not_sarcasm_data/cnn/assets\n"
          ]
        }
      ]
    },
    {
      "cell_type": "markdown",
      "metadata": {
        "id": "b0c486c1"
      },
      "source": [
        "# freezing"
      ]
    },
    {
      "cell_type": "code",
      "source": [
        "embedding_layer = Embedding(input_dim=input_dim, output_dim=vec_len, input_length=maxlen,\n",
        "                            mask_zero=True, weights=[embedding_matrix])\n",
        "embedding_layer.trainable = False"
      ],
      "metadata": {
        "id": "rS_lBhYcGXjf"
      },
      "execution_count": null,
      "outputs": []
    },
    {
      "cell_type": "code",
      "source": [
        "model = Sequential([\n",
        "    embedding_layer,\n",
        "\n",
        "    Conv1D(32, 2, activation='relu', kernel_initializer='he_normal', padding='same'),\n",
        "    BatchNormalization(),\n",
        "    Conv1D(32, 2, activation='relu', kernel_initializer='he_normal', padding='same'),\n",
        "    BatchNormalization(),\n",
        "    MaxPooling1D(2, padding='same'),\n",
        "    Dropout(0.3),\n",
        "\n",
        "    Conv1D(64, 3, activation='relu', kernel_initializer='he_normal', padding='same'),\n",
        "    BatchNormalization(),\n",
        "    Conv1D(64, 3, activation='relu', kernel_initializer='he_normal', padding='same'),\n",
        "    BatchNormalization(),\n",
        "    MaxPooling1D(3, padding='same'),\n",
        "    Dropout(0.3),\n",
        "\n",
        "    Flatten(),\n",
        "    Dense(100, activation='elu', kernel_initializer='he_normal'),\n",
        "    BatchNormalization(),\n",
        "    Dropout(0.5),\n",
        "    Dense(1, activation='sigmoid')\n",
        "])\n",
        "\n",
        "es = EarlyStopping(monitor='val_loss', min_delta=0.001, patience=3, restore_best_weights=True)\n",
        "model.compile(loss='binary_crossentropy', optimizer='adam', metrics=['accuracy'])\n",
        "fit = model.fit(X_train_tok, y_train, validation_data=(X_val_tok,y_val), batch_size=128, epochs=50, callbacks=[es])"
      ],
      "metadata": {
        "colab": {
          "base_uri": "https://localhost:8080/"
        },
        "id": "CP9-Z1m9sx1V",
        "outputId": "ba333a85-ea18-4262-86bf-872d805979c3"
      },
      "execution_count": null,
      "outputs": [
        {
          "output_type": "stream",
          "name": "stdout",
          "text": [
            "Epoch 1/50\n",
            "6002/6002 [==============================] - 81s 13ms/step - loss: 0.6267 - accuracy: 0.6495 - val_loss: 0.5917 - val_accuracy: 0.6811\n",
            "Epoch 2/50\n",
            "6002/6002 [==============================] - 80s 13ms/step - loss: 0.5811 - accuracy: 0.6928 - val_loss: 0.5986 - val_accuracy: 0.6798\n",
            "Epoch 3/50\n",
            "6002/6002 [==============================] - 83s 14ms/step - loss: 0.5707 - accuracy: 0.7021 - val_loss: 0.5758 - val_accuracy: 0.6957\n",
            "Epoch 4/50\n",
            "6002/6002 [==============================] - 78s 13ms/step - loss: 0.5658 - accuracy: 0.7060 - val_loss: 0.5577 - val_accuracy: 0.7107\n",
            "Epoch 5/50\n",
            "6002/6002 [==============================] - 79s 13ms/step - loss: 0.5616 - accuracy: 0.7095 - val_loss: 0.5765 - val_accuracy: 0.6941\n",
            "Epoch 6/50\n",
            "6002/6002 [==============================] - 83s 14ms/step - loss: 0.5593 - accuracy: 0.7115 - val_loss: 0.5538 - val_accuracy: 0.7143\n",
            "Epoch 7/50\n",
            "6002/6002 [==============================] - 83s 14ms/step - loss: 0.5572 - accuracy: 0.7131 - val_loss: 0.5643 - val_accuracy: 0.7062\n",
            "Epoch 8/50\n",
            "6002/6002 [==============================] - 82s 14ms/step - loss: 0.5557 - accuracy: 0.7144 - val_loss: 0.5535 - val_accuracy: 0.7129\n",
            "Epoch 9/50\n",
            "6002/6002 [==============================] - 82s 14ms/step - loss: 0.5544 - accuracy: 0.7157 - val_loss: 0.5506 - val_accuracy: 0.7163\n",
            "Epoch 10/50\n",
            "6002/6002 [==============================] - 83s 14ms/step - loss: 0.5531 - accuracy: 0.7165 - val_loss: 0.5491 - val_accuracy: 0.7178\n",
            "Epoch 11/50\n",
            "6002/6002 [==============================] - 78s 13ms/step - loss: 0.5522 - accuracy: 0.7172 - val_loss: 0.5659 - val_accuracy: 0.7030\n",
            "Epoch 12/50\n",
            "6002/6002 [==============================] - 82s 14ms/step - loss: 0.5513 - accuracy: 0.7180 - val_loss: 0.5578 - val_accuracy: 0.7119\n",
            "Epoch 13/50\n",
            "6002/6002 [==============================] - 82s 14ms/step - loss: 0.5507 - accuracy: 0.7185 - val_loss: 0.5498 - val_accuracy: 0.7180\n"
          ]
        }
      ]
    },
    {
      "cell_type": "code",
      "source": [
        "embedding_layer.trainable = True\n",
        "adam = tf.keras.optimizers.Adam(0.0003)"
      ],
      "metadata": {
        "id": "_J9xqAcaHBsv"
      },
      "execution_count": null,
      "outputs": []
    },
    {
      "cell_type": "code",
      "source": [
        "es = EarlyStopping(monitor='val_loss', min_delta=0.001, patience=3, restore_best_weights=True)\n",
        "model.compile(loss='binary_crossentropy', optimizer=adam, metrics=['accuracy'])\n",
        "fit2 = model.fit(X_train_tok, y_train, validation_data=(X_val_tok,y_val), batch_size=128, epochs=30, callbacks=[es])"
      ],
      "metadata": {
        "colab": {
          "base_uri": "https://localhost:8080/"
        },
        "id": "a3BIDOIuHCxD",
        "outputId": "8d7ab6e4-9798-4933-d756-6afb07430476"
      },
      "execution_count": null,
      "outputs": [
        {
          "output_type": "stream",
          "name": "stdout",
          "text": [
            "Epoch 1/30\n",
            "6002/6002 [==============================] - 100s 16ms/step - loss: 0.5428 - accuracy: 0.7249 - val_loss: 0.5350 - val_accuracy: 0.7291\n",
            "Epoch 2/30\n",
            "6002/6002 [==============================] - 98s 16ms/step - loss: 0.5287 - accuracy: 0.7359 - val_loss: 0.5431 - val_accuracy: 0.7255\n",
            "Epoch 3/30\n",
            "6002/6002 [==============================] - 98s 16ms/step - loss: 0.5200 - accuracy: 0.7425 - val_loss: 0.5342 - val_accuracy: 0.7308\n",
            "Epoch 4/30\n",
            "6002/6002 [==============================] - 94s 16ms/step - loss: 0.5126 - accuracy: 0.7479 - val_loss: 0.5295 - val_accuracy: 0.7332\n",
            "Epoch 5/30\n",
            "6002/6002 [==============================] - 94s 16ms/step - loss: 0.5065 - accuracy: 0.7524 - val_loss: 0.5303 - val_accuracy: 0.7335\n",
            "Epoch 6/30\n",
            "6002/6002 [==============================] - 98s 16ms/step - loss: 0.5012 - accuracy: 0.7571 - val_loss: 0.5292 - val_accuracy: 0.7334\n",
            "Epoch 7/30\n",
            "6002/6002 [==============================] - 95s 16ms/step - loss: 0.4960 - accuracy: 0.7603 - val_loss: 0.5382 - val_accuracy: 0.7310\n"
          ]
        }
      ]
    },
    {
      "cell_type": "code",
      "source": [
        "fig, axes = plt.subplots(1, 2, figsize=(14,4))\n",
        "\n",
        "for i, which in enumerate(['accuracy', 'loss']):\n",
        "    ax = axes[i]\n",
        "    ax.plot(fit.history[which]+fit2.history[which], label=which)\n",
        "    ax.plot(fit.history['val_'+which]+fit2.history['val_'+which], label='val_'+which)\n",
        "    ax.set_xlabel('epoch')\n",
        "    ax.set_ylabel(which)\n",
        "    ax.legend();"
      ],
      "metadata": {
        "colab": {
          "base_uri": "https://localhost:8080/",
          "height": 289
        },
        "id": "fMkai1spHE6V",
        "outputId": "c5b820e9-75d3-4f78-fe02-8478c3bb290f"
      },
      "execution_count": null,
      "outputs": [
        {
          "output_type": "display_data",
          "data": {
            "text/plain": [
              "<Figure size 1008x288 with 2 Axes>"
            ],
            "image/png": "[encoded data removed]"
          },
          "metadata": {}
        }
      ]
    },
    {
      "cell_type": "code",
      "execution_count": null,
      "metadata": {
        "colab": {
          "base_uri": "https://localhost:8080/",
          "height": 343
        },
        "outputId": "583fd75b-ce8a-4d54-eef3-6c9c6039b4f4",
        "id": "AS8_y2FDIuEd"
      },
      "outputs": [
        {
          "output_type": "display_data",
          "data": {
            "text/plain": [
              "<Figure size 360x360 with 1 Axes>"
            ],
            "image/png": "[encoded data removed]"
          },
          "metadata": {}
        }
      ],
      "source": [
        "evaluate(model, X_val_tok, y_val)"
      ]
    },
    {
      "cell_type": "code",
      "source": [
        "show_errors(model, pd.Series(X_val), X_val_tok, y_val, n=5)"
      ],
      "metadata": {
        "colab": {
          "base_uri": "https://localhost:8080/"
        },
        "outputId": "70de610b-4bf8-4475-a2cd-77ed73bf375c",
        "id": "5ryYNS5eIuEd"
      },
      "execution_count": null,
      "outputs": [
        {
          "output_type": "stream",
          "name": "stdout",
          "text": [
            "False negatives:\n",
            "---------------------------\n",
            "that would be inhumane\n",
            "Where is your evidence to say that it is, because last time i checked there wasn't any.\n",
            "My dick\n",
            "common sense is no fun, party pooper...\n",
            "Add some lights for the sun and it will be cool\n",
            "\n",
            "False positives:\n",
            "---------------------------\n",
            "you sound like you're depressed, not \"burnt out\" with video games...\n",
            "TIL there are plenty of holocaust skeptics on reddit.\n",
            "Free access to information and the right to shit all over someone else's hard work are not one and the same\n",
            "Not all search engines tailor their results per user ...\n",
            "Jesus not everything is a conspiracy\n"
          ]
        }
      ]
    },
    {
      "cell_type": "code",
      "source": [
        "model.save(root+'cnn_freeze_unfreeze')"
      ],
      "metadata": {
        "colab": {
          "base_uri": "https://localhost:8080/"
        },
        "id": "iFYIAlxumg1d",
        "outputId": "88f0377d-c084-4571-f0cf-3e75372e4074"
      },
      "execution_count": null,
      "outputs": [
        {
          "output_type": "stream",
          "name": "stdout",
          "text": [
            "INFO:tensorflow:Assets written to: /content/drive/My Drive/surely_not_sarcasm_data/cnn_freeze_unfreeze/assets\n"
          ]
        }
      ]
    },
    {
      "cell_type": "markdown",
      "metadata": {
        "id": "DXj5ZtoF2Jxh"
      },
      "source": [
        "# freezing -- smaller learning rate"
      ]
    },
    {
      "cell_type": "code",
      "source": [
        "embedding_layer = Embedding(input_dim=input_dim, output_dim=vec_len, input_length=maxlen,\n",
        "                            mask_zero=True, weights=[embedding_matrix])\n",
        "embedding_layer.trainable = False"
      ],
      "metadata": {
        "id": "ALgyS7Af2Jxi"
      },
      "execution_count": null,
      "outputs": []
    },
    {
      "cell_type": "code",
      "source": [
        "model = Sequential([\n",
        "    embedding_layer,\n",
        "\n",
        "    Conv1D(32, 2, activation='relu', kernel_initializer='he_normal', padding='same'),\n",
        "    BatchNormalization(),\n",
        "    Conv1D(32, 2, activation='relu', kernel_initializer='he_normal', padding='same'),\n",
        "    BatchNormalization(),\n",
        "    MaxPooling1D(2, padding='same'),\n",
        "    Dropout(0.3),\n",
        "\n",
        "    Conv1D(64, 3, activation='relu', kernel_initializer='he_normal', padding='same'),\n",
        "    BatchNormalization(),\n",
        "    Conv1D(64, 3, activation='relu', kernel_initializer='he_normal', padding='same'),\n",
        "    BatchNormalization(),\n",
        "    MaxPooling1D(3, padding='same'),\n",
        "    Dropout(0.3),\n",
        "\n",
        "    Flatten(),\n",
        "    Dense(100, activation='elu', kernel_initializer='he_normal'),\n",
        "    BatchNormalization(),\n",
        "    Dropout(0.5),\n",
        "    Dense(1, activation='sigmoid')\n",
        "])\n",
        "\n",
        "es = EarlyStopping(monitor='val_loss', min_delta=0.001, patience=3, restore_best_weights=True)\n",
        "adam = tf.keras.optimizers.Adam(learning_rate=3e-4)\n",
        "\n",
        "model.compile(loss='binary_crossentropy', optimizer=adam, metrics=['accuracy'])\n",
        "fit = model.fit(X_train_tok, y_train, validation_data=(X_val_tok,y_val), batch_size=128, epochs=50, callbacks=[es])"
      ],
      "metadata": {
        "colab": {
          "base_uri": "https://localhost:8080/"
        },
        "outputId": "0f0f180d-5f53-4c61-bf71-da4a6b86d25d",
        "id": "bbxDf55g2Jxj"
      },
      "execution_count": null,
      "outputs": [
        {
          "output_type": "stream",
          "name": "stdout",
          "text": [
            "Epoch 1/50\n",
            "6002/6002 [==============================] - 80s 13ms/step - loss: 0.6734 - accuracy: 0.6066 - val_loss: 0.6122 - val_accuracy: 0.6625\n",
            "Epoch 2/50\n",
            "6002/6002 [==============================] - 83s 14ms/step - loss: 0.6024 - accuracy: 0.6723 - val_loss: 0.5805 - val_accuracy: 0.6916\n",
            "Epoch 3/50\n",
            "6002/6002 [==============================] - 82s 14ms/step - loss: 0.5848 - accuracy: 0.6885 - val_loss: 0.5729 - val_accuracy: 0.6982\n",
            "Epoch 4/50\n",
            "6002/6002 [==============================] - 83s 14ms/step - loss: 0.5761 - accuracy: 0.6964 - val_loss: 0.5661 - val_accuracy: 0.7054\n",
            "Epoch 5/50\n",
            "6002/6002 [==============================] - 79s 13ms/step - loss: 0.5704 - accuracy: 0.7013 - val_loss: 0.5619 - val_accuracy: 0.7074\n",
            "Epoch 6/50\n",
            "6002/6002 [==============================] - 82s 14ms/step - loss: 0.5661 - accuracy: 0.7048 - val_loss: 0.5610 - val_accuracy: 0.7084\n",
            "Epoch 7/50\n",
            "6002/6002 [==============================] - 82s 14ms/step - loss: 0.5637 - accuracy: 0.7068 - val_loss: 0.5607 - val_accuracy: 0.7081\n",
            "Epoch 8/50\n",
            "6002/6002 [==============================] - 82s 14ms/step - loss: 0.5612 - accuracy: 0.7089 - val_loss: 0.5554 - val_accuracy: 0.7117\n",
            "Epoch 9/50\n",
            "6002/6002 [==============================] - 82s 14ms/step - loss: 0.5593 - accuracy: 0.7103 - val_loss: 0.5566 - val_accuracy: 0.7105\n",
            "Epoch 10/50\n",
            "6002/6002 [==============================] - 77s 13ms/step - loss: 0.5577 - accuracy: 0.7118 - val_loss: 0.5525 - val_accuracy: 0.7151\n",
            "Epoch 11/50\n",
            "6002/6002 [==============================] - 77s 13ms/step - loss: 0.5563 - accuracy: 0.7133 - val_loss: 0.5520 - val_accuracy: 0.7153\n",
            "Epoch 12/50\n",
            "6002/6002 [==============================] - 82s 14ms/step - loss: 0.5552 - accuracy: 0.7141 - val_loss: 0.5516 - val_accuracy: 0.7154\n",
            "Epoch 13/50\n",
            "6002/6002 [==============================] - 77s 13ms/step - loss: 0.5541 - accuracy: 0.7150 - val_loss: 0.5579 - val_accuracy: 0.7097\n"
          ]
        }
      ]
    },
    {
      "cell_type": "code",
      "source": [
        "embedding_layer.trainable = True\n",
        "adam = tf.keras.optimizers.Adam(1e-4)"
      ],
      "metadata": {
        "id": "Bhc8U8lK2Jxk"
      },
      "execution_count": null,
      "outputs": []
    },
    {
      "cell_type": "code",
      "source": [
        "es = EarlyStopping(monitor='val_loss', min_delta=0.001, patience=3, restore_best_weights=True)\n",
        "model.compile(loss='binary_crossentropy', optimizer=adam, metrics=['accuracy'])\n",
        "fit2 = model.fit(X_train_tok, y_train, validation_data=(X_val_tok,y_val), batch_size=128, epochs=30, callbacks=[es])"
      ],
      "metadata": {
        "colab": {
          "base_uri": "https://localhost:8080/"
        },
        "outputId": "6be2640d-4553-42c7-9476-c876b93dffb7",
        "id": "26WfYwlV2Jxl"
      },
      "execution_count": null,
      "outputs": [
        {
          "output_type": "stream",
          "name": "stdout",
          "text": [
            "Epoch 1/30\n",
            "6002/6002 [==============================] - 98s 16ms/step - loss: 0.5508 - accuracy: 0.7180 - val_loss: 0.5442 - val_accuracy: 0.7219\n",
            "Epoch 2/30\n",
            "6002/6002 [==============================] - 96s 16ms/step - loss: 0.5422 - accuracy: 0.7242 - val_loss: 0.5395 - val_accuracy: 0.7260\n",
            "Epoch 3/30\n",
            "6002/6002 [==============================] - 96s 16ms/step - loss: 0.5360 - accuracy: 0.7299 - val_loss: 0.5373 - val_accuracy: 0.7277\n",
            "Epoch 4/30\n",
            "6002/6002 [==============================] - 100s 17ms/step - loss: 0.5308 - accuracy: 0.7338 - val_loss: 0.5367 - val_accuracy: 0.7287\n",
            "Epoch 5/30\n",
            "6002/6002 [==============================] - 98s 16ms/step - loss: 0.5264 - accuracy: 0.7376 - val_loss: 0.5334 - val_accuracy: 0.7306\n",
            "Epoch 6/30\n",
            "6002/6002 [==============================] - 97s 16ms/step - loss: 0.5224 - accuracy: 0.7407 - val_loss: 0.5343 - val_accuracy: 0.7302\n",
            "Epoch 7/30\n",
            "6002/6002 [==============================] - 93s 16ms/step - loss: 0.5188 - accuracy: 0.7433 - val_loss: 0.5324 - val_accuracy: 0.7315\n",
            "Epoch 8/30\n",
            "6002/6002 [==============================] - 93s 16ms/step - loss: 0.5159 - accuracy: 0.7460 - val_loss: 0.5328 - val_accuracy: 0.7316\n",
            "Epoch 9/30\n",
            "6002/6002 [==============================] - 97s 16ms/step - loss: 0.5131 - accuracy: 0.7480 - val_loss: 0.5325 - val_accuracy: 0.7319\n",
            "Epoch 10/30\n",
            "6002/6002 [==============================] - 98s 16ms/step - loss: 0.5099 - accuracy: 0.7502 - val_loss: 0.5317 - val_accuracy: 0.7319\n"
          ]
        }
      ]
    },
    {
      "cell_type": "code",
      "source": [
        "fig, axes = plt.subplots(1, 2, figsize=(14,4))\n",
        "\n",
        "for i, which in enumerate(['accuracy', 'loss']):\n",
        "    ax = axes[i]\n",
        "    ax.plot(fit.history[which]+fit2.history[which], label=which)\n",
        "    ax.plot(fit.history['val_'+which]+fit2.history['val_'+which], label='val_'+which)\n",
        "    ax.set_xlabel('epoch')\n",
        "    ax.set_ylabel(which)\n",
        "    ax.legend();"
      ],
      "metadata": {
        "colab": {
          "base_uri": "https://localhost:8080/",
          "height": 289
        },
        "outputId": "ce26532f-46c2-4b9d-cc6f-b047db5e8c8d",
        "id": "Gz_GY7uU2Jxm"
      },
      "execution_count": null,
      "outputs": [
        {
          "output_type": "display_data",
          "data": {
            "text/plain": [
              "<Figure size 1008x288 with 2 Axes>"
            ],
            "image/png": "[encoded data removed]"
          },
          "metadata": {}
        }
      ]
    },
    {
      "cell_type": "code",
      "execution_count": null,
      "metadata": {
        "colab": {
          "base_uri": "https://localhost:8080/",
          "height": 343
        },
        "outputId": "b97ff6fa-5dbb-4740-f80b-e6763cfe72ab",
        "id": "gith7abN2Jxn"
      },
      "outputs": [
        {
          "output_type": "display_data",
          "data": {
            "text/plain": [
              "<Figure size 360x360 with 1 Axes>"
            ],
            "image/png": "[encoded data removed]"
          },
          "metadata": {}
        }
      ],
      "source": [
        "evaluate(model, X_val_tok, y_val)"
      ]
    },
    {
      "cell_type": "code",
      "source": [
        "show_errors(model, pd.Series(X_val), X_val_tok, y_val, n=5)"
      ],
      "metadata": {
        "colab": {
          "base_uri": "https://localhost:8080/"
        },
        "outputId": "be2c96c7-283e-40ff-bf06-2b655608a88d",
        "id": "7wKrD6WC2Jxo"
      },
      "execution_count": null,
      "outputs": [
        {
          "output_type": "stream",
          "name": "stdout",
          "text": [
            "False negatives:\n",
            "---------------------------\n",
            "Ha....ha....ha\n",
            "Then he should just get a running and swimming power meter.\n",
            "I find the trademark for everyteam except mine offensive.\n",
            "Go to church?\n",
            "Well anecdotal evidence is basically proof in the scientific world and everyone on the internet tells the truth so I should upvote both of these comments and agree right?\n",
            "\n",
            "False positives:\n",
            "---------------------------\n",
            "Just another day in the life of Good Guy Mike\n",
            "rip, got 2 perkas from 8 3vat spins, problem are all those dlc ggs, its really lame to get only one perka from all those lds, hoping your luck change next time\n",
            "If 'lol' stands for 'laugh out loud'... what is 'lel' supposed to mean?\n",
            "Wouldn't it be more like, a bank employee decided to sneak you a bunch of money and you just took it and left without saying anything?\n",
            "Nvidia GTX 480 cooling\n"
          ]
        }
      ]
    },
    {
      "cell_type": "code",
      "source": [
        "model.save(root+'cnn_freeze_unfreeze')"
      ],
      "metadata": {
        "colab": {
          "base_uri": "https://localhost:8080/"
        },
        "outputId": "279dc928-b6e3-43cb-b8a4-c5b166275e8f",
        "id": "6n_OmgcZ2Jxp"
      },
      "execution_count": null,
      "outputs": [
        {
          "output_type": "stream",
          "name": "stdout",
          "text": [
            "INFO:tensorflow:Assets written to: /content/drive/My Drive/surely_not_sarcasm_data/cnn_freeze_unfreeze/assets\n"
          ]
        }
      ]
    },
    {
      "cell_type": "markdown",
      "source": [
        "# CNN + polarity"
      ],
      "metadata": {
        "id": "GBmi_MF72pPB"
      }
    },
    {
      "cell_type": "code",
      "source": [
        "sia = SentimentIntensityAnalyzer()\n",
        "polarity = data['X_train'].apply(lambda x: [sia.polarity_scores(w)['compound'] for w in x.split()])"
      ],
      "metadata": {
        "id": "jPB6l2_R2rI_"
      },
      "execution_count": null,
      "outputs": []
    },
    {
      "cell_type": "code",
      "source": [
        "X_train_pol = np.zeros((polarity.shape[0], maxlen))\n",
        "\n",
        "for row in range(polarity.shape[0]):\n",
        "    vals = polarity.values[row]\n",
        "    length = min(maxlen, len(vals))\n",
        "    X_train_pol[row, :length] = vals[:length]"
      ],
      "metadata": {
        "id": "VBzH5hYWQVvv"
      },
      "execution_count": null,
      "outputs": []
    },
    {
      "cell_type": "code",
      "source": [
        "sia = SentimentIntensityAnalyzer()\n",
        "polarity_val = data['X_val'].apply(lambda x: [sia.polarity_scores(w)['compound'] for w in x.split()])"
      ],
      "metadata": {
        "id": "11uTZ8oXRpOW"
      },
      "execution_count": null,
      "outputs": []
    },
    {
      "cell_type": "code",
      "source": [
        "X_val_pol = np.zeros((polarity_val.shape[0], maxlen))\n",
        "\n",
        "for row in range(polarity_val.shape[0]):\n",
        "    vals = polarity_val.values[row]\n",
        "    length = min(maxlen, len(vals))\n",
        "    X_val_pol[row, :length] = vals[:length]"
      ],
      "metadata": {
        "id": "scj9g5eLRthF"
      },
      "execution_count": null,
      "outputs": []
    },
    {
      "cell_type": "code",
      "source": [
        "es = EarlyStopping(monitor='val_loss', min_delta=0.001, patience=3, restore_best_weights=True)"
      ],
      "metadata": {
        "id": "TANmBUmpSpLd"
      },
      "execution_count": null,
      "outputs": []
    },
    {
      "cell_type": "code",
      "source": [
        "X_train_pol = X_train_pol[..., None]"
      ],
      "metadata": {
        "id": "SOUIGFscTOFK"
      },
      "execution_count": null,
      "outputs": []
    },
    {
      "cell_type": "code",
      "source": [
        "X_val_pol = X_val_pol[..., None]"
      ],
      "metadata": {
        "id": "OPmWa7itTSFB"
      },
      "execution_count": null,
      "outputs": []
    },
    {
      "cell_type": "code",
      "source": [
        "model = Sequential([\n",
        "    InputLayer(input_shape=(X_train_pol.shape[1], 1, )),\n",
        "    Conv1D(32, 5, activation='relu', kernel_initializer='he_normal'),\n",
        "    MaxPooling1D(5),\n",
        "    Flatten(),\n",
        "    Dense(100, activation='elu', kernel_initializer='he_normal'),\n",
        "    Dropout(0.5),\n",
        "    Dense(1, activation='sigmoid')\n",
        "])\n",
        "\n",
        "model.compile(loss='binary_crossentropy', optimizer='adam', metrics=['accuracy'])\n",
        "fit = model.fit(X_train_pol, y_train, validation_data=(X_val_pol,y_val), batch_size=128, epochs=50, callbacks=[es])"
      ],
      "metadata": {
        "colab": {
          "base_uri": "https://localhost:8080/"
        },
        "id": "8tiqtSfqRUeG",
        "outputId": "64701b2f-7360-425b-9aa1-a329e0e7692d"
      },
      "execution_count": null,
      "outputs": [
        {
          "output_type": "stream",
          "name": "stdout",
          "text": [
            "Epoch 1/50\n",
            "6002/6002 [==============================] - 31s 5ms/step - loss: 0.6884 - accuracy: 0.5448 - val_loss: 0.6864 - val_accuracy: 0.5469\n",
            "Epoch 2/50\n",
            "6002/6002 [==============================] - 30s 5ms/step - loss: 0.6865 - accuracy: 0.5484 - val_loss: 0.6848 - val_accuracy: 0.5513\n",
            "Epoch 3/50\n",
            "6002/6002 [==============================] - 29s 5ms/step - loss: 0.6852 - accuracy: 0.5503 - val_loss: 0.6836 - val_accuracy: 0.5536\n",
            "Epoch 4/50\n",
            "6002/6002 [==============================] - 29s 5ms/step - loss: 0.6845 - accuracy: 0.5509 - val_loss: 0.6830 - val_accuracy: 0.5550\n",
            "Epoch 5/50\n",
            "6002/6002 [==============================] - 30s 5ms/step - loss: 0.6842 - accuracy: 0.5515 - val_loss: 0.6830 - val_accuracy: 0.5528\n",
            "Epoch 6/50\n",
            "6002/6002 [==============================] - 29s 5ms/step - loss: 0.6840 - accuracy: 0.5515 - val_loss: 0.6832 - val_accuracy: 0.5543\n"
          ]
        }
      ]
    },
    {
      "cell_type": "code",
      "source": [
        "model = Sequential([\n",
        "    InputLayer(input_shape=(X_train_pol.shape[1], 1, )),\n",
        "    Conv1D(32, 5, activation='relu', kernel_initializer='he_normal'),\n",
        "    GRU(20),\n",
        "    Dense(10, activation='elu', kernel_initializer='he_normal'),\n",
        "    Dropout(0.3),\n",
        "    Dense(1, activation='sigmoid')\n",
        "])\n",
        "\n",
        "es = EarlyStopping(monitor='val_loss', min_delta=0.001, patience=3, restore_best_weights=True)\n",
        "adam = tf.keras.optimizers.Adam(learning_rate=0.003)\n",
        "model.compile(loss='binary_crossentropy', optimizer=adam, metrics=['accuracy'])\n",
        "fit = model.fit(X_train_pol, y_train, validation_data=(X_val_pol,y_val), batch_size=128, epochs=50, callbacks=[es])"
      ],
      "metadata": {
        "colab": {
          "base_uri": "https://localhost:8080/"
        },
        "id": "AwSBd8VXSDEM",
        "outputId": "f77f7be4-f547-4553-fd7e-ae0e6c7ab3d6"
      },
      "execution_count": null,
      "outputs": [
        {
          "output_type": "stream",
          "name": "stdout",
          "text": [
            "Epoch 1/50\n",
            "6002/6002 [==============================] - 48s 8ms/step - loss: 0.6853 - accuracy: 0.5464 - val_loss: 0.6815 - val_accuracy: 0.5545\n",
            "Epoch 2/50\n",
            "6002/6002 [==============================] - 46s 8ms/step - loss: 0.6818 - accuracy: 0.5544 - val_loss: 0.6800 - val_accuracy: 0.5580\n",
            "Epoch 3/50\n",
            "6002/6002 [==============================] - 46s 8ms/step - loss: 0.6807 - accuracy: 0.5569 - val_loss: 0.6788 - val_accuracy: 0.5612\n",
            "Epoch 4/50\n",
            "6002/6002 [==============================] - 46s 8ms/step - loss: 0.6796 - accuracy: 0.5591 - val_loss: 0.6777 - val_accuracy: 0.5619\n",
            "Epoch 5/50\n",
            "6002/6002 [==============================] - 46s 8ms/step - loss: 0.6788 - accuracy: 0.5601 - val_loss: 0.6766 - val_accuracy: 0.5625\n",
            "Epoch 6/50\n",
            "6002/6002 [==============================] - 46s 8ms/step - loss: 0.6783 - accuracy: 0.5614 - val_loss: 0.6764 - val_accuracy: 0.5638\n",
            "Epoch 7/50\n",
            "6002/6002 [==============================] - 46s 8ms/step - loss: 0.6780 - accuracy: 0.5613 - val_loss: 0.6767 - val_accuracy: 0.5612\n",
            "Epoch 8/50\n",
            "6002/6002 [==============================] - 52s 9ms/step - loss: 0.6780 - accuracy: 0.5616 - val_loss: 0.6763 - val_accuracy: 0.5622\n"
          ]
        }
      ]
    },
    {
      "cell_type": "code",
      "source": [
        "plot_history(fit)"
      ],
      "metadata": {
        "colab": {
          "base_uri": "https://localhost:8080/",
          "height": 289
        },
        "id": "7c4x5ekUb90N",
        "outputId": "9ef359ca-64be-4b22-f348-22c8b6de47a1"
      },
      "execution_count": null,
      "outputs": [
        {
          "output_type": "display_data",
          "data": {
            "image/png": "[encoded data removed]",
            "text/plain": [
              "<Figure size 1008x288 with 2 Axes>"
            ]
          },
          "metadata": {}
        }
      ]
    },
    {
      "cell_type": "code",
      "source": [
        "model = Sequential([\n",
        "    InputLayer(input_shape=(X_train_pol.shape[1], 1, )),\n",
        "    Conv1D(32, 3, activation='relu', kernel_initializer='he_normal'),\n",
        "    Conv1D(64, 5, activation='relu', kernel_initializer='he_normal'),\n",
        "    GRU(20, return_sequences=True),\n",
        "    GRU(20),\n",
        "    Dense(10, activation='elu', kernel_initializer='he_normal'),\n",
        "    Dropout(0.3),\n",
        "    Dense(1, activation='sigmoid')\n",
        "])\n",
        "\n",
        "es = EarlyStopping(monitor='val_loss', min_delta=0.001, patience=3, restore_best_weights=True)\n",
        "adam = tf.keras.optimizers.Adam(learning_rate=0.003)\n",
        "model.compile(loss='binary_crossentropy', optimizer=adam, metrics=['accuracy'])\n",
        "fit = model.fit(X_train_pol, y_train, validation_data=(X_val_pol,y_val), batch_size=128, epochs=50, callbacks=[es])"
      ],
      "metadata": {
        "id": "BScDk5b4cjqL"
      },
      "execution_count": null,
      "outputs": []
    },
    {
      "cell_type": "code",
      "source": [
        "embeddings_input =  keras.Input(shape=(None,), name='embeddings')\n",
        "polarity_input = keras.Input(shape=(X_train_pol.shape[1], 1, ), name='polarity')\n",
        "\n",
        "emb = Embedding(input_dim=input_dim, output_dim=vec_len, input_length=maxlen,\n",
        "                mask_zero=True, weights=[embedding_matrix], trainable=True)(embeddings_input)\n",
        "emb = Conv1D(32, 3, activation='relu', kernel_initializer='he_normal')(emb)\n",
        "# emb = MaxPooling1D(3)(emb)\n",
        "# emb = Flatten()(emb)\n",
        "emb = tf.keras.layers.GlobalMaxPooling1D()(emb)\n",
        "\n",
        "pol = Conv1D(32, 5, activation='relu', kernel_initializer='he_normal')(polarity_input)\n",
        "pol = GRU(20)(pol)\n",
        "\n",
        "x = tf.keras.layers.concatenate([emb, pol])\n",
        "x = Dense(100, activation='elu', kernel_initializer='he_normal')(x)\n",
        "x = Dropout(0.5)(x)\n",
        "output = Dense(1, activation='sigmoid')(x)\n",
        "\n",
        "es = EarlyStopping(monitor='val_loss', min_delta=0.001, patience=3, restore_best_weights=True)\n",
        "\n",
        "model = keras.Model(inputs=[embeddings_input, polarity_input], outputs=[output])\n",
        "model.compile(loss='binary_crossentropy', optimizer='adam', metrics=['accuracy'])\n",
        "model.fit({'embeddings': X_train_tok, 'polarity': X_train_pol}, y_train, epochs=50, batch_size=128, callbacks=[es],\n",
        "          validation_data=({'embeddings': X_val_tok, 'polarity': X_val_pol}, y_val))"
      ],
      "metadata": {
        "colab": {
          "base_uri": "https://localhost:8080/"
        },
        "id": "jzmMY72Yfe-F",
        "outputId": "457b7d17-be7c-4a3d-adcc-df142cbbb228"
      },
      "execution_count": null,
      "outputs": [
        {
          "output_type": "stream",
          "name": "stdout",
          "text": [
            "Epoch 1/50\n",
            "6002/6002 [==============================] - 86s 12ms/step - loss: 0.5772 - accuracy: 0.6942 - val_loss: 0.5507 - val_accuracy: 0.7172\n",
            "Epoch 2/50\n",
            "6002/6002 [==============================] - 72s 12ms/step - loss: 0.5374 - accuracy: 0.7287 - val_loss: 0.5441 - val_accuracy: 0.7212\n",
            "Epoch 3/50\n",
            "6002/6002 [==============================] - 77s 13ms/step - loss: 0.5183 - accuracy: 0.7428 - val_loss: 0.5413 - val_accuracy: 0.7239\n",
            "Epoch 4/50\n",
            "6002/6002 [==============================] - 76s 13ms/step - loss: 0.5001 - accuracy: 0.7562 - val_loss: 0.5500 - val_accuracy: 0.7208\n",
            "Epoch 5/50\n",
            "6002/6002 [==============================] - 72s 12ms/step - loss: 0.4821 - accuracy: 0.7690 - val_loss: 0.5623 - val_accuracy: 0.7165\n",
            "Epoch 6/50\n",
            "6002/6002 [==============================] - 76s 13ms/step - loss: 0.4642 - accuracy: 0.7806 - val_loss: 0.5667 - val_accuracy: 0.7166\n"
          ]
        },
        {
          "output_type": "execute_result",
          "data": {
            "text/plain": [
              "<keras.callbacks.History at 0x7f2d4bdfaf10>"
            ]
          },
          "metadata": {},
          "execution_count": 34
        }
      ]
    },
    {
      "cell_type": "code",
      "source": [
        "pol, emb"
      ],
      "metadata": {
        "colab": {
          "base_uri": "https://localhost:8080/"
        },
        "id": "1ZbT7OITmdYY",
        "outputId": "5ca149bf-0bd3-45af-9920-bec4651b1370"
      },
      "execution_count": null,
      "outputs": [
        {
          "output_type": "execute_result",
          "data": {
            "text/plain": [
              "(<KerasTensor: shape=(None, 20) dtype=float32 (created by layer 'gru_3')>,\n",
              " <KerasTensor: shape=(None, 32) dtype=float32 (created by layer 'global_max_pooling1d_1')>)"
            ]
          },
          "metadata": {},
          "execution_count": 33
        }
      ]
    },
    {
      "cell_type": "markdown",
      "source": [
        "# polarity in embeddings"
      ],
      "metadata": {
        "id": "083DsHYpfRTx"
      }
    },
    {
      "cell_type": "code",
      "source": [
        "sia = SentimentIntensityAnalyzer()\n",
        "polarity_dim = np.zeros(input_dim)\n",
        "\n",
        "for word, ind in tokenizer.word_index.items():\n",
        "    if ind < input_dim:\n",
        "        polarity_dim[ind] = sia.polarity_scores(word)['compound']"
      ],
      "metadata": {
        "id": "mK_DjwkwdGhM"
      },
      "execution_count": null,
      "outputs": []
    },
    {
      "cell_type": "code",
      "source": [
        "emb_matrix_pol = np.concatenate([embedding_matrix, polarity_dim[:,None]], axis=1)"
      ],
      "metadata": {
        "id": "zP3mgUcud3nI"
      },
      "execution_count": null,
      "outputs": []
    },
    {
      "cell_type": "code",
      "source": [
        "model = Sequential([\n",
        "    Embedding(input_dim=input_dim, output_dim=vec_len+1, input_length=maxlen,\n",
        "              mask_zero=True, weights=[emb_matrix_pol], trainable=True),\n",
        "              \n",
        "    Conv1D(32, 2, activation='relu', kernel_initializer='he_normal', padding='same'),\n",
        "    BatchNormalization(),\n",
        "    Conv1D(32, 2, activation='relu', kernel_initializer='he_normal', padding='same'),\n",
        "    BatchNormalization(),\n",
        "    MaxPooling1D(2, padding='same'),\n",
        "    Dropout(0.3),\n",
        "\n",
        "    Conv1D(64, 3, activation='relu', kernel_initializer='he_normal', padding='same'),\n",
        "    BatchNormalization(),\n",
        "    Conv1D(64, 3, activation='relu', kernel_initializer='he_normal', padding='same'),\n",
        "    BatchNormalization(),\n",
        "    MaxPooling1D(3, padding='same'),\n",
        "    Dropout(0.3),\n",
        "\n",
        "    Flatten(),\n",
        "    Dense(100, activation='elu', kernel_initializer='he_normal'),\n",
        "    BatchNormalization(),\n",
        "    Dropout(0.5),\n",
        "    Dense(1, activation='sigmoid')\n",
        "])\n",
        "\n",
        "es = EarlyStopping(monitor='val_loss', min_delta=0.001, patience=3, restore_best_weights=True)\n",
        "model.compile(loss='binary_crossentropy', optimizer='adam', metrics=['accuracy'])\n",
        "fit = model.fit(X_train_tok, y_train, validation_data=(X_val_tok,y_val), batch_size=128, epochs=50, callbacks=[es])"
      ],
      "metadata": {
        "colab": {
          "base_uri": "https://localhost:8080/"
        },
        "id": "d9wmqn9CeXeF",
        "outputId": "e8dd807c-588e-4c8b-88f9-e3e23b36533d"
      },
      "execution_count": null,
      "outputs": [
        {
          "output_type": "stream",
          "name": "stdout",
          "text": [
            "Epoch 1/50\n",
            "6002/6002 [==============================] - 104s 17ms/step - loss: 0.5981 - accuracy: 0.6798 - val_loss: 0.5490 - val_accuracy: 0.7187\n",
            "Epoch 2/50\n",
            "6002/6002 [==============================] - 114s 19ms/step - loss: 0.5465 - accuracy: 0.7234 - val_loss: 0.5386 - val_accuracy: 0.7276\n",
            "Epoch 3/50\n",
            "6002/6002 [==============================] - 94s 16ms/step - loss: 0.5308 - accuracy: 0.7354 - val_loss: 0.5355 - val_accuracy: 0.7289\n",
            "Epoch 4/50\n",
            "6002/6002 [==============================] - 95s 16ms/step - loss: 0.5179 - accuracy: 0.7455 - val_loss: 0.5384 - val_accuracy: 0.7290\n",
            "Epoch 5/50\n",
            "6002/6002 [==============================] - 93s 16ms/step - loss: 0.5069 - accuracy: 0.7534 - val_loss: 0.5355 - val_accuracy: 0.7302\n",
            "Epoch 6/50\n",
            "6002/6002 [==============================] - 97s 16ms/step - loss: 0.4962 - accuracy: 0.7609 - val_loss: 0.5343 - val_accuracy: 0.7303\n",
            "Epoch 7/50\n",
            "6002/6002 [==============================] - 104s 17ms/step - loss: 0.4860 - accuracy: 0.7675 - val_loss: 0.5380 - val_accuracy: 0.7281\n",
            "Epoch 8/50\n",
            "6002/6002 [==============================] - 110s 18ms/step - loss: 0.4760 - accuracy: 0.7746 - val_loss: 0.5476 - val_accuracy: 0.7235\n",
            "Epoch 9/50\n",
            "6002/6002 [==============================] - 95s 16ms/step - loss: 0.4664 - accuracy: 0.7811 - val_loss: 0.5486 - val_accuracy: 0.7243\n"
          ]
        }
      ]
    },
    {
      "cell_type": "markdown",
      "source": [
        "# polarity of comment and parent"
      ],
      "metadata": {
        "id": "oAW_qouaBEgs"
      }
    },
    {
      "cell_type": "code",
      "execution_count": null,
      "metadata": {
        "colab": {
          "base_uri": "https://localhost:8080/",
          "height": 206
        },
        "outputId": "8f24b86b-76f7-4aa6-8f62-4324a2bfb46f",
        "id": "953g-HzWBwlj"
      },
      "outputs": [
        {
          "output_type": "execute_result",
          "data": {
            "text/plain": [
              "   label                                            comment  \\\n",
              "0      0                                         NC and NH.   \n",
              "1      0  You do know west teams play against west teams...   \n",
              "2      0  They were underdogs earlier today, but since G...   \n",
              "3      0  This meme isn't funny none of the \"new york ni...   \n",
              "4      0                    I could use one of those tools.   \n",
              "\n",
              "                                      parent_comment  \n",
              "0  Yeah, I get that argument. At this point, I'd ...  \n",
              "1  The blazers and Mavericks (The wests 5 and 6 s...  \n",
              "2                            They're favored to win.  \n",
              "3                         deadass don't kill my buzz  \n",
              "4  Yep can confirm I saw the tool they use for th...  "
            ],
            "text/html": [
              "\n",
              "  <div id=\"df-16132536-9374-4ea8-8c8d-e01a6acb8c98\">\n",
              "    <div class=\"colab-df-container\">\n",
              "      <div>\n",
              "<style scoped>\n",
              "    .dataframe tbody tr th:only-of-type {\n",
              "        vertical-align: middle;\n",
              "    }\n",
              "\n",
              "    .dataframe tbody tr th {\n",
              "        vertical-align: top;\n",
              "    }\n",
              "\n",
              "    .dataframe thead th {\n",
              "        text-align: right;\n",
              "    }\n",
              "</style>\n",
              "<table border=\"1\" class=\"dataframe\">\n",
              "  <thead>\n",
              "    <tr style=\"text-align: right;\">\n",
              "      <th></th>\n",
              "      <th>label</th>\n",
              "      <th>comment</th>\n",
              "      <th>parent_comment</th>\n",
              "    </tr>\n",
              "  </thead>\n",
              "  <tbody>\n",
              "    <tr>\n",
              "      <th>0</th>\n",
              "      <td>0</td>\n",
              "      <td>NC and NH.</td>\n",
              "      <td>Yeah, I get that argument. At this point, I'd ...</td>\n",
              "    </tr>\n",
              "    <tr>\n",
              "      <th>1</th>\n",
              "      <td>0</td>\n",
              "      <td>You do know west teams play against west teams...</td>\n",
              "      <td>The blazers and Mavericks (The wests 5 and 6 s...</td>\n",
              "    </tr>\n",
              "    <tr>\n",
              "      <th>2</th>\n",
              "      <td>0</td>\n",
              "      <td>They were underdogs earlier today, but since G...</td>\n",
              "      <td>They're favored to win.</td>\n",
              "    </tr>\n",
              "    <tr>\n",
              "      <th>3</th>\n",
              "      <td>0</td>\n",
              "      <td>This meme isn't funny none of the \"new york ni...</td>\n",
              "      <td>deadass don't kill my buzz</td>\n",
              "    </tr>\n",
              "    <tr>\n",
              "      <th>4</th>\n",
              "      <td>0</td>\n",
              "      <td>I could use one of those tools.</td>\n",
              "      <td>Yep can confirm I saw the tool they use for th...</td>\n",
              "    </tr>\n",
              "  </tbody>\n",
              "</table>\n",
              "</div>\n",
              "      <button class=\"colab-df-convert\" onclick=\"convertToInteractive('df-16132536-9374-4ea8-8c8d-e01a6acb8c98')\"\n",
              "              title=\"Convert this dataframe to an interactive table.\"\n",
              "              style=\"display:none;\">\n",
              "        \n",
              "  <svg xmlns=\"http://www.w3.org/2000/svg\" height=\"24px\"viewBox=\"0 0 24 24\"\n",
              "       width=\"24px\">\n",
              "    <path d=\"M0 0h24v24H0V0z\" fill=\"none\"/>\n",
              "    <path d=\"M18.56 5.44l.94 2.06.94-2.06 2.06-.94-2.06-.94-.94-2.06-.94 2.06-2.06.94zm-11 1L8.5 8.5l.94-2.06 2.06-.94-2.06-.94L8.5 2.5l-.94 2.06-2.06.94zm10 10l.94 2.06.94-2.06 2.06-.94-2.06-.94-.94-2.06-.94 2.06-2.06.94z\"/><path d=\"M17.41 7.96l-1.37-1.37c-.4-.4-.92-.59-1.43-.59-.52 0-1.04.2-1.43.59L10.3 9.45l-7.72 7.72c-.78.78-.78 2.05 0 2.83L4 21.41c.39.39.9.59 1.41.59.51 0 1.02-.2 1.41-.59l7.78-7.78 2.81-2.81c.8-.78.8-2.07 0-2.86zM5.41 20L4 18.59l7.72-7.72 1.47 1.35L5.41 20z\"/>\n",
              "  </svg>\n",
              "      </button>\n",
              "      \n",
              "  <style>\n",
              "    .colab-df-container {\n",
              "      display:flex;\n",
              "      flex-wrap:wrap;\n",
              "      gap: 12px;\n",
              "    }\n",
              "\n",
              "    .colab-df-convert {\n",
              "      background-color: #E8F0FE;\n",
              "      border: none;\n",
              "      border-radius: 50%;\n",
              "      cursor: pointer;\n",
              "      display: none;\n",
              "      fill: #1967D2;\n",
              "      height: 32px;\n",
              "      padding: 0 0 0 0;\n",
              "      width: 32px;\n",
              "    }\n",
              "\n",
              "    .colab-df-convert:hover {\n",
              "      background-color: #E2EBFA;\n",
              "      box-shadow: 0px 1px 2px rgba(60, 64, 67, 0.3), 0px 1px 3px 1px rgba(60, 64, 67, 0.15);\n",
              "      fill: #174EA6;\n",
              "    }\n",
              "\n",
              "    [theme=dark] .colab-df-convert {\n",
              "      background-color: #3B4455;\n",
              "      fill: #D2E3FC;\n",
              "    }\n",
              "\n",
              "    [theme=dark] .colab-df-convert:hover {\n",
              "      background-color: #434B5C;\n",
              "      box-shadow: 0px 1px 3px 1px rgba(0, 0, 0, 0.15);\n",
              "      filter: drop-shadow(0px 1px 2px rgba(0, 0, 0, 0.3));\n",
              "      fill: #FFFFFF;\n",
              "    }\n",
              "  </style>\n",
              "\n",
              "      <script>\n",
              "        const buttonEl =\n",
              "          document.querySelector('#df-16132536-9374-4ea8-8c8d-e01a6acb8c98 button.colab-df-convert');\n",
              "        buttonEl.style.display =\n",
              "          google.colab.kernel.accessAllowed ? 'block' : 'none';\n",
              "\n",
              "        async function convertToInteractive(key) {\n",
              "          const element = document.querySelector('#df-16132536-9374-4ea8-8c8d-e01a6acb8c98');\n",
              "          const dataTable =\n",
              "            await google.colab.kernel.invokeFunction('convertToInteractive',\n",
              "                                                     [key], {});\n",
              "          if (!dataTable) return;\n",
              "\n",
              "          const docLinkHtml = 'Like what you see? Visit the ' +\n",
              "            '<a target=\"_blank\" href=https://colab.research.google.com/notebooks/data_table.ipynb>data table notebook</a>'\n",
              "            + ' to learn more about interactive tables.';\n",
              "          element.innerHTML = '';\n",
              "          dataTable['output_type'] = 'display_data';\n",
              "          await google.colab.output.renderOutput(dataTable, element);\n",
              "          const docLink = document.createElement('div');\n",
              "          docLink.innerHTML = docLinkHtml;\n",
              "          element.appendChild(docLink);\n",
              "        }\n",
              "      </script>\n",
              "    </div>\n",
              "  </div>\n",
              "  "
            ]
          },
          "metadata": {},
          "execution_count": 68
        }
      ],
      "source": [
        "df = pd.read_csv(root+'data/train_balanced_smaller.csv')\n",
        "df.head()"
      ]
    },
    {
      "cell_type": "code",
      "source": [
        "sia = SentimentIntensityAnalyzer()\n",
        "\n",
        "def get_sentiment(comment):\n",
        "    return sia.polarity_scores(comment)['compound']\n",
        "\n",
        "df['sent_comment'] = df['comment'].map(get_sentiment)\n",
        "df['sent_parent'] = df['parent_comment'].map(get_sentiment)"
      ],
      "metadata": {
        "id": "vfR0xMCyBHMi"
      },
      "execution_count": null,
      "outputs": []
    },
    {
      "cell_type": "code",
      "execution_count": null,
      "metadata": {
        "id": "BPXAhfzKBwlk"
      },
      "outputs": [],
      "source": [
        "X = df[['sent_comment', 'sent_parent']].values"
      ]
    },
    {
      "cell_type": "code",
      "source": [
        "X_train_sent, X_val_sent, y_train, _ = train_test_split(X, y, stratify=y, test_size=0.2, random_state=42)\n",
        "X_train_sent, X_test_sent, y_train, _ = train_test_split(X_train_sent, y_train, stratify=y_train, test_size=0.05, random_state=42)"
      ],
      "metadata": {
        "id": "lwc3fwv-Bwlm"
      },
      "execution_count": null,
      "outputs": []
    },
    {
      "cell_type": "code",
      "source": [
        "embeddings_input =  keras.Input(shape=(None,), name='embeddings')\n",
        "polarity_input = keras.Input(shape=(X_train_sent.shape[1],), name='polarity')\n",
        "\n",
        "emb = Embedding(input_dim=input_dim, output_dim=vec_len, input_length=maxlen,\n",
        "                mask_zero=True, weights=[embedding_matrix], trainable=True)(embeddings_input)\n",
        "\n",
        "emb = Conv1D(32, 2, activation='relu', kernel_initializer='he_normal', padding='same')(emb)\n",
        "emb = BatchNormalization()(emb)\n",
        "emb = Conv1D(32, 2, activation='relu', kernel_initializer='he_normal', padding='same')(emb)\n",
        "emb = BatchNormalization()(emb)\n",
        "emb = MaxPooling1D(2, padding='same')(emb)\n",
        "emb = Dropout(0.3)(emb)\n",
        "\n",
        "emb = Conv1D(64, 3, activation='relu', kernel_initializer='he_normal', padding='same')(emb)\n",
        "emb = BatchNormalization()(emb)\n",
        "emb = Conv1D(64, 3, activation='relu', kernel_initializer='he_normal', padding='same')(emb)\n",
        "emb = BatchNormalization()(emb)\n",
        "emb = MaxPooling1D(3, padding='same')(emb)\n",
        "emb = Dropout(0.3)(emb)\n",
        "\n",
        "emb = tf.keras.layers.GlobalMaxPooling1D()(emb)\n",
        "\n",
        "x = tf.keras.layers.concatenate([emb, polarity_input])\n",
        "x = Dense(100, activation='elu', kernel_initializer='he_normal')(x)\n",
        "x = BatchNormalization()(x)\n",
        "x = Dropout(0.5)(x)\n",
        "output = Dense(1, activation='sigmoid')(x)\n",
        "\n",
        "es = EarlyStopping(monitor='val_loss', min_delta=0.001, patience=3, restore_best_weights=True)\n",
        "\n",
        "model = keras.Model(inputs=[embeddings_input, polarity_input], outputs=[output])\n",
        "model.compile(loss='binary_crossentropy', optimizer='adam', metrics=['accuracy'])\n",
        "model.fit({'embeddings': X_train_tok, 'polarity': X_train_sent}, y_train, epochs=50, batch_size=128, callbacks=[es],\n",
        "          validation_data=({'embeddings': X_val_tok, 'polarity': X_val_sent}, y_val))"
      ],
      "metadata": {
        "colab": {
          "base_uri": "https://localhost:8080/"
        },
        "id": "g5KEGmmYFmEN",
        "outputId": "ec89a525-ecc9-4db7-c89f-7171260eb98c"
      },
      "execution_count": null,
      "outputs": [
        {
          "output_type": "stream",
          "name": "stdout",
          "text": [
            "Epoch 1/50\n",
            "6002/6002 [==============================] - 101s 16ms/step - loss: 0.6016 - accuracy: 0.6743 - val_loss: 0.5583 - val_accuracy: 0.7151\n",
            "Epoch 2/50\n",
            "6002/6002 [==============================] - 107s 18ms/step - loss: 0.5485 - accuracy: 0.7218 - val_loss: 0.5386 - val_accuracy: 0.7270\n",
            "Epoch 3/50\n",
            "6002/6002 [==============================] - 103s 17ms/step - loss: 0.5324 - accuracy: 0.7347 - val_loss: 0.5407 - val_accuracy: 0.7282\n",
            "Epoch 4/50\n",
            "6002/6002 [==============================] - 101s 17ms/step - loss: 0.5195 - accuracy: 0.7446 - val_loss: 0.5335 - val_accuracy: 0.7325\n",
            "Epoch 5/50\n",
            "6002/6002 [==============================] - 103s 17ms/step - loss: 0.5076 - accuracy: 0.7531 - val_loss: 0.5328 - val_accuracy: 0.7334\n",
            "Epoch 6/50\n",
            "6002/6002 [==============================] - 99s 17ms/step - loss: 0.4968 - accuracy: 0.7613 - val_loss: 0.5429 - val_accuracy: 0.7277\n",
            "Epoch 7/50\n",
            "6002/6002 [==============================] - 97s 16ms/step - loss: 0.4863 - accuracy: 0.7683 - val_loss: 0.5408 - val_accuracy: 0.7289\n"
          ]
        },
        {
          "output_type": "execute_result",
          "data": {
            "text/plain": [
              "<keras.callbacks.History at 0x7f732453ccd0>"
            ]
          },
          "metadata": {},
          "execution_count": 83
        }
      ]
    },
    {
      "cell_type": "code",
      "source": [
        ""
      ],
      "metadata": {
        "id": "J_-XluOsJ9cE"
      },
      "execution_count": null,
      "outputs": []
    }
  ]
}