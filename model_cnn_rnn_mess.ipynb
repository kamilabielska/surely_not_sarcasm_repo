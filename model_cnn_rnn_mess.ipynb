{
  "cells": [
    {
      "cell_type": "code",
      "source": [
        "!pip install contractions"
      ],
      "metadata": {
        "id": "NH9MdYow0nkW"
      },
      "id": "NH9MdYow0nkW",
      "execution_count": null,
      "outputs": []
    },
    {
      "cell_type": "code",
      "execution_count": null,
      "id": "27a2de95",
      "metadata": {
        "id": "27a2de95"
      },
      "outputs": [],
      "source": [
        "import pandas as pd\n",
        "import matplotlib.pyplot as plt\n",
        "import seaborn as sns\n",
        "import numpy as np\n",
        "import tensorflow as tf\n",
        "import contractions\n",
        "import string\n",
        "import keras\n",
        "import pickle\n",
        "import re\n",
        "\n",
        "from sklearn.model_selection import train_test_split\n",
        "from sklearn.metrics import accuracy_score, precision_score, recall_score, confusion_matrix, ConfusionMatrixDisplay\n",
        "\n",
        "from keras.preprocessing.text import Tokenizer\n",
        "from keras.preprocessing.sequence import pad_sequences\n",
        "\n",
        "from tensorflow.keras import Sequential\n",
        "from tensorflow.keras.layers import Dense, InputLayer, Embedding, Conv1D, MaxPooling1D, Bidirectional, LSTM\n",
        "from tensorflow.keras.callbacks import EarlyStopping\n",
        "\n",
        "from utilities import *\n",
        "\n",
        "sns.set_style('whitegrid');\n",
        "sns.set_context('notebook', font_scale=1.2);"
      ]
    },
    {
      "cell_type": "code",
      "execution_count": null,
      "id": "f8877fc0",
      "metadata": {
        "colab": {
          "base_uri": "https://localhost:8080/"
        },
        "id": "f8877fc0",
        "outputId": "12ce09c1-cecd-4b3a-d974-d82bf58f3e0a"
      },
      "outputs": [
        {
          "output_type": "stream",
          "name": "stdout",
          "text": [
            "Mounted at /content/drive\n"
          ]
        }
      ],
      "source": [
        "from google.colab import drive\n",
        "drive.mount('/content/drive')"
      ]
    },
    {
      "cell_type": "code",
      "execution_count": null,
      "id": "e6c7134f",
      "metadata": {
        "id": "e6c7134f"
      },
      "outputs": [],
      "source": [
        "root = '/content/drive/My Drive/surely_not_sarcasm_data/'"
      ]
    },
    {
      "cell_type": "markdown",
      "id": "dbcbe8dc",
      "metadata": {
        "id": "dbcbe8dc"
      },
      "source": [
        "# get data"
      ]
    },
    {
      "cell_type": "code",
      "execution_count": null,
      "id": "2df8f867",
      "metadata": {
        "colab": {
          "base_uri": "https://localhost:8080/",
          "height": 206
        },
        "id": "2df8f867",
        "outputId": "e599fdeb-ecfc-4bc1-9f10-a2e36c9639b4"
      },
      "outputs": [
        {
          "output_type": "execute_result",
          "data": {
            "text/html": [
              "\n",
              "  <div id=\"df-f73065c4-645c-4b9d-b469-58ed6a6c2a16\">\n",
              "    <div class=\"colab-df-container\">\n",
              "      <div>\n",
              "<style scoped>\n",
              "    .dataframe tbody tr th:only-of-type {\n",
              "        vertical-align: middle;\n",
              "    }\n",
              "\n",
              "    .dataframe tbody tr th {\n",
              "        vertical-align: top;\n",
              "    }\n",
              "\n",
              "    .dataframe thead th {\n",
              "        text-align: right;\n",
              "    }\n",
              "</style>\n",
              "<table border=\"1\" class=\"dataframe\">\n",
              "  <thead>\n",
              "    <tr style=\"text-align: right;\">\n",
              "      <th></th>\n",
              "      <th>label</th>\n",
              "      <th>comment</th>\n",
              "    </tr>\n",
              "  </thead>\n",
              "  <tbody>\n",
              "    <tr>\n",
              "      <th>0</th>\n",
              "      <td>0</td>\n",
              "      <td>NC and NH.</td>\n",
              "    </tr>\n",
              "    <tr>\n",
              "      <th>1</th>\n",
              "      <td>0</td>\n",
              "      <td>You do know west teams play against west teams...</td>\n",
              "    </tr>\n",
              "    <tr>\n",
              "      <th>2</th>\n",
              "      <td>0</td>\n",
              "      <td>They were underdogs earlier today, but since G...</td>\n",
              "    </tr>\n",
              "    <tr>\n",
              "      <th>3</th>\n",
              "      <td>0</td>\n",
              "      <td>This meme isn't funny none of the \"new york ni...</td>\n",
              "    </tr>\n",
              "    <tr>\n",
              "      <th>4</th>\n",
              "      <td>0</td>\n",
              "      <td>I could use one of those tools.</td>\n",
              "    </tr>\n",
              "  </tbody>\n",
              "</table>\n",
              "</div>\n",
              "      <button class=\"colab-df-convert\" onclick=\"convertToInteractive('df-f73065c4-645c-4b9d-b469-58ed6a6c2a16')\"\n",
              "              title=\"Convert this dataframe to an interactive table.\"\n",
              "              style=\"display:none;\">\n",
              "        \n",
              "  <svg xmlns=\"http://www.w3.org/2000/svg\" height=\"24px\"viewBox=\"0 0 24 24\"\n",
              "       width=\"24px\">\n",
              "    <path d=\"M0 0h24v24H0V0z\" fill=\"none\"/>\n",
              "    <path d=\"M18.56 5.44l.94 2.06.94-2.06 2.06-.94-2.06-.94-.94-2.06-.94 2.06-2.06.94zm-11 1L8.5 8.5l.94-2.06 2.06-.94-2.06-.94L8.5 2.5l-.94 2.06-2.06.94zm10 10l.94 2.06.94-2.06 2.06-.94-2.06-.94-.94-2.06-.94 2.06-2.06.94z\"/><path d=\"M17.41 7.96l-1.37-1.37c-.4-.4-.92-.59-1.43-.59-.52 0-1.04.2-1.43.59L10.3 9.45l-7.72 7.72c-.78.78-.78 2.05 0 2.83L4 21.41c.39.39.9.59 1.41.59.51 0 1.02-.2 1.41-.59l7.78-7.78 2.81-2.81c.8-.78.8-2.07 0-2.86zM5.41 20L4 18.59l7.72-7.72 1.47 1.35L5.41 20z\"/>\n",
              "  </svg>\n",
              "      </button>\n",
              "      \n",
              "  <style>\n",
              "    .colab-df-container {\n",
              "      display:flex;\n",
              "      flex-wrap:wrap;\n",
              "      gap: 12px;\n",
              "    }\n",
              "\n",
              "    .colab-df-convert {\n",
              "      background-color: #E8F0FE;\n",
              "      border: none;\n",
              "      border-radius: 50%;\n",
              "      cursor: pointer;\n",
              "      display: none;\n",
              "      fill: #1967D2;\n",
              "      height: 32px;\n",
              "      padding: 0 0 0 0;\n",
              "      width: 32px;\n",
              "    }\n",
              "\n",
              "    .colab-df-convert:hover {\n",
              "      background-color: #E2EBFA;\n",
              "      box-shadow: 0px 1px 2px rgba(60, 64, 67, 0.3), 0px 1px 3px 1px rgba(60, 64, 67, 0.15);\n",
              "      fill: #174EA6;\n",
              "    }\n",
              "\n",
              "    [theme=dark] .colab-df-convert {\n",
              "      background-color: #3B4455;\n",
              "      fill: #D2E3FC;\n",
              "    }\n",
              "\n",
              "    [theme=dark] .colab-df-convert:hover {\n",
              "      background-color: #434B5C;\n",
              "      box-shadow: 0px 1px 3px 1px rgba(0, 0, 0, 0.15);\n",
              "      filter: drop-shadow(0px 1px 2px rgba(0, 0, 0, 0.3));\n",
              "      fill: #FFFFFF;\n",
              "    }\n",
              "  </style>\n",
              "\n",
              "      <script>\n",
              "        const buttonEl =\n",
              "          document.querySelector('#df-f73065c4-645c-4b9d-b469-58ed6a6c2a16 button.colab-df-convert');\n",
              "        buttonEl.style.display =\n",
              "          google.colab.kernel.accessAllowed ? 'block' : 'none';\n",
              "\n",
              "        async function convertToInteractive(key) {\n",
              "          const element = document.querySelector('#df-f73065c4-645c-4b9d-b469-58ed6a6c2a16');\n",
              "          const dataTable =\n",
              "            await google.colab.kernel.invokeFunction('convertToInteractive',\n",
              "                                                     [key], {});\n",
              "          if (!dataTable) return;\n",
              "\n",
              "          const docLinkHtml = 'Like what you see? Visit the ' +\n",
              "            '<a target=\"_blank\" href=https://colab.research.google.com/notebooks/data_table.ipynb>data table notebook</a>'\n",
              "            + ' to learn more about interactive tables.';\n",
              "          element.innerHTML = '';\n",
              "          dataTable['output_type'] = 'display_data';\n",
              "          await google.colab.output.renderOutput(dataTable, element);\n",
              "          const docLink = document.createElement('div');\n",
              "          docLink.innerHTML = docLinkHtml;\n",
              "          element.appendChild(docLink);\n",
              "        }\n",
              "      </script>\n",
              "    </div>\n",
              "  </div>\n",
              "  "
            ],
            "text/plain": [
              "   label                                            comment\n",
              "0      0                                         NC and NH.\n",
              "1      0  You do know west teams play against west teams...\n",
              "2      0  They were underdogs earlier today, but since G...\n",
              "3      0  This meme isn't funny none of the \"new york ni...\n",
              "4      0                    I could use one of those tools."
            ]
          },
          "metadata": {},
          "execution_count": 7
        }
      ],
      "source": [
        "df = pd.read_csv(root+'train_data.csv')\n",
        "df.head()"
      ]
    },
    {
      "cell_type": "code",
      "source": [
        "df['contains_link'] = df['comment'].str.contains(r'http\\S+', regex=True)\n",
        "df['contains_hashtag'] = df['comment'].str.contains(r'#\\w+', regex=True)\n",
        "df['subreddit_mention'] = df['comment'].str.contains(r'\\br/+', regex=True)\n",
        "df['user_mention'] = df['comment'].str.contains(r'\\bu/+', regex=True)"
      ],
      "metadata": {
        "id": "AomDuKoEkIKW"
      },
      "id": "AomDuKoEkIKW",
      "execution_count": null,
      "outputs": []
    },
    {
      "cell_type": "code",
      "source": [
        "# also check for capitalized words, emoticons, number of punctuation marks"
      ],
      "metadata": {
        "id": "DBL8NQKLvwZm"
      },
      "id": "DBL8NQKLvwZm",
      "execution_count": null,
      "outputs": []
    },
    {
      "cell_type": "code",
      "source": [
        "df[['contains_link', 'contains_hashtag', 'subreddit_mention', 'user_mention']].sum().div(df.shape[0]).mul(100)"
      ],
      "metadata": {
        "colab": {
          "base_uri": "https://localhost:8080/"
        },
        "id": "QY5AhhhClWD3",
        "outputId": "d61759a1-f6f2-4df6-9b69-9908f369cd3c"
      },
      "id": "QY5AhhhClWD3",
      "execution_count": null,
      "outputs": [
        {
          "output_type": "execute_result",
          "data": {
            "text/plain": [
              "contains_link        0.010190\n",
              "contains_hashtag     0.370904\n",
              "subreddit_mention    0.175905\n",
              "user_mention         0.027306\n",
              "dtype: float64"
            ]
          },
          "metadata": {},
          "execution_count": 85
        }
      ]
    },
    {
      "cell_type": "code",
      "source": [
        "df[['label', 'contains_link', 'contains_hashtag', 'subreddit_mention', 'user_mention']].groupby('label').sum()"
      ],
      "metadata": {
        "colab": {
          "base_uri": "https://localhost:8080/",
          "height": 143
        },
        "id": "K6JGFQBbmYBS",
        "outputId": "8f7d0b7e-8255-4fb5-f9f7-d31b207361dd"
      },
      "id": "K6JGFQBbmYBS",
      "execution_count": null,
      "outputs": [
        {
          "output_type": "execute_result",
          "data": {
            "text/html": [
              "\n",
              "  <div id=\"df-7d6544bf-bf7c-45fb-b5f5-6316bb3fe51f\">\n",
              "    <div class=\"colab-df-container\">\n",
              "      <div>\n",
              "<style scoped>\n",
              "    .dataframe tbody tr th:only-of-type {\n",
              "        vertical-align: middle;\n",
              "    }\n",
              "\n",
              "    .dataframe tbody tr th {\n",
              "        vertical-align: top;\n",
              "    }\n",
              "\n",
              "    .dataframe thead th {\n",
              "        text-align: right;\n",
              "    }\n",
              "</style>\n",
              "<table border=\"1\" class=\"dataframe\">\n",
              "  <thead>\n",
              "    <tr style=\"text-align: right;\">\n",
              "      <th></th>\n",
              "      <th>contains_link</th>\n",
              "      <th>contains_hashtag</th>\n",
              "      <th>subreddit_mention</th>\n",
              "      <th>user_mention</th>\n",
              "    </tr>\n",
              "    <tr>\n",
              "      <th>label</th>\n",
              "      <th></th>\n",
              "      <th></th>\n",
              "      <th></th>\n",
              "      <th></th>\n",
              "    </tr>\n",
              "  </thead>\n",
              "  <tbody>\n",
              "    <tr>\n",
              "      <th>0</th>\n",
              "      <td>90</td>\n",
              "      <td>2090</td>\n",
              "      <td>1124</td>\n",
              "      <td>183</td>\n",
              "    </tr>\n",
              "    <tr>\n",
              "      <th>1</th>\n",
              "      <td>13</td>\n",
              "      <td>1659</td>\n",
              "      <td>654</td>\n",
              "      <td>93</td>\n",
              "    </tr>\n",
              "  </tbody>\n",
              "</table>\n",
              "</div>\n",
              "      <button class=\"colab-df-convert\" onclick=\"convertToInteractive('df-7d6544bf-bf7c-45fb-b5f5-6316bb3fe51f')\"\n",
              "              title=\"Convert this dataframe to an interactive table.\"\n",
              "              style=\"display:none;\">\n",
              "        \n",
              "  <svg xmlns=\"http://www.w3.org/2000/svg\" height=\"24px\"viewBox=\"0 0 24 24\"\n",
              "       width=\"24px\">\n",
              "    <path d=\"M0 0h24v24H0V0z\" fill=\"none\"/>\n",
              "    <path d=\"M18.56 5.44l.94 2.06.94-2.06 2.06-.94-2.06-.94-.94-2.06-.94 2.06-2.06.94zm-11 1L8.5 8.5l.94-2.06 2.06-.94-2.06-.94L8.5 2.5l-.94 2.06-2.06.94zm10 10l.94 2.06.94-2.06 2.06-.94-2.06-.94-.94-2.06-.94 2.06-2.06.94z\"/><path d=\"M17.41 7.96l-1.37-1.37c-.4-.4-.92-.59-1.43-.59-.52 0-1.04.2-1.43.59L10.3 9.45l-7.72 7.72c-.78.78-.78 2.05 0 2.83L4 21.41c.39.39.9.59 1.41.59.51 0 1.02-.2 1.41-.59l7.78-7.78 2.81-2.81c.8-.78.8-2.07 0-2.86zM5.41 20L4 18.59l7.72-7.72 1.47 1.35L5.41 20z\"/>\n",
              "  </svg>\n",
              "      </button>\n",
              "      \n",
              "  <style>\n",
              "    .colab-df-container {\n",
              "      display:flex;\n",
              "      flex-wrap:wrap;\n",
              "      gap: 12px;\n",
              "    }\n",
              "\n",
              "    .colab-df-convert {\n",
              "      background-color: #E8F0FE;\n",
              "      border: none;\n",
              "      border-radius: 50%;\n",
              "      cursor: pointer;\n",
              "      display: none;\n",
              "      fill: #1967D2;\n",
              "      height: 32px;\n",
              "      padding: 0 0 0 0;\n",
              "      width: 32px;\n",
              "    }\n",
              "\n",
              "    .colab-df-convert:hover {\n",
              "      background-color: #E2EBFA;\n",
              "      box-shadow: 0px 1px 2px rgba(60, 64, 67, 0.3), 0px 1px 3px 1px rgba(60, 64, 67, 0.15);\n",
              "      fill: #174EA6;\n",
              "    }\n",
              "\n",
              "    [theme=dark] .colab-df-convert {\n",
              "      background-color: #3B4455;\n",
              "      fill: #D2E3FC;\n",
              "    }\n",
              "\n",
              "    [theme=dark] .colab-df-convert:hover {\n",
              "      background-color: #434B5C;\n",
              "      box-shadow: 0px 1px 3px 1px rgba(0, 0, 0, 0.15);\n",
              "      filter: drop-shadow(0px 1px 2px rgba(0, 0, 0, 0.3));\n",
              "      fill: #FFFFFF;\n",
              "    }\n",
              "  </style>\n",
              "\n",
              "      <script>\n",
              "        const buttonEl =\n",
              "          document.querySelector('#df-7d6544bf-bf7c-45fb-b5f5-6316bb3fe51f button.colab-df-convert');\n",
              "        buttonEl.style.display =\n",
              "          google.colab.kernel.accessAllowed ? 'block' : 'none';\n",
              "\n",
              "        async function convertToInteractive(key) {\n",
              "          const element = document.querySelector('#df-7d6544bf-bf7c-45fb-b5f5-6316bb3fe51f');\n",
              "          const dataTable =\n",
              "            await google.colab.kernel.invokeFunction('convertToInteractive',\n",
              "                                                     [key], {});\n",
              "          if (!dataTable) return;\n",
              "\n",
              "          const docLinkHtml = 'Like what you see? Visit the ' +\n",
              "            '<a target=\"_blank\" href=https://colab.research.google.com/notebooks/data_table.ipynb>data table notebook</a>'\n",
              "            + ' to learn more about interactive tables.';\n",
              "          element.innerHTML = '';\n",
              "          dataTable['output_type'] = 'display_data';\n",
              "          await google.colab.output.renderOutput(dataTable, element);\n",
              "          const docLink = document.createElement('div');\n",
              "          docLink.innerHTML = docLinkHtml;\n",
              "          element.appendChild(docLink);\n",
              "        }\n",
              "      </script>\n",
              "    </div>\n",
              "  </div>\n",
              "  "
            ],
            "text/plain": [
              "       contains_link  contains_hashtag  subreddit_mention  user_mention\n",
              "label                                                                  \n",
              "0                 90              2090               1124           183\n",
              "1                 13              1659                654            93"
            ]
          },
          "metadata": {},
          "execution_count": 86
        }
      ]
    },
    {
      "cell_type": "markdown",
      "source": [
        "what to delete, what to keep?"
      ],
      "metadata": {
        "id": "UyW04VetpIPI"
      },
      "id": "UyW04VetpIPI"
    },
    {
      "cell_type": "code",
      "source": [
        "df['comment'] = df['comment'].str.replace(r'http\\S+', '', regex=True).str.replace(r'\\bu/+', '', regex=True)"
      ],
      "metadata": {
        "id": "5J9ED7fWo64L"
      },
      "id": "5J9ED7fWo64L",
      "execution_count": null,
      "outputs": []
    },
    {
      "cell_type": "code",
      "execution_count": null,
      "id": "7620c375",
      "metadata": {
        "id": "7620c375"
      },
      "outputs": [],
      "source": [
        "X = df['comment'].apply(lambda x: contractions.fix(x))\n",
        "y = df['label'].values"
      ]
    },
    {
      "cell_type": "code",
      "source": [
        "glove_vocab = WordEmbeddings().get_glove_vocab()"
      ],
      "metadata": {
        "id": "JdHeSYzWXYB1"
      },
      "id": "JdHeSYzWXYB1",
      "execution_count": null,
      "outputs": []
    },
    {
      "cell_type": "code",
      "source": [
        "any([x.lower() != x for x in glove_vocab])"
      ],
      "metadata": {
        "colab": {
          "base_uri": "https://localhost:8080/"
        },
        "id": "L62HOzpAs6f8",
        "outputId": "07537deb-3cbf-41ba-9cca-597f9d3d26e1"
      },
      "id": "L62HOzpAs6f8",
      "execution_count": null,
      "outputs": [
        {
          "output_type": "execute_result",
          "data": {
            "text/plain": [
              "False"
            ]
          },
          "metadata": {},
          "execution_count": 90
        }
      ]
    },
    {
      "cell_type": "code",
      "source": [
        "not_alphanumeric = [x for x in glove_vocab if not x.isalnum()]"
      ],
      "metadata": {
        "id": "FDhrqi3Kzpzj"
      },
      "id": "FDhrqi3Kzpzj",
      "execution_count": null,
      "outputs": []
    },
    {
      "cell_type": "code",
      "source": [
        "not_alphanumeric"
      ],
      "metadata": {
        "colab": {
          "base_uri": "https://localhost:8080/"
        },
        "id": "5ZBo1tk40dsF",
        "outputId": "d9153521-63da-4c98-d9ea-bf4ec278461c"
      },
      "id": "5ZBo1tk40dsF",
      "execution_count": null,
      "outputs": [
        {
          "output_type": "execute_result",
          "data": {
            "text/plain": [
              "[',',\n",
              " '.',\n",
              " '\"',\n",
              " \"'s\",\n",
              " '-',\n",
              " '(',\n",
              " ')',\n",
              " \"''\",\n",
              " '``',\n",
              " ':',\n",
              " \"'\",\n",
              " '--',\n",
              " \"n't\",\n",
              " '$',\n",
              " ';',\n",
              " '_',\n",
              " 'u.s.',\n",
              " '?',\n",
              " '–',\n",
              " '%',\n",
              " \"'re\",\n",
              " '/',\n",
              " '...',\n",
              " \"'ve\",\n",
              " \"'m\",\n",
              " '&amp;',\n",
              " 'u.n.',\n",
              " 'inc.',\n",
              " \"'ll\",\n",
              " '’s',\n",
              " '!',\n",
              " 'st.',\n",
              " 'no.',\n",
              " '`',\n",
              " 'corp.',\n",
              " \"'d\",\n",
              " '&',\n",
              " 'co.',\n",
              " 'p.m.',\n",
              " '=',\n",
              " '—',\n",
              " 'dr.',\n",
              " 'sept.',\n",
              " '“',\n",
              " '”',\n",
              " 'w.',\n",
              " 'a.m.',\n",
              " 'sen.',\n",
              " '1,000',\n",
              " 'c.',\n",
              " 'mr.',\n",
              " 'j.',\n",
              " 'a.',\n",
              " 'oct.',\n",
              " 'dec.',\n",
              " 'jr.',\n",
              " 'jan.',\n",
              " 'vs.',\n",
              " 'nov.',\n",
              " 'ms.',\n",
              " 'm.',\n",
              " 's.',\n",
              " '10,000',\n",
              " '1/2',\n",
              " 'aug.',\n",
              " 'gen.',\n",
              " '#',\n",
              " '.....',\n",
              " 'rep.',\n",
              " 'feb.',\n",
              " '[',\n",
              " '------',\n",
              " '6-3',\n",
              " '6-4',\n",
              " '2,000',\n",
              " 'ltd.',\n",
              " '100,000',\n",
              " '’',\n",
              " 'e.',\n",
              " 'mrs.',\n",
              " '1.5',\n",
              " 'b.',\n",
              " '+',\n",
              " '6-2',\n",
              " 'gov.',\n",
              " '5,000',\n",
              " 'h.',\n",
              " 'd.',\n",
              " 'd.c.',\n",
              " 'r.',\n",
              " '3,000',\n",
              " 'l.',\n",
              " 'f.',\n",
              " '¥',\n",
              " 'p.',\n",
              " '1-0',\n",
              " '2.5',\n",
              " '___',\n",
              " 'calif.',\n",
              " '20,000',\n",
              " '2-1',\n",
              " '2-0',\n",
              " '50,000',\n",
              " 'n.y.',\n",
              " '6-1',\n",
              " '1.2',\n",
              " 'v.',\n",
              " '‘',\n",
              " 'etc.',\n",
              " '£',\n",
              " '30,000',\n",
              " '7-6',\n",
              " 'lt.',\n",
              " '200,000',\n",
              " 'g.',\n",
              " '1,500',\n",
              " '10-year',\n",
              " '|',\n",
              " '4,000',\n",
              " '500,000',\n",
              " '1.3',\n",
              " '3.5',\n",
              " ']',\n",
              " 't.',\n",
              " '3-0',\n",
              " 'fla.',\n",
              " 'e.g.',\n",
              " 'rev.',\n",
              " '7-5',\n",
              " '1.6',\n",
              " 'col.',\n",
              " 'i.e.',\n",
              " '1.4',\n",
              " '~',\n",
              " '1-1',\n",
              " '15,000',\n",
              " '1.1',\n",
              " '300,000',\n",
              " 'u.s.-led',\n",
              " '3-1',\n",
              " '30-year',\n",
              " '40,000',\n",
              " '1/4',\n",
              " '1.8',\n",
              " '6,000',\n",
              " 'k.',\n",
              " '4.5',\n",
              " '1.7',\n",
              " '0.5',\n",
              " '25,000',\n",
              " '3-2',\n",
              " 'n.',\n",
              " '2.2',\n",
              " '8,000',\n",
              " '0.2',\n",
              " '0.1',\n",
              " 'l.a.',\n",
              " '__',\n",
              " 'i.',\n",
              " '....',\n",
              " '250,000',\n",
              " '2.4',\n",
              " 'va.',\n",
              " '0.3',\n",
              " '1,200',\n",
              " 'maj.',\n",
              " '2,500',\n",
              " \"o'brien\",\n",
              " '6-0',\n",
              " '2.3',\n",
              " 'u.k.',\n",
              " '60,000',\n",
              " '150,000',\n",
              " '20-year',\n",
              " '7,000',\n",
              " '3/4',\n",
              " \"o'neal\",\n",
              " '2.6',\n",
              " \"o'neill\",\n",
              " '5.5',\n",
              " '2.7',\n",
              " '1.9',\n",
              " '0-0',\n",
              " '2.1',\n",
              " '400,000',\n",
              " '0.4',\n",
              " '12,000',\n",
              " 'n.j.',\n",
              " '\\\\',\n",
              " 'coxnews.com',\n",
              " '7.5',\n",
              " '2.8',\n",
              " '2-2',\n",
              " '4-1',\n",
              " '3.2',\n",
              " '0.6',\n",
              " ',000',\n",
              " '6.5',\n",
              " '{',\n",
              " '4-6',\n",
              " \"o'connor\",\n",
              " 'capt.',\n",
              " '3.3',\n",
              " '15-year',\n",
              " 'n.c.',\n",
              " 'q.',\n",
              " 'well-known',\n",
              " '25-year',\n",
              " '4-0',\n",
              " 'non-families',\n",
              " '3.6',\n",
              " '0.7',\n",
              " '3.8',\n",
              " '3-6',\n",
              " 'and/or',\n",
              " 'ga.',\n",
              " 'n’t',\n",
              " '2.0',\n",
              " '3.1',\n",
              " '0.8',\n",
              " '3.4',\n",
              " 'sgt.',\n",
              " '19-year',\n",
              " 'mass.',\n",
              " '9/11',\n",
              " '1/8',\n",
              " '80,000',\n",
              " '18-year',\n",
              " '70,000',\n",
              " '600,000',\n",
              " 's.e.',\n",
              " '2.9',\n",
              " '12-year',\n",
              " '1-2',\n",
              " 'full-time',\n",
              " 'sr.',\n",
              " '17-year',\n",
              " '202-547-4512',\n",
              " '202-546-4194',\n",
              " 'md.',\n",
              " 'f.c.',\n",
              " '3.7',\n",
              " '4.2',\n",
              " '22-year',\n",
              " '6-7',\n",
              " 'bros.',\n",
              " 'ph.d.',\n",
              " '4-2',\n",
              " '-0',\n",
              " 'so-called',\n",
              " '24-year',\n",
              " '23-year',\n",
              " '21-year',\n",
              " '…',\n",
              " '0.9',\n",
              " '24-hour',\n",
              " '35,000',\n",
              " 'us$',\n",
              " '4.3',\n",
              " 'conn.',\n",
              " '3/8',\n",
              " '16-year',\n",
              " '800,000',\n",
              " '8.5',\n",
              " 'pa.',\n",
              " '1,300',\n",
              " '.5',\n",
              " 'u.',\n",
              " '4.6',\n",
              " '4.8',\n",
              " '3,500',\n",
              " '26-year',\n",
              " '9,000',\n",
              " '4.4',\n",
              " 'r&b',\n",
              " '8:30',\n",
              " '5/8',\n",
              " '4-3',\n",
              " '7/8',\n",
              " 'al.',\n",
              " '5.6',\n",
              " \"'em\",\n",
              " '4.7',\n",
              " '3.9',\n",
              " 'first-class',\n",
              " '14-year',\n",
              " \"'70s\",\n",
              " '27-year',\n",
              " 'south-east',\n",
              " '5.2',\n",
              " 'o.',\n",
              " '5.4',\n",
              " '1,600',\n",
              " \"'60s\",\n",
              " '28-year',\n",
              " '4.1',\n",
              " '13-year',\n",
              " 'non-profit',\n",
              " '11,000',\n",
              " '1,400',\n",
              " '3.0',\n",
              " '5.3',\n",
              " 'o.j.',\n",
              " \"'80s\",\n",
              " '1.0',\n",
              " \"'90s\",\n",
              " '5-0',\n",
              " '700,000',\n",
              " '5.7',\n",
              " 'present-day',\n",
              " 'mid-1990s',\n",
              " 'north-west',\n",
              " '13,000',\n",
              " '1,100',\n",
              " 'south-west',\n",
              " 'long-term',\n",
              " '2-3',\n",
              " '5.1',\n",
              " '5.8',\n",
              " 'north-east',\n",
              " '4.9',\n",
              " '5-4',\n",
              " 'brig.',\n",
              " '29-year',\n",
              " 'ariz.',\n",
              " '12.5',\n",
              " '---',\n",
              " '18,000',\n",
              " 'j.p.',\n",
              " '7:30',\n",
              " '>',\n",
              " '120,000',\n",
              " '14,000',\n",
              " '1-3',\n",
              " '40-year',\n",
              " '1.25',\n",
              " '€',\n",
              " '5-1',\n",
              " '}',\n",
              " 'mich.',\n",
              " '32-year',\n",
              " '1,800',\n",
              " '6.3',\n",
              " '6.2',\n",
              " 're-elected',\n",
              " \"'n'\",\n",
              " 'mid-1980s',\n",
              " '9.5',\n",
              " \"o'donnell\",\n",
              " 'all-star',\n",
              " '16,000',\n",
              " '6.4',\n",
              " '3-pointer',\n",
              " 'colo.',\n",
              " '17,000',\n",
              " '5.9',\n",
              " 'a-half',\n",
              " '75,000',\n",
              " '6.7',\n",
              " '----',\n",
              " '2-6',\n",
              " '11-year',\n",
              " '6.6',\n",
              " '3-year',\n",
              " '35-year',\n",
              " '6.8',\n",
              " '(800)',\n",
              " '6.1',\n",
              " '5-2',\n",
              " '7.2',\n",
              " 'b.c.',\n",
              " '5-7',\n",
              " '31-year',\n",
              " 's.c.',\n",
              " 'u.s',\n",
              " '*',\n",
              " '4.0',\n",
              " '9:30',\n",
              " '404-526-5456',\n",
              " '10.5',\n",
              " '7.6',\n",
              " 'four-year',\n",
              " '0-1',\n",
              " 'by-election',\n",
              " 'mo.',\n",
              " '33-year',\n",
              " 'short-lived',\n",
              " '7.3',\n",
              " 'two-year',\n",
              " '1,700',\n",
              " '3-point',\n",
              " '12-month',\n",
              " 'ill.',\n",
              " '7.8',\n",
              " '90,000',\n",
              " '7.1',\n",
              " '5-3',\n",
              " '4,500',\n",
              " '350,000',\n",
              " '7.4',\n",
              " 'u.s.-backed',\n",
              " '7.7',\n",
              " 'u.s.-based',\n",
              " '2-year',\n",
              " '34-year',\n",
              " 'pg-13',\n",
              " 'tenn.',\n",
              " '0.25',\n",
              " 'mt.',\n",
              " 'ave.',\n",
              " 'ajc.com',\n",
              " 'african-american',\n",
              " '45,000',\n",
              " '6.9',\n",
              " 'anti-',\n",
              " 'adm.',\n",
              " '3-3',\n",
              " '5-year',\n",
              " '50-year',\n",
              " '8.3',\n",
              " '.2',\n",
              " 'runner-up',\n",
              " 'all-time',\n",
              " '3-d',\n",
              " '4-year',\n",
              " 'f-16',\n",
              " '5.0',\n",
              " '8.2',\n",
              " 'vice-president',\n",
              " 'telegram.com',\n",
              " \"d'amato\",\n",
              " 'km/h',\n",
              " '11.5',\n",
              " '10-day',\n",
              " 'all-american',\n",
              " '.1',\n",
              " 'semi-final',\n",
              " '36-year',\n",
              " 'www.star',\n",
              " 'b.a.',\n",
              " 'post-war',\n",
              " '8.7',\n",
              " '8.4',\n",
              " '38-year',\n",
              " \"o'clock\",\n",
              " '0-2',\n",
              " '7.9',\n",
              " 'formula_1',\n",
              " 'hip-hop',\n",
              " '10:30',\n",
              " '750,000',\n",
              " '37-year',\n",
              " 're-election',\n",
              " 'full-length',\n",
              " 'all-ireland',\n",
              " '8.8',\n",
              " 'co-founder',\n",
              " 'prof.',\n",
              " 'kan.',\n",
              " 'j.d.',\n",
              " 'sens.',\n",
              " 'ala.',\n",
              " '8.6',\n",
              " '(212)',\n",
              " 'nytimes.com',\n",
              " '1-6',\n",
              " 'line-up',\n",
              " 'semi-finals',\n",
              " 'award-winning',\n",
              " '6-year',\n",
              " 'amazon.com',\n",
              " '9.6',\n",
              " '.3',\n",
              " '.4',\n",
              " '22,000',\n",
              " '6-5',\n",
              " '3-pointers',\n",
              " 'cos.',\n",
              " '-----',\n",
              " '8.1',\n",
              " '3-4',\n",
              " 'same-sex',\n",
              " 'part-time',\n",
              " '130,000',\n",
              " '.500',\n",
              " '.6',\n",
              " \"o'leary\",\n",
              " '2,200',\n",
              " '282-942',\n",
              " '6.0',\n",
              " '15-nation',\n",
              " \"d'ivoire\",\n",
              " 'large-scale',\n",
              " '9.4',\n",
              " '8.9',\n",
              " 'singer-songwriter',\n",
              " '65,000',\n",
              " '140,000',\n",
              " '9.3',\n",
              " '1.75',\n",
              " '9.2',\n",
              " 'n.h.',\n",
              " '10:00',\n",
              " '5:30',\n",
              " '2,400',\n",
              " '.8',\n",
              " '47-42-80-44',\n",
              " '.7',\n",
              " 'la.',\n",
              " 'g-8',\n",
              " 'three-year',\n",
              " '9.8',\n",
              " '816-822-1444',\n",
              " '15-member',\n",
              " '1.50',\n",
              " \"'50s\",\n",
              " '7,500',\n",
              " 'follow-up',\n",
              " '47-42-18-81',\n",
              " '0.05',\n",
              " '900,000',\n",
              " '@',\n",
              " '--------',\n",
              " '6:30',\n",
              " '13.5',\n",
              " '9.7',\n",
              " \"o'reilly\",\n",
              " '37,000',\n",
              " '18-month',\n",
              " 'wash.',\n",
              " \"o'connell\",\n",
              " 'nikkei-225',\n",
              " 'ind.',\n",
              " 'formula_2',\n",
              " '6:00',\n",
              " 'co-founded',\n",
              " 'pac-10',\n",
              " '9.1',\n",
              " 'ca.',\n",
              " '2,300',\n",
              " '8-year',\n",
              " 'a.d.',\n",
              " 're-released',\n",
              " '160,000',\n",
              " '816-822-8448',\n",
              " '7-year',\n",
              " '47-42-17-11',\n",
              " 'mid-1970s',\n",
              " '8:00',\n",
              " '5:00',\n",
              " '2.25',\n",
              " 'main-belt',\n",
              " '1-800-444-0267',\n",
              " '450,000',\n",
              " '180,000',\n",
              " 'ky.',\n",
              " '28,000',\n",
              " '60-year',\n",
              " '45-year',\n",
              " '14.5',\n",
              " '0.10',\n",
              " '7-0',\n",
              " 'under-21',\n",
              " 'm.a.',\n",
              " '39-year',\n",
              " '9.9',\n",
              " '10.2',\n",
              " \"o'sullivan\",\n",
              " '21,000',\n",
              " '10.4',\n",
              " '10.3',\n",
              " 'g-7',\n",
              " \"'n\",\n",
              " 'right-handed',\n",
              " '225-issue',\n",
              " '24,000',\n",
              " 'self-titled',\n",
              " '1-4',\n",
              " '41-year',\n",
              " '7-2',\n",
              " '5.25',\n",
              " '10.6',\n",
              " 'u.s.a.',\n",
              " '0.15',\n",
              " '1.35',\n",
              " '23,000',\n",
              " '17.5',\n",
              " '5,500',\n",
              " 'wis.',\n",
              " '4-4',\n",
              " 'north-eastern',\n",
              " 'long-time',\n",
              " '4:30',\n",
              " '7.0',\n",
              " \"o'malley\",\n",
              " 'minn.',\n",
              " 'globe.com',\n",
              " 'b-side',\n",
              " '0.50',\n",
              " '12.7',\n",
              " '26,000',\n",
              " '10.8',\n",
              " '55,000',\n",
              " '9a-4p',\n",
              " '1/3',\n",
              " '10.7',\n",
              " '7-3',\n",
              " '7-4',\n",
              " '.9',\n",
              " 'top-10',\n",
              " '42-year',\n",
              " '2:30',\n",
              " '<',\n",
              " '15.5',\n",
              " '9-year',\n",
              " '90-minute',\n",
              " '6,500',\n",
              " 'a.j.',\n",
              " 'one-year',\n",
              " '7:00',\n",
              " '7-1',\n",
              " 'spider-man',\n",
              " '2-4',\n",
              " 'miss.',\n",
              " '0.02',\n",
              " '9:00',\n",
              " '50-50',\n",
              " '125,000',\n",
              " 'par-5',\n",
              " '0.01',\n",
              " 'co-wrote',\n",
              " '0.04',\n",
              " '16.5',\n",
              " 'pp.',\n",
              " '0.75',\n",
              " '43-year',\n",
              " 'j.c.',\n",
              " '2.50',\n",
              " 'formula_3',\n",
              " '27,000',\n",
              " '11.2',\n",
              " '1.15',\n",
              " '3:30',\n",
              " '30-day',\n",
              " '30-minute',\n",
              " '24.95',\n",
              " 'b.j.',\n",
              " '19th-century',\n",
              " '0.20',\n",
              " '+1',\n",
              " '19,000',\n",
              " '11.4',\n",
              " 'north-western',\n",
              " '10.1',\n",
              " '1.05',\n",
              " 'high-speed',\n",
              " '0.03',\n",
              " 'best-selling',\n",
              " 'best-known',\n",
              " '11:00',\n",
              " '11:30',\n",
              " 'ore.',\n",
              " '100-meter',\n",
              " '732-390-4697',\n",
              " '44-year',\n",
              " 'five-year',\n",
              " 'play-off',\n",
              " '11.6',\n",
              " '36,000',\n",
              " 'a&m',\n",
              " '2,600',\n",
              " '32,000',\n",
              " 'm.d.',\n",
              " 'editor-in-chief',\n",
              " '2.75',\n",
              " '11.3',\n",
              " 'n.m.',\n",
              " '!!',\n",
              " 'first-team',\n",
              " '0.08',\n",
              " '110,000',\n",
              " '8.0',\n",
              " '18.5',\n",
              " 'y.',\n",
              " '46-year',\n",
              " 'x-ray',\n",
              " '12.6',\n",
              " '52-week',\n",
              " '1:30',\n",
              " 'plc.',\n",
              " '11.7',\n",
              " 'south-western',\n",
              " '2,700',\n",
              " '4-5',\n",
              " '12.4',\n",
              " '47-year',\n",
              " \"o'grady\",\n",
              " '0-3',\n",
              " 'co-written',\n",
              " '3,200',\n",
              " '12.8',\n",
              " '46.5',\n",
              " 'mid-1960s',\n",
              " '3.25',\n",
              " '11.8',\n",
              " 'real-time',\n",
              " 'south-eastern',\n",
              " '3-5',\n",
              " '10.9',\n",
              " 'formula_4',\n",
              " '2,800',\n",
              " 'x.',\n",
              " '»',\n",
              " 'north-south',\n",
              " 'p.o.',\n",
              " 'spin-off',\n",
              " '11.1',\n",
              " 'modern-day',\n",
              " 'p.j.',\n",
              " '19.95',\n",
              " 'runners-up',\n",
              " 'vt.',\n",
              " 'ak-47',\n",
              " '170,000',\n",
              " '2,100',\n",
              " '0.12',\n",
              " 'ft.',\n",
              " '12.3',\n",
              " '22.5',\n",
              " '13.6',\n",
              " '52-year',\n",
              " '12.2',\n",
              " '3,600',\n",
              " 's.a.',\n",
              " '1,900',\n",
              " 'x-men',\n",
              " '7.99',\n",
              " 'reps.',\n",
              " '3.75',\n",
              " '6-8',\n",
              " \"o'meara\",\n",
              " 'cmdr.',\n",
              " 'brother-in-law',\n",
              " '48-year',\n",
              " '5-6',\n",
              " '12:30',\n",
              " 'number-one',\n",
              " '1997-98',\n",
              " 'census-designated',\n",
              " 'pre-season',\n",
              " '1.45',\n",
              " '0.06',\n",
              " '1950-53',\n",
              " \"eto'o\",\n",
              " '55-year',\n",
              " \"xi'an\",\n",
              " '«',\n",
              " '212-556-4204',\n",
              " 'r.i.',\n",
              " 'east-central',\n",
              " \"l'\",\n",
              " 'commander-in-chief',\n",
              " '1.65',\n",
              " 'nos.',\n",
              " '0.14',\n",
              " 'c-130',\n",
              " 'pro-',\n",
              " 'anglo-saxon',\n",
              " 'cac-40',\n",
              " '0.30',\n",
              " 'two-thirds',\n",
              " '0.13',\n",
              " '11.9',\n",
              " \"o'keefe\",\n",
              " \"o'hara\",\n",
              " '3:00',\n",
              " '13.4',\n",
              " '13.3',\n",
              " '0.18',\n",
              " '13.2',\n",
              " 'h.w.',\n",
              " '0.11',\n",
              " 'east-west',\n",
              " '1-10',\n",
              " '5-5',\n",
              " 'okla.',\n",
              " '0.07',\n",
              " '2:00',\n",
              " '1.00',\n",
              " '0.09',\n",
              " '54-year',\n",
              " 'e-sharif',\n",
              " '10-month',\n",
              " '4.25',\n",
              " '0.35',\n",
              " '10-minute',\n",
              " '53-year',\n",
              " '0.16',\n",
              " \"o'hare\",\n",
              " 'formula_5',\n",
              " '15-minute',\n",
              " '650,000',\n",
              " 'a.k.a.',\n",
              " '8,500',\n",
              " '15-day',\n",
              " 'j.j.',\n",
              " '1.06',\n",
              " '49-year',\n",
              " '70-year',\n",
              " 'op.',\n",
              " '2010-11',\n",
              " '13.7',\n",
              " 'english-language',\n",
              " 'co-operative',\n",
              " 'long-distance',\n",
              " '2-5',\n",
              " 'cross-country',\n",
              " '8-6',\n",
              " '14.4',\n",
              " '19.5',\n",
              " '33,000',\n",
              " '0.17',\n",
              " '4:00',\n",
              " 'cpl.',\n",
              " 'left-wing',\n",
              " 'co-authored',\n",
              " 'twenty-five',\n",
              " 'hon.',\n",
              " ':30',\n",
              " '1.08',\n",
              " 'non-fiction',\n",
              " 'par-4',\n",
              " '13.8',\n",
              " '.50',\n",
              " '14.3',\n",
              " '0.40',\n",
              " 'secretary-general',\n",
              " '0.22',\n",
              " '51-year',\n",
              " '9.0',\n",
              " '14.6',\n",
              " '16.7',\n",
              " 'role-playing',\n",
              " '1.02',\n",
              " '0.45',\n",
              " '、',\n",
              " '38,000',\n",
              " 'anti-aircraft',\n",
              " '27.5',\n",
              " '15.4',\n",
              " '20-minute',\n",
              " '14.8',\n",
              " '1998-99',\n",
              " '1.12',\n",
              " 'g-20',\n",
              " '3,300',\n",
              " '0.19',\n",
              " '220,000',\n",
              " '1.07',\n",
              " 'blvd.',\n",
              " '27-nation',\n",
              " '13.1',\n",
              " '0.23',\n",
              " '1.04',\n",
              " '85,000',\n",
              " '12.1',\n",
              " \"o'neil\",\n",
              " '4.75',\n",
              " '8-0',\n",
              " 'a-year',\n",
              " 'v-6',\n",
              " '65-year',\n",
              " '0.28',\n",
              " '1.55',\n",
              " 'z.',\n",
              " '12.9',\n",
              " '90-day',\n",
              " '1996-97',\n",
              " 'mid-19th',\n",
              " '0.24',\n",
              " '’re',\n",
              " '1995-96',\n",
              " '1.03',\n",
              " '18.6',\n",
              " '1.13',\n",
              " 'right-wing',\n",
              " 'nev.',\n",
              " '15.6',\n",
              " '2009-10',\n",
              " '0.27',\n",
              " '14.7',\n",
              " '1.20',\n",
              " '30-share',\n",
              " '0.21',\n",
              " 'del.',\n",
              " 'quarter-finals',\n",
              " '1.14',\n",
              " 'par-3',\n",
              " 's.d.',\n",
              " '2008-09',\n",
              " '.0',\n",
              " '42,000',\n",
              " 'long-running',\n",
              " '9-11',\n",
              " '1.16',\n",
              " '14.2',\n",
              " 'formula_6',\n",
              " 'at&t',\n",
              " '1/16',\n",
              " '100-share',\n",
              " '1.10',\n",
              " '16.4',\n",
              " '1.26',\n",
              " \"d'etat\",\n",
              " '9-7',\n",
              " '56-year',\n",
              " '1.17',\n",
              " '3.50',\n",
              " 'on-air',\n",
              " '_______',\n",
              " 'short-term',\n",
              " 'co-operation',\n",
              " 'co-produced',\n",
              " '0.26',\n",
              " '1-5',\n",
              " \"d'affaires\",\n",
              " \"'96\",\n",
              " \"d'or\",\n",
              " '24.5',\n",
              " '2007-08',\n",
              " '58-year',\n",
              " '23.5',\n",
              " '62-year',\n",
              " 'real-life',\n",
              " 'bhd.',\n",
              " '400-meter',\n",
              " '1.85',\n",
              " \"d'italia\",\n",
              " '1.18',\n",
              " '1.27',\n",
              " '34,000',\n",
              " 'governor-general',\n",
              " 'ark.',\n",
              " '7.50',\n",
              " '’m',\n",
              " '1.30',\n",
              " '0.34',\n",
              " '15.2',\n",
              " 'under-19',\n",
              " 'two-story',\n",
              " '13.9',\n",
              " '1.09',\n",
              " '0.32',\n",
              " '200-meter',\n",
              " '240,000',\n",
              " 'j.r.',\n",
              " '21.5',\n",
              " 'high-profile',\n",
              " 'u-boat',\n",
              " '1.24',\n",
              " '8-1',\n",
              " '15.3',\n",
              " 'pbpost.com',\n",
              " '2/3',\n",
              " 'blu-ray',\n",
              " '1.23',\n",
              " '1.28',\n",
              " '0.33',\n",
              " '12.95',\n",
              " 'two-time',\n",
              " '31,000',\n",
              " '61-year',\n",
              " '1.34',\n",
              " '4.50',\n",
              " '5.75',\n",
              " '57-year',\n",
              " 'peer-reviewed',\n",
              " '0.55',\n",
              " '80-year',\n",
              " 'est.',\n",
              " '15.8',\n",
              " '0.29',\n",
              " '1.01',\n",
              " '0.31',\n",
              " '6-6',\n",
              " '732-390-4480',\n",
              " '1.19',\n",
              " '1.38',\n",
              " 'north-central',\n",
              " '17.2',\n",
              " '16.8',\n",
              " 'medium-sized',\n",
              " 'avant-garde',\n",
              " '7:05',\n",
              " '75-year',\n",
              " '____',\n",
              " '63-year',\n",
              " 'son-in-law',\n",
              " '2006-07',\n",
              " '0.36',\n",
              " ...]"
            ]
          },
          "metadata": {},
          "execution_count": 51
        }
      ]
    },
    {
      "cell_type": "code",
      "source": [
        "include_in_vocab = list(string.punctuation)\n",
        "\n",
        "include_in_vocab.remove('-')\n",
        "include_in_vocab.remove(\"'\")\n",
        "\n",
        "include_in_vocab.append(\"'s\")\n",
        "include_in_vocab.append(\"'ll\")\n",
        "# include_in_vocab.append('&amp;')"
      ],
      "metadata": {
        "id": "cyGU6UpvVGnF"
      },
      "id": "cyGU6UpvVGnF",
      "execution_count": null,
      "outputs": []
    },
    {
      "cell_type": "code",
      "source": [
        "# sent = pd.Series(['this is a SaMple sentence. 42 is the answer b4 the noon; but you knoww that 1.87', \"semi-charmed student's should\"])"
      ],
      "metadata": {
        "id": "5gD0Yf8CZBT2"
      },
      "id": "5gD0Yf8CZBT2",
      "execution_count": null,
      "outputs": []
    },
    {
      "cell_type": "code",
      "source": [
        "# for symbol in include_in_vocab:\n",
        "#     sent = sent.str.replace(symbol, fr' {symbol} ', regex=False)\n",
        "\n",
        "# sent = sent.str.replace(r'\\d+', '', regex=True)\n",
        "# sent.values[0]"
      ],
      "metadata": {
        "colab": {
          "base_uri": "https://localhost:8080/",
          "height": 35
        },
        "id": "CvIdhYARZIF0",
        "outputId": "f9aab576-d979-4c5e-aaf1-f172f9765658"
      },
      "id": "CvIdhYARZIF0",
      "execution_count": null,
      "outputs": [
        {
          "output_type": "execute_result",
          "data": {
            "application/vnd.google.colaboratory.intrinsic+json": {
              "type": "string"
            },
            "text/plain": [
              "'this is a SaMple sentence .   is the answer b the noon ;  but you knoww that  . '"
            ]
          },
          "metadata": {},
          "execution_count": 103
        }
      ]
    },
    {
      "cell_type": "code",
      "source": [
        "# tokenizer = Tokenizer(filters='')\n",
        "# tokenizer.fit_on_texts(sent)\n",
        "# tokenizer.word_index"
      ],
      "metadata": {
        "id": "egozFTYDaXm5",
        "colab": {
          "base_uri": "https://localhost:8080/"
        },
        "outputId": "1501fe4a-a148-4f1f-f648-a3122ea68d52"
      },
      "id": "egozFTYDaXm5",
      "execution_count": null,
      "outputs": [
        {
          "output_type": "execute_result",
          "data": {
            "text/plain": [
              "{\"'s\": 16,\n",
              " '.': 2,\n",
              " ';': 9,\n",
              " 'a': 4,\n",
              " 'answer': 8,\n",
              " 'but': 10,\n",
              " 'is': 1,\n",
              " 'knoww': 12,\n",
              " 'sample': 5,\n",
              " 'semi-charmed': 14,\n",
              " 'sentence': 6,\n",
              " 'should': 17,\n",
              " 'student': 15,\n",
              " 'that': 13,\n",
              " 'the': 7,\n",
              " 'this': 3,\n",
              " 'you': 11}"
            ]
          },
          "metadata": {},
          "execution_count": 61
        }
      ]
    },
    {
      "cell_type": "code",
      "source": [
        "# should replace punctuation (but not \"-\") with version with spaces on both sides (don't know what to do with \".\" tho)\n",
        "# and i don't know what to do with digits then, digits with commas and periods"
      ],
      "metadata": {
        "id": "ezjro7Le1VTr"
      },
      "id": "ezjro7Le1VTr",
      "execution_count": null,
      "outputs": []
    },
    {
      "cell_type": "code",
      "source": [
        "# maybe slang should not be dependent on X_train, but the regex should be \"space or nothing\" then"
      ],
      "metadata": {
        "id": "j8QKTo8y3qa2"
      },
      "id": "j8QKTo8y3qa2",
      "execution_count": null,
      "outputs": []
    },
    {
      "cell_type": "code",
      "source": [
        "# also interesting with the 'll, 's embeddings, this can be helpful\n",
        "# but how to preserve these and add spaces around \"'\"? or how to delete \"'\" of not a part of these? or just leave \"'\" alone\n",
        "# the tokenizer did not filter it out either"
      ],
      "metadata": {
        "id": "sKfqxu-O39kZ"
      },
      "id": "sKfqxu-O39kZ",
      "execution_count": null,
      "outputs": []
    },
    {
      "cell_type": "code",
      "execution_count": null,
      "id": "585f398f",
      "metadata": {
        "id": "585f398f",
        "colab": {
          "base_uri": "https://localhost:8080/"
        },
        "outputId": "deb65cab-6a08-4524-c7c7-bd23ea47287c"
      },
      "outputs": [
        {
          "output_type": "execute_result",
          "data": {
            "text/plain": [
              "(3250, 2)"
            ]
          },
          "metadata": {},
          "execution_count": 65
        }
      ],
      "source": [
        "# slang = pd.read_csv(root+'slang.csv', usecols=['acronym', 'expansion'])\n",
        "# slang.drop_duplicates(inplace=True)\n",
        "# slang.shape"
      ]
    },
    {
      "cell_type": "code",
      "source": [
        "# slang.to_csv(root+'slang_no_duplicates.csv', index=False)"
      ],
      "metadata": {
        "id": "IEgCQXuMebb8"
      },
      "id": "IEgCQXuMebb8",
      "execution_count": null,
      "outputs": []
    },
    {
      "cell_type": "code",
      "source": [
        "slang = pd.read_csv(root+'slang_no_duplicates_manual.csv')\n",
        "slang.shape"
      ],
      "metadata": {
        "colab": {
          "base_uri": "https://localhost:8080/"
        },
        "id": "2thgHnUMFbuH",
        "outputId": "a35a7ed3-54c2-4e41-c910-7e3fa295b268"
      },
      "id": "2thgHnUMFbuH",
      "execution_count": null,
      "outputs": [
        {
          "output_type": "execute_result",
          "data": {
            "text/plain": [
              "(2967, 2)"
            ]
          },
          "metadata": {},
          "execution_count": 92
        }
      ]
    },
    {
      "cell_type": "code",
      "source": [
        "slang[slang['acronym'].duplicated()].sort_values('acronym')['acronym']"
      ],
      "metadata": {
        "colab": {
          "base_uri": "https://localhost:8080/"
        },
        "id": "sncjfNrcgvsT",
        "outputId": "aedf833a-4447-446a-efd1-0236308a4e0b"
      },
      "id": "sncjfNrcgvsT",
      "execution_count": null,
      "outputs": [
        {
          "output_type": "execute_result",
          "data": {
            "text/plain": [
              "Series([], Name: acronym, dtype: object)"
            ]
          },
          "metadata": {},
          "execution_count": 93
        }
      ]
    },
    {
      "cell_type": "code",
      "source": [
        "slang = slang[~slang['acronym'].isin(glove_vocab)].reset_index(drop=True)\n",
        "slang.shape"
      ],
      "metadata": {
        "colab": {
          "base_uri": "https://localhost:8080/"
        },
        "id": "gI8iMYrIYfAP",
        "outputId": "f19c71b9-e353-42fa-e6eb-413b4f1adb0f"
      },
      "id": "gI8iMYrIYfAP",
      "execution_count": null,
      "outputs": [
        {
          "output_type": "execute_result",
          "data": {
            "text/plain": [
              "(1405, 2)"
            ]
          },
          "metadata": {},
          "execution_count": 94
        }
      ]
    },
    {
      "cell_type": "code",
      "source": [
        "# slang = slang[slang['acronym'] != 'hawt'].drop_duplicates(subset='acronym', keep='last', inplace=False)"
      ],
      "metadata": {
        "id": "shNcVk9iimJw"
      },
      "id": "shNcVk9iimJw",
      "execution_count": null,
      "outputs": []
    },
    {
      "cell_type": "code",
      "source": [
        "slang_mapping = dict(list(slang.to_records(index=False)))\n",
        "slang_mapping = {re.compile(r'\\b{}\\b'.format(k)): v for k, v in slang_mapping.items()}"
      ],
      "metadata": {
        "id": "PKFrSUtHXW1N"
      },
      "id": "PKFrSUtHXW1N",
      "execution_count": null,
      "outputs": []
    },
    {
      "cell_type": "code",
      "source": [
        "len(slang_mapping)"
      ],
      "metadata": {
        "colab": {
          "base_uri": "https://localhost:8080/"
        },
        "id": "VthHNpsztWTM",
        "outputId": "cd3263ae-5b85-42eb-f22e-45288d79b658"
      },
      "id": "VthHNpsztWTM",
      "execution_count": null,
      "outputs": [
        {
          "output_type": "execute_result",
          "data": {
            "text/plain": [
              "1405"
            ]
          },
          "metadata": {},
          "execution_count": 96
        }
      ]
    },
    {
      "cell_type": "code",
      "source": [
        "X = X.str.lower().replace(slang_mapping, regex=True)"
      ],
      "metadata": {
        "id": "rJb9m0QBG6NA"
      },
      "id": "rJb9m0QBG6NA",
      "execution_count": null,
      "outputs": []
    },
    {
      "cell_type": "code",
      "source": [
        "for symbol in include_in_vocab:\n",
        "    X = X.str.replace(symbol, fr' {symbol} ', regex=False)\n",
        "\n",
        "X = X.str.replace(r'\\d+', '', regex=True)"
      ],
      "metadata": {
        "id": "tFq24AbqGD-K"
      },
      "id": "tFq24AbqGD-K",
      "execution_count": null,
      "outputs": []
    },
    {
      "cell_type": "code",
      "source": [
        "with open(root+'X', 'wb') as file:\n",
        "    pickle.dump(X, file)\n",
        "\n",
        "with open(root+'y', 'wb') as file:\n",
        "    pickle.dump(y, file)"
      ],
      "metadata": {
        "id": "CT5XkITZZ0Gh"
      },
      "id": "CT5XkITZZ0Gh",
      "execution_count": null,
      "outputs": []
    },
    {
      "cell_type": "code",
      "source": [
        "X, y = pickle.load(open(root+'X', 'rb')), pickle.load(open(root+'y', 'rb'))"
      ],
      "metadata": {
        "id": "HrB3UHz5aQ_0"
      },
      "id": "HrB3UHz5aQ_0",
      "execution_count": null,
      "outputs": []
    },
    {
      "cell_type": "code",
      "execution_count": null,
      "id": "f7f4d0a7",
      "metadata": {
        "id": "f7f4d0a7"
      },
      "outputs": [],
      "source": [
        "X_train, X_val, y_train, y_val = train_test_split(X, y, stratify=y, test_size=0.2, random_state=42)\n",
        "X_train, X_test, y_train, y_test = train_test_split(X_train, y_train, stratify=y_train, test_size=0.05, random_state=42)"
      ]
    },
    {
      "cell_type": "code",
      "source": [
        "X_train.shape, X_val.shape, X_test.shape"
      ],
      "metadata": {
        "colab": {
          "base_uri": "https://localhost:8080/"
        },
        "id": "A5BFD3TW1ndd",
        "outputId": "e3f5ff4f-c697-4f01-a097-cf72edc0bbe9"
      },
      "id": "A5BFD3TW1ndd",
      "execution_count": null,
      "outputs": [
        {
          "output_type": "execute_result",
          "data": {
            "text/plain": [
              "((768187,), (202155,), (40431,))"
            ]
          },
          "metadata": {},
          "execution_count": 8
        }
      ]
    },
    {
      "cell_type": "code",
      "source": [
        "# X_train, X_val, X_test = [data.str.lower().replace(slang_mapping, regex=True) for data in [X_train, X_val, X_test]]"
      ],
      "metadata": {
        "id": "s5-ViENqrVj-"
      },
      "id": "s5-ViENqrVj-",
      "execution_count": null,
      "outputs": []
    },
    {
      "cell_type": "markdown",
      "id": "22059c0e",
      "metadata": {
        "id": "22059c0e"
      },
      "source": [
        "# tokenize"
      ]
    },
    {
      "cell_type": "code",
      "execution_count": null,
      "id": "1063f74a",
      "metadata": {
        "id": "1063f74a"
      },
      "outputs": [],
      "source": [
        "input_dim = 10000\n",
        "tokenizer = Tokenizer(num_words=input_dim, filters='')\n",
        "tokenizer.fit_on_texts(X_train)"
      ]
    },
    {
      "cell_type": "code",
      "execution_count": null,
      "id": "67f1f107",
      "metadata": {
        "id": "67f1f107"
      },
      "outputs": [],
      "source": [
        "X_train_tok = tokenizer.texts_to_sequences(X_train)\n",
        "X_val_tok = tokenizer.texts_to_sequences(X_val)\n",
        "X_test_tok = tokenizer.texts_to_sequences(X_test)"
      ]
    },
    {
      "cell_type": "code",
      "execution_count": null,
      "id": "f6967214",
      "metadata": {
        "colab": {
          "base_uri": "https://localhost:8080/"
        },
        "id": "f6967214",
        "outputId": "434e46dd-8f9e-4535-b7b0-be6ed81d5950"
      },
      "outputs": [
        {
          "output_type": "execute_result",
          "data": {
            "text/plain": [
              "22.0"
            ]
          },
          "metadata": {},
          "execution_count": 11
        }
      ],
      "source": [
        "np.quantile([len(i) for i in X_train_tok], 0.9)"
      ]
    },
    {
      "cell_type": "code",
      "source": [
        "maxlen = 20"
      ],
      "metadata": {
        "id": "kK2g5ul_xjcK"
      },
      "id": "kK2g5ul_xjcK",
      "execution_count": null,
      "outputs": []
    },
    {
      "cell_type": "code",
      "execution_count": null,
      "id": "93dbfff1",
      "metadata": {
        "id": "93dbfff1"
      },
      "outputs": [],
      "source": [
        "X_train_tok = pad_sequences(X_train_tok, padding='post', maxlen=maxlen)\n",
        "X_val_tok = pad_sequences(X_val_tok, padding='post', maxlen=maxlen)\n",
        "X_test_tok = pad_sequences(X_test_tok, padding='post', maxlen=maxlen)"
      ]
    },
    {
      "cell_type": "markdown",
      "id": "9a1d389c",
      "metadata": {
        "id": "9a1d389c"
      },
      "source": [
        "# embedding matrix"
      ]
    },
    {
      "cell_type": "code",
      "source": [
        "vec_len = 100\n",
        "wordemb = WordEmbeddings()\n",
        "embedding_matrix = wordemb.get_glove_embeddings(input_dim, vec_len, tokenizer)"
      ],
      "metadata": {
        "colab": {
          "base_uri": "https://localhost:8080/"
        },
        "id": "IrsLRHFYLxHB",
        "outputId": "e403f620-c11b-4e08-db29-9160ab1893d4"
      },
      "id": "IrsLRHFYLxHB",
      "execution_count": null,
      "outputs": [
        {
          "output_type": "stream",
          "name": "stdout",
          "text": [
            "coverage: 0.9832\n"
          ]
        }
      ]
    },
    {
      "cell_type": "code",
      "source": [
        "not_covered = wordemb.words_not_covered()"
      ],
      "metadata": {
        "id": "hpUI-NuzNv7E"
      },
      "id": "hpUI-NuzNv7E",
      "execution_count": null,
      "outputs": []
    },
    {
      "cell_type": "code",
      "source": [
        "len(not_covered)"
      ],
      "metadata": {
        "colab": {
          "base_uri": "https://localhost:8080/"
        },
        "id": "Hb3sOUNKyiIb",
        "outputId": "6e9a776b-57f3-4e67-880e-13fe8ff8ac22"
      },
      "id": "Hb3sOUNKyiIb",
      "execution_count": null,
      "outputs": [
        {
          "output_type": "execute_result",
          "data": {
            "text/plain": [
              "167"
            ]
          },
          "metadata": {},
          "execution_count": 118
        }
      ]
    },
    {
      "cell_type": "code",
      "source": [
        "not_covered[:50]"
      ],
      "metadata": {
        "colab": {
          "base_uri": "https://localhost:8080/"
        },
        "id": "QXsFTYgnyl2a",
        "outputId": "42b9132e-570e-4aeb-c901-278619cad963"
      },
      "id": "QXsFTYgnyl2a",
      "execution_count": null,
      "outputs": [
        {
          "output_type": "execute_result",
          "data": {
            "text/plain": [
              "(('subreddit', 696),\n",
              " ('shitlord', 884),\n",
              " ('amirite', 927),\n",
              " ('downvote', 1040),\n",
              " ('downvoted', 1082),\n",
              " ('upvote', 1122),\n",
              " ('ayy', 1293),\n",
              " ('hahaha', 1562),\n",
              " ('downvotes', 1803),\n",
              " ('upvotes', 2008),\n",
              " ('circlejerk', 2057),\n",
              " ('redditors', 2280),\n",
              " ('upvoted', 2321),\n",
              " ('rekt', 2422),\n",
              " ('ftfy', 2473),\n",
              " ('skyrim', 2594),\n",
              " ('b-but', 2629),\n",
              " ('shitpost', 2652),\n",
              " ('redditor', 2832),\n",
              " ('wsgy', 2869),\n",
              " ('csgo', 2935),\n",
              " ('nbsp', 2978),\n",
              " ('nerfed', 3068),\n",
              " ('sjws', 3096),\n",
              " ('cuck', 3288),\n",
              " ('downvoting', 3335),\n",
              " ('dumbass', 3340),\n",
              " ('pleb', 3343),\n",
              " ('gtfo', 3371),\n",
              " ('damnit', 3376),\n",
              " ('b-b-but', 3380),\n",
              " ('sheeple', 3533),\n",
              " ('shits', 3654),\n",
              " ('hahahaha', 3825),\n",
              " (\"fuckin'\", 3889),\n",
              " ('cmon', 3943),\n",
              " ('shitting', 3989),\n",
              " ('pussies', 4122),\n",
              " ('hahahahaha', 4241),\n",
              " ('imgur', 4254),\n",
              " ('butthurt', 4317),\n",
              " ('fnaf', 4325),\n",
              " ('vape', 4429),\n",
              " ('neckbeard', 4475),\n",
              " ('subreddits', 4736),\n",
              " (\"'murica\", 4775),\n",
              " ('clickbait', 4812),\n",
              " ('noobs', 4908),\n",
              " ('amiright', 4974),\n",
              " ('brexit', 4987))"
            ]
          },
          "metadata": {},
          "execution_count": 119
        }
      ]
    },
    {
      "cell_type": "code",
      "source": [
        "# should map haha+ to haha or something"
      ],
      "metadata": {
        "id": "2T8r4I8kyUSu"
      },
      "id": "2T8r4I8kyUSu",
      "execution_count": null,
      "outputs": []
    },
    {
      "cell_type": "code",
      "source": [
        "# ftfy - fixed that for you\n",
        "# sjws - social justice warriors"
      ],
      "metadata": {
        "id": "-hjl5qqrfOlN"
      },
      "id": "-hjl5qqrfOlN",
      "execution_count": null,
      "outputs": []
    },
    {
      "cell_type": "code",
      "source": [
        "df[df['comment'].str.contains('b-but')]"
      ],
      "metadata": {
        "colab": {
          "base_uri": "https://localhost:8080/",
          "height": 424
        },
        "id": "wKfzBf2nf1Ve",
        "outputId": "10e648c7-f763-43f0-8fd9-80693e0be473"
      },
      "id": "wKfzBf2nf1Ve",
      "execution_count": null,
      "outputs": [
        {
          "output_type": "execute_result",
          "data": {
            "text/html": [
              "\n",
              "  <div id=\"df-6b2f616c-47d7-4cc8-84d6-aa310b463a96\">\n",
              "    <div class=\"colab-df-container\">\n",
              "      <div>\n",
              "<style scoped>\n",
              "    .dataframe tbody tr th:only-of-type {\n",
              "        vertical-align: middle;\n",
              "    }\n",
              "\n",
              "    .dataframe tbody tr th {\n",
              "        vertical-align: top;\n",
              "    }\n",
              "\n",
              "    .dataframe thead th {\n",
              "        text-align: right;\n",
              "    }\n",
              "</style>\n",
              "<table border=\"1\" class=\"dataframe\">\n",
              "  <thead>\n",
              "    <tr style=\"text-align: right;\">\n",
              "      <th></th>\n",
              "      <th>label</th>\n",
              "      <th>comment</th>\n",
              "      <th>contains_link</th>\n",
              "      <th>contains_hashtag</th>\n",
              "      <th>subreddit_mention</th>\n",
              "      <th>user_mention</th>\n",
              "    </tr>\n",
              "  </thead>\n",
              "  <tbody>\n",
              "    <tr>\n",
              "      <th>4837</th>\n",
              "      <td>1</td>\n",
              "      <td>B-b-but you don't pay their subscription!</td>\n",
              "      <td>False</td>\n",
              "      <td>False</td>\n",
              "      <td>False</td>\n",
              "      <td>False</td>\n",
              "    </tr>\n",
              "    <tr>\n",
              "      <th>5955</th>\n",
              "      <td>1</td>\n",
              "      <td>B-b-but it means something different to him</td>\n",
              "      <td>False</td>\n",
              "      <td>False</td>\n",
              "      <td>False</td>\n",
              "      <td>False</td>\n",
              "    </tr>\n",
              "    <tr>\n",
              "      <th>8416</th>\n",
              "      <td>1</td>\n",
              "      <td>INB4 \"B-b-b-but muh rape statistics\"</td>\n",
              "      <td>False</td>\n",
              "      <td>False</td>\n",
              "      <td>False</td>\n",
              "      <td>False</td>\n",
              "    </tr>\n",
              "    <tr>\n",
              "      <th>9706</th>\n",
              "      <td>1</td>\n",
              "      <td>B-b-but statistics are racist!</td>\n",
              "      <td>False</td>\n",
              "      <td>False</td>\n",
              "      <td>False</td>\n",
              "      <td>False</td>\n",
              "    </tr>\n",
              "    <tr>\n",
              "      <th>11011</th>\n",
              "      <td>1</td>\n",
              "      <td>B-b-but Julio Jones hands to the face!</td>\n",
              "      <td>False</td>\n",
              "      <td>False</td>\n",
              "      <td>False</td>\n",
              "      <td>False</td>\n",
              "    </tr>\n",
              "    <tr>\n",
              "      <th>...</th>\n",
              "      <td>...</td>\n",
              "      <td>...</td>\n",
              "      <td>...</td>\n",
              "      <td>...</td>\n",
              "      <td>...</td>\n",
              "      <td>...</td>\n",
              "    </tr>\n",
              "    <tr>\n",
              "      <th>993901</th>\n",
              "      <td>1</td>\n",
              "      <td>B-b-b-but... Something, something, gun owners ...</td>\n",
              "      <td>False</td>\n",
              "      <td>False</td>\n",
              "      <td>False</td>\n",
              "      <td>False</td>\n",
              "    </tr>\n",
              "    <tr>\n",
              "      <th>995196</th>\n",
              "      <td>1</td>\n",
              "      <td>B-b-but I have Demonoid!</td>\n",
              "      <td>False</td>\n",
              "      <td>False</td>\n",
              "      <td>False</td>\n",
              "      <td>False</td>\n",
              "    </tr>\n",
              "    <tr>\n",
              "      <th>1003843</th>\n",
              "      <td>1</td>\n",
              "      <td>B-b-but if people won't get into debt then the...</td>\n",
              "      <td>False</td>\n",
              "      <td>False</td>\n",
              "      <td>False</td>\n",
              "      <td>False</td>\n",
              "    </tr>\n",
              "    <tr>\n",
              "      <th>1004897</th>\n",
              "      <td>1</td>\n",
              "      <td>B-b-b-but I thought Obama said it wouldn't aff...</td>\n",
              "      <td>False</td>\n",
              "      <td>False</td>\n",
              "      <td>False</td>\n",
              "      <td>False</td>\n",
              "    </tr>\n",
              "    <tr>\n",
              "      <th>1010215</th>\n",
              "      <td>1</td>\n",
              "      <td>B-b-but Islam is _peaceful!_</td>\n",
              "      <td>False</td>\n",
              "      <td>False</td>\n",
              "      <td>False</td>\n",
              "      <td>False</td>\n",
              "    </tr>\n",
              "  </tbody>\n",
              "</table>\n",
              "<p>367 rows × 6 columns</p>\n",
              "</div>\n",
              "      <button class=\"colab-df-convert\" onclick=\"convertToInteractive('df-6b2f616c-47d7-4cc8-84d6-aa310b463a96')\"\n",
              "              title=\"Convert this dataframe to an interactive table.\"\n",
              "              style=\"display:none;\">\n",
              "        \n",
              "  <svg xmlns=\"http://www.w3.org/2000/svg\" height=\"24px\"viewBox=\"0 0 24 24\"\n",
              "       width=\"24px\">\n",
              "    <path d=\"M0 0h24v24H0V0z\" fill=\"none\"/>\n",
              "    <path d=\"M18.56 5.44l.94 2.06.94-2.06 2.06-.94-2.06-.94-.94-2.06-.94 2.06-2.06.94zm-11 1L8.5 8.5l.94-2.06 2.06-.94-2.06-.94L8.5 2.5l-.94 2.06-2.06.94zm10 10l.94 2.06.94-2.06 2.06-.94-2.06-.94-.94-2.06-.94 2.06-2.06.94z\"/><path d=\"M17.41 7.96l-1.37-1.37c-.4-.4-.92-.59-1.43-.59-.52 0-1.04.2-1.43.59L10.3 9.45l-7.72 7.72c-.78.78-.78 2.05 0 2.83L4 21.41c.39.39.9.59 1.41.59.51 0 1.02-.2 1.41-.59l7.78-7.78 2.81-2.81c.8-.78.8-2.07 0-2.86zM5.41 20L4 18.59l7.72-7.72 1.47 1.35L5.41 20z\"/>\n",
              "  </svg>\n",
              "      </button>\n",
              "      \n",
              "  <style>\n",
              "    .colab-df-container {\n",
              "      display:flex;\n",
              "      flex-wrap:wrap;\n",
              "      gap: 12px;\n",
              "    }\n",
              "\n",
              "    .colab-df-convert {\n",
              "      background-color: #E8F0FE;\n",
              "      border: none;\n",
              "      border-radius: 50%;\n",
              "      cursor: pointer;\n",
              "      display: none;\n",
              "      fill: #1967D2;\n",
              "      height: 32px;\n",
              "      padding: 0 0 0 0;\n",
              "      width: 32px;\n",
              "    }\n",
              "\n",
              "    .colab-df-convert:hover {\n",
              "      background-color: #E2EBFA;\n",
              "      box-shadow: 0px 1px 2px rgba(60, 64, 67, 0.3), 0px 1px 3px 1px rgba(60, 64, 67, 0.15);\n",
              "      fill: #174EA6;\n",
              "    }\n",
              "\n",
              "    [theme=dark] .colab-df-convert {\n",
              "      background-color: #3B4455;\n",
              "      fill: #D2E3FC;\n",
              "    }\n",
              "\n",
              "    [theme=dark] .colab-df-convert:hover {\n",
              "      background-color: #434B5C;\n",
              "      box-shadow: 0px 1px 3px 1px rgba(0, 0, 0, 0.15);\n",
              "      filter: drop-shadow(0px 1px 2px rgba(0, 0, 0, 0.3));\n",
              "      fill: #FFFFFF;\n",
              "    }\n",
              "  </style>\n",
              "\n",
              "      <script>\n",
              "        const buttonEl =\n",
              "          document.querySelector('#df-6b2f616c-47d7-4cc8-84d6-aa310b463a96 button.colab-df-convert');\n",
              "        buttonEl.style.display =\n",
              "          google.colab.kernel.accessAllowed ? 'block' : 'none';\n",
              "\n",
              "        async function convertToInteractive(key) {\n",
              "          const element = document.querySelector('#df-6b2f616c-47d7-4cc8-84d6-aa310b463a96');\n",
              "          const dataTable =\n",
              "            await google.colab.kernel.invokeFunction('convertToInteractive',\n",
              "                                                     [key], {});\n",
              "          if (!dataTable) return;\n",
              "\n",
              "          const docLinkHtml = 'Like what you see? Visit the ' +\n",
              "            '<a target=\"_blank\" href=https://colab.research.google.com/notebooks/data_table.ipynb>data table notebook</a>'\n",
              "            + ' to learn more about interactive tables.';\n",
              "          element.innerHTML = '';\n",
              "          dataTable['output_type'] = 'display_data';\n",
              "          await google.colab.output.renderOutput(dataTable, element);\n",
              "          const docLink = document.createElement('div');\n",
              "          docLink.innerHTML = docLinkHtml;\n",
              "          element.appendChild(docLink);\n",
              "        }\n",
              "      </script>\n",
              "    </div>\n",
              "  </div>\n",
              "  "
            ],
            "text/plain": [
              "         label  ... user_mention\n",
              "4837         1  ...        False\n",
              "5955         1  ...        False\n",
              "8416         1  ...        False\n",
              "9706         1  ...        False\n",
              "11011        1  ...        False\n",
              "...        ...  ...          ...\n",
              "993901       1  ...        False\n",
              "995196       1  ...        False\n",
              "1003843      1  ...        False\n",
              "1004897      1  ...        False\n",
              "1010215      1  ...        False\n",
              "\n",
              "[367 rows x 6 columns]"
            ]
          },
          "metadata": {},
          "execution_count": 123
        }
      ]
    },
    {
      "cell_type": "code",
      "source": [
        "df[df['comment'].str.contains('b-but')]['label'].value_counts() # quite a strong indicator of sarcasm"
      ],
      "metadata": {
        "colab": {
          "base_uri": "https://localhost:8080/"
        },
        "id": "mHUjVeBHgLRT",
        "outputId": "4f883e48-ba03-4089-8f31-f0c6ef72e63f"
      },
      "id": "mHUjVeBHgLRT",
      "execution_count": null,
      "outputs": [
        {
          "output_type": "execute_result",
          "data": {
            "text/plain": [
              "1    346\n",
              "0     21\n",
              "Name: label, dtype: int64"
            ]
          },
          "metadata": {},
          "execution_count": 121
        }
      ]
    },
    {
      "cell_type": "code",
      "source": [
        "df[df['comment'].str.contains('amirite')]['label'].value_counts()"
      ],
      "metadata": {
        "colab": {
          "base_uri": "https://localhost:8080/"
        },
        "id": "xMHphv-HgzJt",
        "outputId": "ccc58c6f-9d22-431b-9739-da15be418d87"
      },
      "id": "xMHphv-HgzJt",
      "execution_count": null,
      "outputs": [
        {
          "output_type": "execute_result",
          "data": {
            "text/plain": [
              "1    884\n",
              "0    111\n",
              "Name: label, dtype: int64"
            ]
          },
          "metadata": {},
          "execution_count": 124
        }
      ]
    },
    {
      "cell_type": "code",
      "source": [
        "df[df['comment'].str.contains('shitlord')]['label'].value_counts() # noicee"
      ],
      "metadata": {
        "colab": {
          "base_uri": "https://localhost:8080/"
        },
        "id": "igeYxDlgg_D7",
        "outputId": "af4b9ab9-2e53-4280-a141-630f252b25f0"
      },
      "id": "igeYxDlgg_D7",
      "execution_count": null,
      "outputs": [
        {
          "output_type": "execute_result",
          "data": {
            "text/plain": [
              "1    1012\n",
              "0      85\n",
              "Name: label, dtype: int64"
            ]
          },
          "metadata": {},
          "execution_count": 127
        }
      ]
    },
    {
      "cell_type": "markdown",
      "id": "b0c486c1",
      "metadata": {
        "id": "b0c486c1"
      },
      "source": [
        "# CNN + biLSTM"
      ]
    },
    {
      "cell_type": "markdown",
      "source": [
        "## sgd + vec_len = 100"
      ],
      "metadata": {
        "id": "BgQ2h0qkb0uo"
      },
      "id": "BgQ2h0qkb0uo"
    },
    {
      "cell_type": "code",
      "source": [
        "vec_len = 100\n",
        "embedding_matrix = get_glove_embeddings(input_dim, vec_len)"
      ],
      "metadata": {
        "colab": {
          "base_uri": "https://localhost:8080/"
        },
        "id": "nvnXFjAD1fY2",
        "outputId": "2cfdf3d8-7987-4260-912f-064ebaca0e58"
      },
      "id": "nvnXFjAD1fY2",
      "execution_count": null,
      "outputs": [
        {
          "output_type": "stream",
          "name": "stdout",
          "text": [
            "coverage: 0.9757\n"
          ]
        }
      ]
    },
    {
      "cell_type": "code",
      "execution_count": null,
      "id": "da8be2ca",
      "metadata": {
        "id": "da8be2ca"
      },
      "outputs": [],
      "source": [
        "es = EarlyStopping(monitor='val_accuracy', min_delta=0.001, patience=3, restore_best_weights=True)"
      ]
    },
    {
      "cell_type": "code",
      "execution_count": null,
      "id": "9d6e8c73",
      "metadata": {
        "colab": {
          "base_uri": "https://localhost:8080/"
        },
        "id": "9d6e8c73",
        "outputId": "bea15eef-02f2-43af-cc55-63f8ea8e87e1"
      },
      "outputs": [
        {
          "output_type": "stream",
          "name": "stdout",
          "text": [
            "WARNING:tensorflow:Layer lstm_4 will not use cuDNN kernels since it doesn't meet the criteria. It will use a generic GPU kernel as fallback when running on GPU.\n",
            "WARNING:tensorflow:Layer lstm_4 will not use cuDNN kernels since it doesn't meet the criteria. It will use a generic GPU kernel as fallback when running on GPU.\n",
            "WARNING:tensorflow:Layer lstm_4 will not use cuDNN kernels since it doesn't meet the criteria. It will use a generic GPU kernel as fallback when running on GPU.\n",
            "Epoch 1/50\n",
            "5686/5686 [==============================] - 168s 29ms/step - loss: 0.6047 - accuracy: 0.6655 - val_loss: 0.5822 - val_accuracy: 0.6899\n",
            "Epoch 2/50\n",
            "5686/5686 [==============================] - 164s 29ms/step - loss: 0.5735 - accuracy: 0.6965 - val_loss: 0.5663 - val_accuracy: 0.7020\n",
            "Epoch 3/50\n",
            "5686/5686 [==============================] - 164s 29ms/step - loss: 0.5617 - accuracy: 0.7067 - val_loss: 0.5614 - val_accuracy: 0.7067\n",
            "Epoch 4/50\n",
            "5686/5686 [==============================] - 164s 29ms/step - loss: 0.5534 - accuracy: 0.7142 - val_loss: 0.5570 - val_accuracy: 0.7111\n",
            "Epoch 5/50\n",
            "5686/5686 [==============================] - 164s 29ms/step - loss: 0.5468 - accuracy: 0.7193 - val_loss: 0.5549 - val_accuracy: 0.7129\n",
            "Epoch 6/50\n",
            "5686/5686 [==============================] - 163s 29ms/step - loss: 0.5413 - accuracy: 0.7231 - val_loss: 0.5557 - val_accuracy: 0.7105\n",
            "Epoch 7/50\n",
            "5686/5686 [==============================] - 163s 29ms/step - loss: 0.5362 - accuracy: 0.7276 - val_loss: 0.5528 - val_accuracy: 0.7149\n",
            "Epoch 8/50\n",
            "5686/5686 [==============================] - 164s 29ms/step - loss: 0.5319 - accuracy: 0.7310 - val_loss: 0.5606 - val_accuracy: 0.7088\n",
            "Epoch 9/50\n",
            "5686/5686 [==============================] - 165s 29ms/step - loss: 0.5278 - accuracy: 0.7346 - val_loss: 0.5560 - val_accuracy: 0.7127\n",
            "Epoch 10/50\n",
            "5686/5686 [==============================] - 165s 29ms/step - loss: 0.5234 - accuracy: 0.7376 - val_loss: 0.5532 - val_accuracy: 0.7160\n",
            "Epoch 11/50\n",
            "5686/5686 [==============================] - 166s 29ms/step - loss: 0.5196 - accuracy: 0.7406 - val_loss: 0.5545 - val_accuracy: 0.7144\n",
            "Epoch 12/50\n",
            "5686/5686 [==============================] - 166s 29ms/step - loss: 0.5155 - accuracy: 0.7434 - val_loss: 0.5553 - val_accuracy: 0.7148\n",
            "Epoch 13/50\n",
            "5686/5686 [==============================] - 165s 29ms/step - loss: 0.5118 - accuracy: 0.7463 - val_loss: 0.5532 - val_accuracy: 0.7149\n"
          ]
        }
      ],
      "source": [
        "model = Sequential([\n",
        "    Embedding(input_dim=input_dim, output_dim=vec_len, input_length=20, mask_zero=True,\n",
        "              weights=[embedding_matrix], trainable=True),\n",
        "    Conv1D(32, 5, activation='relu'),\n",
        "    MaxPooling1D(5),\n",
        "    Conv1D(32, 5, activation='relu', padding='same'),\n",
        "    Bidirectional(LSTM(5, recurrent_dropout=0.5)),\n",
        "    Dense(1, activation='sigmoid')\n",
        "])\n",
        "\n",
        "sgd = tf.keras.optimizers.SGD(learning_rate=0.1, momentum=0.9)\n",
        "model.compile(loss='binary_crossentropy', optimizer=sgd, metrics=['accuracy'])\n",
        "fit = model.fit(X_train_tok, y_train, validation_data=(X_val_tok,y_val), batch_size=128, epochs=50, callbacks=[es])"
      ]
    },
    {
      "cell_type": "code",
      "execution_count": null,
      "id": "cbcd84a7",
      "metadata": {
        "colab": {
          "base_uri": "https://localhost:8080/",
          "height": 289
        },
        "id": "cbcd84a7",
        "outputId": "cf7b0428-53d2-4128-db1a-32809114868d"
      },
      "outputs": [
        {
          "output_type": "display_data",
          "data": {
            "image/png": "[encoded data removed]",
            "text/plain": [
              "<Figure size 1008x288 with 2 Axes>"
            ]
          },
          "metadata": {}
        }
      ],
      "source": [
        "plot_history(fit)"
      ]
    },
    {
      "cell_type": "code",
      "source": [
        "evaluate(model, X_val, y_val)"
      ],
      "metadata": {
        "colab": {
          "base_uri": "https://localhost:8080/",
          "height": 343
        },
        "id": "0OKWsOaA18kS",
        "outputId": "146e85c9-bea6-4601-b832-49e6ebfe5eb6"
      },
      "id": "0OKWsOaA18kS",
      "execution_count": null,
      "outputs": [
        {
          "output_type": "display_data",
          "data": {
            "image/png": "[encoded data removed]",
            "text/plain": [
              "<Figure size 360x360 with 1 Axes>"
            ]
          },
          "metadata": {}
        }
      ]
    },
    {
      "cell_type": "code",
      "source": [
        "print(tokenizer.sequences_to_texts(X_train_tok[[0,9],:].tolist()))\n",
        "print(y_train.values[[0,9]])"
      ],
      "metadata": {
        "colab": {
          "base_uri": "https://localhost:8080/"
        },
        "id": "m2FcmypQO7hE",
        "outputId": "29bc8c0b-8ef6-4dc0-c70f-3b9955aa9b61"
      },
      "id": "m2FcmypQO7hE",
      "execution_count": null,
      "outputs": [
        {
          "output_type": "stream",
          "name": "stdout",
          "text": [
            "['you are a good christian', 'yeah i am sure that no religion means we will not hate each other anymore']\n",
            "[1 1]\n"
          ]
        }
      ]
    },
    {
      "cell_type": "markdown",
      "source": [
        "## sgd + vec_len = 50"
      ],
      "metadata": {
        "id": "Af9_1FTib743"
      },
      "id": "Af9_1FTib743"
    },
    {
      "cell_type": "code",
      "source": [
        "vec_len = 50\n",
        "embedding_matrix = get_glove_embeddings(input_dim, vec_len)"
      ],
      "metadata": {
        "colab": {
          "base_uri": "https://localhost:8080/"
        },
        "id": "W14WYM6f2nhn",
        "outputId": "34308bf8-7951-49e1-faed-c6c58933e949"
      },
      "id": "W14WYM6f2nhn",
      "execution_count": null,
      "outputs": [
        {
          "output_type": "stream",
          "name": "stdout",
          "text": [
            "coverage: 0.9757\n"
          ]
        }
      ]
    },
    {
      "cell_type": "code",
      "source": [
        "es = EarlyStopping(monitor='val_loss', min_delta=0.001, patience=3, restore_best_weights=True)"
      ],
      "metadata": {
        "id": "F_tnPMj0XT6U"
      },
      "id": "F_tnPMj0XT6U",
      "execution_count": null,
      "outputs": []
    },
    {
      "cell_type": "code",
      "source": [
        "model = Sequential([\n",
        "    Embedding(input_dim=input_dim, output_dim=vec_len, input_length=20, mask_zero=True,\n",
        "              weights=[embedding_matrix], trainable=True),\n",
        "    Conv1D(32, 5, activation='relu'),\n",
        "    MaxPooling1D(5),\n",
        "    Conv1D(32, 5, activation='relu', padding='same'),\n",
        "    Bidirectional(LSTM(5, recurrent_dropout=0.5)),\n",
        "    Dense(1, activation='sigmoid')\n",
        "])\n",
        "\n",
        "sgd = tf.keras.optimizers.SGD(learning_rate=0.1, momentum=0.9)\n",
        "model.compile(loss='binary_crossentropy', optimizer=sgd, metrics=['accuracy'])\n",
        "fit = model.fit(X_train_tok, y_train, validation_data=(X_val_tok,y_val), batch_size=128, epochs=50, callbacks=[es])"
      ],
      "metadata": {
        "colab": {
          "base_uri": "https://localhost:8080/"
        },
        "id": "qw4yrsE21KOj",
        "outputId": "2c848dcf-f608-4b22-e50d-f6e25914112f"
      },
      "id": "qw4yrsE21KOj",
      "execution_count": null,
      "outputs": [
        {
          "output_type": "stream",
          "name": "stdout",
          "text": [
            "WARNING:tensorflow:Layer lstm_1 will not use cuDNN kernels since it doesn't meet the criteria. It will use a generic GPU kernel as fallback when running on GPU.\n",
            "WARNING:tensorflow:Layer lstm_1 will not use cuDNN kernels since it doesn't meet the criteria. It will use a generic GPU kernel as fallback when running on GPU.\n",
            "WARNING:tensorflow:Layer lstm_1 will not use cuDNN kernels since it doesn't meet the criteria. It will use a generic GPU kernel as fallback when running on GPU.\n",
            "Epoch 1/50\n",
            "5686/5686 [==============================] - 458s 78ms/step - loss: 0.6139 - accuracy: 0.6552 - val_loss: 0.5896 - val_accuracy: 0.6814\n",
            "Epoch 2/50\n",
            "5686/5686 [==============================] - 358s 63ms/step - loss: 0.5811 - accuracy: 0.6895 - val_loss: 0.5757 - val_accuracy: 0.6949\n",
            "Epoch 3/50\n",
            "5686/5686 [==============================] - 354s 62ms/step - loss: 0.5689 - accuracy: 0.7009 - val_loss: 0.5685 - val_accuracy: 0.7015\n",
            "Epoch 4/50\n",
            "5686/5686 [==============================] - 350s 62ms/step - loss: 0.5607 - accuracy: 0.7081 - val_loss: 0.5648 - val_accuracy: 0.7043\n",
            "Epoch 5/50\n",
            "5686/5686 [==============================] - 347s 61ms/step - loss: 0.5535 - accuracy: 0.7141 - val_loss: 0.5616 - val_accuracy: 0.7079\n",
            "Epoch 6/50\n",
            "5686/5686 [==============================] - 347s 61ms/step - loss: 0.5483 - accuracy: 0.7182 - val_loss: 0.5630 - val_accuracy: 0.7084\n",
            "Epoch 7/50\n",
            "5686/5686 [==============================] - 348s 61ms/step - loss: 0.5439 - accuracy: 0.7218 - val_loss: 0.5585 - val_accuracy: 0.7109\n",
            "Epoch 8/50\n",
            "5686/5686 [==============================] - 352s 62ms/step - loss: 0.5397 - accuracy: 0.7251 - val_loss: 0.5607 - val_accuracy: 0.7111\n",
            "Epoch 9/50\n",
            "5686/5686 [==============================] - 357s 63ms/step - loss: 0.5363 - accuracy: 0.7280 - val_loss: 0.5565 - val_accuracy: 0.7117\n",
            "Epoch 10/50\n",
            "5686/5686 [==============================] - 352s 62ms/step - loss: 0.5331 - accuracy: 0.7303 - val_loss: 0.5583 - val_accuracy: 0.7127\n",
            "Epoch 11/50\n",
            "5686/5686 [==============================] - 354s 62ms/step - loss: 0.5303 - accuracy: 0.7322 - val_loss: 0.5572 - val_accuracy: 0.7122\n",
            "Epoch 12/50\n",
            "5686/5686 [==============================] - 352s 62ms/step - loss: 0.5274 - accuracy: 0.7347 - val_loss: 0.5576 - val_accuracy: 0.7126\n"
          ]
        }
      ]
    },
    {
      "cell_type": "code",
      "source": [
        "plot_history(fit)"
      ],
      "metadata": {
        "colab": {
          "base_uri": "https://localhost:8080/",
          "height": 289
        },
        "id": "y8TjU26H4MyF",
        "outputId": "645b5994-3f6f-41af-cfee-d7e2d68ad649"
      },
      "id": "y8TjU26H4MyF",
      "execution_count": null,
      "outputs": [
        {
          "output_type": "display_data",
          "data": {
            "image/png": "[encoded data removed]",
            "text/plain": [
              "<Figure size 1008x288 with 2 Axes>"
            ]
          },
          "metadata": {}
        }
      ]
    },
    {
      "cell_type": "code",
      "source": [
        "evaluate(model, X_val_tok, y_val)"
      ],
      "metadata": {
        "colab": {
          "base_uri": "https://localhost:8080/",
          "height": 343
        },
        "id": "C0mTrqv04M6q",
        "outputId": "05e18bf5-2e7e-4b9b-bc72-82a8c0afd5f0"
      },
      "id": "C0mTrqv04M6q",
      "execution_count": null,
      "outputs": [
        {
          "output_type": "display_data",
          "data": {
            "image/png": "[encoded data removed]",
            "text/plain": [
              "<Figure size 360x360 with 1 Axes>"
            ]
          },
          "metadata": {}
        }
      ]
    },
    {
      "cell_type": "code",
      "source": [
        "show_errors(tokenizer, model, X_val, y_val, n=5)"
      ],
      "metadata": {
        "colab": {
          "base_uri": "https://localhost:8080/"
        },
        "id": "hFksx0P32vwT",
        "outputId": "78f97f26-c310-427c-d40a-6326abd276ba"
      },
      "id": "hFksx0P32vwT",
      "execution_count": null,
      "outputs": [
        {
          "output_type": "stream",
          "name": "stdout",
          "text": [
            "False negatives\n",
            "can lead to you might want to wipe that off\n",
            "nice try us navy or should i say official american\n",
            "it is for the greater good\n",
            "about how many reps you do or the weight you move it is about how many likes you can get\n",
            "wow you recorded this but did not take it upon yourself to grab a few paper to wipe the mirror\n",
            "\n",
            "False positives\n",
            "you should not comment if you do not understand how dangerous he is to safety\n",
            "but it is still spelled\n",
            "pretty sure you will see him on another soon enough\n",
            "dank memes bro you get them from the tea party sub or you make this trash yourself\n",
            "because they would not an nfl team for a missed field goal\n"
          ]
        }
      ]
    },
    {
      "cell_type": "code",
      "source": [
        "model.save(root+'cnn_bilstm_sgd')"
      ],
      "metadata": {
        "colab": {
          "base_uri": "https://localhost:8080/"
        },
        "id": "CNfWO1cCIzQb",
        "outputId": "7a2a3cd0-c27a-4a56-c50d-3515fbf0133b"
      },
      "id": "CNfWO1cCIzQb",
      "execution_count": null,
      "outputs": [
        {
          "output_type": "stream",
          "name": "stdout",
          "text": [
            "INFO:tensorflow:Assets written to: /content/drive/My Drive/surely_not_sarcasm_data/cnn_bilstm_sgd/assets\n"
          ]
        },
        {
          "output_type": "stream",
          "name": "stderr",
          "text": [
            "INFO:tensorflow:Assets written to: /content/drive/My Drive/surely_not_sarcasm_data/cnn_bilstm_sgd/assets\n",
            "WARNING:absl:<keras.layers.recurrent.LSTMCell object at 0x7f43d70ee3d0> has the same name 'LSTMCell' as a built-in Keras object. Consider renaming <class 'keras.layers.recurrent.LSTMCell'> to avoid naming conflicts when loading with `tf.keras.models.load_model`. If renaming is not possible, pass the object in the `custom_objects` parameter of the load function.\n",
            "WARNING:absl:<keras.layers.recurrent.LSTMCell object at 0x7f43d70ee390> has the same name 'LSTMCell' as a built-in Keras object. Consider renaming <class 'keras.layers.recurrent.LSTMCell'> to avoid naming conflicts when loading with `tf.keras.models.load_model`. If renaming is not possible, pass the object in the `custom_objects` parameter of the load function.\n"
          ]
        }
      ]
    },
    {
      "cell_type": "markdown",
      "source": [
        "## after better preprocessing"
      ],
      "metadata": {
        "id": "U5QfD6CxcUa1"
      },
      "id": "U5QfD6CxcUa1"
    },
    {
      "cell_type": "markdown",
      "source": [
        "### normal embeddings"
      ],
      "metadata": {
        "id": "Wd7WaTGTktel"
      },
      "id": "Wd7WaTGTktel"
    },
    {
      "cell_type": "code",
      "source": [
        "vec_len = 100\n",
        "wordemb = WordEmbeddings()\n",
        "embedding_matrix = wordemb.get_glove_embeddings(input_dim, vec_len, tokenizer)"
      ],
      "metadata": {
        "id": "C4WQ5hM5VWj0",
        "colab": {
          "base_uri": "https://localhost:8080/"
        },
        "outputId": "c6148f7b-0b23-4487-f408-fd63783db8d7"
      },
      "id": "C4WQ5hM5VWj0",
      "execution_count": null,
      "outputs": [
        {
          "output_type": "stream",
          "name": "stdout",
          "text": [
            "coverage: 0.9832\n"
          ]
        }
      ]
    },
    {
      "cell_type": "code",
      "source": [
        "# change to val_loss"
      ],
      "metadata": {
        "id": "OPDT09IAlc80"
      },
      "id": "OPDT09IAlc80",
      "execution_count": null,
      "outputs": []
    },
    {
      "cell_type": "code",
      "source": [
        "es = EarlyStopping(monitor='val_accuracy', min_delta=0.001, patience=3, restore_best_weights=True)"
      ],
      "metadata": {
        "id": "yAAMPEl9ct80"
      },
      "id": "yAAMPEl9ct80",
      "execution_count": null,
      "outputs": []
    },
    {
      "cell_type": "code",
      "source": [
        "model = Sequential([\n",
        "    Embedding(input_dim=input_dim, output_dim=vec_len, input_length=maxlen, mask_zero=True,\n",
        "              weights=[embedding_matrix], trainable=True),\n",
        "    Conv1D(32, 3, activation='relu'),\n",
        "    MaxPooling1D(3),\n",
        "    Conv1D(32, 3, activation='relu', padding='same'),\n",
        "    Bidirectional(LSTM(20, recurrent_dropout=0.5)),\n",
        "    Dense(1, activation='sigmoid')\n",
        "])\n",
        "\n",
        "model.compile(loss='binary_crossentropy', optimizer='adam', metrics=['accuracy'])\n",
        "fit = model.fit(X_train_tok, y_train, validation_data=(X_val_tok,y_val), batch_size=128, epochs=50, callbacks=[es])"
      ],
      "metadata": {
        "colab": {
          "base_uri": "https://localhost:8080/"
        },
        "id": "titMrdyOc6qU",
        "outputId": "760e31fa-9530-4462-c9fe-0db501792126"
      },
      "id": "titMrdyOc6qU",
      "execution_count": null,
      "outputs": [
        {
          "output_type": "stream",
          "name": "stdout",
          "text": [
            "WARNING:tensorflow:Layer lstm will not use cuDNN kernels since it doesn't meet the criteria. It will use a generic GPU kernel as fallback when running on GPU.\n",
            "WARNING:tensorflow:Layer lstm will not use cuDNN kernels since it doesn't meet the criteria. It will use a generic GPU kernel as fallback when running on GPU.\n",
            "WARNING:tensorflow:Layer lstm will not use cuDNN kernels since it doesn't meet the criteria. It will use a generic GPU kernel as fallback when running on GPU.\n",
            "Epoch 1/50\n",
            "6002/6002 [==============================] - 343s 55ms/step - loss: 0.5606 - accuracy: 0.7077 - val_loss: 0.5425 - val_accuracy: 0.7234\n",
            "Epoch 2/50\n",
            "6002/6002 [==============================] - 323s 54ms/step - loss: 0.5251 - accuracy: 0.7363 - val_loss: 0.5334 - val_accuracy: 0.7290\n",
            "Epoch 3/50\n",
            "6002/6002 [==============================] - 332s 55ms/step - loss: 0.5056 - accuracy: 0.7508 - val_loss: 0.5406 - val_accuracy: 0.7267\n",
            "Epoch 4/50\n",
            "6002/6002 [==============================] - 329s 55ms/step - loss: 0.4866 - accuracy: 0.7640 - val_loss: 0.5366 - val_accuracy: 0.7315\n",
            "Epoch 5/50\n",
            "6002/6002 [==============================] - 325s 54ms/step - loss: 0.4676 - accuracy: 0.7769 - val_loss: 0.5448 - val_accuracy: 0.7291\n",
            "Epoch 6/50\n",
            "6002/6002 [==============================] - 333s 55ms/step - loss: 0.4481 - accuracy: 0.7900 - val_loss: 0.5550 - val_accuracy: 0.7256\n",
            "Epoch 7/50\n",
            "6002/6002 [==============================] - 332s 55ms/step - loss: 0.4283 - accuracy: 0.8022 - val_loss: 0.5830 - val_accuracy: 0.7216\n"
          ]
        }
      ]
    },
    {
      "cell_type": "code",
      "source": [
        "plot_history(fit)"
      ],
      "metadata": {
        "id": "ldOPTAoZdR0I",
        "colab": {
          "base_uri": "https://localhost:8080/",
          "height": 289
        },
        "outputId": "9f15ef9e-8906-4d34-e8b7-659f64f5a1f5"
      },
      "id": "ldOPTAoZdR0I",
      "execution_count": null,
      "outputs": [
        {
          "output_type": "display_data",
          "data": {
            "image/png": "[encoded data removed]",
            "text/plain": [
              "<Figure size 1008x288 with 2 Axes>"
            ]
          },
          "metadata": {}
        }
      ]
    },
    {
      "cell_type": "code",
      "source": [
        "evaluate(model, X_val_tok, y_val)"
      ],
      "metadata": {
        "colab": {
          "base_uri": "https://localhost:8080/",
          "height": 343
        },
        "id": "QqPbuoqMqv8t",
        "outputId": "d1cee7b4-c09b-4eee-ed71-5abe01a63a8c"
      },
      "id": "QqPbuoqMqv8t",
      "execution_count": null,
      "outputs": [
        {
          "output_type": "display_data",
          "data": {
            "image/png": "[encoded data removed]",
            "text/plain": [
              "<Figure size 360x360 with 1 Axes>"
            ]
          },
          "metadata": {}
        }
      ]
    },
    {
      "cell_type": "code",
      "source": [
        "show_errors(tokenizer, model, X_val, y_val, n=5)"
      ],
      "metadata": {
        "colab": {
          "base_uri": "https://localhost:8080/"
        },
        "id": "CTs6XfHbq136",
        "outputId": "a2860334-9a1a-4bc0-da1b-eaf6dd186b1a"
      },
      "id": "CTs6XfHbq136",
      "execution_count": null,
      "outputs": [
        {
          "output_type": "stream",
          "name": "stdout",
          "text": [
            "False negatives:\n",
            "---------------------------\n",
            "i ordered a page from pelican and he raped me and his dick got soft . \n",
            "but you cannot  * seriously *  know what it is like until you have one of your own to love . \n",
            "i am sorry ,  but after the panama papers i do not find myself being attracted to her anymore . \n",
            "pretty sure it was the game developers . \n",
            "forgot etc ,  so have a downvote . \n",
            "\n",
            "False positives:\n",
            "---------------------------\n",
            "perhaps australia should send those who feel the need for sharia courts to places where there are sharia courts . \n",
            "yeah not really sure why ziplines do not have proper textures .  .  . \n",
            "think nick should invest in bike locks too after his track record of losing them\n",
            "half-life  confirmed . \n",
            " \" teach women not to lie \" \n"
          ]
        }
      ]
    },
    {
      "cell_type": "code",
      "source": [
        "model.save(root+'cnn_bilstm_adam')"
      ],
      "metadata": {
        "colab": {
          "base_uri": "https://localhost:8080/"
        },
        "id": "-LWrgWF_tyz0",
        "outputId": "5e23bca2-35af-4901-94f1-1b64cec6e1a1"
      },
      "id": "-LWrgWF_tyz0",
      "execution_count": null,
      "outputs": [
        {
          "output_type": "stream",
          "name": "stdout",
          "text": [
            "INFO:tensorflow:Assets written to: /content/drive/My Drive/surely_not_sarcasm_data/cnn_bilstm_adam/assets\n"
          ]
        },
        {
          "output_type": "stream",
          "name": "stderr",
          "text": [
            "WARNING:absl:<keras.layers.recurrent.LSTMCell object at 0x7f959fbfda50> has the same name 'LSTMCell' as a built-in Keras object. Consider renaming <class 'keras.layers.recurrent.LSTMCell'> to avoid naming conflicts when loading with `tf.keras.models.load_model`. If renaming is not possible, pass the object in the `custom_objects` parameter of the load function.\n",
            "WARNING:absl:<keras.layers.recurrent.LSTMCell object at 0x7f959fbfd710> has the same name 'LSTMCell' as a built-in Keras object. Consider renaming <class 'keras.layers.recurrent.LSTMCell'> to avoid naming conflicts when loading with `tf.keras.models.load_model`. If renaming is not possible, pass the object in the `custom_objects` parameter of the load function.\n"
          ]
        }
      ]
    },
    {
      "cell_type": "markdown",
      "source": [
        "## twitter embeddings"
      ],
      "metadata": {
        "id": "7fCryd4YcK0k"
      },
      "id": "7fCryd4YcK0k"
    },
    {
      "cell_type": "code",
      "source": [
        "vec_len = 50\n",
        "wordemb = WordEmbeddings()\n",
        "embedding_matrix = wordemb.get_glove_embeddings(input_dim, vec_len, tokenizer, twitter=True)"
      ],
      "metadata": {
        "colab": {
          "base_uri": "https://localhost:8080/"
        },
        "id": "V8S2yUxjJN3U",
        "outputId": "a627a753-c556-4fef-f8f6-9f83f8d22ad6"
      },
      "id": "V8S2yUxjJN3U",
      "execution_count": null,
      "outputs": [
        {
          "output_type": "stream",
          "name": "stdout",
          "text": [
            "for twitter vec_len = 50\n",
            "coverage: 0.9931\n"
          ]
        }
      ]
    },
    {
      "cell_type": "code",
      "source": [
        "es = EarlyStopping(monitor='val_loss', min_delta=0.001, patience=3, restore_best_weights=True)"
      ],
      "metadata": {
        "id": "5s_S_xVVlUmm"
      },
      "id": "5s_S_xVVlUmm",
      "execution_count": null,
      "outputs": []
    },
    {
      "cell_type": "code",
      "source": [
        "model = Sequential([\n",
        "    Embedding(input_dim=input_dim, output_dim=vec_len, input_length=maxlen, mask_zero=True,\n",
        "              weights=[embedding_matrix], trainable=True),\n",
        "    Conv1D(32, 3, activation='relu'),\n",
        "    MaxPooling1D(3),\n",
        "    Conv1D(32, 3, activation='relu', padding='same'),\n",
        "    Bidirectional(LSTM(20, recurrent_dropout=0.5)),\n",
        "    Dense(1, activation='sigmoid')\n",
        "])\n",
        "\n",
        "model.compile(loss='binary_crossentropy', optimizer='adam', metrics=['accuracy'])\n",
        "fit = model.fit(X_train_tok, y_train, validation_data=(X_val_tok,y_val), batch_size=128, epochs=50, callbacks=[es])"
      ],
      "metadata": {
        "colab": {
          "base_uri": "https://localhost:8080/"
        },
        "id": "xAgAl13nNmRE",
        "outputId": "51ddb475-1668-4abc-e009-b5f93db5f32f"
      },
      "id": "xAgAl13nNmRE",
      "execution_count": null,
      "outputs": [
        {
          "output_type": "stream",
          "name": "stdout",
          "text": [
            "WARNING:tensorflow:Layer lstm_1 will not use cuDNN kernels since it doesn't meet the criteria. It will use a generic GPU kernel as fallback when running on GPU.\n",
            "WARNING:tensorflow:Layer lstm_1 will not use cuDNN kernels since it doesn't meet the criteria. It will use a generic GPU kernel as fallback when running on GPU.\n",
            "WARNING:tensorflow:Layer lstm_1 will not use cuDNN kernels since it doesn't meet the criteria. It will use a generic GPU kernel as fallback when running on GPU.\n",
            "Epoch 1/50\n",
            "6002/6002 [==============================] - 596s 97ms/step - loss: 0.5608 - accuracy: 0.7074 - val_loss: 0.5390 - val_accuracy: 0.7252\n",
            "Epoch 2/50\n",
            "6002/6002 [==============================] - 614s 102ms/step - loss: 0.5276 - accuracy: 0.7344 - val_loss: 0.5328 - val_accuracy: 0.7295\n",
            "Epoch 3/50\n",
            "6002/6002 [==============================] - 595s 99ms/step - loss: 0.5114 - accuracy: 0.7461 - val_loss: 0.5349 - val_accuracy: 0.7298\n",
            "Epoch 4/50\n",
            "6002/6002 [==============================] - 612s 102ms/step - loss: 0.4969 - accuracy: 0.7566 - val_loss: 0.5384 - val_accuracy: 0.7306\n",
            "Epoch 5/50\n",
            "6002/6002 [==============================] - 610s 102ms/step - loss: 0.4829 - accuracy: 0.7668 - val_loss: 0.5426 - val_accuracy: 0.7294\n"
          ]
        }
      ]
    },
    {
      "cell_type": "code",
      "source": [
        "plot_history(fit)"
      ],
      "metadata": {
        "colab": {
          "base_uri": "https://localhost:8080/",
          "height": 289
        },
        "id": "v9x1tOQ7N0tN",
        "outputId": "bd050e2e-f12e-416b-e640-158c200cdc4d"
      },
      "id": "v9x1tOQ7N0tN",
      "execution_count": null,
      "outputs": [
        {
          "output_type": "display_data",
          "data": {
            "image/png": "[encoded data removed]",
            "text/plain": [
              "<Figure size 1008x288 with 2 Axes>"
            ]
          },
          "metadata": {}
        }
      ]
    },
    {
      "cell_type": "code",
      "source": [
        "evaluate(model, X_val_tok, y_val)"
      ],
      "metadata": {
        "colab": {
          "base_uri": "https://localhost:8080/",
          "height": 343
        },
        "id": "dDwSpOt9Si7J",
        "outputId": "604a92f7-4ac3-42d3-8e34-ffac97884608"
      },
      "id": "dDwSpOt9Si7J",
      "execution_count": null,
      "outputs": [
        {
          "output_type": "display_data",
          "data": {
            "image/png": "[encoded data removed]",
            "text/plain": [
              "<Figure size 360x360 with 1 Axes>"
            ]
          },
          "metadata": {}
        }
      ]
    },
    {
      "cell_type": "code",
      "source": [
        "show_errors(tokenizer, model, X_val, y_val, n=5)"
      ],
      "metadata": {
        "colab": {
          "base_uri": "https://localhost:8080/"
        },
        "id": "wHKI0lOGSi-H",
        "outputId": "4a2cb102-726d-4e0b-94bb-4c012178785d"
      },
      "id": "wHKI0lOGSi-H",
      "execution_count": null,
      "outputs": [
        {
          "output_type": "stream",
          "name": "stdout",
          "text": [
            "False negatives:\n",
            "---------------------------\n",
            "i do not know about you ,  i did luge in my backyard all the time as a kid\n",
            "raising a child to  costs about as much as med school ,  so they are pretty much the same . \n",
            "kwality\n",
            "i believe your story  %  . \n",
            "you mean mobileme ? \n",
            "\n",
            "False positives:\n",
            "---------------------------\n",
            "are not hot and cold water pipes the same material ? \n",
            "draw childish pictures of penises on other people 's  personal property\n",
            "challenger explosion . \n",
            "got to make the postseason first\n",
            "they would just put the pictures up and we would all start jerking off as one nation under gawwwwd\n"
          ]
        }
      ]
    },
    {
      "cell_type": "code",
      "source": [
        "model.save(root+'cnn_bilstm_adam_twitter')"
      ],
      "metadata": {
        "colab": {
          "base_uri": "https://localhost:8080/"
        },
        "id": "dZxhEsN0y4cI",
        "outputId": "e40e219c-fb69-4c76-a13e-d9d4c2538500"
      },
      "id": "dZxhEsN0y4cI",
      "execution_count": null,
      "outputs": [
        {
          "output_type": "stream",
          "name": "stdout",
          "text": [
            "INFO:tensorflow:Assets written to: /content/drive/My Drive/surely_not_sarcasm_data/cnn_bilstm_adam_twitter/assets\n"
          ]
        },
        {
          "output_type": "stream",
          "name": "stderr",
          "text": [
            "WARNING:absl:<keras.layers.recurrent.LSTMCell object at 0x7f3d92533550> has the same name 'LSTMCell' as a built-in Keras object. Consider renaming <class 'keras.layers.recurrent.LSTMCell'> to avoid naming conflicts when loading with `tf.keras.models.load_model`. If renaming is not possible, pass the object in the `custom_objects` parameter of the load function.\n",
            "WARNING:absl:<keras.layers.recurrent.LSTMCell object at 0x7f3d924e3450> has the same name 'LSTMCell' as a built-in Keras object. Consider renaming <class 'keras.layers.recurrent.LSTMCell'> to avoid naming conflicts when loading with `tf.keras.models.load_model`. If renaming is not possible, pass the object in the `custom_objects` parameter of the load function.\n"
          ]
        }
      ]
    },
    {
      "cell_type": "markdown",
      "source": [
        "## freezing"
      ],
      "metadata": {
        "id": "alskeIT-0rVw"
      },
      "id": "alskeIT-0rVw"
    },
    {
      "cell_type": "code",
      "source": [
        "vec_len = 100\n",
        "wordemb = WordEmbeddings()\n",
        "embedding_matrix = wordemb.get_glove_embeddings(input_dim, vec_len, tokenizer)"
      ],
      "metadata": {
        "colab": {
          "base_uri": "https://localhost:8080/"
        },
        "id": "p8QAd3DUzSsj",
        "outputId": "758a8a5b-e733-447a-9fe4-03d16f9e892f"
      },
      "id": "p8QAd3DUzSsj",
      "execution_count": null,
      "outputs": [
        {
          "output_type": "stream",
          "name": "stdout",
          "text": [
            "coverage: 0.9832\n"
          ]
        }
      ]
    },
    {
      "cell_type": "code",
      "source": [
        "es = EarlyStopping(monitor='val_loss', min_delta=0.001, patience=3, restore_best_weights=True)"
      ],
      "metadata": {
        "id": "ILV9feEJ2W36"
      },
      "id": "ILV9feEJ2W36",
      "execution_count": null,
      "outputs": []
    },
    {
      "cell_type": "code",
      "source": [
        "embedding_layer = Embedding(input_dim=input_dim, output_dim=vec_len, input_length=maxlen,\n",
        "                            mask_zero=True, weights=[embedding_matrix])\n",
        "embedding_layer.trainable = False"
      ],
      "metadata": {
        "id": "09_kvp202ur9"
      },
      "id": "09_kvp202ur9",
      "execution_count": null,
      "outputs": []
    },
    {
      "cell_type": "code",
      "source": [
        "model = Sequential([\n",
        "    embedding_layer,\n",
        "    Conv1D(32, 3, activation='relu'),\n",
        "    MaxPooling1D(3),\n",
        "    Conv1D(32, 3, activation='relu', padding='same'),\n",
        "    Bidirectional(LSTM(20, recurrent_dropout=0.5)),\n",
        "    Dense(1, activation='sigmoid')\n",
        "])\n",
        "\n",
        "model.compile(loss='binary_crossentropy', optimizer='adam', metrics=['accuracy'])\n",
        "fit = model.fit(X_train_tok, y_train, validation_data=(X_val_tok,y_val), batch_size=128, epochs=50, callbacks=[es])"
      ],
      "metadata": {
        "colab": {
          "base_uri": "https://localhost:8080/"
        },
        "id": "OZ0rVmFq2htX",
        "outputId": "0bf121e9-d61f-4d12-d582-fab29948edfe"
      },
      "id": "OZ0rVmFq2htX",
      "execution_count": null,
      "outputs": [
        {
          "output_type": "stream",
          "name": "stdout",
          "text": [
            "WARNING:tensorflow:Layer lstm will not use cuDNN kernels since it doesn't meet the criteria. It will use a generic GPU kernel as fallback when running on GPU.\n",
            "WARNING:tensorflow:Layer lstm will not use cuDNN kernels since it doesn't meet the criteria. It will use a generic GPU kernel as fallback when running on GPU.\n",
            "WARNING:tensorflow:Layer lstm will not use cuDNN kernels since it doesn't meet the criteria. It will use a generic GPU kernel as fallback when running on GPU.\n",
            "Epoch 1/50\n",
            "6002/6002 [==============================] - 336s 54ms/step - loss: 0.5946 - accuracy: 0.6765 - val_loss: 0.5755 - val_accuracy: 0.6951\n",
            "Epoch 2/50\n",
            "6002/6002 [==============================] - 321s 54ms/step - loss: 0.5673 - accuracy: 0.7007 - val_loss: 0.5649 - val_accuracy: 0.7029\n",
            "Epoch 3/50\n",
            "6002/6002 [==============================] - 321s 53ms/step - loss: 0.5593 - accuracy: 0.7076 - val_loss: 0.5616 - val_accuracy: 0.7055\n",
            "Epoch 4/50\n",
            "6002/6002 [==============================] - 317s 53ms/step - loss: 0.5545 - accuracy: 0.7119 - val_loss: 0.5603 - val_accuracy: 0.7074\n",
            "Epoch 5/50\n",
            "6002/6002 [==============================] - 327s 54ms/step - loss: 0.5514 - accuracy: 0.7145 - val_loss: 0.5603 - val_accuracy: 0.7089\n",
            "Epoch 6/50\n",
            "6002/6002 [==============================] - 313s 52ms/step - loss: 0.5491 - accuracy: 0.7167 - val_loss: 0.5566 - val_accuracy: 0.7111\n",
            "Epoch 7/50\n",
            "6002/6002 [==============================] - 313s 52ms/step - loss: 0.5467 - accuracy: 0.7180 - val_loss: 0.5595 - val_accuracy: 0.7100\n",
            "Epoch 8/50\n",
            "6002/6002 [==============================] - 320s 53ms/step - loss: 0.5446 - accuracy: 0.7197 - val_loss: 0.5612 - val_accuracy: 0.7072\n",
            "Epoch 9/50\n",
            "6002/6002 [==============================] - 315s 52ms/step - loss: 0.5433 - accuracy: 0.7207 - val_loss: 0.5587 - val_accuracy: 0.7093\n"
          ]
        }
      ]
    },
    {
      "cell_type": "code",
      "source": [
        "embedding_layer.trainable = True\n",
        "adam = tf.keras.optimizers.Adam(1e-5)"
      ],
      "metadata": {
        "id": "-Syj6T2f305_"
      },
      "id": "-Syj6T2f305_",
      "execution_count": null,
      "outputs": []
    },
    {
      "cell_type": "code",
      "source": [
        "model.compile(loss='binary_crossentropy', optimizer=adam, metrics=['accuracy'])\n",
        "fit = model.fit(X_train_tok, y_train, validation_data=(X_val_tok,y_val), batch_size=128, epochs=3)"
      ],
      "metadata": {
        "id": "sjwdp03L4a6R",
        "colab": {
          "base_uri": "https://localhost:8080/"
        },
        "outputId": "42a1e5bf-f12b-4dfe-e44f-a6abc36931a5"
      },
      "id": "sjwdp03L4a6R",
      "execution_count": null,
      "outputs": [
        {
          "output_type": "stream",
          "name": "stdout",
          "text": [
            "Epoch 1/3\n",
            "6002/6002 [==============================] - 325s 53ms/step - loss: 0.5397 - accuracy: 0.7238 - val_loss: 0.5533 - val_accuracy: 0.7135\n",
            "Epoch 2/3\n",
            "6002/6002 [==============================] - 309s 51ms/step - loss: 0.5369 - accuracy: 0.7259 - val_loss: 0.5521 - val_accuracy: 0.7147\n",
            "Epoch 3/3\n",
            "6002/6002 [==============================] - 321s 54ms/step - loss: 0.5351 - accuracy: 0.7274 - val_loss: 0.5513 - val_accuracy: 0.7153\n"
          ]
        }
      ]
    },
    {
      "cell_type": "code",
      "source": [
        "es = EarlyStopping(monitor='val_loss', min_delta=0.001, patience=3, restore_best_weights=True)\n",
        "fit = model.fit(X_train_tok, y_train, validation_data=(X_val_tok,y_val), batch_size=128, epochs=3, callbacks=[es])"
      ],
      "metadata": {
        "colab": {
          "base_uri": "https://localhost:8080/"
        },
        "id": "YXrXDRx5l42B",
        "outputId": "4fb417d8-3ad2-4096-ef80-74813b45d0a3"
      },
      "id": "YXrXDRx5l42B",
      "execution_count": null,
      "outputs": [
        {
          "output_type": "stream",
          "name": "stdout",
          "text": [
            "Epoch 1/3\n",
            "6002/6002 [==============================] - 337s 56ms/step - loss: 0.5337 - accuracy: 0.7285 - val_loss: 0.5505 - val_accuracy: 0.7158\n",
            "Epoch 2/3\n",
            "6002/6002 [==============================] - 338s 56ms/step - loss: 0.5322 - accuracy: 0.7296 - val_loss: 0.5498 - val_accuracy: 0.7165\n",
            "Epoch 3/3\n",
            "6002/6002 [==============================] - 335s 56ms/step - loss: 0.5310 - accuracy: 0.7305 - val_loss: 0.5492 - val_accuracy: 0.7170\n"
          ]
        }
      ]
    },
    {
      "cell_type": "code",
      "source": [
        "es = EarlyStopping(monitor='val_loss', min_delta=0.001, patience=2, restore_best_weights=True)\n",
        "fit = model.fit(X_train_tok, y_train, validation_data=(X_val_tok,y_val), batch_size=128, epochs=30, callbacks=[es])"
      ],
      "metadata": {
        "colab": {
          "base_uri": "https://localhost:8080/"
        },
        "id": "oqOW661op47o",
        "outputId": "97b41842-1669-44c8-8cc5-21a2511cba21"
      },
      "id": "oqOW661op47o",
      "execution_count": null,
      "outputs": [
        {
          "output_type": "stream",
          "name": "stdout",
          "text": [
            "Epoch 1/30\n",
            "6002/6002 [==============================] - 351s 59ms/step - loss: 0.5298 - accuracy: 0.7314 - val_loss: 0.5486 - val_accuracy: 0.7174\n",
            "Epoch 2/30\n",
            "6002/6002 [==============================] - 348s 58ms/step - loss: 0.5287 - accuracy: 0.7323 - val_loss: 0.5482 - val_accuracy: 0.7180\n",
            "Epoch 3/30\n",
            "6002/6002 [==============================] - 351s 58ms/step - loss: 0.5276 - accuracy: 0.7331 - val_loss: 0.5477 - val_accuracy: 0.7184\n"
          ]
        }
      ]
    },
    {
      "cell_type": "code",
      "source": [
        "plot_history(fit)"
      ],
      "metadata": {
        "colab": {
          "base_uri": "https://localhost:8080/",
          "height": 289
        },
        "id": "SxMK9Kxmzini",
        "outputId": "813736c3-3ca6-4090-8a2f-71213893e025"
      },
      "id": "SxMK9Kxmzini",
      "execution_count": null,
      "outputs": [
        {
          "output_type": "display_data",
          "data": {
            "image/png": "[encoded data removed]",
            "text/plain": [
              "<Figure size 1008x288 with 2 Axes>"
            ]
          },
          "metadata": {}
        }
      ]
    },
    {
      "cell_type": "code",
      "source": [
        "evaluate(model, X_val_tok, y_val)"
      ],
      "metadata": {
        "colab": {
          "base_uri": "https://localhost:8080/",
          "height": 343
        },
        "id": "6d6zj43Jzjka",
        "outputId": "8cbbbfe5-b892-4fb5-99f9-b5b4d66ec5fc"
      },
      "id": "6d6zj43Jzjka",
      "execution_count": null,
      "outputs": [
        {
          "output_type": "display_data",
          "data": {
            "image/png": "[encoded data removed]",
            "text/plain": [
              "<Figure size 360x360 with 1 Axes>"
            ]
          },
          "metadata": {}
        }
      ]
    },
    {
      "cell_type": "code",
      "source": [
        ""
      ],
      "metadata": {
        "id": "Bc1FZRtWz1BE"
      },
      "id": "Bc1FZRtWz1BE",
      "execution_count": null,
      "outputs": []
    }
  ],
  "metadata": {
    "kernelspec": {
      "display_name": "Python 3",
      "name": "python3"
    },
    "language_info": {
      "name": "python"
    },
    "varInspector": {
      "cols": {
        "lenName": 16,
        "lenType": 16,
        "lenVar": 40
      },
      "kernels_config": {
        "python": {
          "delete_cmd_postfix": "",
          "delete_cmd_prefix": "del ",
          "library": "var_list.py",
          "varRefreshCmd": "print(var_dic_list())"
        },
        "r": {
          "delete_cmd_postfix": ") ",
          "delete_cmd_prefix": "rm(",
          "library": "var_list.r",
          "varRefreshCmd": "cat(var_dic_list()) "
        }
      },
      "types_to_exclude": [
        "module",
        "function",
        "builtin_function_or_method",
        "instance",
        "_Feature"
      ],
      "window_display": false
    },
    "colab": {
      "name": "model_cnn_rnn_mess.ipynb",
      "provenance": [],
      "collapsed_sections": [
        "9a1d389c",
        "BgQ2h0qkb0uo",
        "Af9_1FTib743"
      ],
      "toc_visible": true
    }
  },
  "nbformat": 4,
  "nbformat_minor": 5
}