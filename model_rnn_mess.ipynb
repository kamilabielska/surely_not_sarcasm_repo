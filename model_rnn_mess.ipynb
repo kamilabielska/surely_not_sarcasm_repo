{
 "cells": [
  {
   "cell_type": "code",
   "execution_count": 1,
   "id": "c02ce4eb",
   "metadata": {
    "id": "c02ce4eb"
   },
   "outputs": [],
   "source": [
    "import pandas as pd\n",
    "import matplotlib.pyplot as plt\n",
    "import seaborn as sns\n",
    "import numpy as np\n",
    "import tensorflow as tf\n",
    "import nltk\n",
    "import pickle\n",
    "import keras\n",
    "\n",
    "from nltk.corpus import stopwords\n",
    "\n",
    "from sklearn.feature_extraction.text import CountVectorizer, ENGLISH_STOP_WORDS as sklear_stopwords\n",
    "from sklearn.feature_selection import SelectKBest, mutual_info_classif\n",
    "from sklearn.model_selection import train_test_split\n",
    "from sklearn.metrics import accuracy_score, precision_score, recall_score\n",
    "from sklearn.metrics import confusion_matrix, ConfusionMatrixDisplay\n",
    "from sklearn.utils import class_weight\n",
    "from sklearn.naive_bayes import MultinomialNB\n",
    "\n",
    "from keras.preprocessing.text import Tokenizer\n",
    "from keras.preprocessing.sequence import pad_sequences\n",
    "\n",
    "from tensorflow.keras import Sequential\n",
    "from tensorflow.keras.layers import Dense, Dropout, GaussianNoise, InputLayer, BatchNormalization\n",
    "from tensorflow.keras.layers import Flatten, GlobalMaxPool1D, Embedding, GRU\n",
    "from tensorflow.keras.callbacks import EarlyStopping\n",
    "\n",
    "sns.set_style('whitegrid');\n",
    "sns.set_context('notebook', font_scale=1.1);"
   ]
  },
  {
   "cell_type": "code",
   "execution_count": 2,
   "id": "oHoknhm9wP-C",
   "metadata": {
    "colab": {
     "base_uri": "https://localhost:8080/"
    },
    "id": "oHoknhm9wP-C",
    "outputId": "3b0e95ba-f7cf-4926-ef30-43b086d6d187"
   },
   "outputs": [
    {
     "name": "stdout",
     "output_type": "stream",
     "text": [
      "[nltk_data] Downloading package stopwords to /root/nltk_data...\n",
      "[nltk_data]   Unzipping corpora/stopwords.zip.\n"
     ]
    },
    {
     "data": {
      "text/plain": [
       "True"
      ]
     },
     "execution_count": 2,
     "metadata": {},
     "output_type": "execute_result"
    }
   ],
   "source": [
    "nltk.download('stopwords')"
   ]
  },
  {
   "cell_type": "code",
   "execution_count": null,
   "id": "d1d70673",
   "metadata": {
    "id": "d1d70673"
   },
   "outputs": [],
   "source": [
    "# names = pd.read_csv('data/key.csv', sep='\\t').columns.tolist()\n",
    "# df = pd.read_csv('data/train-balanced.csv', sep='\\t', header=None, names=names, usecols=['comment', 'label'])\n",
    "# df.dropna(inplace=True)\n",
    "# df.head()"
   ]
  },
  {
   "cell_type": "code",
   "execution_count": 3,
   "id": "7UTTpEWPvb0K",
   "metadata": {
    "colab": {
     "base_uri": "https://localhost:8080/"
    },
    "id": "7UTTpEWPvb0K",
    "outputId": "68935426-ad04-453e-99e6-f87b4cd013aa"
   },
   "outputs": [
    {
     "name": "stdout",
     "output_type": "stream",
     "text": [
      "Mounted at /content/drive\n"
     ]
    }
   ],
   "source": [
    "from google.colab import drive\n",
    "drive.mount('/content/drive')"
   ]
  },
  {
   "cell_type": "code",
   "execution_count": 4,
   "id": "U--BsB3sv0k8",
   "metadata": {
    "id": "U--BsB3sv0k8"
   },
   "outputs": [],
   "source": [
    "root = '/content/drive/My Drive/surely_not_sarcasm_data/'"
   ]
  },
  {
   "cell_type": "code",
   "execution_count": 5,
   "id": "6ef6caff",
   "metadata": {
    "colab": {
     "base_uri": "https://localhost:8080/",
     "height": 206
    },
    "id": "6ef6caff",
    "outputId": "eba65a65-bf85-439d-d276-472f96118601"
   },
   "outputs": [
    {
     "data": {
      "text/html": [
       "\n",
       "  <div id=\"df-0f2b8488-e259-4e60-90e9-56ee18f7c47c\">\n",
       "    <div class=\"colab-df-container\">\n",
       "      <div>\n",
       "<style scoped>\n",
       "    .dataframe tbody tr th:only-of-type {\n",
       "        vertical-align: middle;\n",
       "    }\n",
       "\n",
       "    .dataframe tbody tr th {\n",
       "        vertical-align: top;\n",
       "    }\n",
       "\n",
       "    .dataframe thead th {\n",
       "        text-align: right;\n",
       "    }\n",
       "</style>\n",
       "<table border=\"1\" class=\"dataframe\">\n",
       "  <thead>\n",
       "    <tr style=\"text-align: right;\">\n",
       "      <th></th>\n",
       "      <th>label</th>\n",
       "      <th>comment</th>\n",
       "    </tr>\n",
       "  </thead>\n",
       "  <tbody>\n",
       "    <tr>\n",
       "      <th>0</th>\n",
       "      <td>0</td>\n",
       "      <td>NC and NH.</td>\n",
       "    </tr>\n",
       "    <tr>\n",
       "      <th>1</th>\n",
       "      <td>0</td>\n",
       "      <td>You do know west teams play against west teams...</td>\n",
       "    </tr>\n",
       "    <tr>\n",
       "      <th>2</th>\n",
       "      <td>0</td>\n",
       "      <td>They were underdogs earlier today, but since G...</td>\n",
       "    </tr>\n",
       "    <tr>\n",
       "      <th>3</th>\n",
       "      <td>0</td>\n",
       "      <td>This meme isn't funny none of the \"new york ni...</td>\n",
       "    </tr>\n",
       "    <tr>\n",
       "      <th>4</th>\n",
       "      <td>0</td>\n",
       "      <td>I could use one of those tools.</td>\n",
       "    </tr>\n",
       "  </tbody>\n",
       "</table>\n",
       "</div>\n",
       "      <button class=\"colab-df-convert\" onclick=\"convertToInteractive('df-0f2b8488-e259-4e60-90e9-56ee18f7c47c')\"\n",
       "              title=\"Convert this dataframe to an interactive table.\"\n",
       "              style=\"display:none;\">\n",
       "        \n",
       "  <svg xmlns=\"http://www.w3.org/2000/svg\" height=\"24px\"viewBox=\"0 0 24 24\"\n",
       "       width=\"24px\">\n",
       "    <path d=\"M0 0h24v24H0V0z\" fill=\"none\"/>\n",
       "    <path d=\"M18.56 5.44l.94 2.06.94-2.06 2.06-.94-2.06-.94-.94-2.06-.94 2.06-2.06.94zm-11 1L8.5 8.5l.94-2.06 2.06-.94-2.06-.94L8.5 2.5l-.94 2.06-2.06.94zm10 10l.94 2.06.94-2.06 2.06-.94-2.06-.94-.94-2.06-.94 2.06-2.06.94z\"/><path d=\"M17.41 7.96l-1.37-1.37c-.4-.4-.92-.59-1.43-.59-.52 0-1.04.2-1.43.59L10.3 9.45l-7.72 7.72c-.78.78-.78 2.05 0 2.83L4 21.41c.39.39.9.59 1.41.59.51 0 1.02-.2 1.41-.59l7.78-7.78 2.81-2.81c.8-.78.8-2.07 0-2.86zM5.41 20L4 18.59l7.72-7.72 1.47 1.35L5.41 20z\"/>\n",
       "  </svg>\n",
       "      </button>\n",
       "      \n",
       "  <style>\n",
       "    .colab-df-container {\n",
       "      display:flex;\n",
       "      flex-wrap:wrap;\n",
       "      gap: 12px;\n",
       "    }\n",
       "\n",
       "    .colab-df-convert {\n",
       "      background-color: #E8F0FE;\n",
       "      border: none;\n",
       "      border-radius: 50%;\n",
       "      cursor: pointer;\n",
       "      display: none;\n",
       "      fill: #1967D2;\n",
       "      height: 32px;\n",
       "      padding: 0 0 0 0;\n",
       "      width: 32px;\n",
       "    }\n",
       "\n",
       "    .colab-df-convert:hover {\n",
       "      background-color: #E2EBFA;\n",
       "      box-shadow: 0px 1px 2px rgba(60, 64, 67, 0.3), 0px 1px 3px 1px rgba(60, 64, 67, 0.15);\n",
       "      fill: #174EA6;\n",
       "    }\n",
       "\n",
       "    [theme=dark] .colab-df-convert {\n",
       "      background-color: #3B4455;\n",
       "      fill: #D2E3FC;\n",
       "    }\n",
       "\n",
       "    [theme=dark] .colab-df-convert:hover {\n",
       "      background-color: #434B5C;\n",
       "      box-shadow: 0px 1px 3px 1px rgba(0, 0, 0, 0.15);\n",
       "      filter: drop-shadow(0px 1px 2px rgba(0, 0, 0, 0.3));\n",
       "      fill: #FFFFFF;\n",
       "    }\n",
       "  </style>\n",
       "\n",
       "      <script>\n",
       "        const buttonEl =\n",
       "          document.querySelector('#df-0f2b8488-e259-4e60-90e9-56ee18f7c47c button.colab-df-convert');\n",
       "        buttonEl.style.display =\n",
       "          google.colab.kernel.accessAllowed ? 'block' : 'none';\n",
       "\n",
       "        async function convertToInteractive(key) {\n",
       "          const element = document.querySelector('#df-0f2b8488-e259-4e60-90e9-56ee18f7c47c');\n",
       "          const dataTable =\n",
       "            await google.colab.kernel.invokeFunction('convertToInteractive',\n",
       "                                                     [key], {});\n",
       "          if (!dataTable) return;\n",
       "\n",
       "          const docLinkHtml = 'Like what you see? Visit the ' +\n",
       "            '<a target=\"_blank\" href=https://colab.research.google.com/notebooks/data_table.ipynb>data table notebook</a>'\n",
       "            + ' to learn more about interactive tables.';\n",
       "          element.innerHTML = '';\n",
       "          dataTable['output_type'] = 'display_data';\n",
       "          await google.colab.output.renderOutput(dataTable, element);\n",
       "          const docLink = document.createElement('div');\n",
       "          docLink.innerHTML = docLinkHtml;\n",
       "          element.appendChild(docLink);\n",
       "        }\n",
       "      </script>\n",
       "    </div>\n",
       "  </div>\n",
       "  "
      ],
      "text/plain": [
       "   label                                            comment\n",
       "0      0                                         NC and NH.\n",
       "1      0  You do know west teams play against west teams...\n",
       "2      0  They were underdogs earlier today, but since G...\n",
       "3      0  This meme isn't funny none of the \"new york ni...\n",
       "4      0                    I could use one of those tools."
      ]
     },
     "execution_count": 5,
     "metadata": {},
     "output_type": "execute_result"
    }
   ],
   "source": [
    "df = pd.read_csv(root+'train_data.csv')\n",
    "df.head()"
   ]
  },
  {
   "cell_type": "code",
   "execution_count": 6,
   "id": "ff53415a",
   "metadata": {
    "id": "ff53415a"
   },
   "outputs": [],
   "source": [
    "X_train, y_train = df['comment'], df['label']"
   ]
  },
  {
   "cell_type": "code",
   "execution_count": null,
   "id": "179b00b3",
   "metadata": {
    "id": "179b00b3"
   },
   "outputs": [],
   "source": [
    "# X_train, _, y_train, _ = train_test_split(X_train, y_train, stratify=y_train, test_size=0.9)"
   ]
  },
  {
   "cell_type": "code",
   "execution_count": 18,
   "id": "CHLoKlbgujMl",
   "metadata": {
    "colab": {
     "base_uri": "https://localhost:8080/"
    },
    "id": "CHLoKlbgujMl",
    "outputId": "9c4f3a61-aed7-4631-b483-6a8936a4faa8"
   },
   "outputs": [
    {
     "data": {
      "text/plain": [
       "(1010773,)"
      ]
     },
     "execution_count": 18,
     "metadata": {},
     "output_type": "execute_result"
    }
   ],
   "source": [
    "X_train.shape"
   ]
  },
  {
   "cell_type": "code",
   "execution_count": 72,
   "id": "Kn1GORzCP_fw",
   "metadata": {
    "id": "Kn1GORzCP_fw"
   },
   "outputs": [],
   "source": [
    "def plot_history(fit):\n",
    "    fig, axes = plt.subplots(1, 2, figsize=(14,4))\n",
    "\n",
    "    for i, which in enumerate(['accuracy', 'loss']):\n",
    "        ax = axes[i]\n",
    "        ax.plot(fit.history[which], label=which);\n",
    "        ax.plot(fit.history['val_'+which], label='val_'+which);\n",
    "        ax.set_xlabel('epoch');\n",
    "        ax.set_ylabel(which);\n",
    "        ax.legend();"
   ]
  },
  {
   "cell_type": "markdown",
   "id": "C3tpuJCn7oDa",
   "metadata": {
    "id": "C3tpuJCn7oDa"
   },
   "source": [
    "# bag of words"
   ]
  },
  {
   "cell_type": "code",
   "execution_count": null,
   "id": "55b55979",
   "metadata": {
    "id": "55b55979"
   },
   "outputs": [],
   "source": [
    "all_sw = list(sklear_stopwords) + stopwords.words('english')\n",
    "count_vectorizer = CountVectorizer(stop_words=all_sw, ngram_range=(1,1))\n",
    "X_train = count_vectorizer.fit_transform(X_train)"
   ]
  },
  {
   "cell_type": "code",
   "execution_count": null,
   "id": "6e7d58e0",
   "metadata": {
    "colab": {
     "base_uri": "https://localhost:8080/"
    },
    "id": "6e7d58e0",
    "outputId": "5f81adcd-e901-4066-8547-e1c5c697dd46"
   },
   "outputs": [
    {
     "data": {
      "text/plain": [
       "48984"
      ]
     },
     "execution_count": 13,
     "metadata": {},
     "output_type": "execute_result"
    }
   ],
   "source": [
    "len(count_vectorizer.get_feature_names_out())"
   ]
  },
  {
   "cell_type": "code",
   "execution_count": null,
   "id": "tctT0eTwvOuy",
   "metadata": {
    "id": "tctT0eTwvOuy"
   },
   "outputs": [],
   "source": [
    "mutual_info = SelectKBest(mutual_info_classif, k=5000)\n",
    "X_train_mi = mutual_info.fit_transform(X_train, y_train)"
   ]
  },
  {
   "cell_type": "code",
   "execution_count": null,
   "id": "znSHsWAgvoZG",
   "metadata": {
    "id": "znSHsWAgvoZG"
   },
   "outputs": [],
   "source": [
    "with open(root+'X_train_mi', 'wb') as x:\n",
    "    pickle.dump(X_train_mi, x)\n",
    "\n",
    "with open(root+'y_train_mi', 'wb') as x:\n",
    "    pickle.dump(y_train, x)"
   ]
  },
  {
   "cell_type": "code",
   "execution_count": null,
   "id": "ENkIEs1U0Dny",
   "metadata": {
    "id": "ENkIEs1U0Dny"
   },
   "outputs": [],
   "source": [
    "X_train_mi = pickle.load(open(root+'X_train_mi','rb'))\n",
    "y_train_mi = pickle.load(open(root+'y_train_mi','rb'))"
   ]
  },
  {
   "cell_type": "code",
   "execution_count": null,
   "id": "vpKLEy2Wuan0",
   "metadata": {
    "id": "vpKLEy2Wuan0"
   },
   "outputs": [],
   "source": [
    "X_train, X_val, y_train, y_val = train_test_split(X_train_mi, y_train_mi, stratify=y_train_mi, test_size=0.2)"
   ]
  },
  {
   "cell_type": "code",
   "execution_count": null,
   "id": "I7FDoYWC41ju",
   "metadata": {
    "colab": {
     "base_uri": "https://localhost:8080/"
    },
    "id": "I7FDoYWC41ju",
    "outputId": "06215ded-645c-4c0d-d3c0-6998f592bf3e"
   },
   "outputs": [
    {
     "data": {
      "text/plain": [
       "((80861, 5000), (20216, 5000))"
      ]
     },
     "execution_count": 7,
     "metadata": {},
     "output_type": "execute_result"
    }
   ],
   "source": [
    "X_train.shape, X_val.shape"
   ]
  },
  {
   "cell_type": "code",
   "execution_count": null,
   "id": "8cf7f181",
   "metadata": {
    "id": "8cf7f181"
   },
   "outputs": [],
   "source": [
    "mnb = MultinomialNB()\n",
    "mnb.fit(X_train, y_train);"
   ]
  },
  {
   "cell_type": "code",
   "execution_count": null,
   "id": "15bdf1d3",
   "metadata": {
    "colab": {
     "base_uri": "https://localhost:8080/"
    },
    "id": "15bdf1d3",
    "outputId": "38500334-5825-48f7-effa-530b75b4187e"
   },
   "outputs": [
    {
     "name": "stdout",
     "output_type": "stream",
     "text": [
      "[[7455 3740]\n",
      " [2653 6368]]\n",
      "accuracy: 0.684\n"
     ]
    }
   ],
   "source": [
    "y_pred = mnb.predict(X_val)\n",
    "\n",
    "print(confusion_matrix(y_pred, y_val))\n",
    "print('accuracy:', accuracy_score(y_pred, y_val).round(3))"
   ]
  },
  {
   "cell_type": "code",
   "execution_count": null,
   "id": "0POEjM1m0YYl",
   "metadata": {
    "id": "0POEjM1m0YYl"
   },
   "outputs": [],
   "source": [
    "def sparse_tensor(X):\n",
    "    coo = X.tocoo()\n",
    "    indices = np.mat([coo.row, coo.col]).transpose()\n",
    "    return tf.sparse.reorder(tf.SparseTensor(indices, coo.data, coo.shape))"
   ]
  },
  {
   "cell_type": "code",
   "execution_count": null,
   "id": "1u2Yx738xX-a",
   "metadata": {
    "id": "1u2Yx738xX-a"
   },
   "outputs": [],
   "source": [
    "train_dataset = tf.data.Dataset.from_tensor_slices((sparse_tensor(X_train), y_train)).shuffle(100).batch(256)\n",
    "val_dataset = tf.data.Dataset.from_tensor_slices((sparse_tensor(X_val), y_val)).batch(256)"
   ]
  },
  {
   "cell_type": "code",
   "execution_count": null,
   "id": "03ff6f33",
   "metadata": {
    "id": "03ff6f33"
   },
   "outputs": [],
   "source": [
    "es = EarlyStopping(monitor='val_accuracy', min_delta=0.001, patience=3, restore_best_weights=True)"
   ]
  },
  {
   "cell_type": "code",
   "execution_count": null,
   "id": "-9uWkAFL3mhi",
   "metadata": {
    "colab": {
     "base_uri": "https://localhost:8080/"
    },
    "id": "-9uWkAFL3mhi",
    "outputId": "628425e7-5ad3-4944-afb3-25851fbf7f08"
   },
   "outputs": [
    {
     "name": "stdout",
     "output_type": "stream",
     "text": [
      "Epoch 1/50\n"
     ]
    },
    {
     "name": "stderr",
     "output_type": "stream",
     "text": [
      "/usr/local/lib/python3.7/dist-packages/tensorflow/python/framework/indexed_slices.py:450: UserWarning: Converting sparse IndexedSlices(IndexedSlices(indices=Tensor(\"gradient_tape/sequential_6/dense_12/embedding_lookup_sparse/Reshape_1:0\", shape=(None,), dtype=int32), values=Tensor(\"gradient_tape/sequential_6/dense_12/embedding_lookup_sparse/Reshape:0\", shape=(None, 1000), dtype=float32), dense_shape=Tensor(\"gradient_tape/sequential_6/dense_12/embedding_lookup_sparse/Cast:0\", shape=(2,), dtype=int32))) to a dense Tensor of unknown shape. This may consume a large amount of memory.\n",
      "  \"shape. This may consume a large amount of memory.\" % value)\n"
     ]
    },
    {
     "name": "stdout",
     "output_type": "stream",
     "text": [
      "3159/3159 [==============================] - 244s 77ms/step - loss: 0.6265 - accuracy: 0.6542 - val_loss: 0.6112 - val_accuracy: 0.6654\n",
      "Epoch 2/50\n",
      "3159/3159 [==============================] - 242s 76ms/step - loss: 0.6008 - accuracy: 0.6732 - val_loss: 0.6111 - val_accuracy: 0.6635\n",
      "Epoch 3/50\n",
      "3159/3159 [==============================] - 241s 76ms/step - loss: 0.5869 - accuracy: 0.6847 - val_loss: 0.6131 - val_accuracy: 0.6593\n",
      "Epoch 4/50\n",
      "3159/3159 [==============================] - 239s 76ms/step - loss: 0.5742 - accuracy: 0.6946 - val_loss: 0.6142 - val_accuracy: 0.6604\n"
     ]
    }
   ],
   "source": [
    "model = Sequential([\n",
    "    InputLayer(input_shape=(X_train.shape[1],)),\n",
    "    Dense(1000, activation='elu', kernel_initializer='he_normal'),\n",
    "    BatchNormalization(),\n",
    "    Dense(100, activation='elu', kernel_initializer='he_normal'),\n",
    "    Dropout(0.4),\n",
    "    Dense(1, activation='sigmoid')\n",
    "])\n",
    "\n",
    "model.compile(loss='binary_crossentropy', optimizer='adam', metrics=['accuracy'])\n",
    "fit = model.fit(train_dataset, validation_data=val_dataset, epochs=50, callbacks=[es])"
   ]
  },
  {
   "cell_type": "code",
   "execution_count": null,
   "id": "a56734fe",
   "metadata": {
    "id": "a56734fe"
   },
   "outputs": [],
   "source": [
    "X_train, X_val = X_train.toarray(), X_val.toarray()"
   ]
  },
  {
   "cell_type": "code",
   "execution_count": null,
   "id": "fafa3d3d",
   "metadata": {
    "colab": {
     "base_uri": "https://localhost:8080/"
    },
    "id": "fafa3d3d",
    "outputId": "69561199-c082-441e-ae1f-b805bc0283a6"
   },
   "outputs": [
    {
     "name": "stdout",
     "output_type": "stream",
     "text": [
      "Epoch 1/100\n",
      "1258/1264 [============================>.] - ETA: 0s - loss: 0.6568 - accuracy: 0.6334"
     ]
    }
   ],
   "source": [
    "model = Sequential([\n",
    "    InputLayer(input_shape=(X_train.shape[1],)),\n",
    "    Dense(200, activation='elu', kernel_initializer='he_normal'),\n",
    "    BatchNormalization(),\n",
    "    Dense(200, activation='elu', kernel_initializer='he_normal'),\n",
    "    BatchNormalization(),\n",
    "    Dropout(0.4),\n",
    "    Dense(1, activation='sigmoid')\n",
    "])\n",
    "\n",
    "model.compile(loss='binary_crossentropy', optimizer='adam', metrics=['accuracy'])\n",
    "fit = model.fit(X_train, y_train, validation_data=(X_val,y_val), batch_size=64, epochs=100, callbacks=[es])"
   ]
  },
  {
   "cell_type": "markdown",
   "id": "CUB4d3pM7tjw",
   "metadata": {
    "id": "CUB4d3pM7tjw"
   },
   "source": [
    "# rnn"
   ]
  },
  {
   "cell_type": "markdown",
   "id": "buxIVKCHxQLS",
   "metadata": {
    "id": "buxIVKCHxQLS"
   },
   "source": [
    "## non-pretrained embeddings"
   ]
  },
  {
   "cell_type": "code",
   "execution_count": 20,
   "id": "cb5bc591",
   "metadata": {
    "id": "cb5bc591"
   },
   "outputs": [],
   "source": [
    "tokenizer = Tokenizer(num_words=10000)\n",
    "tokenizer.fit_on_texts(X_train)"
   ]
  },
  {
   "cell_type": "code",
   "execution_count": 21,
   "id": "6gnIuF-d72QM",
   "metadata": {
    "id": "6gnIuF-d72QM"
   },
   "outputs": [],
   "source": [
    "X_train_tok = tokenizer.texts_to_sequences(X_train)\n",
    "input_dim = len(tokenizer.word_index) + 1"
   ]
  },
  {
   "cell_type": "code",
   "execution_count": 22,
   "id": "6kqyL96G78EL",
   "metadata": {
    "colab": {
     "base_uri": "https://localhost:8080/",
     "height": 271
    },
    "id": "6kqyL96G78EL",
    "outputId": "e580f0bc-9485-454c-978c-b2e6f3cc7dd0"
   },
   "outputs": [
    {
     "data": {
      "image/png": "[encoded data removed]",
      "text/plain": [
       "<Figure size 864x288 with 1 Axes>"
      ]
     },
     "metadata": {
      "needs_background": "light"
     },
     "output_type": "display_data"
    }
   ],
   "source": [
    "sen_len = [len(i) for i in X_train_tok]\n",
    "\n",
    "plt.figure(figsize=(12,4))\n",
    "sns.boxplot(x=sen_len);"
   ]
  },
  {
   "cell_type": "code",
   "execution_count": 23,
   "id": "9UuARywF8TzH",
   "metadata": {
    "colab": {
     "base_uri": "https://localhost:8080/"
    },
    "id": "9UuARywF8TzH",
    "outputId": "31e481cf-84fd-4a68-c77b-9010210da7ef"
   },
   "outputs": [
    {
     "data": {
      "text/plain": [
       "19.0"
      ]
     },
     "execution_count": 23,
     "metadata": {},
     "output_type": "execute_result"
    }
   ],
   "source": [
    "np.quantile(sen_len, 0.9)"
   ]
  },
  {
   "cell_type": "code",
   "execution_count": 24,
   "id": "Vbblfzh_85mK",
   "metadata": {
    "id": "Vbblfzh_85mK"
   },
   "outputs": [],
   "source": [
    "X_train_tok = pad_sequences(X_train_tok, padding='post', maxlen=20)"
   ]
  },
  {
   "cell_type": "code",
   "execution_count": 25,
   "id": "zKrxhQKq8-9n",
   "metadata": {
    "id": "zKrxhQKq8-9n"
   },
   "outputs": [],
   "source": [
    "X_train, X_val, y_train, y_val = train_test_split(X_train_tok, y_train, stratify=y_train, test_size=0.2)\n",
    "X_train, X_test, y_train, y_test = train_test_split(X_train, y_train, stratify=y_train, test_size=0.1)"
   ]
  },
  {
   "cell_type": "code",
   "execution_count": 27,
   "id": "QaNJoTzU9Olf",
   "metadata": {
    "colab": {
     "base_uri": "https://localhost:8080/"
    },
    "id": "QaNJoTzU9Olf",
    "outputId": "536fe00b-80a8-463a-d978-d5cc5676257d"
   },
   "outputs": [
    {
     "data": {
      "text/plain": [
       "((727756, 20), (202155, 20), (80862, 20))"
      ]
     },
     "execution_count": 27,
     "metadata": {},
     "output_type": "execute_result"
    }
   ],
   "source": [
    "X_train.shape, X_val.shape, X_test.shape"
   ]
  },
  {
   "cell_type": "code",
   "execution_count": 28,
   "id": "RaCz1Z82-Dbf",
   "metadata": {
    "id": "RaCz1Z82-Dbf"
   },
   "outputs": [],
   "source": [
    "es = EarlyStopping(monitor='val_accuracy', min_delta=0.001, patience=3, restore_best_weights=True)"
   ]
  },
  {
   "cell_type": "code",
   "execution_count": 29,
   "id": "Wty2B4M0-8Yy",
   "metadata": {
    "colab": {
     "base_uri": "https://localhost:8080/"
    },
    "id": "Wty2B4M0-8Yy",
    "outputId": "40df7f59-e79d-44c1-dc0c-9aeab3991748"
   },
   "outputs": [
    {
     "name": "stdout",
     "output_type": "stream",
     "text": [
      "Epoch 1/50\n",
      "5686/5686 [==============================] - 710s 124ms/step - loss: 0.5720 - accuracy: 0.6987 - val_loss: 0.5545 - val_accuracy: 0.7141\n",
      "Epoch 2/50\n",
      "5686/5686 [==============================] - 665s 117ms/step - loss: 0.5436 - accuracy: 0.7221 - val_loss: 0.5469 - val_accuracy: 0.7184\n",
      "Epoch 3/50\n",
      "5686/5686 [==============================] - 668s 117ms/step - loss: 0.5279 - accuracy: 0.7324 - val_loss: 0.5464 - val_accuracy: 0.7199\n",
      "Epoch 4/50\n",
      "5686/5686 [==============================] - 673s 118ms/step - loss: 0.5147 - accuracy: 0.7424 - val_loss: 0.5495 - val_accuracy: 0.7208\n",
      "Epoch 5/50\n",
      "5686/5686 [==============================] - 670s 118ms/step - loss: 0.5019 - accuracy: 0.7508 - val_loss: 0.5511 - val_accuracy: 0.7179\n",
      "Epoch 6/50\n",
      "5686/5686 [==============================] - 666s 117ms/step - loss: 0.4902 - accuracy: 0.7592 - val_loss: 0.5560 - val_accuracy: 0.7173\n"
     ]
    }
   ],
   "source": [
    "model = Sequential([\n",
    "    Embedding(input_dim=input_dim, output_dim=100, input_length=20, mask_zero=True),\n",
    "    GRU(100, dropout=0.3),\n",
    "    Dense(1, activation='sigmoid')\n",
    "])\n",
    "\n",
    "model.compile(loss='binary_crossentropy', optimizer='adam', metrics=['accuracy'])\n",
    "fit = model.fit(X_train, y_train, validation_data=(X_val,y_val), batch_size=128, epochs=50, callbacks=[es])"
   ]
  },
  {
   "cell_type": "code",
   "execution_count": 30,
   "id": "y7mFD26JZoRj",
   "metadata": {
    "colab": {
     "base_uri": "https://localhost:8080/"
    },
    "id": "y7mFD26JZoRj",
    "outputId": "9523fa78-9693-4dd1-e6c6-3483afb91b34"
   },
   "outputs": [
    {
     "name": "stdout",
     "output_type": "stream",
     "text": [
      "6318/6318 [==============================] - 47s 7ms/step - loss: 0.5464 - accuracy: 0.7199\n"
     ]
    },
    {
     "data": {
      "text/plain": [
       "[0.5464373230934143, 0.7198931574821472]"
      ]
     },
     "execution_count": 30,
     "metadata": {},
     "output_type": "execute_result"
    }
   ],
   "source": [
    "model.evaluate(X_val, y_val)"
   ]
  },
  {
   "cell_type": "code",
   "execution_count": 31,
   "id": "48vpyxhq90LY",
   "metadata": {
    "colab": {
     "base_uri": "https://localhost:8080/",
     "height": 288
    },
    "id": "48vpyxhq90LY",
    "outputId": "ce2824fe-e0dd-4ab9-fee4-3cba5551e04a"
   },
   "outputs": [
    {
     "data": {
      "image/png": "[encoded data removed]",
      "text/plain": [
       "<Figure size 1008x288 with 2 Axes>"
      ]
     },
     "metadata": {
      "needs_background": "light"
     },
     "output_type": "display_data"
    }
   ],
   "source": [
    "plot_history(fit)"
   ]
  },
  {
   "cell_type": "code",
   "execution_count": 57,
   "id": "93pjVbbnga22",
   "metadata": {
    "id": "93pjVbbnga22"
   },
   "outputs": [],
   "source": [
    "y_pred = model.predict(X_val).round().flatten()"
   ]
  },
  {
   "cell_type": "code",
   "execution_count": 59,
   "id": "7t4hHwhLgyoF",
   "metadata": {
    "id": "7t4hHwhLgyoF"
   },
   "outputs": [],
   "source": [
    "confusion = confusion_matrix(y_val, y_pred, normalize='true')"
   ]
  },
  {
   "cell_type": "code",
   "execution_count": 60,
   "id": "s2mVZ43eh21a",
   "metadata": {
    "colab": {
     "base_uri": "https://localhost:8080/"
    },
    "id": "s2mVZ43eh21a",
    "outputId": "f685939e-159d-4bf6-9753-d1898aefba9d"
   },
   "outputs": [
    {
     "data": {
      "text/plain": [
       "0.7198931512947986"
      ]
     },
     "execution_count": 60,
     "metadata": {},
     "output_type": "execute_result"
    }
   ],
   "source": [
    "accuracy_score(y_val, y_pred)"
   ]
  },
  {
   "cell_type": "code",
   "execution_count": 61,
   "id": "ggcVV6cYhOL7",
   "metadata": {
    "colab": {
     "base_uri": "https://localhost:8080/",
     "height": 288
    },
    "id": "ggcVV6cYhOL7",
    "outputId": "73519127-6753-4293-f9c4-659695ae55b9"
   },
   "outputs": [
    {
     "data": {
      "image/png": "[encoded data removed]",
      "text/plain": [
       "<Figure size 432x288 with 1 Axes>"
      ]
     },
     "metadata": {
      "needs_background": "light"
     },
     "output_type": "display_data"
    }
   ],
   "source": [
    "matrix_display = ConfusionMatrixDisplay(confusion, display_labels=['non-sarcastic', 'sarcastic'])\n",
    "matrix_display.plot(colorbar=False)\n",
    "plt.grid(False);"
   ]
  },
  {
   "cell_type": "code",
   "execution_count": 32,
   "id": "33it7v4BXP_S",
   "metadata": {
    "colab": {
     "base_uri": "https://localhost:8080/"
    },
    "id": "33it7v4BXP_S",
    "outputId": "0a9c49a2-ba39-4b46-c8b5-9fbce2b78cfb"
   },
   "outputs": [
    {
     "name": "stderr",
     "output_type": "stream",
     "text": [
      "WARNING:absl:Found untraced functions such as gru_cell_layer_call_fn, gru_cell_layer_call_and_return_conditional_losses, gru_cell_layer_call_fn, gru_cell_layer_call_and_return_conditional_losses, gru_cell_layer_call_and_return_conditional_losses while saving (showing 5 of 5). These functions will not be directly callable after loading.\n"
     ]
    },
    {
     "name": "stdout",
     "output_type": "stream",
     "text": [
      "INFO:tensorflow:Assets written to: /content/drive/My Drive/surely_not_sarcasm_data/gru/assets\n"
     ]
    },
    {
     "name": "stderr",
     "output_type": "stream",
     "text": [
      "INFO:tensorflow:Assets written to: /content/drive/My Drive/surely_not_sarcasm_data/gru/assets\n",
      "WARNING:absl:<keras.layers.recurrent.GRUCell object at 0x7f3dd6f9f6d0> has the same name 'GRUCell' as a built-in Keras object. Consider renaming <class 'keras.layers.recurrent.GRUCell'> to avoid naming conflicts when loading with `tf.keras.models.load_model`. If renaming is not possible, pass the object in the `custom_objects` parameter of the load function.\n"
     ]
    }
   ],
   "source": [
    "model.save(root+'gru')"
   ]
  },
  {
   "cell_type": "markdown",
   "id": "05JjISdyxqHK",
   "metadata": {
    "id": "05JjISdyxqHK"
   },
   "source": [
    "## pretrained embeddings: non-trainable"
   ]
  },
  {
   "cell_type": "code",
   "execution_count": 62,
   "id": "VHQg1wyaQGz5",
   "metadata": {
    "id": "VHQg1wyaQGz5"
   },
   "outputs": [],
   "source": [
    "vec_len = 100"
   ]
  },
  {
   "cell_type": "code",
   "execution_count": 69,
   "id": "yaBZmfGTmSgY",
   "metadata": {
    "id": "yaBZmfGTmSgY"
   },
   "outputs": [],
   "source": [
    "glove_words = []"
   ]
  },
  {
   "cell_type": "code",
   "execution_count": 70,
   "id": "B9x1RC9SQ099",
   "metadata": {
    "id": "B9x1RC9SQ099"
   },
   "outputs": [],
   "source": [
    "embedding_matrix = np.zeros((input_dim, vec_len))\n",
    "\n",
    "with open(root+'glove.6B.'+str(vec_len)+'d.txt') as file:\n",
    "# with open(root+'glove.twitter.27B.50d.txt') as file:\n",
    "    for line in file:\n",
    "        word, *vector = line.split()\n",
    "        glove_words.append(word)\n",
    "        if word in tokenizer.word_index:\n",
    "            embedding_matrix[tokenizer.word_index[word]] = np.array(vector, dtype=np.float32)"
   ]
  },
  {
   "cell_type": "code",
   "execution_count": 66,
   "id": "b_vaZaSTQ951",
   "metadata": {
    "colab": {
     "base_uri": "https://localhost:8080/"
    },
    "id": "b_vaZaSTQ951",
    "outputId": "5221b956-fdf0-4557-a21d-6efdd20ff5fe"
   },
   "outputs": [
    {
     "data": {
      "text/plain": [
       "0.4739"
      ]
     },
     "execution_count": 66,
     "metadata": {},
     "output_type": "execute_result"
    }
   ],
   "source": [
    "round(np.count_nonzero(np.count_nonzero(embedding_matrix, axis=1))/input_dim, 4)"
   ]
  },
  {
   "cell_type": "code",
   "execution_count": 72,
   "id": "xW_xU7TNmqaZ",
   "metadata": {
    "id": "xW_xU7TNmqaZ"
   },
   "outputs": [],
   "source": [
    "not_covered_words = []"
   ]
  },
  {
   "cell_type": "code",
   "execution_count": 73,
   "id": "EOSiCv4wmgTd",
   "metadata": {
    "id": "EOSiCv4wmgTd"
   },
   "outputs": [],
   "source": [
    "for word in tokenizer.word_index:\n",
    "    if word not in glove_words:\n",
    "        not_covered_words.append(word)"
   ]
  },
  {
   "cell_type": "code",
   "execution_count": 75,
   "id": "lGgRya75mAir",
   "metadata": {
    "colab": {
     "base_uri": "https://localhost:8080/"
    },
    "id": "lGgRya75mAir",
    "outputId": "5fef19c1-f304-4b58-b690-db71109e5216"
   },
   "outputs": [
    {
     "data": {
      "text/plain": [
       "[\"it's\",\n",
       " \"don't\",\n",
       " \"i'm\",\n",
       " \"that's\",\n",
       " \"you're\",\n",
       " \"can't\",\n",
       " \"didn't\",\n",
       " \"he's\",\n",
       " \"doesn't\",\n",
       " \"isn't\",\n",
       " \"they're\",\n",
       " \"i've\",\n",
       " \"there's\",\n",
       " \"i'd\",\n",
       " \"wouldn't\",\n",
       " \"aren't\",\n",
       " \"i'll\",\n",
       " \"wasn't\",\n",
       " \"won't\",\n",
       " \"we're\",\n",
       " \"she's\",\n",
       " \"what's\",\n",
       " \"let's\",\n",
       " \"haven't\",\n",
       " \"shouldn't\",\n",
       " \"couldn't\",\n",
       " \"you'll\",\n",
       " \"you've\",\n",
       " \"they'll\",\n",
       " \"you'd\",\n",
       " 'subreddit',\n",
       " \"weren't\",\n",
       " \"we'll\",\n",
       " \"hasn't\",\n",
       " \"it'll\",\n",
       " 'shitlord',\n",
       " \"who's\",\n",
       " 'amirite',\n",
       " \"they've\",\n",
       " \"he'll\",\n",
       " 'lmao',\n",
       " \"we've\",\n",
       " 'downvoted',\n",
       " 'downvote',\n",
       " 'idk',\n",
       " \"they'd\",\n",
       " 'upvote',\n",
       " \"should've\",\n",
       " \"ain't\",\n",
       " \"would've\"]"
      ]
     },
     "execution_count": 75,
     "metadata": {},
     "output_type": "execute_result"
    }
   ],
   "source": [
    "not_covered_words[:50]"
   ]
  },
  {
   "cell_type": "code",
   "execution_count": 1,
   "id": "KSBCqNxnXDQ3",
   "metadata": {
    "colab": {
     "base_uri": "https://localhost:8080/",
     "height": 235
    },
    "id": "KSBCqNxnXDQ3",
    "outputId": "740edbda-202e-405a-b179-b8cce434d9ea"
   },
   "outputs": [
    {
     "ename": "NameError",
     "evalue": "ignored",
     "output_type": "error",
     "traceback": [
      "\u001b[0;31m---------------------------------------------------------------------------\u001b[0m",
      "\u001b[0;31mNameError\u001b[0m                                 Traceback (most recent call last)",
      "\u001b[0;32m<ipython-input-1-c683ea7fa07a>\u001b[0m in \u001b[0;36m<module>\u001b[0;34m()\u001b[0m\n\u001b[0;32m----> 1\u001b[0;31m model = Sequential([\n\u001b[0m\u001b[1;32m      2\u001b[0m     Embedding(input_dim=input_dim, output_dim=100, input_length=20, mask_zero=True,\n\u001b[1;32m      3\u001b[0m               weights=[embedding_matrix], trainable=False),\n\u001b[1;32m      4\u001b[0m     \u001b[0mGRU\u001b[0m\u001b[0;34m(\u001b[0m\u001b[0;36m100\u001b[0m\u001b[0;34m,\u001b[0m \u001b[0mreturn_sequences\u001b[0m\u001b[0;34m=\u001b[0m\u001b[0;32mTrue\u001b[0m\u001b[0;34m)\u001b[0m\u001b[0;34m,\u001b[0m\u001b[0;34m\u001b[0m\u001b[0;34m\u001b[0m\u001b[0m\n\u001b[1;32m      5\u001b[0m     \u001b[0mGRU\u001b[0m\u001b[0;34m(\u001b[0m\u001b[0;36m100\u001b[0m\u001b[0;34m,\u001b[0m \u001b[0mdropout\u001b[0m\u001b[0;34m=\u001b[0m\u001b[0;36m0.4\u001b[0m\u001b[0;34m)\u001b[0m\u001b[0;34m,\u001b[0m\u001b[0;34m\u001b[0m\u001b[0;34m\u001b[0m\u001b[0m\n",
      "\u001b[0;31mNameError\u001b[0m: name 'Sequential' is not defined"
     ]
    }
   ],
   "source": [
    "model = Sequential([\n",
    "    Embedding(input_dim=input_dim, output_dim=100, input_length=20, mask_zero=True,\n",
    "              weights=[embedding_matrix], trainable=False),\n",
    "    GRU(100, return_sequences=True),\n",
    "    GRU(100, dropout=0.4),\n",
    "    Dense(1, activation='sigmoid')\n",
    "])\n",
    "\n",
    "model.compile(loss='binary_crossentropy', optimizer='adam', metrics=['accuracy'])\n",
    "fit = model.fit(X_train, y_train, validation_data=(X_val,y_val), batch_size=128, epochs=50, callbacks=[es])"
   ]
  },
  {
   "cell_type": "code",
   "execution_count": 7,
   "id": "xmpQUyBrtBdB",
   "metadata": {
    "id": "xmpQUyBrtBdB"
   },
   "outputs": [],
   "source": [
    "slang = pd.read_csv(root+'slang.csv')"
   ]
  },
  {
   "cell_type": "code",
   "execution_count": 21,
   "id": "_9mmncgPDkGB",
   "metadata": {
    "id": "_9mmncgPDkGB"
   },
   "outputs": [],
   "source": [
    "slang_mapping = dict(list(slang[['acronym', 'expansion']].to_records(index=False)))"
   ]
  },
  {
   "cell_type": "code",
   "execution_count": 22,
   "id": "te5zLZ-dEEd9",
   "metadata": {
    "colab": {
     "base_uri": "https://localhost:8080/"
    },
    "id": "te5zLZ-dEEd9",
    "outputId": "2339d034-d259-41f9-88df-2171549dd56f"
   },
   "outputs": [
    {
     "name": "stdout",
     "output_type": "stream",
     "text": [
      "Collecting contractions\n",
      "  Downloading contractions-0.0.58-py2.py3-none-any.whl (8.0 kB)\n",
      "Collecting textsearch>=0.0.21\n",
      "  Downloading textsearch-0.0.21-py2.py3-none-any.whl (7.5 kB)\n",
      "Collecting pyahocorasick\n",
      "  Downloading pyahocorasick-1.4.2.tar.gz (321 kB)\n",
      "\u001b[K     |████████████████████████████████| 321 kB 5.4 MB/s \n",
      "\u001b[?25hCollecting anyascii\n",
      "  Downloading anyascii-0.3.0-py3-none-any.whl (284 kB)\n",
      "\u001b[K     |████████████████████████████████| 284 kB 60.9 MB/s \n",
      "\u001b[?25hBuilding wheels for collected packages: pyahocorasick\n",
      "  Building wheel for pyahocorasick (setup.py) ... \u001b[?25l\u001b[?25hdone\n",
      "  Created wheel for pyahocorasick: filename=pyahocorasick-1.4.2-cp37-cp37m-linux_x86_64.whl size=85446 sha256=50bae8c5ebb4a55d6ca6946feaec80e942223def8641c379f9d3a7d3b2c7f2c9\n",
      "  Stored in directory: /root/.cache/pip/wheels/25/19/a6/8f363d9939162782bb8439d886469756271abc01f76fbd790f\n",
      "Successfully built pyahocorasick\n",
      "Installing collected packages: pyahocorasick, anyascii, textsearch, contractions\n",
      "Successfully installed anyascii-0.3.0 contractions-0.0.58 pyahocorasick-1.4.2 textsearch-0.0.21\n"
     ]
    }
   ],
   "source": [
    "!pip install contractions"
   ]
  },
  {
   "cell_type": "code",
   "execution_count": 23,
   "id": "QwYEC4CHEJh7",
   "metadata": {
    "colab": {
     "base_uri": "https://localhost:8080/",
     "height": 35
    },
    "id": "QwYEC4CHEJh7",
    "outputId": "27937c9c-0443-4918-d0ea-aa6863e23d8b"
   },
   "outputs": [
    {
     "data": {
      "application/vnd.google.colaboratory.intrinsic+json": {
       "type": "string"
      },
      "text/plain": [
       "'you are happy now'"
      ]
     },
     "execution_count": 23,
     "metadata": {},
     "output_type": "execute_result"
    }
   ],
   "source": [
    "import contractions\n",
    "contractions.fix(\"you're happy now\")"
   ]
  },
  {
   "cell_type": "code",
   "execution_count": 27,
   "id": "OXMbnodfD_u1",
   "metadata": {
    "id": "OXMbnodfD_u1"
   },
   "outputs": [],
   "source": [
    "X = df['comment'].replace(slang_mapping).apply(lambda x: contractions.fix(x))"
   ]
  },
  {
   "cell_type": "code",
   "execution_count": 28,
   "id": "TBsJBX14E42j",
   "metadata": {
    "id": "TBsJBX14E42j"
   },
   "outputs": [],
   "source": [
    "y = df['label']"
   ]
  },
  {
   "cell_type": "code",
   "execution_count": 29,
   "id": "MsCr3PLSFXRG",
   "metadata": {
    "id": "MsCr3PLSFXRG"
   },
   "outputs": [],
   "source": [
    "tokenizer = Tokenizer(num_words=10000)\n",
    "tokenizer.fit_on_texts(X)"
   ]
  },
  {
   "cell_type": "code",
   "execution_count": 30,
   "id": "_HOyLy71FXRH",
   "metadata": {
    "id": "_HOyLy71FXRH"
   },
   "outputs": [],
   "source": [
    "X_train_tok = tokenizer.texts_to_sequences(X)\n",
    "input_dim = len(tokenizer.word_index) + 1"
   ]
  },
  {
   "cell_type": "code",
   "execution_count": 31,
   "id": "NK7IqFKrFXRI",
   "metadata": {
    "colab": {
     "base_uri": "https://localhost:8080/",
     "height": 271
    },
    "id": "NK7IqFKrFXRI",
    "outputId": "cdad5b24-e070-4934-8e81-b8c99e5cc416"
   },
   "outputs": [
    {
     "data": {
      "image/png": "[encoded data removed]",
      "text/plain": [
       "<Figure size 864x288 with 1 Axes>"
      ]
     },
     "metadata": {
      "needs_background": "light"
     },
     "output_type": "display_data"
    }
   ],
   "source": [
    "sen_len = [len(i) for i in X_train_tok]\n",
    "\n",
    "plt.figure(figsize=(12,4))\n",
    "sns.boxplot(x=sen_len);"
   ]
  },
  {
   "cell_type": "code",
   "execution_count": 32,
   "id": "z_SdGbZ7FXRJ",
   "metadata": {
    "colab": {
     "base_uri": "https://localhost:8080/"
    },
    "id": "z_SdGbZ7FXRJ",
    "outputId": "ae8ccc0c-a84a-4219-f95f-1a5d95eaee97"
   },
   "outputs": [
    {
     "data": {
      "text/plain": [
       "20.0"
      ]
     },
     "execution_count": 32,
     "metadata": {},
     "output_type": "execute_result"
    }
   ],
   "source": [
    "np.quantile(sen_len, 0.9)"
   ]
  },
  {
   "cell_type": "code",
   "execution_count": 33,
   "id": "GMY3lxmDFXRK",
   "metadata": {
    "id": "GMY3lxmDFXRK"
   },
   "outputs": [],
   "source": [
    "X_train_tok = pad_sequences(X_train_tok, padding='post', maxlen=20)"
   ]
  },
  {
   "cell_type": "code",
   "execution_count": 34,
   "id": "0qi4eHwaFXRL",
   "metadata": {
    "id": "0qi4eHwaFXRL"
   },
   "outputs": [],
   "source": [
    "X_train, X_val, y_train, y_val = train_test_split(X_train_tok, y_train, stratify=y_train, test_size=0.2)\n",
    "X_train, X_test, y_train, y_test = train_test_split(X_train, y_train, stratify=y_train, test_size=0.1)"
   ]
  },
  {
   "cell_type": "code",
   "execution_count": 35,
   "id": "vNW2tcypFXRM",
   "metadata": {
    "colab": {
     "base_uri": "https://localhost:8080/"
    },
    "id": "vNW2tcypFXRM",
    "outputId": "ff0f4b5a-0b83-4e52-dbbc-4ea63341c818"
   },
   "outputs": [
    {
     "data": {
      "text/plain": [
       "((727756, 20), (202155, 20), (80862, 20))"
      ]
     },
     "execution_count": 35,
     "metadata": {},
     "output_type": "execute_result"
    }
   ],
   "source": [
    "X_train.shape, X_val.shape, X_test.shape"
   ]
  },
  {
   "cell_type": "code",
   "execution_count": 60,
   "id": "QLzT9BIBNgNS",
   "metadata": {
    "id": "QLzT9BIBNgNS"
   },
   "outputs": [],
   "source": [
    "input_dim = 10000"
   ]
  },
  {
   "cell_type": "code",
   "execution_count": 61,
   "id": "26hN4pfyFzfc",
   "metadata": {
    "id": "26hN4pfyFzfc"
   },
   "outputs": [],
   "source": [
    "vec_len = 100"
   ]
  },
  {
   "cell_type": "code",
   "execution_count": 65,
   "id": "4L89XEYZFzfd",
   "metadata": {
    "id": "4L89XEYZFzfd"
   },
   "outputs": [],
   "source": [
    "glove_words = []"
   ]
  },
  {
   "cell_type": "code",
   "execution_count": 66,
   "id": "N0ASnh8sFzfe",
   "metadata": {
    "id": "N0ASnh8sFzfe"
   },
   "outputs": [],
   "source": [
    "embedding_matrix = np.zeros((input_dim, vec_len))\n",
    "\n",
    "with open(root+'glove.6B.'+str(vec_len)+'d.txt') as file:\n",
    "# with open(root+'glove.twitter.27B.50d.txt') as file:\n",
    "    for line in file:\n",
    "        word, *vector = line.split()\n",
    "        glove_words.append(word)\n",
    "        if word in tokenizer.word_index:\n",
    "            if tokenizer.word_index[word] < 10000:\n",
    "                embedding_matrix[tokenizer.word_index[word]] = np.array(vector, dtype=np.float32)"
   ]
  },
  {
   "cell_type": "code",
   "execution_count": 67,
   "id": "NuFrGJG5Fzfe",
   "metadata": {
    "colab": {
     "base_uri": "https://localhost:8080/"
    },
    "id": "NuFrGJG5Fzfe",
    "outputId": "6bb4d648-c793-4306-9c9f-4f33ae63a54f"
   },
   "outputs": [
    {
     "data": {
      "text/plain": [
       "0.9757"
      ]
     },
     "execution_count": 67,
     "metadata": {},
     "output_type": "execute_result"
    }
   ],
   "source": [
    "round(np.count_nonzero(np.count_nonzero(embedding_matrix, axis=1))/input_dim, 4)"
   ]
  },
  {
   "cell_type": "code",
   "execution_count": 41,
   "id": "U2lyX_dpGr8z",
   "metadata": {
    "id": "U2lyX_dpGr8z"
   },
   "outputs": [],
   "source": [
    "not_covered_words = []"
   ]
  },
  {
   "cell_type": "code",
   "execution_count": 42,
   "id": "odSLCl26Gr80",
   "metadata": {
    "id": "odSLCl26Gr80"
   },
   "outputs": [],
   "source": [
    "for word in tokenizer.word_index:\n",
    "    if word not in glove_words:\n",
    "        not_covered_words.append(word)"
   ]
  },
  {
   "cell_type": "code",
   "execution_count": 45,
   "id": "nc1qp13wGr80",
   "metadata": {
    "colab": {
     "base_uri": "https://localhost:8080/"
    },
    "id": "nc1qp13wGr80",
    "outputId": "9b394676-b949-45f0-d4de-af1f66ecef0e"
   },
   "outputs": [
    {
     "data": {
      "text/plain": [
       "['subreddit',\n",
       " 'shitlord',\n",
       " 'amirite',\n",
       " 'downvoted',\n",
       " 'downvote',\n",
       " 'lmao',\n",
       " 'idk',\n",
       " 'upvote',\n",
       " 'tbh',\n",
       " \"people's\",\n",
       " 'hahaha',\n",
       " 'ayy',\n",
       " 'inb4',\n",
       " 'downvotes',\n",
       " 'circlejerk',\n",
       " 'upvotes',\n",
       " \"op's\",\n",
       " 'nsfw',\n",
       " 'redditors',\n",
       " 'tronald']"
      ]
     },
     "execution_count": 45,
     "metadata": {},
     "output_type": "execute_result"
    }
   ],
   "source": [
    "not_covered_words[:20]"
   ]
  },
  {
   "cell_type": "code",
   "execution_count": 46,
   "id": "t2rZZMY1KpAo",
   "metadata": {
    "colab": {
     "base_uri": "https://localhost:8080/"
    },
    "id": "t2rZZMY1KpAo",
    "outputId": "d309de18-b4f4-45ea-f412-891e3d076eae"
   },
   "outputs": [
    {
     "data": {
      "text/plain": [
       "180325"
      ]
     },
     "execution_count": 46,
     "metadata": {},
     "output_type": "execute_result"
    }
   ],
   "source": [
    "len(tokenizer.word_index.keys())"
   ]
  },
  {
   "cell_type": "code",
   "execution_count": 52,
   "id": "rTw0z4avMhN7",
   "metadata": {
    "colab": {
     "base_uri": "https://localhost:8080/"
    },
    "id": "rTw0z4avMhN7",
    "outputId": "e7257931-74e7-4149-fb43-246b6d82ce30"
   },
   "outputs": [
    {
     "data": {
      "text/plain": [
       "['provedes', 'konspiracy', 'p42dc', 'barackobama', 'aghaghagh']"
      ]
     },
     "execution_count": 52,
     "metadata": {},
     "output_type": "execute_result"
    }
   ],
   "source": [
    "not_covered_words[-5:]"
   ]
  },
  {
   "cell_type": "code",
   "execution_count": 68,
   "id": "znNu_zsFFXRM",
   "metadata": {
    "id": "znNu_zsFFXRM"
   },
   "outputs": [],
   "source": [
    "es = EarlyStopping(monitor='val_accuracy', min_delta=0.001, patience=3, restore_best_weights=True)"
   ]
  },
  {
   "cell_type": "code",
   "execution_count": 69,
   "id": "4WjAV2dqFXRN",
   "metadata": {
    "colab": {
     "base_uri": "https://localhost:8080/"
    },
    "id": "4WjAV2dqFXRN",
    "outputId": "445009c0-34d3-4734-f440-26454611d8de"
   },
   "outputs": [
    {
     "name": "stdout",
     "output_type": "stream",
     "text": [
      "Epoch 1/50\n",
      "5686/5686 [==============================] - 383s 66ms/step - loss: 0.6216 - accuracy: 0.6473 - val_loss: 0.5884 - val_accuracy: 0.6822\n",
      "Epoch 2/50\n",
      "5686/5686 [==============================] - 376s 66ms/step - loss: 0.5935 - accuracy: 0.6775 - val_loss: 0.5743 - val_accuracy: 0.6958\n",
      "Epoch 3/50\n",
      "5686/5686 [==============================] - 374s 66ms/step - loss: 0.5845 - accuracy: 0.6859 - val_loss: 0.5677 - val_accuracy: 0.7000\n",
      "Epoch 4/50\n",
      "5686/5686 [==============================] - 378s 66ms/step - loss: 0.5793 - accuracy: 0.6905 - val_loss: 0.5647 - val_accuracy: 0.7038\n",
      "Epoch 5/50\n",
      "5686/5686 [==============================] - 375s 66ms/step - loss: 0.5759 - accuracy: 0.6937 - val_loss: 0.5674 - val_accuracy: 0.7004\n",
      "Epoch 6/50\n",
      "5686/5686 [==============================] - 377s 66ms/step - loss: 0.5732 - accuracy: 0.6962 - val_loss: 0.5599 - val_accuracy: 0.7080\n",
      "Epoch 7/50\n",
      "5686/5686 [==============================] - 381s 67ms/step - loss: 0.5718 - accuracy: 0.6973 - val_loss: 0.5590 - val_accuracy: 0.7088\n",
      "Epoch 8/50\n",
      "5686/5686 [==============================] - 386s 68ms/step - loss: 0.5703 - accuracy: 0.6983 - val_loss: 0.5582 - val_accuracy: 0.7097\n",
      "Epoch 9/50\n",
      "5686/5686 [==============================] - 381s 67ms/step - loss: 0.5692 - accuracy: 0.6992 - val_loss: 0.5623 - val_accuracy: 0.7061\n",
      "Epoch 10/50\n",
      "5686/5686 [==============================] - 380s 67ms/step - loss: 0.5684 - accuracy: 0.6998 - val_loss: 0.5565 - val_accuracy: 0.7102\n",
      "Epoch 11/50\n",
      "5686/5686 [==============================] - 380s 67ms/step - loss: 0.5674 - accuracy: 0.7007 - val_loss: 0.5562 - val_accuracy: 0.7101\n"
     ]
    }
   ],
   "source": [
    "model = Sequential([\n",
    "    Embedding(input_dim=input_dim, output_dim=100, input_length=20, mask_zero=True,\n",
    "              weights=[embedding_matrix], trainable=False),\n",
    "    GRU(100, dropout=0.4),\n",
    "    Dense(1, activation='sigmoid')\n",
    "])\n",
    "\n",
    "model.compile(loss='binary_crossentropy', optimizer='adam', metrics=['accuracy'])\n",
    "fit = model.fit(X_train, y_train, validation_data=(X_val,y_val), batch_size=128, epochs=50, callbacks=[es])"
   ]
  },
  {
   "cell_type": "code",
   "execution_count": 70,
   "id": "TTMlcCScFXRO",
   "metadata": {
    "colab": {
     "base_uri": "https://localhost:8080/"
    },
    "id": "TTMlcCScFXRO",
    "outputId": "8ba5c62c-1c4a-4243-911a-0456dd0f8afd"
   },
   "outputs": [
    {
     "name": "stdout",
     "output_type": "stream",
     "text": [
      "6318/6318 [==============================] - 49s 8ms/step - loss: 0.5582 - accuracy: 0.7097\n"
     ]
    },
    {
     "data": {
      "text/plain": [
       "[0.5582489967346191, 0.7096683382987976]"
      ]
     },
     "execution_count": 70,
     "metadata": {},
     "output_type": "execute_result"
    }
   ],
   "source": [
    "model.evaluate(X_val, y_val)"
   ]
  },
  {
   "cell_type": "code",
   "execution_count": 73,
   "id": "qXJYgW8NFXRO",
   "metadata": {
    "colab": {
     "base_uri": "https://localhost:8080/",
     "height": 288
    },
    "id": "qXJYgW8NFXRO",
    "outputId": "483f1f99-0bb6-4d15-a9cd-b4b8cf208647"
   },
   "outputs": [
    {
     "data": {
      "image/png": "[encoded data removed]",
      "text/plain": [
       "<Figure size 1008x288 with 2 Axes>"
      ]
     },
     "metadata": {
      "needs_background": "light"
     },
     "output_type": "display_data"
    }
   ],
   "source": [
    "plot_history(fit)"
   ]
  },
  {
   "cell_type": "code",
   "execution_count": 74,
   "id": "yx747-z4FXRP",
   "metadata": {
    "id": "yx747-z4FXRP"
   },
   "outputs": [],
   "source": [
    "y_pred = model.predict(X_val).round().flatten()"
   ]
  },
  {
   "cell_type": "code",
   "execution_count": 75,
   "id": "QyFVSpw0FXRP",
   "metadata": {
    "id": "QyFVSpw0FXRP"
   },
   "outputs": [],
   "source": [
    "confusion = confusion_matrix(y_val, y_pred, normalize='true')"
   ]
  },
  {
   "cell_type": "code",
   "execution_count": 76,
   "id": "UJKk7Uq1FXRP",
   "metadata": {
    "colab": {
     "base_uri": "https://localhost:8080/"
    },
    "id": "UJKk7Uq1FXRP",
    "outputId": "005aec61-9462-400a-9531-72d34af89f0b"
   },
   "outputs": [
    {
     "data": {
      "text/plain": [
       "0.7096683238109371"
      ]
     },
     "execution_count": 76,
     "metadata": {},
     "output_type": "execute_result"
    }
   ],
   "source": [
    "accuracy_score(y_val, y_pred)"
   ]
  },
  {
   "cell_type": "code",
   "execution_count": 77,
   "id": "UEAEGwQnFXRQ",
   "metadata": {
    "colab": {
     "base_uri": "https://localhost:8080/",
     "height": 288
    },
    "id": "UEAEGwQnFXRQ",
    "outputId": "8afff497-a747-4aa6-82cb-c8c509ada54e"
   },
   "outputs": [
    {
     "data": {
      "image/png": "[encoded data removed]",
      "text/plain": [
       "<Figure size 432x288 with 1 Axes>"
      ]
     },
     "metadata": {
      "needs_background": "light"
     },
     "output_type": "display_data"
    }
   ],
   "source": [
    "matrix_display = ConfusionMatrixDisplay(confusion, display_labels=['non-sarcastic', 'sarcastic'])\n",
    "matrix_display.plot(colorbar=False)\n",
    "plt.grid(False);"
   ]
  },
  {
   "cell_type": "markdown",
   "id": "miq-Ngquxzms",
   "metadata": {
    "id": "miq-Ngquxzms"
   },
   "source": [
    "## pretrained embeddings: trainable"
   ]
  },
  {
   "cell_type": "code",
   "execution_count": 78,
   "id": "izfuzTQfFXRR",
   "metadata": {
    "colab": {
     "base_uri": "https://localhost:8080/"
    },
    "id": "izfuzTQfFXRR",
    "outputId": "c6c6ca46-5dec-48a4-ca58-c253b01d8e0a"
   },
   "outputs": [
    {
     "name": "stdout",
     "output_type": "stream",
     "text": [
      "Epoch 1/50\n",
      "5686/5686 [==============================] - 478s 83ms/step - loss: 0.5848 - accuracy: 0.6856 - val_loss: 0.5572 - val_accuracy: 0.7110\n",
      "Epoch 2/50\n",
      "5686/5686 [==============================] - 471s 83ms/step - loss: 0.5519 - accuracy: 0.7156 - val_loss: 0.5468 - val_accuracy: 0.7185\n",
      "Epoch 3/50\n",
      "5686/5686 [==============================] - 472s 83ms/step - loss: 0.5393 - accuracy: 0.7248 - val_loss: 0.5418 - val_accuracy: 0.7226\n",
      "Epoch 4/50\n",
      "5686/5686 [==============================] - 475s 83ms/step - loss: 0.5303 - accuracy: 0.7311 - val_loss: 0.5400 - val_accuracy: 0.7247\n",
      "Epoch 5/50\n",
      "5686/5686 [==============================] - 472s 83ms/step - loss: 0.5229 - accuracy: 0.7368 - val_loss: 0.5393 - val_accuracy: 0.7255\n",
      "Epoch 6/50\n",
      "5686/5686 [==============================] - 475s 84ms/step - loss: 0.5166 - accuracy: 0.7421 - val_loss: 0.5412 - val_accuracy: 0.7260\n",
      "Epoch 7/50\n",
      "5686/5686 [==============================] - 474s 83ms/step - loss: 0.5109 - accuracy: 0.7455 - val_loss: 0.5395 - val_accuracy: 0.7260\n",
      "Epoch 8/50\n",
      "5686/5686 [==============================] - 473s 83ms/step - loss: 0.5060 - accuracy: 0.7500 - val_loss: 0.5419 - val_accuracy: 0.7257\n",
      "Epoch 9/50\n",
      "5686/5686 [==============================] - 475s 83ms/step - loss: 0.5011 - accuracy: 0.7531 - val_loss: 0.5447 - val_accuracy: 0.7261\n"
     ]
    }
   ],
   "source": [
    "model = Sequential([\n",
    "    Embedding(input_dim=input_dim, output_dim=100, input_length=20, mask_zero=True,\n",
    "              weights=[embedding_matrix], trainable=True),\n",
    "    GRU(100, dropout=0.4),\n",
    "    Dense(1, activation='sigmoid')\n",
    "])\n",
    "\n",
    "model.compile(loss='binary_crossentropy', optimizer='adam', metrics=['accuracy'])\n",
    "fit = model.fit(X_train, y_train, validation_data=(X_val,y_val), batch_size=128, epochs=50, callbacks=[es])"
   ]
  },
  {
   "cell_type": "code",
   "execution_count": 79,
   "id": "nrMSbYpYpx0f",
   "metadata": {
    "colab": {
     "base_uri": "https://localhost:8080/",
     "height": 288
    },
    "id": "nrMSbYpYpx0f",
    "outputId": "f038e182-7993-42e4-ab7a-ff023bd42a72"
   },
   "outputs": [
    {
     "data": {
      "image/png": "[encoded data removed]",
      "text/plain": [
       "<Figure size 1008x288 with 2 Axes>"
      ]
     },
     "metadata": {
      "needs_background": "light"
     },
     "output_type": "display_data"
    }
   ],
   "source": [
    "plot_history(fit)"
   ]
  },
  {
   "cell_type": "code",
   "execution_count": 80,
   "id": "BUV-AzPEpx0g",
   "metadata": {
    "id": "BUV-AzPEpx0g"
   },
   "outputs": [],
   "source": [
    "y_pred = model.predict(X_val).round().flatten()"
   ]
  },
  {
   "cell_type": "code",
   "execution_count": 81,
   "id": "Yq0ty7Jwpx0g",
   "metadata": {
    "id": "Yq0ty7Jwpx0g"
   },
   "outputs": [],
   "source": [
    "confusion = confusion_matrix(y_val, y_pred, normalize='true')"
   ]
  },
  {
   "cell_type": "code",
   "execution_count": 82,
   "id": "O5FqMI3ypx0g",
   "metadata": {
    "colab": {
     "base_uri": "https://localhost:8080/"
    },
    "id": "O5FqMI3ypx0g",
    "outputId": "652fd2bd-ae47-4f1c-fbce-63d7c988fe36"
   },
   "outputs": [
    {
     "data": {
      "text/plain": [
       "0.7260221117459376"
      ]
     },
     "execution_count": 82,
     "metadata": {},
     "output_type": "execute_result"
    }
   ],
   "source": [
    "accuracy_score(y_val, y_pred)"
   ]
  },
  {
   "cell_type": "code",
   "execution_count": 83,
   "id": "zlH7i6Iapx0h",
   "metadata": {
    "colab": {
     "base_uri": "https://localhost:8080/",
     "height": 288
    },
    "id": "zlH7i6Iapx0h",
    "outputId": "b76e52d7-fba2-4688-a0fd-2b8a93d0dc4d"
   },
   "outputs": [
    {
     "data": {
      "image/png": "[encoded data removed]",
      "text/plain": [
       "<Figure size 432x288 with 1 Axes>"
      ]
     },
     "metadata": {
      "needs_background": "light"
     },
     "output_type": "display_data"
    }
   ],
   "source": [
    "matrix_display = ConfusionMatrixDisplay(confusion, display_labels=['non-sarcastic', 'sarcastic'])\n",
    "matrix_display.plot(colorbar=False)\n",
    "plt.grid(False);"
   ]
  },
  {
   "cell_type": "code",
   "execution_count": 85,
   "id": "ZzvJ9uSFwfb1",
   "metadata": {
    "id": "ZzvJ9uSFwfb1"
   },
   "outputs": [],
   "source": [
    "y_pred = model.predict(X_test).round().flatten()"
   ]
  },
  {
   "cell_type": "code",
   "execution_count": 86,
   "id": "oOt7phVmwfb1",
   "metadata": {
    "id": "oOt7phVmwfb1"
   },
   "outputs": [],
   "source": [
    "confusion = confusion_matrix(y_test, y_pred, normalize='true')"
   ]
  },
  {
   "cell_type": "code",
   "execution_count": 88,
   "id": "otJtcSFtwfb1",
   "metadata": {
    "colab": {
     "base_uri": "https://localhost:8080/"
    },
    "id": "otJtcSFtwfb1",
    "outputId": "247ad78c-11d6-4a35-99f3-05c3d3eff8dc"
   },
   "outputs": [
    {
     "data": {
      "text/plain": [
       "0.726002324948678"
      ]
     },
     "execution_count": 88,
     "metadata": {},
     "output_type": "execute_result"
    }
   ],
   "source": [
    "accuracy_score(y_test, y_pred)"
   ]
  },
  {
   "cell_type": "code",
   "execution_count": 89,
   "id": "xbK9c8Viwfb1",
   "metadata": {
    "colab": {
     "base_uri": "https://localhost:8080/",
     "height": 288
    },
    "id": "xbK9c8Viwfb1",
    "outputId": "3be67916-4111-4c2a-a8c5-6d76999a3672"
   },
   "outputs": [
    {
     "data": {
      "image/png": "[encoded data removed]",
      "text/plain": [
       "<Figure size 432x288 with 1 Axes>"
      ]
     },
     "metadata": {
      "needs_background": "light"
     },
     "output_type": "display_data"
    }
   ],
   "source": [
    "matrix_display = ConfusionMatrixDisplay(confusion, display_labels=['non-sarcastic', 'sarcastic'])\n",
    "matrix_display.plot(colorbar=False)\n",
    "plt.grid(False);"
   ]
  },
  {
   "cell_type": "code",
   "execution_count": 84,
   "id": "-HawfKpyfm7S",
   "metadata": {
    "colab": {
     "base_uri": "https://localhost:8080/"
    },
    "id": "-HawfKpyfm7S",
    "outputId": "10a9391c-3a08-4fef-db0b-7c79876406cb"
   },
   "outputs": [
    {
     "name": "stderr",
     "output_type": "stream",
     "text": [
      "WARNING:absl:Found untraced functions such as gru_cell_1_layer_call_fn, gru_cell_1_layer_call_and_return_conditional_losses, gru_cell_1_layer_call_fn, gru_cell_1_layer_call_and_return_conditional_losses, gru_cell_1_layer_call_and_return_conditional_losses while saving (showing 5 of 5). These functions will not be directly callable after loading.\n"
     ]
    },
    {
     "name": "stdout",
     "output_type": "stream",
     "text": [
      "INFO:tensorflow:Assets written to: /content/drive/My Drive/surely_not_sarcasm_data/gru_glove100_trainable/assets\n"
     ]
    },
    {
     "name": "stderr",
     "output_type": "stream",
     "text": [
      "INFO:tensorflow:Assets written to: /content/drive/My Drive/surely_not_sarcasm_data/gru_glove100_trainable/assets\n",
      "WARNING:absl:<keras.layers.recurrent.GRUCell object at 0x7f88e5d44a50> has the same name 'GRUCell' as a built-in Keras object. Consider renaming <class 'keras.layers.recurrent.GRUCell'> to avoid naming conflicts when loading with `tf.keras.models.load_model`. If renaming is not possible, pass the object in the `custom_objects` parameter of the load function.\n"
     ]
    }
   ],
   "source": [
    "model.save(root+'gru_glove100_trainable')"
   ]
  },
  {
   "cell_type": "code",
   "execution_count": null,
   "id": "Yyu9UdaUwO_6",
   "metadata": {
    "id": "Yyu9UdaUwO_6"
   },
   "outputs": [],
   "source": []
  },
  {
   "cell_type": "markdown",
   "id": "e03fveoTywZA",
   "metadata": {
    "id": "e03fveoTywZA"
   },
   "source": [
    "## non-pretrained: vol2 (preprocessing + smaller matrix)"
   ]
  },
  {
   "cell_type": "code",
   "execution_count": 90,
   "id": "6cBIxiOWy7OW",
   "metadata": {
    "id": "6cBIxiOWy7OW"
   },
   "outputs": [],
   "source": [
    "tokenizer = Tokenizer(num_words=10000)\n",
    "tokenizer.fit_on_texts(X)"
   ]
  },
  {
   "cell_type": "code",
   "execution_count": 91,
   "id": "BepvHq_ny7OW",
   "metadata": {
    "id": "BepvHq_ny7OW"
   },
   "outputs": [],
   "source": [
    "X_train_tok = tokenizer.texts_to_sequences(X)\n",
    "input_dim = 10000"
   ]
  },
  {
   "cell_type": "code",
   "execution_count": 92,
   "id": "gpNYuCJSy7OX",
   "metadata": {
    "colab": {
     "base_uri": "https://localhost:8080/",
     "height": 271
    },
    "id": "gpNYuCJSy7OX",
    "outputId": "4d528e4a-a958-4690-f8ba-f1bc5c2dd9d9"
   },
   "outputs": [
    {
     "data": {
      "image/png": "[encoded data removed]",
      "text/plain": [
       "<Figure size 864x288 with 1 Axes>"
      ]
     },
     "metadata": {
      "needs_background": "light"
     },
     "output_type": "display_data"
    }
   ],
   "source": [
    "sen_len = [len(i) for i in X_train_tok]\n",
    "\n",
    "plt.figure(figsize=(12,4))\n",
    "sns.boxplot(x=sen_len);"
   ]
  },
  {
   "cell_type": "code",
   "execution_count": 93,
   "id": "jONgxQGey7OY",
   "metadata": {
    "colab": {
     "base_uri": "https://localhost:8080/"
    },
    "id": "jONgxQGey7OY",
    "outputId": "efe164de-23f9-4b14-e783-c90a98ad4845"
   },
   "outputs": [
    {
     "data": {
      "text/plain": [
       "20.0"
      ]
     },
     "execution_count": 93,
     "metadata": {},
     "output_type": "execute_result"
    }
   ],
   "source": [
    "np.quantile(sen_len, 0.9)"
   ]
  },
  {
   "cell_type": "code",
   "execution_count": 94,
   "id": "8RyrVPySy7OY",
   "metadata": {
    "id": "8RyrVPySy7OY"
   },
   "outputs": [],
   "source": [
    "X_train_tok = pad_sequences(X_train_tok, padding='post', maxlen=20)"
   ]
  },
  {
   "cell_type": "code",
   "execution_count": 96,
   "id": "-Dkc6eQ7y7OY",
   "metadata": {
    "id": "-Dkc6eQ7y7OY"
   },
   "outputs": [],
   "source": [
    "X_train, X_val, y_train, y_val = train_test_split(X_train_tok, y, stratify=y, test_size=0.2)\n",
    "X_train, X_test, y_train, y_test = train_test_split(X_train, y_train, stratify=y_train, test_size=0.1)"
   ]
  },
  {
   "cell_type": "code",
   "execution_count": 97,
   "id": "mlDX2lVmy7OZ",
   "metadata": {
    "colab": {
     "base_uri": "https://localhost:8080/"
    },
    "id": "mlDX2lVmy7OZ",
    "outputId": "c1c0255d-32c8-437e-9d10-78772b7dbd66"
   },
   "outputs": [
    {
     "data": {
      "text/plain": [
       "((727756, 20), (202155, 20), (80862, 20))"
      ]
     },
     "execution_count": 97,
     "metadata": {},
     "output_type": "execute_result"
    }
   ],
   "source": [
    "X_train.shape, X_val.shape, X_test.shape"
   ]
  },
  {
   "cell_type": "code",
   "execution_count": 98,
   "id": "-XK1KPIty7OZ",
   "metadata": {
    "id": "-XK1KPIty7OZ"
   },
   "outputs": [],
   "source": [
    "es = EarlyStopping(monitor='val_accuracy', min_delta=0.001, patience=3, restore_best_weights=True)"
   ]
  },
  {
   "cell_type": "code",
   "execution_count": 99,
   "id": "QQeCv-OQy7OZ",
   "metadata": {
    "colab": {
     "base_uri": "https://localhost:8080/"
    },
    "id": "QQeCv-OQy7OZ",
    "outputId": "953b3e6b-fcd0-49b7-d2a5-281f405d7723"
   },
   "outputs": [
    {
     "name": "stdout",
     "output_type": "stream",
     "text": [
      "Epoch 1/50\n",
      "5686/5686 [==============================] - 482s 84ms/step - loss: 0.5756 - accuracy: 0.6959 - val_loss: 0.5576 - val_accuracy: 0.7097\n",
      "Epoch 2/50\n",
      "5686/5686 [==============================] - 464s 82ms/step - loss: 0.5480 - accuracy: 0.7186 - val_loss: 0.5498 - val_accuracy: 0.7151\n",
      "Epoch 3/50\n",
      "5686/5686 [==============================] - 470s 83ms/step - loss: 0.5333 - accuracy: 0.7297 - val_loss: 0.5485 - val_accuracy: 0.7171\n",
      "Epoch 4/50\n",
      "5686/5686 [==============================] - 469s 82ms/step - loss: 0.5216 - accuracy: 0.7381 - val_loss: 0.5471 - val_accuracy: 0.7195\n",
      "Epoch 5/50\n",
      "5686/5686 [==============================] - 469s 83ms/step - loss: 0.5109 - accuracy: 0.7454 - val_loss: 0.5501 - val_accuracy: 0.7178\n",
      "Epoch 6/50\n",
      "5686/5686 [==============================] - 470s 83ms/step - loss: 0.5018 - accuracy: 0.7523 - val_loss: 0.5517 - val_accuracy: 0.7172\n",
      "Epoch 7/50\n",
      "5686/5686 [==============================] - 471s 83ms/step - loss: 0.4937 - accuracy: 0.7576 - val_loss: 0.5569 - val_accuracy: 0.7171\n"
     ]
    }
   ],
   "source": [
    "model = Sequential([\n",
    "    Embedding(input_dim=input_dim, output_dim=100, input_length=20, mask_zero=True),\n",
    "    GRU(100, dropout=0.4),\n",
    "    Dense(1, activation='sigmoid')\n",
    "])\n",
    "\n",
    "model.compile(loss='binary_crossentropy', optimizer='adam', metrics=['accuracy'])\n",
    "fit = model.fit(X_train, y_train, validation_data=(X_val,y_val), batch_size=128, epochs=50, callbacks=[es])"
   ]
  },
  {
   "cell_type": "code",
   "execution_count": 100,
   "id": "vN2hoMLHy7Oa",
   "metadata": {
    "colab": {
     "base_uri": "https://localhost:8080/",
     "height": 291
    },
    "id": "vN2hoMLHy7Oa",
    "outputId": "cda98b1a-5a48-42d2-875b-d3a1dbfbe6d7"
   },
   "outputs": [
    {
     "data": {
      "image/png": "[encoded data removed]",
      "text/plain": [
       "<Figure size 1008x288 with 2 Axes>"
      ]
     },
     "metadata": {
      "needs_background": "light"
     },
     "output_type": "display_data"
    }
   ],
   "source": [
    "plot_history(fit)"
   ]
  },
  {
   "cell_type": "code",
   "execution_count": 101,
   "id": "fz0QYlQSy7Ob",
   "metadata": {
    "id": "fz0QYlQSy7Ob"
   },
   "outputs": [],
   "source": [
    "y_pred = model.predict(X_val).round().flatten()"
   ]
  },
  {
   "cell_type": "code",
   "execution_count": 102,
   "id": "aLG6MmHTy7Ob",
   "metadata": {
    "id": "aLG6MmHTy7Ob"
   },
   "outputs": [],
   "source": [
    "confusion = confusion_matrix(y_val, y_pred, normalize='true')"
   ]
  },
  {
   "cell_type": "code",
   "execution_count": 103,
   "id": "cABCMKXpy7Ob",
   "metadata": {
    "colab": {
     "base_uri": "https://localhost:8080/"
    },
    "id": "cABCMKXpy7Ob",
    "outputId": "04dbbb76-e7bb-44c9-dd37-71efcce80da9"
   },
   "outputs": [
    {
     "data": {
      "text/plain": [
       "0.7195023620489228"
      ]
     },
     "execution_count": 103,
     "metadata": {},
     "output_type": "execute_result"
    }
   ],
   "source": [
    "accuracy_score(y_val, y_pred)"
   ]
  },
  {
   "cell_type": "code",
   "execution_count": 104,
   "id": "vdYgoiNky7Oc",
   "metadata": {
    "colab": {
     "base_uri": "https://localhost:8080/",
     "height": 288
    },
    "id": "vdYgoiNky7Oc",
    "outputId": "d875cc9b-70e6-459c-861e-81575a81163a"
   },
   "outputs": [
    {
     "data": {
      "image/png": "[encoded data removed]",
      "text/plain": [
       "<Figure size 432x288 with 1 Axes>"
      ]
     },
     "metadata": {
      "needs_background": "light"
     },
     "output_type": "display_data"
    }
   ],
   "source": [
    "matrix_display = ConfusionMatrixDisplay(confusion, display_labels=['non-sarcastic', 'sarcastic'])\n",
    "matrix_display.plot(colorbar=False)\n",
    "plt.grid(False);"
   ]
  },
  {
   "cell_type": "code",
   "execution_count": 105,
   "id": "JHPO6uNby7Oc",
   "metadata": {
    "colab": {
     "base_uri": "https://localhost:8080/"
    },
    "id": "JHPO6uNby7Oc",
    "outputId": "d0212bfd-641d-4da1-f6ac-db26cc199aa4"
   },
   "outputs": [
    {
     "name": "stderr",
     "output_type": "stream",
     "text": [
      "WARNING:absl:Found untraced functions such as gru_cell_2_layer_call_fn, gru_cell_2_layer_call_and_return_conditional_losses, gru_cell_2_layer_call_fn, gru_cell_2_layer_call_and_return_conditional_losses, gru_cell_2_layer_call_and_return_conditional_losses while saving (showing 5 of 5). These functions will not be directly callable after loading.\n"
     ]
    },
    {
     "name": "stdout",
     "output_type": "stream",
     "text": [
      "INFO:tensorflow:Assets written to: /content/drive/My Drive/surely_not_sarcasm_data/gru/assets\n"
     ]
    },
    {
     "name": "stderr",
     "output_type": "stream",
     "text": [
      "INFO:tensorflow:Assets written to: /content/drive/My Drive/surely_not_sarcasm_data/gru/assets\n",
      "WARNING:absl:<keras.layers.recurrent.GRUCell object at 0x7f88ddf0ef10> has the same name 'GRUCell' as a built-in Keras object. Consider renaming <class 'keras.layers.recurrent.GRUCell'> to avoid naming conflicts when loading with `tf.keras.models.load_model`. If renaming is not possible, pass the object in the `custom_objects` parameter of the load function.\n"
     ]
    }
   ],
   "source": [
    "model.save(root+'gru')"
   ]
  },
  {
   "cell_type": "code",
   "execution_count": null,
   "id": "vA4varU2AsVX",
   "metadata": {
    "id": "vA4varU2AsVX"
   },
   "outputs": [],
   "source": []
  }
 ],
 "metadata": {
  "accelerator": "TPU",
  "colab": {
   "collapsed_sections": [
    "C3tpuJCn7oDa"
   ],
   "name": "model.ipynb",
   "provenance": [],
   "toc_visible": true
  },
  "kernelspec": {
   "display_name": "Python 3",
   "language": "python",
   "name": "python3"
  },
  "language_info": {
   "codemirror_mode": {
    "name": "ipython",
    "version": 3
   },
   "file_extension": ".py",
   "mimetype": "text/x-python",
   "name": "python",
   "nbconvert_exporter": "python",
   "pygments_lexer": "ipython3",
   "version": "3.6.7"
  },
  "varInspector": {
   "cols": {
    "lenName": 16,
    "lenType": 16,
    "lenVar": 40
   },
   "kernels_config": {
    "python": {
     "delete_cmd_postfix": "",
     "delete_cmd_prefix": "del ",
     "library": "var_list.py",
     "varRefreshCmd": "print(var_dic_list())"
    },
    "r": {
     "delete_cmd_postfix": ") ",
     "delete_cmd_prefix": "rm(",
     "library": "var_list.r",
     "varRefreshCmd": "cat(var_dic_list()) "
    }
   },
   "types_to_exclude": [
    "module",
    "function",
    "builtin_function_or_method",
    "instance",
    "_Feature"
   ],
   "window_display": false
  }
 },
 "nbformat": 4,
 "nbformat_minor": 5
}
